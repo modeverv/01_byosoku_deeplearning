{
  "nbformat": 4,
  "nbformat_minor": 0,
  "metadata": {
    "colab": {
      "name": "udemyKigagaku1-1.ipynb",
      "version": "0.3.2",
      "provenance": [],
      "collapsed_sections": [],
      "include_colab_link": true
    },
    "kernelspec": {
      "name": "python3",
      "display_name": "Python 3"
    },
    "accelerator": "TPU"
  },
  "cells": [
    {
      "cell_type": "markdown",
      "metadata": {
        "id": "view-in-github",
        "colab_type": "text"
      },
      "source": [
        "<a href=\"https://colab.research.google.com/github/modeverv/01_byosoku_deeplearning/blob/master/udemyKigagaku1_1.ipynb\" target=\"_parent\"><img src=\"https://colab.research.google.com/assets/colab-badge.svg\" alt=\"Open In Colab\"/></a>"
      ]
    },
    {
      "cell_type": "code",
      "metadata": {
        "id": "QKa46IrWyD7L",
        "colab_type": "code",
        "colab": {}
      },
      "source": [
        "name = 'キカガク'"
      ],
      "execution_count": 0,
      "outputs": []
    },
    {
      "cell_type": "markdown",
      "metadata": {
        "id": "ByTDgw8Xv11T",
        "colab_type": "text"
      },
      "source": [
        ""
      ]
    },
    {
      "cell_type": "code",
      "metadata": {
        "id": "Cx_YL4mwybR1",
        "colab_type": "code",
        "outputId": "10684f13-8c9c-434c-ddf9-8b2683d1bbbf",
        "colab": {
          "base_uri": "https://localhost:8080/",
          "height": 34
        }
      },
      "source": [
        "name\n"
      ],
      "execution_count": 0,
      "outputs": [
        {
          "output_type": "execute_result",
          "data": {
            "text/plain": [
              "'キカガク'"
            ]
          },
          "metadata": {
            "tags": []
          },
          "execution_count": 2
        }
      ]
    },
    {
      "cell_type": "code",
      "metadata": {
        "id": "8eBdu9mHyfdQ",
        "colab_type": "code",
        "colab": {}
      },
      "source": [
        "a = 1\n"
      ],
      "execution_count": 0,
      "outputs": []
    },
    {
      "cell_type": "markdown",
      "metadata": {
        "id": "QqRMa5VhzIr0",
        "colab_type": "text"
      },
      "source": [
        "# 変数"
      ]
    },
    {
      "cell_type": "markdown",
      "metadata": {
        "id": "pyc9Qf65zOgh",
        "colab_type": "text"
      },
      "source": [
        "## 数値"
      ]
    },
    {
      "cell_type": "code",
      "metadata": {
        "id": "S_Hywpq5zQdG",
        "colab_type": "code",
        "outputId": "cc242b8a-9227-4422-d3e7-3f5d2e3493c6",
        "colab": {
          "base_uri": "https://localhost:8080/",
          "height": 34
        }
      },
      "source": [
        "a = 1; print(a)"
      ],
      "execution_count": 0,
      "outputs": [
        {
          "output_type": "stream",
          "text": [
            "1\n"
          ],
          "name": "stdout"
        }
      ]
    },
    {
      "cell_type": "code",
      "metadata": {
        "id": "QGkOIgydzVZ0",
        "colab_type": "code",
        "outputId": "6a0a05b4-ad27-427c-94af-27f2c77b14d0",
        "colab": {
          "base_uri": "https://localhost:8080/",
          "height": 34
        }
      },
      "source": [
        "b=1.5;type(a)"
      ],
      "execution_count": 0,
      "outputs": [
        {
          "output_type": "execute_result",
          "data": {
            "text/plain": [
              "int"
            ]
          },
          "metadata": {
            "tags": []
          },
          "execution_count": 7
        }
      ]
    },
    {
      "cell_type": "code",
      "metadata": {
        "id": "jUWopn4CzaVI",
        "colab_type": "code",
        "colab": {}
      },
      "source": [
        ""
      ],
      "execution_count": 0,
      "outputs": []
    },
    {
      "cell_type": "markdown",
      "metadata": {
        "id": "d9NDdqwLzihZ",
        "colab_type": "text"
      },
      "source": [
        "## 文字列"
      ]
    },
    {
      "cell_type": "code",
      "metadata": {
        "id": "W-10u7-kzpQU",
        "colab_type": "code",
        "colab": {}
      },
      "source": [
        "name = 'キカガク'"
      ],
      "execution_count": 0,
      "outputs": []
    },
    {
      "cell_type": "markdown",
      "metadata": {
        "id": "9aE6MCjIzw-I",
        "colab_type": "text"
      },
      "source": [
        "## 数値の四則演算"
      ]
    },
    {
      "cell_type": "code",
      "metadata": {
        "id": "Hi0I1ed3zz_t",
        "colab_type": "code",
        "outputId": "4000351f-a8ed-4e77-8f2f-a976ffabb590",
        "colab": {
          "base_uri": "https://localhost:8080/",
          "height": 34
        }
      },
      "source": [
        "2 -1 "
      ],
      "execution_count": 0,
      "outputs": [
        {
          "output_type": "execute_result",
          "data": {
            "text/plain": [
              "1"
            ]
          },
          "metadata": {
            "tags": []
          },
          "execution_count": 8
        }
      ]
    },
    {
      "cell_type": "code",
      "metadata": {
        "id": "R8PbPT3mz1Rf",
        "colab_type": "code",
        "outputId": "6d4e2a4b-8a71-4503-ff69-61028dacc3d7",
        "colab": {
          "base_uri": "https://localhost:8080/",
          "height": 34
        }
      },
      "source": [
        "3* 5"
      ],
      "execution_count": 0,
      "outputs": [
        {
          "output_type": "execute_result",
          "data": {
            "text/plain": [
              "15"
            ]
          },
          "metadata": {
            "tags": []
          },
          "execution_count": 9
        }
      ]
    },
    {
      "cell_type": "code",
      "metadata": {
        "id": "cW7pahErz2bc",
        "colab_type": "code",
        "colab": {}
      },
      "source": [
        ""
      ],
      "execution_count": 0,
      "outputs": []
    },
    {
      "cell_type": "markdown",
      "metadata": {
        "id": "Z8TG52Uj0Ayj",
        "colab_type": "text"
      },
      "source": [
        "# 基本構文"
      ]
    },
    {
      "cell_type": "markdown",
      "metadata": {
        "id": "82w8qB6v0CgD",
        "colab_type": "text"
      },
      "source": [
        "## 比較演算"
      ]
    },
    {
      "cell_type": "code",
      "metadata": {
        "id": "9P2xMIgw0EPp",
        "colab_type": "code",
        "outputId": "b15d2ad9-5b49-4a63-b450-64d19a137ba3",
        "colab": {
          "base_uri": "https://localhost:8080/",
          "height": 34
        }
      },
      "source": [
        " 1 < 2"
      ],
      "execution_count": 0,
      "outputs": [
        {
          "output_type": "execute_result",
          "data": {
            "text/plain": [
              "True"
            ]
          },
          "metadata": {
            "tags": []
          },
          "execution_count": 10
        }
      ]
    },
    {
      "cell_type": "code",
      "metadata": {
        "id": "cx7IrzYK0Fyb",
        "colab_type": "code",
        "outputId": "0ff245fb-8bc6-475b-9fa7-6ec0717e1e21",
        "colab": {
          "base_uri": "https://localhost:8080/",
          "height": 34
        }
      },
      "source": [
        "a = 3\n",
        "a < 2"
      ],
      "execution_count": 0,
      "outputs": [
        {
          "output_type": "execute_result",
          "data": {
            "text/plain": [
              "False"
            ]
          },
          "metadata": {
            "tags": []
          },
          "execution_count": 12
        }
      ]
    },
    {
      "cell_type": "code",
      "metadata": {
        "id": "p8AUPpQ_0Hxl",
        "colab_type": "code",
        "outputId": "7c2daee8-ab83-47bb-d8d6-d3fb68346594",
        "colab": {
          "base_uri": "https://localhost:8080/",
          "height": 34
        }
      },
      "source": [
        "a == 3"
      ],
      "execution_count": 0,
      "outputs": [
        {
          "output_type": "execute_result",
          "data": {
            "text/plain": [
              "True"
            ]
          },
          "metadata": {
            "tags": []
          },
          "execution_count": 13
        }
      ]
    },
    {
      "cell_type": "code",
      "metadata": {
        "id": "7p7ZgBMD0I9H",
        "colab_type": "code",
        "colab": {}
      },
      "source": [
        ""
      ],
      "execution_count": 0,
      "outputs": []
    },
    {
      "cell_type": "markdown",
      "metadata": {
        "id": "1v97XZxH0VOQ",
        "colab_type": "text"
      },
      "source": [
        "## エスケープシーケンス\n"
      ]
    },
    {
      "cell_type": "code",
      "metadata": {
        "id": "9Gz8JVCZ0YBP",
        "colab_type": "code",
        "outputId": "01c0d6ac-5e54-452b-d849-d8df255626ea",
        "colab": {
          "base_uri": "https://localhost:8080/",
          "height": 70
        }
      },
      "source": [
        "print(\"aaaa\\nbbbbbb\\n1\\t 1 \")"
      ],
      "execution_count": 0,
      "outputs": [
        {
          "output_type": "stream",
          "text": [
            "aaaa\n",
            "bbbbbb\n",
            "1\t 1 \n"
          ],
          "name": "stdout"
        }
      ]
    },
    {
      "cell_type": "code",
      "metadata": {
        "id": "-9TDtN5O0rlb",
        "colab_type": "code",
        "colab": {}
      },
      "source": [
        ""
      ],
      "execution_count": 0,
      "outputs": []
    },
    {
      "cell_type": "markdown",
      "metadata": {
        "id": "DDhG5JfYv4fp",
        "colab_type": "text"
      },
      "source": [
        "# 複数の変数を扱おう"
      ]
    },
    {
      "cell_type": "markdown",
      "metadata": {
        "id": "GUEqgQr2ykxr",
        "colab_type": "text"
      },
      "source": [
        "## リスト"
      ]
    },
    {
      "cell_type": "code",
      "metadata": {
        "id": "nZKPZ6SOv7QC",
        "colab_type": "code",
        "colab": {}
      },
      "source": [
        "# リスト\n",
        "numbers = [4,5,6,7]\n"
      ],
      "execution_count": 0,
      "outputs": []
    },
    {
      "cell_type": "code",
      "metadata": {
        "id": "0R4aNDV-yrNe",
        "colab_type": "code",
        "colab": {}
      },
      "source": [
        ""
      ],
      "execution_count": 0,
      "outputs": []
    },
    {
      "cell_type": "code",
      "metadata": {
        "id": "nr1UhwfHyrv6",
        "colab_type": "code",
        "colab": {}
      },
      "source": [
        ""
      ],
      "execution_count": 0,
      "outputs": []
    },
    {
      "cell_type": "code",
      "metadata": {
        "id": "ijuB975ewJUI",
        "colab_type": "code",
        "outputId": "ca371a8c-7907-431d-d75b-bebad3cbb555",
        "colab": {
          "base_uri": "https://localhost:8080/",
          "height": 34
        }
      },
      "source": [
        "numbers[0]"
      ],
      "execution_count": 0,
      "outputs": [
        {
          "output_type": "execute_result",
          "data": {
            "text/plain": [
              "1"
            ]
          },
          "metadata": {
            "tags": []
          },
          "execution_count": 5
        }
      ]
    },
    {
      "cell_type": "code",
      "metadata": {
        "id": "gMSx19e5wLqz",
        "colab_type": "code",
        "outputId": "1da55cfd-2d58-4be6-c3c0-d787e834cf78",
        "colab": {
          "base_uri": "https://localhost:8080/",
          "height": 34
        }
      },
      "source": [
        "numbers[0:2]"
      ],
      "execution_count": 0,
      "outputs": [
        {
          "output_type": "execute_result",
          "data": {
            "text/plain": [
              "[1, 2]"
            ]
          },
          "metadata": {
            "tags": []
          },
          "execution_count": 6
        }
      ]
    },
    {
      "cell_type": "code",
      "metadata": {
        "id": "XOhLF_UvwO_k",
        "colab_type": "code",
        "outputId": "d98f1e08-9145-4afd-ebdd-b54ab85d077a",
        "colab": {
          "base_uri": "https://localhost:8080/",
          "height": 34
        }
      },
      "source": [
        "# 5,6のみ\n",
        "numbers[1:3]"
      ],
      "execution_count": 0,
      "outputs": [
        {
          "output_type": "execute_result",
          "data": {
            "text/plain": [
              "[5, 6]"
            ]
          },
          "metadata": {
            "tags": []
          },
          "execution_count": 9
        }
      ]
    },
    {
      "cell_type": "code",
      "metadata": {
        "id": "Z4I18a9MwYay",
        "colab_type": "code",
        "outputId": "de4c7ab5-7851-4349-cf37-a9e0a811e5a5",
        "colab": {
          "base_uri": "https://localhost:8080/",
          "height": 34
        }
      },
      "source": [
        "numbers[:2] # numbers[0:2]"
      ],
      "execution_count": 0,
      "outputs": [
        {
          "output_type": "execute_result",
          "data": {
            "text/plain": [
              "[4, 5]"
            ]
          },
          "metadata": {
            "tags": []
          },
          "execution_count": 14
        }
      ]
    },
    {
      "cell_type": "code",
      "metadata": {
        "id": "2TxURY9Lwm0a",
        "colab_type": "code",
        "outputId": "ba2d8f27-56d3-4dfc-87f0-ac172464ae47",
        "colab": {
          "base_uri": "https://localhost:8080/",
          "height": 34
        }
      },
      "source": [
        "numbers[2:] # numbers[2:4]"
      ],
      "execution_count": 0,
      "outputs": [
        {
          "output_type": "execute_result",
          "data": {
            "text/plain": [
              "[6, 7]"
            ]
          },
          "metadata": {
            "tags": []
          },
          "execution_count": 15
        }
      ]
    },
    {
      "cell_type": "code",
      "metadata": {
        "id": "J_jLDy7Pwn0f",
        "colab_type": "code",
        "colab": {}
      },
      "source": [
        "names = []"
      ],
      "execution_count": 0,
      "outputs": []
    },
    {
      "cell_type": "code",
      "metadata": {
        "id": "DfCCXKGkxFQg",
        "colab_type": "code",
        "colab": {}
      },
      "source": [
        "names.append(\"aaaa\")"
      ],
      "execution_count": 0,
      "outputs": []
    },
    {
      "cell_type": "code",
      "metadata": {
        "id": "Gk_CFbNWxOYc",
        "colab_type": "code",
        "outputId": "7258dbb0-9cc5-4c0e-9c3c-da862210aaa2",
        "colab": {
          "base_uri": "https://localhost:8080/",
          "height": 34
        }
      },
      "source": [
        "names"
      ],
      "execution_count": 0,
      "outputs": [
        {
          "output_type": "execute_result",
          "data": {
            "text/plain": [
              "['aaaa']"
            ]
          },
          "metadata": {
            "tags": []
          },
          "execution_count": 18
        }
      ]
    },
    {
      "cell_type": "code",
      "metadata": {
        "id": "57LLeDNuxPA2",
        "colab_type": "code",
        "colab": {}
      },
      "source": [
        ""
      ],
      "execution_count": 0,
      "outputs": []
    },
    {
      "cell_type": "markdown",
      "metadata": {
        "id": "ScqnAfRox3Ko",
        "colab_type": "text"
      },
      "source": [
        "## タプル"
      ]
    },
    {
      "cell_type": "code",
      "metadata": {
        "id": "MM4eFRLsx4id",
        "colab_type": "code",
        "colab": {}
      },
      "source": [
        "t = (4,5,6,7)"
      ],
      "execution_count": 0,
      "outputs": []
    },
    {
      "cell_type": "code",
      "metadata": {
        "id": "dUPc0tEsx60X",
        "colab_type": "code",
        "outputId": "1c3c4460-cf71-4dd2-cb95-aa95bde8356c",
        "colab": {
          "base_uri": "https://localhost:8080/",
          "height": 34
        }
      },
      "source": [
        "t"
      ],
      "execution_count": 0,
      "outputs": [
        {
          "output_type": "execute_result",
          "data": {
            "text/plain": [
              "(4, 5, 6, 7)"
            ]
          },
          "metadata": {
            "tags": []
          },
          "execution_count": 20
        }
      ]
    },
    {
      "cell_type": "code",
      "metadata": {
        "id": "IsjRp5Z9x8oN",
        "colab_type": "code",
        "outputId": "c80ab98a-4d1e-4315-d74b-a021da888513",
        "colab": {
          "base_uri": "https://localhost:8080/",
          "height": 34
        }
      },
      "source": [
        " t[0]"
      ],
      "execution_count": 0,
      "outputs": [
        {
          "output_type": "execute_result",
          "data": {
            "text/plain": [
              "4"
            ]
          },
          "metadata": {
            "tags": []
          },
          "execution_count": 21
        }
      ]
    },
    {
      "cell_type": "code",
      "metadata": {
        "id": "kxvm_zR9yDBS",
        "colab_type": "code",
        "outputId": "770f902c-f612-479b-fbd4-f135f0c82c17",
        "colab": {
          "base_uri": "https://localhost:8080/",
          "height": 34
        }
      },
      "source": [
        "t[:3]"
      ],
      "execution_count": 0,
      "outputs": [
        {
          "output_type": "execute_result",
          "data": {
            "text/plain": [
              "(4, 5, 6)"
            ]
          },
          "metadata": {
            "tags": []
          },
          "execution_count": 22
        }
      ]
    },
    {
      "cell_type": "code",
      "metadata": {
        "id": "e7tdN0gwyEnX",
        "colab_type": "code",
        "colab": {}
      },
      "source": [
        "# 書き換えができないリスト"
      ],
      "execution_count": 0,
      "outputs": []
    },
    {
      "cell_type": "code",
      "metadata": {
        "id": "E1meMr1vyIG1",
        "colab_type": "code",
        "colab": {}
      },
      "source": [
        ""
      ],
      "execution_count": 0,
      "outputs": []
    },
    {
      "cell_type": "markdown",
      "metadata": {
        "id": "6nK3wv6AyNc_",
        "colab_type": "text"
      },
      "source": [
        "## 辞書"
      ]
    },
    {
      "cell_type": "code",
      "metadata": {
        "id": "AUV3ZlCEyO0P",
        "colab_type": "code",
        "colab": {}
      },
      "source": [
        "results = {'数学' : 90 }"
      ],
      "execution_count": 0,
      "outputs": []
    },
    {
      "cell_type": "code",
      "metadata": {
        "id": "n-AV9m2OyV0l",
        "colab_type": "code",
        "outputId": "80b6a40a-4dbf-4ee8-96da-b029939d372a",
        "colab": {
          "base_uri": "https://localhost:8080/",
          "height": 34
        }
      },
      "source": [
        "results\n"
      ],
      "execution_count": 0,
      "outputs": [
        {
          "output_type": "execute_result",
          "data": {
            "text/plain": [
              "{'数学': 90}"
            ]
          },
          "metadata": {
            "tags": []
          },
          "execution_count": 26
        }
      ]
    },
    {
      "cell_type": "code",
      "metadata": {
        "id": "yPGaQLBEyX0A",
        "colab_type": "code",
        "outputId": "a0890335-0b1e-48f1-dbb8-4f89db6996d7",
        "colab": {
          "base_uri": "https://localhost:8080/",
          "height": 34
        }
      },
      "source": [
        "results[\"数学\"]"
      ],
      "execution_count": 0,
      "outputs": [
        {
          "output_type": "execute_result",
          "data": {
            "text/plain": [
              "90"
            ]
          },
          "metadata": {
            "tags": []
          },
          "execution_count": 27
        }
      ]
    },
    {
      "cell_type": "code",
      "metadata": {
        "id": "zTc7iYCDydO2",
        "colab_type": "code",
        "colab": {}
      },
      "source": [
        ""
      ],
      "execution_count": 0,
      "outputs": []
    },
    {
      "cell_type": "markdown",
      "metadata": {
        "id": "an9j2abehvjJ",
        "colab_type": "text"
      },
      "source": [
        "# 制御構文"
      ]
    },
    {
      "cell_type": "code",
      "metadata": {
        "id": "o5vk6uJ2hx3b",
        "colab_type": "code",
        "colab": {}
      },
      "source": [
        ""
      ],
      "execution_count": 0,
      "outputs": []
    },
    {
      "cell_type": "markdown",
      "metadata": {
        "id": "iGmbpsuvhyhm",
        "colab_type": "text"
      },
      "source": [
        "## for 繰り返し"
      ]
    },
    {
      "cell_type": "code",
      "metadata": {
        "id": "_jqtk74Ph32N",
        "colab_type": "code",
        "outputId": "a2f6ac42-aeb2-461d-846c-3618f8eddd60",
        "colab": {
          "base_uri": "https://localhost:8080/",
          "height": 193
        }
      },
      "source": [
        "for i in range(5):\n",
        "  print(i)\n",
        "  print('キカガク')"
      ],
      "execution_count": 0,
      "outputs": [
        {
          "output_type": "stream",
          "text": [
            "0\n",
            "キカガク\n",
            "1\n",
            "キカガク\n",
            "2\n",
            "キカガク\n",
            "3\n",
            "キカガク\n",
            "4\n",
            "キカガク\n"
          ],
          "name": "stdout"
        }
      ]
    },
    {
      "cell_type": "code",
      "metadata": {
        "id": "UL_yM8aWigyn",
        "colab_type": "code",
        "colab": {}
      },
      "source": [
        "names = ['佐藤','鈴木','高橋']"
      ],
      "execution_count": 0,
      "outputs": []
    },
    {
      "cell_type": "code",
      "metadata": {
        "id": "vaYSXB5Zi0wm",
        "colab_type": "code",
        "outputId": "bc6afc47-2760-45a6-b113-e6e8cfc10268",
        "colab": {
          "base_uri": "https://localhost:8080/",
          "height": 70
        }
      },
      "source": [
        "for i in range(3):\n",
        "  print(names[i] + 'さん')"
      ],
      "execution_count": 0,
      "outputs": [
        {
          "output_type": "stream",
          "text": [
            "佐藤さん\n",
            "鈴木さん\n",
            "高橋さん\n"
          ],
          "name": "stdout"
        }
      ]
    },
    {
      "cell_type": "code",
      "metadata": {
        "id": "H9A6m-dNi5P7",
        "colab_type": "code",
        "outputId": "7f17fe34-269d-4072-c454-3fe115b89f79",
        "colab": {
          "base_uri": "https://localhost:8080/",
          "height": 70
        }
      },
      "source": [
        "for name in names:\n",
        "  print(name)"
      ],
      "execution_count": 0,
      "outputs": [
        {
          "output_type": "stream",
          "text": [
            "佐藤\n",
            "鈴木\n",
            "高橋\n"
          ],
          "name": "stdout"
        }
      ]
    },
    {
      "cell_type": "code",
      "metadata": {
        "id": "p0fUiQ4vi8Mj",
        "colab_type": "code",
        "outputId": "5129e67f-8cf7-4fd4-c1a2-54659dacbdb6",
        "colab": {
          "base_uri": "https://localhost:8080/",
          "height": 34
        }
      },
      "source": [
        "val = 1\n",
        "if val > 0:\n",
        "  print('正の値です')\n",
        "elif val == 0:\n",
        "  print('ゼロです')\n",
        "else:\n",
        "  print('ふの値')\n",
        "  "
      ],
      "execution_count": 0,
      "outputs": [
        {
          "output_type": "stream",
          "text": [
            "正の値です\n"
          ],
          "name": "stdout"
        }
      ]
    },
    {
      "cell_type": "code",
      "metadata": {
        "id": "w_quXu_pje7j",
        "colab_type": "code",
        "colab": {}
      },
      "source": [
        "# 関数"
      ],
      "execution_count": 0,
      "outputs": []
    },
    {
      "cell_type": "code",
      "metadata": {
        "id": "rrl91CwPj09U",
        "colab_type": "code",
        "colab": {}
      },
      "source": [
        "def say_hello():\n",
        "  print('こんにちは幾何学さん')"
      ],
      "execution_count": 0,
      "outputs": []
    },
    {
      "cell_type": "code",
      "metadata": {
        "id": "cjPQMNJFj7mT",
        "colab_type": "code",
        "outputId": "3452b75d-f722-442b-eee5-ab7aeada59d4",
        "colab": {
          "base_uri": "https://localhost:8080/",
          "height": 34
        }
      },
      "source": [
        "say_hello()"
      ],
      "execution_count": 0,
      "outputs": [
        {
          "output_type": "stream",
          "text": [
            "こんにちは幾何学さん\n"
          ],
          "name": "stdout"
        }
      ]
    },
    {
      "cell_type": "code",
      "metadata": {
        "id": "82JmUj7hj9ty",
        "colab_type": "code",
        "colab": {}
      },
      "source": [
        "def say_hello2(name):\n",
        "  print('こんにちは' + name + 'さん')"
      ],
      "execution_count": 0,
      "outputs": []
    },
    {
      "cell_type": "code",
      "metadata": {
        "id": "L5QmLwvPkMVU",
        "colab_type": "code",
        "outputId": "142b5a6d-4493-4fe7-9526-a7c6ca02c990",
        "colab": {
          "base_uri": "https://localhost:8080/",
          "height": 34
        }
      },
      "source": [
        "say_hello2('吉崎')"
      ],
      "execution_count": 0,
      "outputs": [
        {
          "output_type": "stream",
          "text": [
            "こんにちは吉崎さん\n"
          ],
          "name": "stdout"
        }
      ]
    },
    {
      "cell_type": "code",
      "metadata": {
        "id": "Bxlsm3OzkPKe",
        "colab_type": "code",
        "colab": {}
      },
      "source": [
        "def add(a,b):\n",
        "  print(a + b)\n",
        "  return a + b"
      ],
      "execution_count": 0,
      "outputs": []
    },
    {
      "cell_type": "code",
      "metadata": {
        "id": "BeqZ68RRkVYE",
        "colab_type": "code",
        "outputId": "f43fe716-9cdc-49ec-fffa-4d225fc0987e",
        "colab": {
          "base_uri": "https://localhost:8080/",
          "height": 34
        }
      },
      "source": [
        "add(1,3)"
      ],
      "execution_count": 0,
      "outputs": [
        {
          "output_type": "stream",
          "text": [
            "4\n"
          ],
          "name": "stdout"
        }
      ]
    },
    {
      "cell_type": "code",
      "metadata": {
        "id": "m0oIGMSYkWd9",
        "colab_type": "code",
        "outputId": "32263a6f-d7fe-4d6c-e9e8-ad56328c6040",
        "colab": {
          "base_uri": "https://localhost:8080/",
          "height": 34
        }
      },
      "source": [
        "result = add(3,4)\n",
        "result"
      ],
      "execution_count": 0,
      "outputs": [
        {
          "output_type": "stream",
          "text": [
            "7\n"
          ],
          "name": "stdout"
        }
      ]
    },
    {
      "cell_type": "code",
      "metadata": {
        "id": "swu83KMwkdIS",
        "colab_type": "code",
        "outputId": "58a6be12-20ce-4788-a348-429e817a7027",
        "colab": {
          "base_uri": "https://localhost:8080/",
          "height": 70
        }
      },
      "source": [
        " def abs(n):\n",
        "    if n < 0:\n",
        "      return n * -1\n",
        "    else:\n",
        "      return n\n",
        "print(abs(-1))\n",
        "print(abs(0))\n",
        "print(abs(1.3))"
      ],
      "execution_count": 0,
      "outputs": [
        {
          "output_type": "stream",
          "text": [
            "1\n",
            "0\n",
            "1.3\n"
          ],
          "name": "stdout"
        }
      ]
    },
    {
      "cell_type": "code",
      "metadata": {
        "id": "PH3T_jTTk0TU",
        "colab_type": "code",
        "outputId": "bd8db70d-0464-4c7b-e239-17106d5060a7",
        "colab": {
          "base_uri": "https://localhost:8080/",
          "height": 125
        }
      },
      "source": [
        "from google.colab import drive\n",
        "drive.mount('/content/drive')"
      ],
      "execution_count": 0,
      "outputs": [
        {
          "output_type": "stream",
          "text": [
            "Go to this URL in a browser: https://accounts.google.com/o/oauth2/auth?client_id=947318989803-6bn6qk8qdgf4n4g3pfee6491hc0brc4i.apps.googleusercontent.com&redirect_uri=urn%3Aietf%3Awg%3Aoauth%3A2.0%3Aoob&scope=email%20https%3A%2F%2Fwww.googleapis.com%2Fauth%2Fdocs.test%20https%3A%2F%2Fwww.googleapis.com%2Fauth%2Fdrive%20https%3A%2F%2Fwww.googleapis.com%2Fauth%2Fdrive.photos.readonly%20https%3A%2F%2Fwww.googleapis.com%2Fauth%2Fpeopleapi.readonly&response_type=code\n",
            "\n",
            "Enter your authorization code:\n",
            "··········\n",
            "Mounted at /content/drive\n"
          ],
          "name": "stdout"
        }
      ]
    },
    {
      "cell_type": "code",
      "metadata": {
        "id": "23Rk6cynmFgl",
        "colab_type": "code",
        "outputId": "fd273431-ef72-4326-d459-1f7d3a3f4e99",
        "colab": {
          "base_uri": "https://localhost:8080/",
          "height": 34
        }
      },
      "source": [
        "!ls"
      ],
      "execution_count": 0,
      "outputs": [
        {
          "output_type": "stream",
          "text": [
            "drive  sample_data\n"
          ],
          "name": "stdout"
        }
      ]
    },
    {
      "cell_type": "code",
      "metadata": {
        "id": "AY3FrmM1mQye",
        "colab_type": "code",
        "outputId": "d7cf9377-abb6-4345-d9ba-1e0235e14b52",
        "colab": {
          "base_uri": "https://localhost:8080/",
          "height": 34
        }
      },
      "source": [
        "!ls drive"
      ],
      "execution_count": 0,
      "outputs": [
        {
          "output_type": "stream",
          "text": [
            "'My Drive'\n"
          ],
          "name": "stdout"
        }
      ]
    },
    {
      "cell_type": "code",
      "metadata": {
        "id": "PKoKxdUKmUH4",
        "colab_type": "code",
        "outputId": "2197f173-454a-4d14-a89b-0f643bdd904f",
        "colab": {
          "base_uri": "https://localhost:8080/",
          "height": 34
        }
      },
      "source": [
        "!ls \"drive/My Drive/forColab\""
      ],
      "execution_count": 0,
      "outputs": [
        {
          "output_type": "stream",
          "text": [
            "sample.csv\n"
          ],
          "name": "stdout"
        }
      ]
    },
    {
      "cell_type": "code",
      "metadata": {
        "id": "ZE95MAQimXoH",
        "colab_type": "code",
        "colab": {}
      },
      "source": [
        "import numpy as np"
      ],
      "execution_count": 0,
      "outputs": []
    },
    {
      "cell_type": "code",
      "metadata": {
        "id": "emqgXzRn-SLW",
        "colab_type": "code",
        "colab": {}
      },
      "source": [
        "x = np.array([1,2,3])"
      ],
      "execution_count": 0,
      "outputs": []
    },
    {
      "cell_type": "code",
      "metadata": {
        "id": "t-sBRLHq-hVv",
        "colab_type": "code",
        "outputId": "3d6fc999-9dc0-4d28-ead9-b7e3ae2772ff",
        "colab": {
          "base_uri": "https://localhost:8080/",
          "height": 34
        }
      },
      "source": [
        "x "
      ],
      "execution_count": 0,
      "outputs": [
        {
          "output_type": "execute_result",
          "data": {
            "text/plain": [
              "array([1, 3, 2])"
            ]
          },
          "metadata": {
            "tags": []
          },
          "execution_count": 6
        }
      ]
    },
    {
      "cell_type": "code",
      "metadata": {
        "id": "sgb_LyFg-ihi",
        "colab_type": "code",
        "colab": {}
      },
      "source": [
        "# データの中心化\n",
        "## 平均の算出"
      ],
      "execution_count": 0,
      "outputs": []
    },
    {
      "cell_type": "code",
      "metadata": {
        "id": "7YU5BdE--tlv",
        "colab_type": "code",
        "outputId": "6054ce43-7183-4c4d-da5d-0a5c7ef56b9e",
        "colab": {
          "base_uri": "https://localhost:8080/",
          "height": 34
        }
      },
      "source": [
        "x.mean()"
      ],
      "execution_count": 0,
      "outputs": [
        {
          "output_type": "execute_result",
          "data": {
            "text/plain": [
              "2.0"
            ]
          },
          "metadata": {
            "tags": []
          },
          "execution_count": 8
        }
      ]
    },
    {
      "cell_type": "code",
      "metadata": {
        "id": "r4EjfuhG-xeZ",
        "colab_type": "code",
        "colab": {}
      },
      "source": [
        "y = np.array([2,3.9,6.1])"
      ],
      "execution_count": 0,
      "outputs": []
    },
    {
      "cell_type": "code",
      "metadata": {
        "id": "fiZZRIvU-8EW",
        "colab_type": "code",
        "outputId": "86d4238d-39e6-4663-ff40-5ebd7730359b",
        "colab": {
          "base_uri": "https://localhost:8080/",
          "height": 34
        }
      },
      "source": [
        "y.mean()"
      ],
      "execution_count": 0,
      "outputs": [
        {
          "output_type": "execute_result",
          "data": {
            "text/plain": [
              "4.0"
            ]
          },
          "metadata": {
            "tags": []
          },
          "execution_count": 11
        }
      ]
    },
    {
      "cell_type": "code",
      "metadata": {
        "id": "q4uZch5k-_8w",
        "colab_type": "code",
        "colab": {}
      },
      "source": [
        "## 中心化\n",
        "xc = x - x.mean()"
      ],
      "execution_count": 0,
      "outputs": []
    },
    {
      "cell_type": "code",
      "metadata": {
        "id": "zosKYms8_LGd",
        "colab_type": "code",
        "colab": {}
      },
      "source": [
        "yc = y - y.mean()"
      ],
      "execution_count": 0,
      "outputs": []
    },
    {
      "cell_type": "code",
      "metadata": {
        "id": "uSPcYTsN_Nbo",
        "colab_type": "code",
        "outputId": "351c9241-cd0a-48b8-b77c-00b3768d98cb",
        "colab": {
          "base_uri": "https://localhost:8080/",
          "height": 34
        }
      },
      "source": [
        "xc \n"
      ],
      "execution_count": 0,
      "outputs": [
        {
          "output_type": "execute_result",
          "data": {
            "text/plain": [
              "array([-1.,  0.,  1.])"
            ]
          },
          "metadata": {
            "tags": []
          },
          "execution_count": 15
        }
      ]
    },
    {
      "cell_type": "code",
      "metadata": {
        "id": "Vrbq5oIS_SSb",
        "colab_type": "code",
        "colab": {}
      },
      "source": [
        "## パラメータaの計算"
      ],
      "execution_count": 0,
      "outputs": []
    },
    {
      "cell_type": "code",
      "metadata": {
        "id": "mW26BVgA_aIH",
        "colab_type": "code",
        "outputId": "1a10ce13-c7fe-4d23-ce50-ea45423f6daa",
        "colab": {
          "base_uri": "https://localhost:8080/",
          "height": 34
        }
      },
      "source": [
        "xc * xc\n"
      ],
      "execution_count": 0,
      "outputs": [
        {
          "output_type": "execute_result",
          "data": {
            "text/plain": [
              "array([1., 0., 1.])"
            ]
          },
          "metadata": {
            "tags": []
          },
          "execution_count": 17
        }
      ]
    },
    {
      "cell_type": "code",
      "metadata": {
        "id": "QcKSctKl_iW9",
        "colab_type": "code",
        "colab": {}
      },
      "source": [
        "xx = xc * xc "
      ],
      "execution_count": 0,
      "outputs": []
    },
    {
      "cell_type": "code",
      "metadata": {
        "id": "ne84Pk95_lRw",
        "colab_type": "code",
        "colab": {}
      },
      "source": [
        "xy = xc * yc"
      ],
      "execution_count": 0,
      "outputs": []
    },
    {
      "cell_type": "code",
      "metadata": {
        "id": "7cL2w7G3_tnJ",
        "colab_type": "code",
        "outputId": "02c27ec7-7cc3-4ec3-8ef9-da098ea9c54e",
        "colab": {
          "base_uri": "https://localhost:8080/",
          "height": 34
        }
      },
      "source": [
        " xx.sum()\n",
        "  "
      ],
      "execution_count": 0,
      "outputs": [
        {
          "output_type": "execute_result",
          "data": {
            "text/plain": [
              "2.0"
            ]
          },
          "metadata": {
            "tags": []
          },
          "execution_count": 20
        }
      ]
    },
    {
      "cell_type": "code",
      "metadata": {
        "id": "BH8SxlJk_w-C",
        "colab_type": "code",
        "outputId": "91720684-fa02-4065-9f03-df501a1f6f44",
        "colab": {
          "base_uri": "https://localhost:8080/",
          "height": 34
        }
      },
      "source": [
        "xy.sum()"
      ],
      "execution_count": 0,
      "outputs": [
        {
          "output_type": "execute_result",
          "data": {
            "text/plain": [
              "4.1"
            ]
          },
          "metadata": {
            "tags": []
          },
          "execution_count": 21
        }
      ]
    },
    {
      "cell_type": "code",
      "metadata": {
        "id": "c--xlKZk_zLX",
        "colab_type": "code",
        "colab": {}
      },
      "source": [
        "a = xy.sum() / xx.sum()"
      ],
      "execution_count": 0,
      "outputs": []
    },
    {
      "cell_type": "code",
      "metadata": {
        "id": "jEvHMYuZ_7AJ",
        "colab_type": "code",
        "outputId": "4a6ad033-1db0-4d11-9174-3b71d049c8b7",
        "colab": {
          "base_uri": "https://localhost:8080/",
          "height": 34
        }
      },
      "source": [
        "a"
      ],
      "execution_count": 0,
      "outputs": [
        {
          "output_type": "execute_result",
          "data": {
            "text/plain": [
              "2.05"
            ]
          },
          "metadata": {
            "tags": []
          },
          "execution_count": 23
        }
      ]
    },
    {
      "cell_type": "code",
      "metadata": {
        "id": "03ggjzjJ_7bD",
        "colab_type": "code",
        "colab": {}
      },
      "source": [
        "# Pandas"
      ],
      "execution_count": 0,
      "outputs": []
    },
    {
      "cell_type": "code",
      "metadata": {
        "id": "YFgHyKlIAIvC",
        "colab_type": "code",
        "colab": {}
      },
      "source": [
        "import pandas as pd"
      ],
      "execution_count": 0,
      "outputs": []
    },
    {
      "cell_type": "code",
      "metadata": {
        "id": "_0TwbiDNAqUX",
        "colab_type": "code",
        "colab": {
          "base_uri": "https://localhost:8080/",
          "height": 124
        },
        "outputId": "d62c058a-49f0-4aaa-b526-fafc7f957a2a"
      },
      "source": [
        "from google.colab import drive\n",
        "drive.mount('/content/drive')"
      ],
      "execution_count": 3,
      "outputs": [
        {
          "output_type": "stream",
          "text": [
            "Go to this URL in a browser: https://accounts.google.com/o/oauth2/auth?client_id=947318989803-6bn6qk8qdgf4n4g3pfee6491hc0brc4i.apps.googleusercontent.com&redirect_uri=urn%3Aietf%3Awg%3Aoauth%3A2.0%3Aoob&scope=email%20https%3A%2F%2Fwww.googleapis.com%2Fauth%2Fdocs.test%20https%3A%2F%2Fwww.googleapis.com%2Fauth%2Fdrive%20https%3A%2F%2Fwww.googleapis.com%2Fauth%2Fdrive.photos.readonly%20https%3A%2F%2Fwww.googleapis.com%2Fauth%2Fpeopleapi.readonly&response_type=code\n",
            "\n",
            "Enter your authorization code:\n",
            "··········\n",
            "Mounted at /content/drive\n"
          ],
          "name": "stdout"
        }
      ]
    },
    {
      "cell_type": "code",
      "metadata": {
        "id": "kHhRsyEmANgQ",
        "colab_type": "code",
        "colab": {}
      },
      "source": [
        "# csvファイルの読み込み\n",
        "# df: data frame\n",
        "df = pd.read_csv(\"drive/My Drive/forColab/sample.csv\")"
      ],
      "execution_count": 0,
      "outputs": []
    },
    {
      "cell_type": "code",
      "metadata": {
        "id": "JtFwMUGUAhOJ",
        "colab_type": "code",
        "outputId": "fef2d4c0-e37f-45ca-9682-bb84646c98ce",
        "colab": {
          "base_uri": "https://localhost:8080/",
          "height": 141
        }
      },
      "source": [
        "df.head(3)"
      ],
      "execution_count": 5,
      "outputs": [
        {
          "output_type": "execute_result",
          "data": {
            "text/html": [
              "<div>\n",
              "<style scoped>\n",
              "    .dataframe tbody tr th:only-of-type {\n",
              "        vertical-align: middle;\n",
              "    }\n",
              "\n",
              "    .dataframe tbody tr th {\n",
              "        vertical-align: top;\n",
              "    }\n",
              "\n",
              "    .dataframe thead th {\n",
              "        text-align: right;\n",
              "    }\n",
              "</style>\n",
              "<table border=\"1\" class=\"dataframe\">\n",
              "  <thead>\n",
              "    <tr style=\"text-align: right;\">\n",
              "      <th></th>\n",
              "      <th>x</th>\n",
              "      <th>y</th>\n",
              "    </tr>\n",
              "  </thead>\n",
              "  <tbody>\n",
              "    <tr>\n",
              "      <th>0</th>\n",
              "      <td>40.362</td>\n",
              "      <td>137500.0</td>\n",
              "    </tr>\n",
              "    <tr>\n",
              "      <th>1</th>\n",
              "      <td>40.686</td>\n",
              "      <td>132500.0</td>\n",
              "    </tr>\n",
              "    <tr>\n",
              "      <th>2</th>\n",
              "      <td>38.430</td>\n",
              "      <td>93000.0</td>\n",
              "    </tr>\n",
              "  </tbody>\n",
              "</table>\n",
              "</div>"
            ],
            "text/plain": [
              "        x         y\n",
              "0  40.362  137500.0\n",
              "1  40.686  132500.0\n",
              "2  38.430   93000.0"
            ]
          },
          "metadata": {
            "tags": []
          },
          "execution_count": 5
        }
      ]
    },
    {
      "cell_type": "code",
      "metadata": {
        "id": "NWLh4TZjAllv",
        "colab_type": "code",
        "colab": {}
      },
      "source": [
        "x = df['x']\n",
        "y = df['y']"
      ],
      "execution_count": 0,
      "outputs": []
    },
    {
      "cell_type": "code",
      "metadata": {
        "id": "nJycov0LA3ox",
        "colab_type": "code",
        "colab": {}
      },
      "source": [
        "# Matplotlib"
      ],
      "execution_count": 0,
      "outputs": []
    },
    {
      "cell_type": "code",
      "metadata": {
        "id": "HC4PYklldDkv",
        "colab_type": "code",
        "colab": {}
      },
      "source": [
        "import matplotlib.pyplot as plt"
      ],
      "execution_count": 0,
      "outputs": []
    },
    {
      "cell_type": "code",
      "metadata": {
        "id": "n-aSPgb2dIPp",
        "colab_type": "code",
        "colab": {
          "base_uri": "https://localhost:8080/",
          "height": 269
        },
        "outputId": "6484e842-82a0-4d99-cb89-44cf80fed343"
      },
      "source": [
        "plt.scatter(x,y)\n",
        "plt.show()"
      ],
      "execution_count": 11,
      "outputs": [
        {
          "output_type": "display_data",
          "data": {
            "image/png": "[encoded data removed]",
            "text/plain": [
              "<Figure size 432x288 with 1 Axes>"
            ]
          },
          "metadata": {
            "tags": []
          }
        }
      ]
    },
    {
      "cell_type": "code",
      "metadata": {
        "id": "pMPrTYZ-db8A",
        "colab_type": "code",
        "colab": {}
      },
      "source": [
        "# 単回帰分析"
      ],
      "execution_count": 0,
      "outputs": []
    },
    {
      "cell_type": "code",
      "metadata": {
        "id": "FLDb58wbdeFb",
        "colab_type": "code",
        "colab": {}
      },
      "source": [
        "# データの中心化"
      ],
      "execution_count": 0,
      "outputs": []
    },
    {
      "cell_type": "code",
      "metadata": {
        "id": "lzt6QCVCdijf",
        "colab_type": "code",
        "colab": {
          "base_uri": "https://localhost:8080/",
          "height": 294
        },
        "outputId": "3484f633-5ddf-4577-ce2b-de8f54f88bac"
      },
      "source": [
        "# データの概要を表示\n",
        "df.describe()"
      ],
      "execution_count": 14,
      "outputs": [
        {
          "output_type": "execute_result",
          "data": {
            "text/html": [
              "<div>\n",
              "<style scoped>\n",
              "    .dataframe tbody tr th:only-of-type {\n",
              "        vertical-align: middle;\n",
              "    }\n",
              "\n",
              "    .dataframe tbody tr th {\n",
              "        vertical-align: top;\n",
              "    }\n",
              "\n",
              "    .dataframe thead th {\n",
              "        text-align: right;\n",
              "    }\n",
              "</style>\n",
              "<table border=\"1\" class=\"dataframe\">\n",
              "  <thead>\n",
              "    <tr style=\"text-align: right;\">\n",
              "      <th></th>\n",
              "      <th>x</th>\n",
              "      <th>y</th>\n",
              "    </tr>\n",
              "  </thead>\n",
              "  <tbody>\n",
              "    <tr>\n",
              "      <th>count</th>\n",
              "      <td>100.000000</td>\n",
              "      <td>100.000000</td>\n",
              "    </tr>\n",
              "    <tr>\n",
              "      <th>mean</th>\n",
              "      <td>37.622220</td>\n",
              "      <td>121065.000000</td>\n",
              "    </tr>\n",
              "    <tr>\n",
              "      <th>std</th>\n",
              "      <td>4.087547</td>\n",
              "      <td>47174.009226</td>\n",
              "    </tr>\n",
              "    <tr>\n",
              "      <th>min</th>\n",
              "      <td>29.418000</td>\n",
              "      <td>59000.000000</td>\n",
              "    </tr>\n",
              "    <tr>\n",
              "      <th>25%</th>\n",
              "      <td>35.151000</td>\n",
              "      <td>90375.000000</td>\n",
              "    </tr>\n",
              "    <tr>\n",
              "      <th>50%</th>\n",
              "      <td>36.909000</td>\n",
              "      <td>104250.000000</td>\n",
              "    </tr>\n",
              "    <tr>\n",
              "      <th>75%</th>\n",
              "      <td>39.439500</td>\n",
              "      <td>147250.000000</td>\n",
              "    </tr>\n",
              "    <tr>\n",
              "      <th>max</th>\n",
              "      <td>50.250000</td>\n",
              "      <td>250000.000000</td>\n",
              "    </tr>\n",
              "  </tbody>\n",
              "</table>\n",
              "</div>"
            ],
            "text/plain": [
              "                x              y\n",
              "count  100.000000     100.000000\n",
              "mean    37.622220  121065.000000\n",
              "std      4.087547   47174.009226\n",
              "min     29.418000   59000.000000\n",
              "25%     35.151000   90375.000000\n",
              "50%     36.909000  104250.000000\n",
              "75%     39.439500  147250.000000\n",
              "max     50.250000  250000.000000"
            ]
          },
          "metadata": {
            "tags": []
          },
          "execution_count": 14
        }
      ]
    },
    {
      "cell_type": "code",
      "metadata": {
        "id": "4xCaGih6dna-",
        "colab_type": "code",
        "colab": {
          "base_uri": "https://localhost:8080/",
          "height": 69
        },
        "outputId": "cf31230f-8ad2-442d-8915-afe3c1e2cc7d"
      },
      "source": [
        "df.mean()"
      ],
      "execution_count": 16,
      "outputs": [
        {
          "output_type": "execute_result",
          "data": {
            "text/plain": [
              "x        37.62222\n",
              "y    121065.00000\n",
              "dtype: float64"
            ]
          },
          "metadata": {
            "tags": []
          },
          "execution_count": 16
        }
      ]
    },
    {
      "cell_type": "code",
      "metadata": {
        "id": "ZyJp1T9Wd5mU",
        "colab_type": "code",
        "colab": {}
      },
      "source": [
        "df_c = df - df.mean()"
      ],
      "execution_count": 0,
      "outputs": []
    },
    {
      "cell_type": "code",
      "metadata": {
        "id": "q1WlyZOkd-Nu",
        "colab_type": "code",
        "colab": {
          "base_uri": "https://localhost:8080/",
          "height": 294
        },
        "outputId": "5f07ab03-68f3-4b6b-8e3a-f99c2452e3de"
      },
      "source": [
        "df_c.describe(\n",
        ")\n"
      ],
      "execution_count": 21,
      "outputs": [
        {
          "output_type": "execute_result",
          "data": {
            "text/html": [
              "<div>\n",
              "<style scoped>\n",
              "    .dataframe tbody tr th:only-of-type {\n",
              "        vertical-align: middle;\n",
              "    }\n",
              "\n",
              "    .dataframe tbody tr th {\n",
              "        vertical-align: top;\n",
              "    }\n",
              "\n",
              "    .dataframe thead th {\n",
              "        text-align: right;\n",
              "    }\n",
              "</style>\n",
              "<table border=\"1\" class=\"dataframe\">\n",
              "  <thead>\n",
              "    <tr style=\"text-align: right;\">\n",
              "      <th></th>\n",
              "      <th>x</th>\n",
              "      <th>y</th>\n",
              "    </tr>\n",
              "  </thead>\n",
              "  <tbody>\n",
              "    <tr>\n",
              "      <th>count</th>\n",
              "      <td>1.000000e+02</td>\n",
              "      <td>100.000000</td>\n",
              "    </tr>\n",
              "    <tr>\n",
              "      <th>mean</th>\n",
              "      <td>1.989520e-15</td>\n",
              "      <td>0.000000</td>\n",
              "    </tr>\n",
              "    <tr>\n",
              "      <th>std</th>\n",
              "      <td>4.087547e+00</td>\n",
              "      <td>47174.009226</td>\n",
              "    </tr>\n",
              "    <tr>\n",
              "      <th>min</th>\n",
              "      <td>-8.204220e+00</td>\n",
              "      <td>-62065.000000</td>\n",
              "    </tr>\n",
              "    <tr>\n",
              "      <th>25%</th>\n",
              "      <td>-2.471220e+00</td>\n",
              "      <td>-30690.000000</td>\n",
              "    </tr>\n",
              "    <tr>\n",
              "      <th>50%</th>\n",
              "      <td>-7.132200e-01</td>\n",
              "      <td>-16815.000000</td>\n",
              "    </tr>\n",
              "    <tr>\n",
              "      <th>75%</th>\n",
              "      <td>1.817280e+00</td>\n",
              "      <td>26185.000000</td>\n",
              "    </tr>\n",
              "    <tr>\n",
              "      <th>max</th>\n",
              "      <td>1.262778e+01</td>\n",
              "      <td>128935.000000</td>\n",
              "    </tr>\n",
              "  </tbody>\n",
              "</table>\n",
              "</div>"
            ],
            "text/plain": [
              "                  x              y\n",
              "count  1.000000e+02     100.000000\n",
              "mean   1.989520e-15       0.000000\n",
              "std    4.087547e+00   47174.009226\n",
              "min   -8.204220e+00  -62065.000000\n",
              "25%   -2.471220e+00  -30690.000000\n",
              "50%   -7.132200e-01  -16815.000000\n",
              "75%    1.817280e+00   26185.000000\n",
              "max    1.262778e+01  128935.000000"
            ]
          },
          "metadata": {
            "tags": []
          },
          "execution_count": 21
        }
      ]
    },
    {
      "cell_type": "code",
      "metadata": {
        "id": "-4qF8o-UeDfw",
        "colab_type": "code",
        "colab": {
          "base_uri": "https://localhost:8080/",
          "height": 269
        },
        "outputId": "aa146c79-191f-40a0-ce61-407f35d07b3a"
      },
      "source": [
        "x = df_c['x']\n",
        "y = df_c['y']\n",
        "plt.scatter(x,y)\n",
        "plt.show()"
      ],
      "execution_count": 26,
      "outputs": [
        {
          "output_type": "display_data",
          "data": {
            "image/png": "[encoded data removed]",
            "text/plain": [
              "<Figure size 432x288 with 1 Axes>"
            ]
          },
          "metadata": {
            "tags": []
          }
        }
      ]
    },
    {
      "cell_type": "code",
      "metadata": {
        "id": "CU68lhjleMNv",
        "colab_type": "code",
        "colab": {}
      },
      "source": [
        "# パラメーターaの計算"
      ],
      "execution_count": 0,
      "outputs": []
    },
    {
      "cell_type": "code",
      "metadata": {
        "id": "169uHW0he1wK",
        "colab_type": "code",
        "colab": {
          "base_uri": "https://localhost:8080/",
          "height": 35
        },
        "outputId": "7eb5cf5f-28e3-4def-f7be-bc9b95f47981"
      },
      "source": [
        "xx = x * x \n",
        "xy = x * y \n",
        "a = xy.sum() / xx.sum()\n",
        "a"
      ],
      "execution_count": 28,
      "outputs": [
        {
          "output_type": "execute_result",
          "data": {
            "text/plain": [
              "10069.022519284063"
            ]
          },
          "metadata": {
            "tags": []
          },
          "execution_count": 28
        }
      ]
    },
    {
      "cell_type": "code",
      "metadata": {
        "id": "5oqOkorie_w5",
        "colab_type": "code",
        "colab": {
          "base_uri": "https://localhost:8080/",
          "height": 269
        },
        "outputId": "a20fb97a-19a5-4ee4-c24f-bb0568d2f379"
      },
      "source": [
        "# プロットして確認\n",
        "plt.scatter(x,y,label='y')\n",
        "plt.plot(x,a*x,label='y_hat',color='red')\n",
        "plt.legend()\n",
        "plt.show()"
      ],
      "execution_count": 30,
      "outputs": [
        {
          "output_type": "display_data",
          "data": {
            "image/png": "[encoded data removed]",
            "text/plain": [
              "<Figure size 432x288 with 1 Axes>"
            ]
          },
          "metadata": {
            "tags": []
          }
        }
      ]
    },
    {
      "cell_type": "code",
      "metadata": {
        "id": "fKj1txVqfS8i",
        "colab_type": "code",
        "colab": {}
      },
      "source": [
        "## 予測値の計算\n"
      ],
      "execution_count": 0,
      "outputs": []
    },
    {
      "cell_type": "code",
      "metadata": {
        "id": "CgVd3DxKfq92",
        "colab_type": "code",
        "colab": {}
      },
      "source": [
        "x_new = 40 # 40平米の家賃は？"
      ],
      "execution_count": 0,
      "outputs": []
    },
    {
      "cell_type": "code",
      "metadata": {
        "id": "R-SE_IEBfzVF",
        "colab_type": "code",
        "colab": {}
      },
      "source": [
        "mean = df.mean()"
      ],
      "execution_count": 0,
      "outputs": []
    },
    {
      "cell_type": "code",
      "metadata": {
        "id": "7ekm8FEQf55p",
        "colab_type": "code",
        "colab": {
          "base_uri": "https://localhost:8080/",
          "height": 35
        },
        "outputId": "2f2a9673-47e0-4505-ee27-a13e12504c90"
      },
      "source": [
        "mean['x']"
      ],
      "execution_count": 36,
      "outputs": [
        {
          "output_type": "execute_result",
          "data": {
            "text/plain": [
              "37.62222"
            ]
          },
          "metadata": {
            "tags": []
          },
          "execution_count": 36
        }
      ]
    },
    {
      "cell_type": "code",
      "metadata": {
        "id": "slh9uW9If7Fj",
        "colab_type": "code",
        "colab": {}
      },
      "source": [
        "xc = x_new - mean['x']"
      ],
      "execution_count": 0,
      "outputs": []
    },
    {
      "cell_type": "code",
      "metadata": {
        "id": "lC_D0WcvgCdA",
        "colab_type": "code",
        "colab": {
          "base_uri": "https://localhost:8080/",
          "height": 35
        },
        "outputId": "f408c689-edab-4093-9ab0-05467f68d3e7"
      },
      "source": [
        "xc"
      ],
      "execution_count": 38,
      "outputs": [
        {
          "output_type": "execute_result",
          "data": {
            "text/plain": [
              "2.3777800000000013"
            ]
          },
          "metadata": {
            "tags": []
          },
          "execution_count": 38
        }
      ]
    },
    {
      "cell_type": "code",
      "metadata": {
        "id": "JtVhXDyngC5a",
        "colab_type": "code",
        "colab": {}
      },
      "source": [
        "# 単回帰分析による分析\n",
        "yc = a * xc"
      ],
      "execution_count": 0,
      "outputs": []
    },
    {
      "cell_type": "code",
      "metadata": {
        "id": "YkzvDr3ogJVz",
        "colab_type": "code",
        "colab": {
          "base_uri": "https://localhost:8080/",
          "height": 35
        },
        "outputId": "e932f98f-33bd-48fb-9691-6831921edda3"
      },
      "source": [
        "yc"
      ],
      "execution_count": 40,
      "outputs": [
        {
          "output_type": "execute_result",
          "data": {
            "text/plain": [
              "23941.920365903272"
            ]
          },
          "metadata": {
            "tags": []
          },
          "execution_count": 40
        }
      ]
    },
    {
      "cell_type": "code",
      "metadata": {
        "id": "sRpwx8XLgKpO",
        "colab_type": "code",
        "colab": {}
      },
      "source": [
        "y_hat = a * xc + mean['y']"
      ],
      "execution_count": 0,
      "outputs": []
    },
    {
      "cell_type": "code",
      "metadata": {
        "id": "fK-CuVGygOL9",
        "colab_type": "code",
        "colab": {
          "base_uri": "https://localhost:8080/",
          "height": 35
        },
        "outputId": "28ab3415-941e-44df-9c3e-02cc98cbfd6e"
      },
      "source": [
        "y_hat"
      ],
      "execution_count": 47,
      "outputs": [
        {
          "output_type": "execute_result",
          "data": {
            "text/plain": [
              "145006.92036590326"
            ]
          },
          "metadata": {
            "tags": []
          },
          "execution_count": 47
        }
      ]
    },
    {
      "cell_type": "code",
      "metadata": {
        "id": "v9i0E6o-gOxk",
        "colab_type": "code",
        "colab": {}
      },
      "source": [
        "## 予測値を計算する関数の作成"
      ],
      "execution_count": 0,
      "outputs": []
    },
    {
      "cell_type": "code",
      "metadata": {
        "id": "HWX4R5RzgoXP",
        "colab_type": "code",
        "colab": {}
      },
      "source": [
        "def predict(x):\n",
        "  a =  10069.022519284063\n",
        "  xm = 37.62222\n",
        "  ym = 121065.0\n",
        "  # 中心化\n",
        "  xc = x - xm\n",
        "  # 予測値\n",
        "  y_hat = a * xc + ym\n",
        "  return y_hat\n",
        "  "
      ],
      "execution_count": 0,
      "outputs": []
    },
    {
      "cell_type": "code",
      "metadata": {
        "id": "7wXfDrVtg68x",
        "colab_type": "code",
        "colab": {
          "base_uri": "https://localhost:8080/",
          "height": 35
        },
        "outputId": "949a563c-4cdb-4789-904d-358043a25176"
      },
      "source": [
        "mean['y']"
      ],
      "execution_count": 51,
      "outputs": [
        {
          "output_type": "execute_result",
          "data": {
            "text/plain": [
              "121065.0"
            ]
          },
          "metadata": {
            "tags": []
          },
          "execution_count": 51
        }
      ]
    },
    {
      "cell_type": "code",
      "metadata": {
        "id": "7Jy_m9IJg8Ip",
        "colab_type": "code",
        "colab": {
          "base_uri": "https://localhost:8080/",
          "height": 35
        },
        "outputId": "6a7d85d4-bf80-49b0-b96b-befc5e647ed3"
      },
      "source": [
        "predict(40)"
      ],
      "execution_count": 53,
      "outputs": [
        {
          "output_type": "execute_result",
          "data": {
            "text/plain": [
              "145006.92036590326"
            ]
          },
          "metadata": {
            "tags": []
          },
          "execution_count": 53
        }
      ]
    },
    {
      "cell_type": "code",
      "metadata": {
        "id": "m5agyB4yhOD2",
        "colab_type": "code",
        "colab": {}
      },
      "source": [
        ""
      ],
      "execution_count": 0,
      "outputs": []
    }
  ]
}