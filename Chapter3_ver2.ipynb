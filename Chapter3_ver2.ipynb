{
  "nbformat": 4,
  "nbformat_minor": 0,
  "metadata": {
    "colab": {
      "name": "Chapter3_ver2.ipynb",
      "version": "0.3.2",
      "provenance": [],
      "collapsed_sections": [
        "VHpxP-liaSE0",
        "bZmNzGXBaSE1",
        "OjdhHutqaSE2"
      ],
      "include_colab_link": true
    },
    "kernelspec": {
      "display_name": "Python [Root]",
      "language": "python",
      "name": "Python [Root]"
    }
  },
  "cells": [
    {
      "cell_type": "markdown",
      "metadata": {
        "id": "view-in-github",
        "colab_type": "text"
      },
      "source": [
        "<a href=\"https://colab.research.google.com/github/modeverv/01_byosoku_deeplearning/blob/master/Chapter3_ver2.ipynb\" target=\"_parent\"><img src=\"https://colab.research.google.com/assets/colab-badge.svg\" alt=\"Open In Colab\"/></a>"
      ]
    },
    {
      "metadata": {
        "nbpresent": {
          "id": "af88da20-0f51-483e-bd72-afc896a9da05"
        },
        "id": "y1fPOIuvaSAc",
        "colab_type": "text"
      },
      "cell_type": "markdown",
      "source": [
        "# 3 記述統計学と単回帰分析"
      ]
    },
    {
      "metadata": {
        "id": "VV-62FLaaSAe",
        "colab_type": "text"
      },
      "cell_type": "markdown",
      "source": [
        "- **[3.1 記述統計学と単回帰分析](#3.1-記述統計学と単回帰分析)** \n",
        "    - [3.1.1 記述統計学](#3.1.1-記述統計学)\n",
        "    - [3.1.2 単回帰分析](#3.1.2-単回帰分析)\n",
        "<br><br>\n",
        "- **[3.2 総合問題](#3.2-総合問題)**\n",
        "    - [3.2.1 統計の基礎と可視化](#3.2.1-統計の基礎と可視化)\n",
        "    - [3.2.2 ローレンツ曲線とジニ係数](#3.2.2-ローレンツ曲線とジニ係数)"
      ]
    },
    {
      "metadata": {
        "collapsed": true,
        "id": "_-CnYQWlaSAf",
        "colab_type": "text"
      },
      "cell_type": "markdown",
      "source": [
        "***"
      ]
    },
    {
      "metadata": {
        "nbpresent": {
          "id": "b5e81c61-d695-4fc4-b784-45ed41026d4a"
        },
        "id": "7IIhDDzIaSAh",
        "colab_type": "text"
      },
      "cell_type": "markdown",
      "source": [
        "## 3.1 記述統計学と単回帰分析\n",
        "\n",
        "ゴール：csvファイルのデータを読み込み、基礎的な統計量の算出と可視化、単回帰分析ができる"
      ]
    },
    {
      "metadata": {
        "scrolled": true,
        "id": "-Mkmdv4gaSAi",
        "colab_type": "code",
        "outputId": "5ebf8775-8f90-4d51-9f0b-b3c6497718e8",
        "colab": {
          "base_uri": "https://localhost:8080/",
          "height": 34
        }
      },
      "cell_type": "code",
      "source": [
        "# 以下のモジュールを使うので、あらかじめ読み込んでおいてください\n",
        "import numpy as np\n",
        "import numpy.random as random\n",
        "import scipy as sp\n",
        "import pandas as pd\n",
        "from pandas import Series, DataFrame\n",
        "\n",
        "# 可視化モジュール\n",
        "import matplotlib.pyplot as plt\n",
        "import matplotlib as mpl\n",
        "import seaborn as sns\n",
        "%matplotlib inline\n",
        "\n",
        "# 小数第３まで表示\n",
        "%precision 3"
      ],
      "execution_count": 1,
      "outputs": [
        {
          "output_type": "execute_result",
          "data": {
            "text/plain": [
              "u'%.3f'"
            ]
          },
          "metadata": {
            "tags": []
          },
          "execution_count": 1
        }
      ]
    },
    {
      "metadata": {
        "nbpresent": {
          "id": "aa08360f-e7dd-4647-bbfb-cadd5f19af31"
        },
        "id": "7CgWZ4T6aSAr",
        "colab_type": "text"
      },
      "cell_type": "markdown",
      "source": [
        "### 3.1.1 記述統計学\n",
        "キーワード：記述統計学、量的データ、質的データ、ヒストグラム、四分位範囲、要約統計量、平均、分散、標準偏差、変動係数、散布図、相関係数"
      ]
    },
    {
      "metadata": {
        "id": "O7X1RnJUaSAs",
        "colab_type": "text"
      },
      "cell_type": "markdown",
      "source": [
        "これまではPythonといくつのモジュールについて、基本的な使い方を説明してきました。本章からはそれらを活用して、実際のデータと対話してみましょう。次は、今回使うデータ（Zipファイル）をウェブ上から直接ダウンロードし、展開するためのモジュールになります。"
      ]
    },
    {
      "metadata": {
        "id": "yh42rR5UaSAt",
        "colab_type": "code",
        "colab": {}
      },
      "cell_type": "code",
      "source": [
        "# webからデータを取得したり、zipファイルを扱うためのモジュール\n",
        "import requests, zipfile\n",
        "from io import StringIO\n",
        "import io"
      ],
      "execution_count": 0,
      "outputs": []
    },
    {
      "metadata": {
        "id": "_1uXf7dmaSAy",
        "colab_type": "text"
      },
      "cell_type": "markdown",
      "source": [
        "コマンドライン等に慣れていな人のため、次のコマンドは現在どこのディレクトリ（フォルダ）にいるか出力するための命令です。なお、注意点として、同じセル内に、コマンドラインとpythonのコードを一緒にして実行はできません。それぞれ別のセルに分けてコーディングして、実行しましょう。"
      ]
    },
    {
      "metadata": {
        "id": "8D443MAZaSAz",
        "colab_type": "code",
        "colab": {}
      },
      "cell_type": "code",
      "source": [
        "!pwd"
      ],
      "execution_count": 0,
      "outputs": []
    },
    {
      "metadata": {
        "id": "dMkPvv5CaSA4",
        "colab_type": "text"
      },
      "cell_type": "markdown",
      "source": [
        "この章のためにフォルダを作成しましょう。以下の「mkdir name」はnameというフォルダを作成します。"
      ]
    },
    {
      "metadata": {
        "id": "uy6SrNRBaSA6",
        "colab_type": "code",
        "colab": {}
      },
      "cell_type": "code",
      "source": [
        "# !mkdir chap2"
      ],
      "execution_count": 0,
      "outputs": []
    },
    {
      "metadata": {
        "id": "3bYBpHucaSA-",
        "colab_type": "text"
      },
      "cell_type": "markdown",
      "source": [
        "次の「cd adress」は該当のフォルダ（ディレクトリ）に移動するコマンドです。"
      ]
    },
    {
      "metadata": {
        "id": "pn1IyQ1HaSA_",
        "colab_type": "code",
        "colab": {}
      },
      "cell_type": "code",
      "source": [
        "# !cd ./chap2"
      ],
      "execution_count": 0,
      "outputs": []
    },
    {
      "metadata": {
        "id": "i8_x5MhdaSBD",
        "colab_type": "text"
      },
      "cell_type": "markdown",
      "source": [
        "次に、該当のデータをインターネットからダウンロードし、zipファイルを展開しましょう。以下がその処理となります。以下のコードはデータがあるurlを指定して、zipファイルを取得し、展開しています。"
      ]
    },
    {
      "metadata": {
        "id": "Raidxsd-aSBF",
        "colab_type": "code",
        "colab": {}
      },
      "cell_type": "code",
      "source": [
        "# データがあるurl の指定\n",
        "zip_file_url = \"http://archive.ics.uci.edu/ml/machine-learning-databases/00356/student.zip\"\n",
        "\n",
        "# データをurlから取得する\n",
        "r = requests.get(zip_file_url, stream=True)\n",
        "\n",
        "# zipfileを読み込み展開する\n",
        "z = zipfile.ZipFile(io.BytesIO(r.content))\n",
        "z.extractall()"
      ],
      "execution_count": 0,
      "outputs": []
    },
    {
      "metadata": {
        "id": "0BvF9eDPb1ZJ",
        "colab_type": "code",
        "colab": {}
      },
      "cell_type": "code",
      "source": [
        "!pip install -U -q PyDrive\n",
        "from pydrive.auth import GoogleAuth\n",
        "from pydrive.drive import GoogleDrive\n",
        "from google.colab import auth\n",
        "from oauth2client.client import GoogleCredentials\n",
        "auth.authenticate_user()\n",
        "gauth = GoogleAuth()\n",
        "gauth.credentials = GoogleCredentials.get_application_default()\n",
        "drive = GoogleDrive(gauth)"
      ],
      "execution_count": 0,
      "outputs": []
    },
    {
      "metadata": {
        "id": "ePmV6Lw5b-qJ",
        "colab_type": "code",
        "colab": {}
      },
      "cell_type": "code",
      "source": [
        "id = '1wQBXzsDuYRlM970UPAxkjyzM3vBGOfKw'  # 共有リンクで取得した id= より後の部分\n",
        "downloaded = drive.CreateFile({'id': id})\n",
        "downloaded.GetContentFile('sample.zip')"
      ],
      "execution_count": 0,
      "outputs": []
    },
    {
      "metadata": {
        "id": "BJzv_e5QaSBJ",
        "colab_type": "text"
      },
      "cell_type": "markdown",
      "source": [
        "データがちゃんとダウンロードされ、展開しているかチェックしましょう。次のコマンド「ls」を実行すると、今いるフォルダ（ディレクトリ）にあるファイル等を表示します。"
      ]
    },
    {
      "metadata": {
        "id": "88eOaOQYaSBK",
        "colab_type": "code",
        "outputId": "d7f9b2d2-6130-4086-93bc-b08af3f08c4d",
        "colab": {
          "base_uri": "https://localhost:8080/",
          "height": 235
        }
      },
      "cell_type": "code",
      "source": [
        "!ls\n",
        "!cd sample_data\n",
        "!ls -la\n"
      ],
      "execution_count": 8,
      "outputs": [
        {
          "output_type": "stream",
          "text": [
            "adc.json     sample.zip       student-merge.R  student.txt\n",
            "sample_data  student-mat.csv  student-por.csv\n",
            "total 204\n",
            "drwxr-xr-x 1 root root  4096 Nov  8 13:36 .\n",
            "drwxr-xr-x 1 root root  4096 Nov  8 13:33 ..\n",
            "-rw-r--r-- 1 root root  2525 Nov  8 13:35 adc.json\n",
            "drwxr-xr-x 1 root root  4096 Nov  8 13:35 .config\n",
            "drwxr-xr-x 2 root root  4096 Nov  6 18:16 sample_data\n",
            "-rw-r--r-- 1 root root 20478 Nov  8 13:36 sample.zip\n",
            "-rwxrwxrwx 1 root root 56993 Apr 12  2012 student-mat.csv\n",
            "-rw-r--r-- 1 root root   269 Jul 20  2015 student-merge.R\n",
            "-rwxrwxrwx 1 root root 93220 Jul 20  2015 student-por.csv\n",
            "-rwxrwxrwx 1 root root  3206 Jul 20  2015 student.txt\n"
          ],
          "name": "stdout"
        }
      ]
    },
    {
      "metadata": {
        "id": "eOEv6w8fckKW",
        "colab_type": "code",
        "outputId": "262fecc4-bd8d-45c1-c416-3150af857f02",
        "colab": {
          "base_uri": "https://localhost:8080/",
          "height": 286
        }
      },
      "cell_type": "code",
      "source": [
        "!unzip sample.zip\n",
        "!ls -la"
      ],
      "execution_count": 5,
      "outputs": [
        {
          "output_type": "stream",
          "text": [
            "Archive:  sample.zip\n",
            "  inflating: student-mat.csv         \n",
            "  inflating: student-por.csv         \n",
            "  inflating: student-merge.R         \n",
            "  inflating: student.txt             \n",
            "total 204\n",
            "drwxr-xr-x 1 root root  4096 Nov  9 06:23 .\n",
            "drwxr-xr-x 1 root root  4096 Nov  9 06:22 ..\n",
            "-rw-r--r-- 1 root root  2525 Nov  9 06:23 adc.json\n",
            "drwxr-xr-x 1 root root  4096 Nov  9 06:23 .config\n",
            "drwxr-xr-x 2 root root  4096 Nov  7 20:08 sample_data\n",
            "-rw-r--r-- 1 root root 20478 Nov  9 06:23 sample.zip\n",
            "-rwxrwxrwx 1 root root 56993 Apr 12  2012 student-mat.csv\n",
            "-rw-r--r-- 1 root root   269 Jul 20  2015 student-merge.R\n",
            "-rwxrwxrwx 1 root root 93220 Jul 20  2015 student-por.csv\n",
            "-rwxrwxrwx 1 root root  3206 Jul 20  2015 student.txt\n"
          ],
          "name": "stdout"
        }
      ]
    },
    {
      "metadata": {
        "id": "ilCubJbIaSBP",
        "colab_type": "text"
      },
      "cell_type": "markdown",
      "source": [
        "この講座で使うデータは、「student-mat.csv」と「student-por.csv」になります。はじめに、「student-mat.csv」がどんなデータなのか観察していきます。（後の練習問題で「student-por.csv」と合わせたデータを使うことにします。）\n",
        "\n",
        "次はpd.read_csvを使い、対象のデータファイル名をpandasのデータフレームとして扱います。"
      ]
    },
    {
      "metadata": {
        "id": "0cQjEBHMaSBQ",
        "colab_type": "code",
        "colab": {}
      },
      "cell_type": "code",
      "source": [
        "student_data_math = pd.read_csv(\"student-mat.csv\")"
      ],
      "execution_count": 0,
      "outputs": []
    },
    {
      "metadata": {
        "id": "j8P_kVBZaSBU",
        "colab_type": "text"
      },
      "cell_type": "markdown",
      "source": [
        "データを読み込んだ後は、このデータにどんなカラムやデータが入っているかサンプルを見てみましょう。その場合、head()を使います。デフォルトでは5行表示されますが、行数を指定したい場合は、head(10)などとします。"
      ]
    },
    {
      "metadata": {
        "id": "7zl2v2KpaSBW",
        "colab_type": "code",
        "outputId": "898126dc-c8d7-4724-ab0c-e5b67bc80306",
        "colab": {
          "base_uri": "https://localhost:8080/",
          "height": 215
        }
      },
      "cell_type": "code",
      "source": [
        "student_data_math.head()"
      ],
      "execution_count": 7,
      "outputs": [
        {
          "output_type": "execute_result",
          "data": {
            "text/html": [
              "<div>\n",
              "<style scoped>\n",
              "    .dataframe tbody tr th:only-of-type {\n",
              "        vertical-align: middle;\n",
              "    }\n",
              "\n",
              "    .dataframe tbody tr th {\n",
              "        vertical-align: top;\n",
              "    }\n",
              "\n",
              "    .dataframe thead th {\n",
              "        text-align: right;\n",
              "    }\n",
              "</style>\n",
              "<table border=\"1\" class=\"dataframe\">\n",
              "  <thead>\n",
              "    <tr style=\"text-align: right;\">\n",
              "      <th></th>\n",
              "      <th>school;sex;age;address;famsize;Pstatus;Medu;Fedu;Mjob;Fjob;reason;guardian;traveltime;studytime;failures;schoolsup;famsup;paid;activities;nursery;higher;internet;romantic;famrel;freetime;goout;Dalc;Walc;health;absences;G1;G2;G3</th>\n",
              "    </tr>\n",
              "  </thead>\n",
              "  <tbody>\n",
              "    <tr>\n",
              "      <th>0</th>\n",
              "      <td>GP;\"F\";18;\"U\";\"GT3\";\"A\";4;4;\"at_home\";\"teacher...</td>\n",
              "    </tr>\n",
              "    <tr>\n",
              "      <th>1</th>\n",
              "      <td>GP;\"F\";17;\"U\";\"GT3\";\"T\";1;1;\"at_home\";\"other\";...</td>\n",
              "    </tr>\n",
              "    <tr>\n",
              "      <th>2</th>\n",
              "      <td>GP;\"F\";15;\"U\";\"LE3\";\"T\";1;1;\"at_home\";\"other\";...</td>\n",
              "    </tr>\n",
              "    <tr>\n",
              "      <th>3</th>\n",
              "      <td>GP;\"F\";15;\"U\";\"GT3\";\"T\";4;2;\"health\";\"services...</td>\n",
              "    </tr>\n",
              "    <tr>\n",
              "      <th>4</th>\n",
              "      <td>GP;\"F\";16;\"U\";\"GT3\";\"T\";3;3;\"other\";\"other\";\"h...</td>\n",
              "    </tr>\n",
              "  </tbody>\n",
              "</table>\n",
              "</div>"
            ],
            "text/plain": [
              "  school;sex;age;address;famsize;Pstatus;Medu;Fedu;Mjob;Fjob;reason;guardian;traveltime;studytime;failures;schoolsup;famsup;paid;activities;nursery;higher;internet;romantic;famrel;freetime;goout;Dalc;Walc;health;absences;G1;G2;G3\n",
              "0  GP;\"F\";18;\"U\";\"GT3\";\"A\";4;4;\"at_home\";\"teacher...                                                                                                                                                                                 \n",
              "1  GP;\"F\";17;\"U\";\"GT3\";\"T\";1;1;\"at_home\";\"other\";...                                                                                                                                                                                 \n",
              "2  GP;\"F\";15;\"U\";\"LE3\";\"T\";1;1;\"at_home\";\"other\";...                                                                                                                                                                                 \n",
              "3  GP;\"F\";15;\"U\";\"GT3\";\"T\";4;2;\"health\";\"services...                                                                                                                                                                                 \n",
              "4  GP;\"F\";16;\"U\";\"GT3\";\"T\";3;3;\"other\";\"other\";\"h...                                                                                                                                                                                 "
            ]
          },
          "metadata": {
            "tags": []
          },
          "execution_count": 7
        }
      ]
    },
    {
      "metadata": {
        "id": "47x2PXB3aSBb",
        "colab_type": "text"
      },
      "cell_type": "markdown",
      "source": [
        "データが入っているのはわかりますが、このままではデータが大変扱いにくいです。よくデータを見てみると、区切り文字は「;」となっています。実は、このread_csvはsepのパラメータ設定が可能で、区切り文字を指定できます。この区切り文字は、csvファイルだと「,」であることがほとんどで、デフォルトはこれで設定されていますが、今回は「;」ですので、これを区切り文字として指定して、データを再度読み込みましょう。"
      ]
    },
    {
      "metadata": {
        "nbpresent": {
          "id": "f581b3c5-979f-4ad2-95b7-e89dc86afee3"
        },
        "id": "TsvFW4WGaSBc",
        "colab_type": "code",
        "colab": {}
      },
      "cell_type": "code",
      "source": [
        "# データの読み込み\n",
        "# 区切りが;ついているので注意\n",
        "student_data_math = pd.read_csv(\"student-mat.csv\", sep=\";\")"
      ],
      "execution_count": 0,
      "outputs": []
    },
    {
      "metadata": {
        "nbpresent": {
          "id": "ddd82eaf-9b54-48bf-ac57-aa797a3a970a"
        },
        "id": "TjnZX-J9aSBg",
        "colab_type": "code",
        "outputId": "c4145287-6b34-44ca-90fb-3e1415c3caa7",
        "colab": {
          "base_uri": "https://localhost:8080/",
          "height": 244
        }
      },
      "cell_type": "code",
      "source": [
        "# どんなデータがあるかざっと見る\n",
        "student_data_math.head()"
      ],
      "execution_count": 9,
      "outputs": [
        {
          "output_type": "execute_result",
          "data": {
            "text/html": [
              "<div>\n",
              "<style scoped>\n",
              "    .dataframe tbody tr th:only-of-type {\n",
              "        vertical-align: middle;\n",
              "    }\n",
              "\n",
              "    .dataframe tbody tr th {\n",
              "        vertical-align: top;\n",
              "    }\n",
              "\n",
              "    .dataframe thead th {\n",
              "        text-align: right;\n",
              "    }\n",
              "</style>\n",
              "<table border=\"1\" class=\"dataframe\">\n",
              "  <thead>\n",
              "    <tr style=\"text-align: right;\">\n",
              "      <th></th>\n",
              "      <th>school</th>\n",
              "      <th>sex</th>\n",
              "      <th>age</th>\n",
              "      <th>address</th>\n",
              "      <th>famsize</th>\n",
              "      <th>Pstatus</th>\n",
              "      <th>Medu</th>\n",
              "      <th>Fedu</th>\n",
              "      <th>Mjob</th>\n",
              "      <th>Fjob</th>\n",
              "      <th>...</th>\n",
              "      <th>famrel</th>\n",
              "      <th>freetime</th>\n",
              "      <th>goout</th>\n",
              "      <th>Dalc</th>\n",
              "      <th>Walc</th>\n",
              "      <th>health</th>\n",
              "      <th>absences</th>\n",
              "      <th>G1</th>\n",
              "      <th>G2</th>\n",
              "      <th>G3</th>\n",
              "    </tr>\n",
              "  </thead>\n",
              "  <tbody>\n",
              "    <tr>\n",
              "      <th>0</th>\n",
              "      <td>GP</td>\n",
              "      <td>F</td>\n",
              "      <td>18</td>\n",
              "      <td>U</td>\n",
              "      <td>GT3</td>\n",
              "      <td>A</td>\n",
              "      <td>4</td>\n",
              "      <td>4</td>\n",
              "      <td>at_home</td>\n",
              "      <td>teacher</td>\n",
              "      <td>...</td>\n",
              "      <td>4</td>\n",
              "      <td>3</td>\n",
              "      <td>4</td>\n",
              "      <td>1</td>\n",
              "      <td>1</td>\n",
              "      <td>3</td>\n",
              "      <td>6</td>\n",
              "      <td>5</td>\n",
              "      <td>6</td>\n",
              "      <td>6</td>\n",
              "    </tr>\n",
              "    <tr>\n",
              "      <th>1</th>\n",
              "      <td>GP</td>\n",
              "      <td>F</td>\n",
              "      <td>17</td>\n",
              "      <td>U</td>\n",
              "      <td>GT3</td>\n",
              "      <td>T</td>\n",
              "      <td>1</td>\n",
              "      <td>1</td>\n",
              "      <td>at_home</td>\n",
              "      <td>other</td>\n",
              "      <td>...</td>\n",
              "      <td>5</td>\n",
              "      <td>3</td>\n",
              "      <td>3</td>\n",
              "      <td>1</td>\n",
              "      <td>1</td>\n",
              "      <td>3</td>\n",
              "      <td>4</td>\n",
              "      <td>5</td>\n",
              "      <td>5</td>\n",
              "      <td>6</td>\n",
              "    </tr>\n",
              "    <tr>\n",
              "      <th>2</th>\n",
              "      <td>GP</td>\n",
              "      <td>F</td>\n",
              "      <td>15</td>\n",
              "      <td>U</td>\n",
              "      <td>LE3</td>\n",
              "      <td>T</td>\n",
              "      <td>1</td>\n",
              "      <td>1</td>\n",
              "      <td>at_home</td>\n",
              "      <td>other</td>\n",
              "      <td>...</td>\n",
              "      <td>4</td>\n",
              "      <td>3</td>\n",
              "      <td>2</td>\n",
              "      <td>2</td>\n",
              "      <td>3</td>\n",
              "      <td>3</td>\n",
              "      <td>10</td>\n",
              "      <td>7</td>\n",
              "      <td>8</td>\n",
              "      <td>10</td>\n",
              "    </tr>\n",
              "    <tr>\n",
              "      <th>3</th>\n",
              "      <td>GP</td>\n",
              "      <td>F</td>\n",
              "      <td>15</td>\n",
              "      <td>U</td>\n",
              "      <td>GT3</td>\n",
              "      <td>T</td>\n",
              "      <td>4</td>\n",
              "      <td>2</td>\n",
              "      <td>health</td>\n",
              "      <td>services</td>\n",
              "      <td>...</td>\n",
              "      <td>3</td>\n",
              "      <td>2</td>\n",
              "      <td>2</td>\n",
              "      <td>1</td>\n",
              "      <td>1</td>\n",
              "      <td>5</td>\n",
              "      <td>2</td>\n",
              "      <td>15</td>\n",
              "      <td>14</td>\n",
              "      <td>15</td>\n",
              "    </tr>\n",
              "    <tr>\n",
              "      <th>4</th>\n",
              "      <td>GP</td>\n",
              "      <td>F</td>\n",
              "      <td>16</td>\n",
              "      <td>U</td>\n",
              "      <td>GT3</td>\n",
              "      <td>T</td>\n",
              "      <td>3</td>\n",
              "      <td>3</td>\n",
              "      <td>other</td>\n",
              "      <td>other</td>\n",
              "      <td>...</td>\n",
              "      <td>4</td>\n",
              "      <td>3</td>\n",
              "      <td>2</td>\n",
              "      <td>1</td>\n",
              "      <td>2</td>\n",
              "      <td>5</td>\n",
              "      <td>4</td>\n",
              "      <td>6</td>\n",
              "      <td>10</td>\n",
              "      <td>10</td>\n",
              "    </tr>\n",
              "  </tbody>\n",
              "</table>\n",
              "<p>5 rows × 33 columns</p>\n",
              "</div>"
            ],
            "text/plain": [
              "  school sex  age address famsize Pstatus  Medu  Fedu     Mjob      Fjob ...  \\\n",
              "0     GP   F   18       U     GT3       A     4     4  at_home   teacher ...   \n",
              "1     GP   F   17       U     GT3       T     1     1  at_home     other ...   \n",
              "2     GP   F   15       U     LE3       T     1     1  at_home     other ...   \n",
              "3     GP   F   15       U     GT3       T     4     2   health  services ...   \n",
              "4     GP   F   16       U     GT3       T     3     3    other     other ...   \n",
              "\n",
              "  famrel freetime  goout  Dalc  Walc health absences  G1  G2  G3  \n",
              "0      4        3      4     1     1      3        6   5   6   6  \n",
              "1      5        3      3     1     1      3        4   5   5   6  \n",
              "2      4        3      2     2     3      3       10   7   8  10  \n",
              "3      3        2      2     1     1      5        2  15  14  15  \n",
              "4      4        3      2     1     2      5        4   6  10  10  \n",
              "\n",
              "[5 rows x 33 columns]"
            ]
          },
          "metadata": {
            "tags": []
          },
          "execution_count": 9
        }
      ]
    },
    {
      "metadata": {
        "id": "2sHwf_9KaSBm",
        "colab_type": "text"
      },
      "cell_type": "markdown",
      "source": [
        "これでだいぶ見やすくなりました。なお、教科書的には、いきなり「;」で設定してやることが多いのですが、まだ何も知らない見たこともないデータに対して、1回の処理でそれがわかるというのは難しいです。データ分析の実務ではこういう試行錯誤があることも度々ありますので、あえてそのまま実施してみました。\n",
        "\n",
        "なお、この「read_csv」については、パラメータがいくつかあり、データ名（アドレス含む）、区切り文字、ヘッダーがあるかないかを指定します。詳しくは、?pd.read_csvを実行して、どんなパラメータ等が設定できるのか調べてみましょう。"
      ]
    },
    {
      "metadata": {
        "id": "Kz84rXX1aSBo",
        "colab_type": "code",
        "colab": {}
      },
      "cell_type": "code",
      "source": [
        "?pd.read_csv"
      ],
      "execution_count": 0,
      "outputs": []
    },
    {
      "metadata": {
        "id": "w30TWYgMaSBv",
        "colab_type": "text"
      },
      "cell_type": "markdown",
      "source": [
        "先ほど読み込んだデータを見てみますと、schoolやageなど学生の属性情報が入っているというのはわかります。ただし、いくつデータがあるのか、どんなデータの種類があるのかまだわかりませんので、次のinfoを使うと、すべての変数について、nullでないデータの個数や変数の型がわかります。"
      ]
    },
    {
      "metadata": {
        "nbpresent": {
          "id": "21eb3ee8-f72c-4842-a2b2-98bc6b4b06b2"
        },
        "id": "VDiGULFcaSBx",
        "colab_type": "code",
        "outputId": "3a49576c-f540-4bee-e8be-388ff1d55387",
        "colab": {
          "base_uri": "https://localhost:8080/",
          "height": 655
        }
      },
      "cell_type": "code",
      "source": [
        "# すべてのカラムの情報等チェック\n",
        "student_data_math.info()"
      ],
      "execution_count": 11,
      "outputs": [
        {
          "output_type": "stream",
          "text": [
            "<class 'pandas.core.frame.DataFrame'>\n",
            "RangeIndex: 395 entries, 0 to 394\n",
            "Data columns (total 33 columns):\n",
            "school        395 non-null object\n",
            "sex           395 non-null object\n",
            "age           395 non-null int64\n",
            "address       395 non-null object\n",
            "famsize       395 non-null object\n",
            "Pstatus       395 non-null object\n",
            "Medu          395 non-null int64\n",
            "Fedu          395 non-null int64\n",
            "Mjob          395 non-null object\n",
            "Fjob          395 non-null object\n",
            "reason        395 non-null object\n",
            "guardian      395 non-null object\n",
            "traveltime    395 non-null int64\n",
            "studytime     395 non-null int64\n",
            "failures      395 non-null int64\n",
            "schoolsup     395 non-null object\n",
            "famsup        395 non-null object\n",
            "paid          395 non-null object\n",
            "activities    395 non-null object\n",
            "nursery       395 non-null object\n",
            "higher        395 non-null object\n",
            "internet      395 non-null object\n",
            "romantic      395 non-null object\n",
            "famrel        395 non-null int64\n",
            "freetime      395 non-null int64\n",
            "goout         395 non-null int64\n",
            "Dalc          395 non-null int64\n",
            "Walc          395 non-null int64\n",
            "health        395 non-null int64\n",
            "absences      395 non-null int64\n",
            "G1            395 non-null int64\n",
            "G2            395 non-null int64\n",
            "G3            395 non-null int64\n",
            "dtypes: int64(16), object(17)\n",
            "memory usage: 101.9+ KB\n"
          ],
          "name": "stdout"
        }
      ]
    },
    {
      "metadata": {
        "id": "y6BuP035aSB1",
        "colab_type": "text"
      },
      "cell_type": "markdown",
      "source": [
        "はじめに「RangeIndex: 395 entries, 0 to 394」とあり、395個データがあります。non-nullはnullでないデータを意味し、全ての変数について「395 non-null」となっているので、今回はnullのデータがないようです。さらにこのデータを理解していくために、このカラムが一体何のデータなのか把握していきましょう。\n",
        "\n",
        "実際のビジネスの現場では、このデータに詳しい人から情報をもらったり、またデータの仕様書を読み込んでいく必要があります。そういった情報が得られたという前提の下、以下に、このデータカラム名の説明等を記載します。先ほどデータと一緒にダウンロードされたstudent.txtファイルに、変数に関する詳しい情報が書いてあります。シェルやコマンドライン等に慣れている人は、ここで**less ファイル名**や**cat ファイル名**でその中身を見ることができます。"
      ]
    },
    {
      "metadata": {
        "id": "mWzcSs0MaSB2",
        "colab_type": "text"
      },
      "cell_type": "markdown",
      "source": [
        "#### データの属性説明\n",
        "\n",
        "1 school - 学校(binary: \"GP\" - Gabriel Pereira or \"MS\" - Mousinho da Silveira)<br>\n",
        "2 sex - 性 (binary: \"F\" - female or \"M\" - male)<br>\n",
        "3 age - 年齢 (numeric: from 15 to 22)<br>\n",
        "4 address - 住所のタイプ (binary: \"U\" - urban or \"R\" - rural)<br>\n",
        "5 famsize - 家族の人数 (binary: \"LE3\" - less or equal to 3 or \"GT3\" - greater than 3)<br>\n",
        "6 Pstatus - 両親と同居しているかどうか (binary: \"T\" - living together or \"A\" - apart)<br>\n",
        "7 Medu - 母親の学歴 (numeric: 0 - none,  1 - primary education (4th grade), 2 – 5th to 9th grade, 3 – secondary education or 4 – higher education)<br>\n",
        "8 Fedu - 父親の学歴 (numeric: 0 - none,  1 - primary education (4th grade), 2 – 5th to 9th grade, 3 – secondary education or 4 – higher education)<br>\n",
        "9 Mjob - 母親の仕事 (nominal: \"teacher\", \"health\" care related, civil \"services\" (e.g. administrative or police), \"at_home\" or \"other\")<br>\n",
        "10 Fjob - 父親の仕事 (nominal: \"teacher\", \"health\" care related, civil \"services\" (e.g. administrative or police), \"at_home\" or \"other\")<br>\n",
        "11 reason - 学校を選んだ理由 (nominal: close to \"home\", school \"reputation\", \"course\" preference or \"other\")<br>\n",
        "12 guardian - 生徒の保護者 (nominal: \"mother\", \"father\" or \"other\")<br>\n",
        "13 traveltime - 通学時間 (numeric: 1 - <15 min., 2 - 15 to 30 min., 3 - 30 min. to 1 hour, or 4 - >1 hour)<br>\n",
        "14 studytime - 週の勉強時間(numeric: 1 - <2 hours, 2 - 2 to 5 hours, 3 - 5 to 10 hours, or 4 - >10 hours)<br>\n",
        "15 failures - 過去のnumber of past class failures (numeric: n if 1<=n<3, else 4)<br>\n",
        "16 schoolsup - 追加の教育サポート (binary: yes or no)<br>\n",
        "17 famsup - 家族の教育サポート (binary: yes or no)<br>\n",
        "18 paid - 追加の有料クラス(Math or Portuguese) (binary: yes or no)<br>\n",
        "19 activities - 学校外の活動 (binary: yes or no)<br>\n",
        "20 nursery - 保育園に通ったことがあるかどうか (binary: yes or no)<br>\n",
        "21 higher - 高い教育を受けたいかどうか(binary: yes or no)<br>\n",
        "22 internet - 家でインターネットのアクセスができるかどうか(binary: yes or no)<br>\n",
        "23 romantic - 恋愛関係 (binary: yes or no)<br>\n",
        "24 famrel - 家族との関係性 (numeric: from 1 - very bad to 5 - excellent)<br>\n",
        "25 freetime - 学校後の自由時間 (numeric: from 1 - very low to 5 - very high)<br>\n",
        "26 goout - 友人と遊ぶかどうか (numeric: from 1 - very low to 5 - very high)<br>\n",
        "27 Dalc - 平日のアルコール摂取量 (numeric: from 1 - very low to 5 - very high)<br>\n",
        "28 Walc - 週末のアルコール摂取量 (numeric: from 1 - very low to 5 - very high)<br>\n",
        "29 health - 現在の健康状態 (numeric: from 1 - very bad to 5 - very good)<br>\n",
        "30 absences - 学校の欠席数 (numeric: from 0 to 93)<br>\n",
        "31 G1 - 一期の成績 (numeric: from 0 to 20)<br>\n",
        "31 G2 - 二期の成績 (numeric: from 0 to 20)<br>\n",
        "32 G3 - 最終の成績 (numeric: from 0 to 20, output target)"
      ]
    },
    {
      "metadata": {
        "id": "tIQIXyL3aSB3",
        "colab_type": "text"
      },
      "cell_type": "markdown",
      "source": [
        "さて、上記のデータを見てみると、数字のデータがあったり、男女などの属性データがあったります。データは基本的に、量的データと質的データの2つに分けることができます。集計やモデリングの際に気をつけて扱いましょう。\n",
        "\n",
        "・**量的データ**：比率データ、間隔データ\n",
        "\n",
        "・**質的データ**：順位データ、カテゴリデータ\n",
        "\n",
        "次のコードは、先ほど読み込んだデータの中にある「性別」を指定しています。このデータは特に数値化されておらず、比較もできないので、質的データになります。"
      ]
    },
    {
      "metadata": {
        "nbpresent": {
          "id": "885a45ac-f069-4988-b245-fcd79646e17f"
        },
        "id": "-jFo9mBxaSB4",
        "colab_type": "code",
        "colab": {}
      },
      "cell_type": "code",
      "source": [
        "student_data_math.sex.head()\n",
        "#student_data_math.health.head()"
      ],
      "execution_count": 0,
      "outputs": []
    },
    {
      "metadata": {
        "id": "pbVPNwKBaSB-",
        "colab_type": "text"
      },
      "cell_type": "markdown",
      "source": [
        "次は、データの列にある「欠席数」を指定しています。このデータは量的データになります。"
      ]
    },
    {
      "metadata": {
        "id": "LQirISXpaSB_",
        "colab_type": "code",
        "colab": {}
      },
      "cell_type": "code",
      "source": [
        "student_data_math.absences.head()"
      ],
      "execution_count": 0,
      "outputs": []
    },
    {
      "metadata": {
        "id": "hGc48AqDaSCC",
        "colab_type": "text"
      },
      "cell_type": "markdown",
      "source": [
        "ここで、前に学んだpandasのテクニックを使って、性別を軸にして、年齢の平均値をそれぞれ計算してみましょう。"
      ]
    },
    {
      "metadata": {
        "scrolled": true,
        "id": "p64YFGeRaSCD",
        "colab_type": "code",
        "colab": {}
      },
      "cell_type": "code",
      "source": [
        "student_data_math.groupby('sex')[\"age\"].mean()\n",
        "student_data_math.groupby('sex')[\"age\"].mean()"
      ],
      "execution_count": 0,
      "outputs": []
    },
    {
      "metadata": {
        "id": "i3aL0uwaaSCH",
        "colab_type": "text"
      },
      "cell_type": "markdown",
      "source": [
        "簡単ではありましたが、データの中身についてカラムやその数字等を見てきました。他にも、いろいろな視点やデータ集計ができると思いますので、何か仮説を持って（男性の方がアルコール摂取量が多い、など）、その仮説があっているかどうか実装して確かめてみましょう。"
      ]
    },
    {
      "metadata": {
        "id": "-9c8MzBCaSCI",
        "colab_type": "text"
      },
      "cell_type": "markdown",
      "source": [
        ">**[やってみよう]**\n",
        "\n",
        ">読み込んだデータを使って、いろいろな視点でデータ集計して、データと対話してみましょう。どんな仮説を考えますか。また、その仮説を確かめるために、どのような実装をしますか。"
      ]
    },
    {
      "metadata": {
        "id": "pH-ST7ebetJz",
        "colab_type": "code",
        "colab": {}
      },
      "cell_type": "code",
      "source": [
        "student_data_math.groupby('sex')[\"Dalc\"].mean()\n",
        "# 男性のほうが平日の飲酒量が多い"
      ],
      "execution_count": 0,
      "outputs": []
    },
    {
      "metadata": {
        "id": "aTaiQ7OsaSCJ",
        "colab_type": "text"
      },
      "cell_type": "markdown",
      "source": [
        "次はこのデータを使って、本題の**記述統計**について学びます。統計解析は、基本的に二つに分けることができ、ここで学ぶ**記述統計**と次の**推測統計**があります。**記述統計**とは、データをまとめて見やすく整理し、データの持っている概ねの情報を把握することを目的にしています。一方、**推測統計**とは、確率分布に基づいたモデルを用いて精密な解析を行うことです。この推測統計は次の章で学びます。\n",
        "\n",
        "まずは、このデータの中にある欠席数について考えてみることにします。サンプルを見て、10や2や色々と数字がありました。それぞれの数字がいったいどれくらいあるのか観測するのが、次のヒストグラムです。前のデータの可視化で学びました。matplotlibを使って、histでそのグラフを表示させます。"
      ]
    },
    {
      "metadata": {
        "scrolled": true,
        "id": "Df-4_IW3aSCK",
        "colab_type": "code",
        "outputId": "4290c6c0-b12f-48b1-f39b-f32460ddcf63",
        "colab": {
          "base_uri": "https://localhost:8080/",
          "height": 282
        }
      },
      "cell_type": "code",
      "source": [
        "# histogram、データの指定\n",
        "#student_data_math.absences\n",
        "plt.hist(student_data_math.absences)\n",
        "\n",
        "# それぞれのラベル\n",
        "plt.ylabel(\"count\")\n",
        "plt.xlabel(\"absences\")\n",
        "\n",
        "# グリッドをつける\n",
        "plt.grid(True)\n",
        "# print(student_data_math.absences)"
      ],
      "execution_count": 25,
      "outputs": [
        {
          "output_type": "display_data",
          "data": {
            "image/png": "[encoded data removed]",
            "text/plain": [
              "<matplotlib.figure.Figure at 0x7fd4e36df650>"
            ]
          },
          "metadata": {
            "tags": []
          }
        }
      ]
    },
    {
      "metadata": {
        "id": "FLCOY2zZaSCP",
        "colab_type": "text"
      },
      "cell_type": "markdown",
      "source": [
        "0から10までの数字付近が多くなっており、また70以上など(の数字)もあり、テールな分布になっています。テールとは、分布の裾が緩やかに減少しているような分布です。なお、上のような分布を「右に歪みのある分布」といい、見た目とは異なり、よく間違えられるので表現に注意しましょう。\n",
        "\n",
        "このヒストグラムは、データの全体像を見る上では欠かせないものですが、どのような時にデータが偏っているといえるのかなど、客観性が少し乏しくなります。そのため、次の要約統計量（中央値、平均、標準偏差など）について計算することで、データの傾向を数値化し、より客観的にデータを表現することができます。"
      ]
    },
    {
      "metadata": {
        "id": "_tKAaRqraSCQ",
        "colab_type": "code",
        "colab": {}
      },
      "cell_type": "code",
      "source": [
        "# 平均値\n",
        "print(\"mean\":\", student_data_math.absences.mean())\n",
        "# 中央値：中央値でデータを分けると中央値の前後でデータ数が同じになる（データの真ん中の値）、外れ値の値に影響を受けにくい\n",
        "print(\"median:\", student_data_math.absences.median())\n",
        "# 最頻値：最も頻度が多い値\n",
        "print(\"mode:\", student_data_math.absences.mode())"
      ],
      "execution_count": 0,
      "outputs": []
    },
    {
      "metadata": {
        "id": "qgDM7R0DaSCW",
        "colab_type": "text"
      },
      "cell_type": "markdown",
      "source": [
        "なお、平均値の計算は以下となります（ここで$x_i$を第$i$番目のデータ（値）とします）。"
      ]
    },
    {
      "metadata": {
        "id": "LV8_FQJvaSCW",
        "colab_type": "text"
      },
      "cell_type": "markdown",
      "source": [
        "\\begin{eqnarray}\n",
        "\\overline{x}=\\frac{1}{n}\\sum^n_{i=1}x_i\n",
        "\\end{eqnarray}"
      ]
    },
    {
      "metadata": {
        "id": "lFQNAIjgaSCZ",
        "colab_type": "text"
      },
      "cell_type": "markdown",
      "source": [
        "次に、このデータが散らばっているのか、それともまとまっている（平均付近に固まっている）のかを調べるのが分散になり、式は以下です。"
      ]
    },
    {
      "metadata": {
        "id": "M-UiHRvUaSCa",
        "colab_type": "text"
      },
      "cell_type": "markdown",
      "source": [
        "\\begin{eqnarray}\n",
        "\\sigma^2 = \\frac{1}{n}\\sum^n_{i=1}(x_i-{\\overline{x}} )^2\n",
        "\\end{eqnarray}"
      ]
    },
    {
      "metadata": {
        "id": "sirncrRNaSCc",
        "colab_type": "text"
      },
      "cell_type": "markdown",
      "source": [
        "該当の変数を指定した後に、var()で計算できます。"
      ]
    },
    {
      "metadata": {
        "id": "HLsx5dxPaSCc",
        "colab_type": "code",
        "colab": {}
      },
      "cell_type": "code",
      "source": [
        "# 分散\n",
        "student_data_math.absences.var()"
      ],
      "execution_count": 0,
      "outputs": []
    },
    {
      "metadata": {
        "id": "qr2j7SVOaSCg",
        "colab_type": "text"
      },
      "cell_type": "markdown",
      "source": [
        "標準偏差は分散の平方根となります。分散の定義式を見ていただくと、計算式で二乗していますので、実際のデータのばらつきがどの程度なのか分かりません。標準偏差にすると、単位の次元が実際のデータと同じなので、以下の結果からプラスマイナス8日程度のばらつきがあることが分かります。"
      ]
    },
    {
      "metadata": {
        "id": "qFux0PnraSCh",
        "colab_type": "code",
        "colab": {}
      },
      "cell_type": "code",
      "source": [
        "# 標準偏差 σ\n",
        "student_data_math.absences.std()"
      ],
      "execution_count": 0,
      "outputs": []
    },
    {
      "metadata": {
        "id": "53YzPyw_aSCk",
        "colab_type": "text"
      },
      "cell_type": "markdown",
      "source": [
        "np.sqrtで平方根の計算ができますので、以下の方法で出しても同じなります。"
      ]
    },
    {
      "metadata": {
        "id": "3-xVVQywaSCl",
        "colab_type": "code",
        "colab": {}
      },
      "cell_type": "code",
      "source": [
        "np.sqrt(student_data_math.absences.var())"
      ],
      "execution_count": 0,
      "outputs": []
    },
    {
      "metadata": {
        "id": "dF1X_hkyaSCp",
        "colab_type": "text"
      },
      "cell_type": "markdown",
      "source": [
        "これまで、1つ1つ統計量を見てきましたが、該当のデータの後（pandasで読み込んだデータ）にdescribe()を入力して実行することで、一気にそれらの数値を確認することができます。それぞれ順にデータ数、平均値、標準偏差、最小値、25、50、75パーセントタイル値、そして最大値になります。なお「パーセンタイル値」とは、全体を100として小さい方から数えて何番になるのかを示す数値です。例えば、10パーセンタイルは100個のデータのうち小さいほうから数えて10番目ということになります。50パーセンタイルだと50番目で真ん中の値となり、中央値になります。以下のURLを参考にしてください。"
      ]
    },
    {
      "metadata": {
        "id": "vTwgAdgdaSCq",
        "colab_type": "text"
      },
      "cell_type": "markdown",
      "source": [
        "![comment](http://ghw.pfizer.co.jp/comedical/evaluation/images/img_relation_01.gif)"
      ]
    },
    {
      "metadata": {
        "id": "INx_4m-waSCq",
        "colab_type": "text"
      },
      "cell_type": "markdown",
      "source": [
        "参照URL：http://ghw.pfizer.co.jp/comedical/evaluation/images/img_relation_01.gif"
      ]
    },
    {
      "metadata": {
        "nbpresent": {
          "id": "9c7b5502-7d21-45ef-9801-c8ab89c0cb1b"
        },
        "id": "1eyOvapcaSCt",
        "colab_type": "code",
        "colab": {}
      },
      "cell_type": "code",
      "source": [
        "# 要約統計量\n",
        "student_data_math.absences.describe()"
      ],
      "execution_count": 0,
      "outputs": []
    },
    {
      "metadata": {
        "id": "MSOkWxkNaSCw",
        "colab_type": "text"
      },
      "cell_type": "markdown",
      "source": [
        "データのタイプとしては、Seriesになるので、それぞれの要素を抽出することができます。例えば、**四分位範囲**という75%タイルと25%タイルの差を計算したい場合は、上から5番目と7番目の要素になるので、それらを使います。なお、25%タイルと75%タイルはそれぞれ第1四分位点、第3四分位点とも呼びます。"
      ]
    },
    {
      "metadata": {
        "id": "XsbeXPhJaSCx",
        "colab_type": "code",
        "colab": {}
      },
      "cell_type": "code",
      "source": [
        "type(student_data_math.absences.describe())"
      ],
      "execution_count": 0,
      "outputs": []
    },
    {
      "metadata": {
        "id": "eu_0Xj37aSC2",
        "colab_type": "code",
        "colab": {}
      },
      "cell_type": "code",
      "source": [
        "# 四分位範囲(75%タイル ー 25%タイル)\n",
        "student_data_math.absences.describe()[6] - student_data_math.absences.describe()[4]"
      ],
      "execution_count": 0,
      "outputs": []
    },
    {
      "metadata": {
        "id": "7K0LPK4MaSDA",
        "colab_type": "text"
      },
      "cell_type": "markdown",
      "source": [
        "さらに、列名を指定しない場合は、量的データに関しては、describe()を使って一気に算出することができます。"
      ]
    },
    {
      "metadata": {
        "scrolled": true,
        "id": "TS5490jOaSDA",
        "colab_type": "code",
        "outputId": "647741c1-85fd-4923-afec-1bcabd2663c0",
        "colab": {
          "base_uri": "https://localhost:8080/",
          "height": 304
        }
      },
      "cell_type": "code",
      "source": [
        "# 要約統計量まとめて計算\n",
        "student_data_math.describe()"
      ],
      "execution_count": 26,
      "outputs": [
        {
          "output_type": "execute_result",
          "data": {
            "text/html": [
              "<div>\n",
              "<style scoped>\n",
              "    .dataframe tbody tr th:only-of-type {\n",
              "        vertical-align: middle;\n",
              "    }\n",
              "\n",
              "    .dataframe tbody tr th {\n",
              "        vertical-align: top;\n",
              "    }\n",
              "\n",
              "    .dataframe thead th {\n",
              "        text-align: right;\n",
              "    }\n",
              "</style>\n",
              "<table border=\"1\" class=\"dataframe\">\n",
              "  <thead>\n",
              "    <tr style=\"text-align: right;\">\n",
              "      <th></th>\n",
              "      <th>age</th>\n",
              "      <th>Medu</th>\n",
              "      <th>Fedu</th>\n",
              "      <th>traveltime</th>\n",
              "      <th>studytime</th>\n",
              "      <th>failures</th>\n",
              "      <th>famrel</th>\n",
              "      <th>freetime</th>\n",
              "      <th>goout</th>\n",
              "      <th>Dalc</th>\n",
              "      <th>Walc</th>\n",
              "      <th>health</th>\n",
              "      <th>absences</th>\n",
              "      <th>G1</th>\n",
              "      <th>G2</th>\n",
              "      <th>G3</th>\n",
              "    </tr>\n",
              "  </thead>\n",
              "  <tbody>\n",
              "    <tr>\n",
              "      <th>count</th>\n",
              "      <td>395.000000</td>\n",
              "      <td>395.000000</td>\n",
              "      <td>395.000000</td>\n",
              "      <td>395.000000</td>\n",
              "      <td>395.000000</td>\n",
              "      <td>395.000000</td>\n",
              "      <td>395.000000</td>\n",
              "      <td>395.000000</td>\n",
              "      <td>395.000000</td>\n",
              "      <td>395.000000</td>\n",
              "      <td>395.000000</td>\n",
              "      <td>395.000000</td>\n",
              "      <td>395.000000</td>\n",
              "      <td>395.000000</td>\n",
              "      <td>395.000000</td>\n",
              "      <td>395.000000</td>\n",
              "    </tr>\n",
              "    <tr>\n",
              "      <th>mean</th>\n",
              "      <td>16.696203</td>\n",
              "      <td>2.749367</td>\n",
              "      <td>2.521519</td>\n",
              "      <td>1.448101</td>\n",
              "      <td>2.035443</td>\n",
              "      <td>0.334177</td>\n",
              "      <td>3.944304</td>\n",
              "      <td>3.235443</td>\n",
              "      <td>3.108861</td>\n",
              "      <td>1.481013</td>\n",
              "      <td>2.291139</td>\n",
              "      <td>3.554430</td>\n",
              "      <td>5.708861</td>\n",
              "      <td>10.908861</td>\n",
              "      <td>10.713924</td>\n",
              "      <td>10.415190</td>\n",
              "    </tr>\n",
              "    <tr>\n",
              "      <th>std</th>\n",
              "      <td>1.276043</td>\n",
              "      <td>1.094735</td>\n",
              "      <td>1.088201</td>\n",
              "      <td>0.697505</td>\n",
              "      <td>0.839240</td>\n",
              "      <td>0.743651</td>\n",
              "      <td>0.896659</td>\n",
              "      <td>0.998862</td>\n",
              "      <td>1.113278</td>\n",
              "      <td>0.890741</td>\n",
              "      <td>1.287897</td>\n",
              "      <td>1.390303</td>\n",
              "      <td>8.003096</td>\n",
              "      <td>3.319195</td>\n",
              "      <td>3.761505</td>\n",
              "      <td>4.581443</td>\n",
              "    </tr>\n",
              "    <tr>\n",
              "      <th>min</th>\n",
              "      <td>15.000000</td>\n",
              "      <td>0.000000</td>\n",
              "      <td>0.000000</td>\n",
              "      <td>1.000000</td>\n",
              "      <td>1.000000</td>\n",
              "      <td>0.000000</td>\n",
              "      <td>1.000000</td>\n",
              "      <td>1.000000</td>\n",
              "      <td>1.000000</td>\n",
              "      <td>1.000000</td>\n",
              "      <td>1.000000</td>\n",
              "      <td>1.000000</td>\n",
              "      <td>0.000000</td>\n",
              "      <td>3.000000</td>\n",
              "      <td>0.000000</td>\n",
              "      <td>0.000000</td>\n",
              "    </tr>\n",
              "    <tr>\n",
              "      <th>25%</th>\n",
              "      <td>16.000000</td>\n",
              "      <td>2.000000</td>\n",
              "      <td>2.000000</td>\n",
              "      <td>1.000000</td>\n",
              "      <td>1.000000</td>\n",
              "      <td>0.000000</td>\n",
              "      <td>4.000000</td>\n",
              "      <td>3.000000</td>\n",
              "      <td>2.000000</td>\n",
              "      <td>1.000000</td>\n",
              "      <td>1.000000</td>\n",
              "      <td>3.000000</td>\n",
              "      <td>0.000000</td>\n",
              "      <td>8.000000</td>\n",
              "      <td>9.000000</td>\n",
              "      <td>8.000000</td>\n",
              "    </tr>\n",
              "    <tr>\n",
              "      <th>50%</th>\n",
              "      <td>17.000000</td>\n",
              "      <td>3.000000</td>\n",
              "      <td>2.000000</td>\n",
              "      <td>1.000000</td>\n",
              "      <td>2.000000</td>\n",
              "      <td>0.000000</td>\n",
              "      <td>4.000000</td>\n",
              "      <td>3.000000</td>\n",
              "      <td>3.000000</td>\n",
              "      <td>1.000000</td>\n",
              "      <td>2.000000</td>\n",
              "      <td>4.000000</td>\n",
              "      <td>4.000000</td>\n",
              "      <td>11.000000</td>\n",
              "      <td>11.000000</td>\n",
              "      <td>11.000000</td>\n",
              "    </tr>\n",
              "    <tr>\n",
              "      <th>75%</th>\n",
              "      <td>18.000000</td>\n",
              "      <td>4.000000</td>\n",
              "      <td>3.000000</td>\n",
              "      <td>2.000000</td>\n",
              "      <td>2.000000</td>\n",
              "      <td>0.000000</td>\n",
              "      <td>5.000000</td>\n",
              "      <td>4.000000</td>\n",
              "      <td>4.000000</td>\n",
              "      <td>2.000000</td>\n",
              "      <td>3.000000</td>\n",
              "      <td>5.000000</td>\n",
              "      <td>8.000000</td>\n",
              "      <td>13.000000</td>\n",
              "      <td>13.000000</td>\n",
              "      <td>14.000000</td>\n",
              "    </tr>\n",
              "    <tr>\n",
              "      <th>max</th>\n",
              "      <td>22.000000</td>\n",
              "      <td>4.000000</td>\n",
              "      <td>4.000000</td>\n",
              "      <td>4.000000</td>\n",
              "      <td>4.000000</td>\n",
              "      <td>3.000000</td>\n",
              "      <td>5.000000</td>\n",
              "      <td>5.000000</td>\n",
              "      <td>5.000000</td>\n",
              "      <td>5.000000</td>\n",
              "      <td>5.000000</td>\n",
              "      <td>5.000000</td>\n",
              "      <td>75.000000</td>\n",
              "      <td>19.000000</td>\n",
              "      <td>19.000000</td>\n",
              "      <td>20.000000</td>\n",
              "    </tr>\n",
              "  </tbody>\n",
              "</table>\n",
              "</div>"
            ],
            "text/plain": [
              "              age        Medu        Fedu  traveltime   studytime    failures  \\\n",
              "count  395.000000  395.000000  395.000000  395.000000  395.000000  395.000000   \n",
              "mean    16.696203    2.749367    2.521519    1.448101    2.035443    0.334177   \n",
              "std      1.276043    1.094735    1.088201    0.697505    0.839240    0.743651   \n",
              "min     15.000000    0.000000    0.000000    1.000000    1.000000    0.000000   \n",
              "25%     16.000000    2.000000    2.000000    1.000000    1.000000    0.000000   \n",
              "50%     17.000000    3.000000    2.000000    1.000000    2.000000    0.000000   \n",
              "75%     18.000000    4.000000    3.000000    2.000000    2.000000    0.000000   \n",
              "max     22.000000    4.000000    4.000000    4.000000    4.000000    3.000000   \n",
              "\n",
              "           famrel    freetime       goout        Dalc        Walc      health  \\\n",
              "count  395.000000  395.000000  395.000000  395.000000  395.000000  395.000000   \n",
              "mean     3.944304    3.235443    3.108861    1.481013    2.291139    3.554430   \n",
              "std      0.896659    0.998862    1.113278    0.890741    1.287897    1.390303   \n",
              "min      1.000000    1.000000    1.000000    1.000000    1.000000    1.000000   \n",
              "25%      4.000000    3.000000    2.000000    1.000000    1.000000    3.000000   \n",
              "50%      4.000000    3.000000    3.000000    1.000000    2.000000    4.000000   \n",
              "75%      5.000000    4.000000    4.000000    2.000000    3.000000    5.000000   \n",
              "max      5.000000    5.000000    5.000000    5.000000    5.000000    5.000000   \n",
              "\n",
              "         absences          G1          G2          G3  \n",
              "count  395.000000  395.000000  395.000000  395.000000  \n",
              "mean     5.708861   10.908861   10.713924   10.415190  \n",
              "std      8.003096    3.319195    3.761505    4.581443  \n",
              "min      0.000000    3.000000    0.000000    0.000000  \n",
              "25%      0.000000    8.000000    9.000000    8.000000  \n",
              "50%      4.000000   11.000000   11.000000   11.000000  \n",
              "75%      8.000000   13.000000   13.000000   14.000000  \n",
              "max     75.000000   19.000000   19.000000   20.000000  "
            ]
          },
          "metadata": {
            "tags": []
          },
          "execution_count": 26
        }
      ]
    },
    {
      "metadata": {
        "id": "gwDgmz9baSDF",
        "colab_type": "text"
      },
      "cell_type": "markdown",
      "source": [
        "さて、これまで最大値、最小値、中央値、四分位範囲等を算出してきました。ただ、数字を見ているだけでは比較等がなかなか難しいので、それらをグラフ化してくれるのが、次の箱ひげ図です。1期目の成績G1と、欠席数の箱ひげ図をそれぞれ書いていますが、特徴としてかなり異なるのがわかります。箱の上底が第3四分位点、下底が第1四分位点、真ん中の線が中央値です。ヒゲの上端が最大値、下端が最小値です。これで扱うデータの範囲等がわかります。"
      ]
    },
    {
      "metadata": {
        "id": "CzUFrW2Lif65",
        "colab_type": "text"
      },
      "cell_type": "markdown",
      "source": [
        "2018/11/08 17:57　ちょっと休憩"
      ]
    },
    {
      "metadata": {
        "id": "lnXlhYVdaSDG",
        "colab_type": "code",
        "outputId": "b54f093b-466d-428d-ba3f-1ab972999354",
        "colab": {
          "base_uri": "https://localhost:8080/",
          "height": 265
        }
      },
      "cell_type": "code",
      "source": [
        "# 箱ひげ図：G1\n",
        "plt.boxplot(student_data_math.G1)\n",
        "plt.grid(True)"
      ],
      "execution_count": 16,
      "outputs": [
        {
          "output_type": "display_data",
          "data": {
            "image/png": "[encoded data removed]",
            "text/plain": [
              "<matplotlib.figure.Figure at 0x7f571d5c1590>"
            ]
          },
          "metadata": {
            "tags": []
          }
        }
      ]
    },
    {
      "metadata": {
        "scrolled": true,
        "id": "N4IfNu-saSDM",
        "colab_type": "code",
        "outputId": "fb229902-b24a-4cdc-808d-23f140639b66",
        "colab": {
          "base_uri": "https://localhost:8080/",
          "height": 265
        }
      },
      "cell_type": "code",
      "source": [
        "# 箱ひげ図：欠席数\n",
        "plt.boxplot(student_data_math.absences)\n",
        "plt.grid(True)"
      ],
      "execution_count": 12,
      "outputs": [
        {
          "output_type": "display_data",
          "data": {
            "image/png": "[encoded data removed]",
            "text/plain": [
              "<matplotlib.figure.Figure at 0x7fd4e6fe8d10>"
            ]
          },
          "metadata": {
            "tags": []
          }
        }
      ]
    },
    {
      "metadata": {
        "id": "ar5VeSCtaSDP",
        "colab_type": "text"
      },
      "cell_type": "markdown",
      "source": [
        "なお、データに外れ値がある場合、それが省かれて、箱ひげ図が表示されるので注意しましょう。先ほどの欠席数absencesの最大値が75なのに、グラフ上には出てきていないので、気づいている方もいるかもしません。外れ値はデフォルトで指定されており、それを取り除いた場合のグラフが表示されます。"
      ]
    },
    {
      "metadata": {
        "id": "pfa7U4-WaSDP",
        "colab_type": "text"
      },
      "cell_type": "markdown",
      "source": [
        ">[参考URL]\n",
        "\n",
        ">https://ja.wikipedia.org/wiki/箱ひげ図"
      ]
    },
    {
      "metadata": {
        "id": "fOCDs1MuaSDQ",
        "colab_type": "text"
      },
      "cell_type": "markdown",
      "source": [
        "他の変数でも箱ひげ図が描けるので、やってみましょう。"
      ]
    },
    {
      "metadata": {
        "id": "vrRvRwAGkPGF",
        "colab_type": "code",
        "colab": {
          "base_uri": "https://localhost:8080/",
          "height": 265
        },
        "outputId": "856ada0f-1c8a-4330-ef8b-ec22a2d41ef0"
      },
      "cell_type": "code",
      "source": [
        "plt.boxplot(student_data_math.Dalc)\n",
        "plt.grid(True)"
      ],
      "execution_count": 13,
      "outputs": [
        {
          "output_type": "display_data",
          "data": {
            "image/png": "[encoded data removed]",
            "text/plain": [
              "<matplotlib.figure.Figure at 0x7fd4e6f8a5d0>"
            ]
          },
          "metadata": {
            "tags": []
          }
        }
      ]
    },
    {
      "metadata": {
        "id": "GSkVPMyoaSDR",
        "colab_type": "text"
      },
      "cell_type": "markdown",
      "source": [
        ">**[やってみよう]**\n",
        "\n",
        ">他の変数についても、箱ひげ図を表示させてみましょう。どんな図になっているでしょうか。そこから何かわかることがないか考察してみましょう。"
      ]
    },
    {
      "metadata": {
        "id": "tFWYzQ1vaSDR",
        "colab_type": "text"
      },
      "cell_type": "markdown",
      "source": [
        "なお、複数の箱ひげ図を同時に表示することも可能です。"
      ]
    },
    {
      "metadata": {
        "scrolled": true,
        "id": "qkQ2dij7aSDS",
        "colab_type": "code",
        "outputId": "242647bf-838a-4ca6-b236-feea745c159b",
        "colab": {
          "base_uri": "https://localhost:8080/",
          "height": 265
        }
      },
      "cell_type": "code",
      "source": [
        "# 箱ひげ図：G1,G2,G3\n",
        "plt.boxplot([student_data_math.G1,student_data_math.G2,student_data_math.G3])\n",
        "plt.grid(True)"
      ],
      "execution_count": 14,
      "outputs": [
        {
          "output_type": "display_data",
          "data": {
            "image/png": "[encoded data removed]",
            "text/plain": [
              "<matplotlib.figure.Figure at 0x7fd50227e4d0>"
            ]
          },
          "metadata": {
            "tags": []
          }
        }
      ]
    },
    {
      "metadata": {
        "id": "joYT0kl0kl1m",
        "colab_type": "text"
      },
      "cell_type": "markdown",
      "source": [
        "# 2018/11/08はここまで"
      ]
    },
    {
      "metadata": {
        "id": "rYlKy0IAaSDW",
        "colab_type": "text"
      },
      "cell_type": "markdown",
      "source": [
        "次に、**変動係数**です。先ほど、分散や標準偏差について見てきましたが、異なる種類のデータですと、これらの単純比較はできません。データの大きさがそもそも異なると、大きな値をとるものの方が偏差も大きくなる傾向にあるからです。例えば、株価（日経平均など）の標準偏差と為替（ドル円など）の標準偏差はそれぞれ計算することができます。しかし、2万円前後で動いている日経平均と100円前後で動いている為替の標準偏差では、スケールが異なるので比較するのはナンセンスです。\n",
        "\n",
        "そこで、以下の変動係数を使うと、スケールに依存せず、比較が可能となります。定義式は次のようになります。標準偏差を平均値で割っています。"
      ]
    },
    {
      "metadata": {
        "id": "RjrYCe7YaSDX",
        "colab_type": "text"
      },
      "cell_type": "markdown",
      "source": [
        "\\begin{eqnarray}\n",
        "CV = \\frac{\\sigma}{\\overline{x}}\\\n",
        "\\end{eqnarray}"
      ]
    },
    {
      "metadata": {
        "id": "Oc5lBjCOaSDY",
        "colab_type": "code",
        "outputId": "d0f8ba59-2bbb-4ab1-cf1b-ac467e5e9e9c",
        "colab": {
          "base_uri": "https://localhost:8080/",
          "height": 34
        }
      },
      "cell_type": "code",
      "source": [
        "# 変動係数：欠席数\n",
        "student_data_math.absences.std()/student_data_math.absences.mean()"
      ],
      "execution_count": 15,
      "outputs": [
        {
          "output_type": "execute_result",
          "data": {
            "text/plain": [
              "1.402"
            ]
          },
          "metadata": {
            "tags": []
          },
          "execution_count": 15
        }
      ]
    },
    {
      "metadata": {
        "id": "GkPJn10aaSDa",
        "colab_type": "text"
      },
      "cell_type": "markdown",
      "source": [
        "なお、describe()に変動係数は出力されませんが、以下のように一気に算出することも可能です。落第数（failures）と欠席数（absences）のデータの散らばり具合が大きいことがわかります。"
      ]
    },
    {
      "metadata": {
        "id": "sKyhox5sXqwf",
        "colab_type": "text"
      },
      "cell_type": "markdown",
      "source": [
        ""
      ]
    },
    {
      "metadata": {
        "id": "eDFxJxhlaSDc",
        "colab_type": "code",
        "outputId": "f3bcac34-7a1f-4663-ad70-9ad03b6ccd0d",
        "colab": {
          "base_uri": "https://localhost:8080/",
          "height": 302
        }
      },
      "cell_type": "code",
      "source": [
        "# それぞれの変動係数をまとめて計算\n",
        "student_data_math.std() / student_data_math.mean() "
      ],
      "execution_count": 16,
      "outputs": [
        {
          "output_type": "execute_result",
          "data": {
            "text/plain": [
              "age           0.076427\n",
              "Medu          0.398177\n",
              "Fedu          0.431565\n",
              "traveltime    0.481668\n",
              "studytime     0.412313\n",
              "failures      2.225319\n",
              "famrel        0.227330\n",
              "freetime      0.308725\n",
              "goout         0.358098\n",
              "Dalc          0.601441\n",
              "Walc          0.562121\n",
              "health        0.391147\n",
              "absences      1.401873\n",
              "G1            0.304266\n",
              "G2            0.351086\n",
              "G3            0.439881\n",
              "dtype: float64"
            ]
          },
          "metadata": {
            "tags": []
          },
          "execution_count": 16
        }
      ]
    },
    {
      "metadata": {
        "id": "3ekf548uaSDh",
        "colab_type": "text"
      },
      "cell_type": "markdown",
      "source": [
        "さて、これまでは基本的に1変数のみに着目をして、グラフや要約統計量を算出してきました。次は、変数間の関係性を見ていくために、散布図と相関係数について学びましょう。次の散布図は1期目の成績G1と最終成績G3の図です。"
      ]
    },
    {
      "metadata": {
        "nbpresent": {
          "id": "72beaf23-bcc8-4311-b327-b67a3b07436a"
        },
        "id": "Q-hzTx97aSDk",
        "colab_type": "code",
        "outputId": "0399cd7e-48f4-4dba-8ac8-dede08e7e35c",
        "colab": {
          "base_uri": "https://localhost:8080/",
          "height": 279
        }
      },
      "cell_type": "code",
      "source": [
        "# 散布図\n",
        "plt.plot(student_data_math.G1,student_data_math.G3, 'o')\n",
        "\n",
        "# ラベル\n",
        "plt.ylabel(\"G3 grade\")\n",
        "plt.xlabel(\"G1 grade\")\n",
        "plt.grid(True)"
      ],
      "execution_count": 17,
      "outputs": [
        {
          "output_type": "display_data",
          "data": {
            "image/png": "[encoded data removed]",
            "text/plain": [
              "<matplotlib.figure.Figure at 0x7fd4e38c6990>"
            ]
          },
          "metadata": {
            "tags": []
          }
        }
      ]
    },
    {
      "metadata": {
        "id": "WVhuFzVnaSDp",
        "colab_type": "text"
      },
      "cell_type": "markdown",
      "source": [
        "初めから成績がいい人ほど後の成績もいいというのは当たり前の結果ですが、傾向としてはっきりと表れているのがグラフからわかります。\n",
        "\n",
        "補足として、このグラフをよく見てみると、最終成績(G3,Y軸）が0である人がいるのがわかります。一期の成績で0である人はいなかったので、これが異常値なのか、正しい値なのかはデータを見ているだけでは判断できませんが、データとして成績のスコアが0から20とあるので、正しい値だと判断し、このままで扱いましょう。ビジネスの現場では、なぜこのような値になっているか原因を突き止めるため、このデータに詳しい人、システム関係の人たちとヒアリングしながら理解していきます。もし、欠損値等であった場合には、対処方法は色々とありますが、後の章で学ぶことにしましょう。"
      ]
    },
    {
      "metadata": {
        "id": "uUk962dZaSDr",
        "colab_type": "text"
      },
      "cell_type": "markdown",
      "source": [
        "次に、その2変数の関係性について、数値化してみることを考えます。まずは、**共分散**という2つの変数の関係性を見るための式が以下になります。"
      ]
    },
    {
      "metadata": {
        "collapsed": true,
        "id": "YteiJ9TZaSDx",
        "colab_type": "text"
      },
      "cell_type": "markdown",
      "source": [
        "\\begin{eqnarray}\n",
        "S_{xy} = \\frac{1}{n}\\displaystyle \\sum_{i = 1}^n (x_i - \\overline{x})\n",
        "(y_i - \\overline{y})\n",
        "\\end{eqnarray}"
      ]
    },
    {
      "metadata": {
        "id": "sNRJ5_e8aSDy",
        "colab_type": "text"
      },
      "cell_type": "markdown",
      "source": [
        "共分散は、2組の対応するデータ間での平均からの偏差の積に関する平均値です。2変数以上の分散を考えるときに使われます。Numpyにcovという共分散の行列（共分散行列）を算出する機能があり、以下になります。"
      ]
    },
    {
      "metadata": {
        "scrolled": true,
        "id": "uNQONBdBaSD0",
        "colab_type": "code",
        "outputId": "615ffe7c-9557-41cb-ec99-d5a54f5fcad9",
        "colab": {
          "base_uri": "https://localhost:8080/",
          "height": 50
        }
      },
      "cell_type": "code",
      "source": [
        "# 共分散行列\n",
        "np.cov(student_data_math.G1, student_data_math.G3)"
      ],
      "execution_count": 18,
      "outputs": [
        {
          "output_type": "execute_result",
          "data": {
            "text/plain": [
              "array([[11.017, 12.188],\n",
              "       [12.188, 20.99 ]])"
            ]
          },
          "metadata": {
            "tags": []
          },
          "execution_count": 18
        }
      ]
    },
    {
      "metadata": {
        "id": "4Bt2IK_4aSD4",
        "colab_type": "text"
      },
      "cell_type": "markdown",
      "source": [
        "算出されている数値について、共分散行列の(1,2)と(2,1)の要素は同じく12.188となり、これはG1とG3の共分散が算出されています。一方、共分散行列の(1,1)と(2,2)の要素（11.017と20.99）を見てみると、それぞれG1の分散、G3の分散を算出しています。以下の式で算出して、同じ結果であることが確認できます。"
      ]
    },
    {
      "metadata": {
        "id": "-MvWyV0LaSD6",
        "colab_type": "code",
        "outputId": "1ed24edb-f865-4cdc-9ce8-559858ad20d1",
        "colab": {
          "base_uri": "https://localhost:8080/",
          "height": 50
        }
      },
      "cell_type": "code",
      "source": [
        "# 分散\n",
        "print(\"G1の分散:\",student_data_math.G1.var())\n",
        "print(\"G3の分散:\",student_data_math.G3.var())"
      ],
      "execution_count": 19,
      "outputs": [
        {
          "output_type": "stream",
          "text": [
            "('G1\\xe3\\x81\\xae\\xe5\\x88\\x86\\xe6\\x95\\xa3:', 11.017053267364904)\n",
            "('G3\\xe3\\x81\\xae\\xe5\\x88\\x86\\xe6\\x95\\xa3:', 20.989616397866733)\n"
          ],
          "name": "stdout"
        }
      ]
    },
    {
      "metadata": {
        "id": "hn2agMlDaSD_",
        "colab_type": "text"
      },
      "cell_type": "markdown",
      "source": [
        "共分散はその定義式から、各変数のスケールや単位に依存してしまいます。そのスケールの影響を受けずに、2つの変数の関係を数値化するのが相関係数です。共分散をそれぞれの変数（ここではxとy）の標準偏差で割ってあげた数式が相関係数となり、以下のようになります。"
      ]
    },
    {
      "metadata": {
        "collapsed": true,
        "id": "TeIulMzOaSD_",
        "colab_type": "text"
      },
      "cell_type": "markdown",
      "source": [
        "\\begin{eqnarray}\n",
        "r_{xy} = \\frac{\\displaystyle \\sum_{i = 1}^n (x_i - \\overline{x})\n",
        "(y_i - \\overline{y})}{\\sqrt{\\displaystyle \\sum_{i = 1}^n \n",
        "(x_i - \\overline{x})^2}\\sqrt{\\displaystyle \\sum_{i = 1}^n \n",
        "(y_i - \\overline{y})^2}}\n",
        "\\end{eqnarray}"
      ]
    },
    {
      "metadata": {
        "id": "i1OmfgMsaSEB",
        "colab_type": "text"
      },
      "cell_type": "markdown",
      "source": [
        "この相関係数は、-1から1までの値を取り、1に近ければ近いほど**正の相関**があるといい、-1に近ければ近いほど**負の相関**があるといいます。0の場合は、**無相関**であるといいます。"
      ]
    },
    {
      "metadata": {
        "id": "WTiAPZj2aSEB",
        "colab_type": "text"
      },
      "cell_type": "markdown",
      "source": [
        "Pythonの実装は、scipyのピアソン関数を使って、2変数の相関係数を算出しています。単に相関関数という場合にはピアソン関数を指します。"
      ]
    },
    {
      "metadata": {
        "nbpresent": {
          "id": "c68c4e4e-072e-4620-a325-3ebb19ebe1ce"
        },
        "id": "17k96uufaSEC",
        "colab_type": "code",
        "outputId": "b83697b0-55c6-42f2-df7b-7884970e6dc2",
        "colab": {
          "base_uri": "https://localhost:8080/",
          "height": 34
        }
      },
      "cell_type": "code",
      "source": [
        "sp.stats.pearsonr(student_data_math.G1,student_data_math.G3)"
      ],
      "execution_count": 20,
      "outputs": [
        {
          "output_type": "execute_result",
          "data": {
            "text/plain": [
              "(0.801, 0.000)"
            ]
          },
          "metadata": {
            "tags": []
          },
          "execution_count": 20
        }
      ]
    },
    {
      "metadata": {
        "id": "9WpWZLQlaSEG",
        "colab_type": "text"
      },
      "cell_type": "markdown",
      "source": [
        "0.8と相関関係がある高い数字が出ました。この数字については、厳密に高い低いというのはなく、またこれが高いからといって**因果関係**があるとは言えないので注意しましょう。（なお、この講座では詳しく扱いませんが、因果関係を把握したい場合には、**実験計画法**と言われるアプローチ等を使っていきます。具体的には、あるマーケティング施策で、ある広告を見て効果があったのかなかったのか、因果関係を知りたい場合に、広告を見せる処置群と何も広告を見せないコントロール群に分けて、その比率等を計算していきます。）"
      ]
    },
    {
      "metadata": {
        "id": "sn5PB9IhaSEH",
        "colab_type": "text"
      },
      "cell_type": "markdown",
      "source": [
        "次の計算は、相関行列を算出しています。それぞれの変数について、すべての組み合わせで相関係数を算出しています。先ほどのG1とG3の相関係数は0.801となり、また自分自身の相関係数は1になるのが自明ですので、以下のようになります。"
      ]
    },
    {
      "metadata": {
        "id": "8x8JprKtaSEH",
        "colab_type": "code",
        "outputId": "1fff8dda-dac9-4089-f820-ddd031ebbfb0",
        "colab": {
          "base_uri": "https://localhost:8080/",
          "height": 50
        }
      },
      "cell_type": "code",
      "source": [
        "# 相関行列\n",
        "np.corrcoef([student_data_math.G1,student_data_math.G3])"
      ],
      "execution_count": 21,
      "outputs": [
        {
          "output_type": "execute_result",
          "data": {
            "text/plain": [
              "array([[1.   , 0.801],\n",
              "       [0.801, 1.   ]])"
            ]
          },
          "metadata": {
            "tags": []
          },
          "execution_count": 21
        }
      ]
    },
    {
      "metadata": {
        "id": "erDEwvF8aSEL",
        "colab_type": "text"
      },
      "cell_type": "markdown",
      "source": [
        "最後に、各変数のヒストグラムを全て表示したり、散布図を描く方法を紹介します。seabornのsns.pairplotを使います。色々な変数の関係性を一度に確認できるので、とても便利です。ただし、変数が多いと、計算時間に時間がかかり、若干見にくくなりますが、その時はPandasで学んだ変数を絞り込むなどして、計算を実行してください。\n",
        "\n",
        "サンプルとして、先ほどのデータにて、アルコールの摂取量と成績のスコアに関係があるのか、見てみましょう。Dalcは平日のアルコール摂取量、Walcは週末のアルコール摂取量で、それらと1期目の成績（G1）、最終成績(G3)の関係を見ています。アルコールを飲むからといって、成績が悪いと言えるのでしょうか。それとも関係ないのでしょうか。"
      ]
    },
    {
      "metadata": {
        "id": "dm05f8A6aSEL",
        "colab_type": "code",
        "outputId": "d2689135-dba0-4a59-95d3-e32385ad7d30",
        "colab": {
          "base_uri": "https://localhost:8080/",
          "height": 745
        }
      },
      "cell_type": "code",
      "source": [
        "sns.pairplot(student_data_math[[\"Dalc\",\"Walc\",\"G1\",\"G3\"]])\n",
        "plt.grid(True)"
      ],
      "execution_count": 22,
      "outputs": [
        {
          "output_type": "display_data",
          "data": {
            "image/png": "[encoded data removed]",
            "text/plain": [
              "<matplotlib.figure.Figure at 0x7fd4e3756510>"
            ]
          },
          "metadata": {
            "tags": []
          }
        }
      ]
    },
    {
      "metadata": {
        "id": "P-FEs5SRaSET",
        "colab_type": "code",
        "outputId": "bf54c7fd-fa43-402e-d84a-4890c24a3e91",
        "colab": {
          "base_uri": "https://localhost:8080/",
          "height": 134
        }
      },
      "cell_type": "code",
      "source": [
        "# 例：週末にアルコールを飲む人の1期目の成績の平均値\n",
        "student_data_math.groupby(\"Walc\")[\"G1\"].mean()"
      ],
      "execution_count": 23,
      "outputs": [
        {
          "output_type": "execute_result",
          "data": {
            "text/plain": [
              "Walc\n",
              "1    11.178808\n",
              "2    11.270588\n",
              "3    10.937500\n",
              "4     9.980392\n",
              "5     9.964286\n",
              "Name: G1, dtype: float64"
            ]
          },
          "metadata": {
            "tags": []
          },
          "execution_count": 23
        }
      ]
    },
    {
      "metadata": {
        "id": "d2ZZCdjOaSEX",
        "colab_type": "text"
      },
      "cell_type": "markdown",
      "source": [
        "グラフから、平日アルコールを頻繁に飲んでいる人（4や5の人）はG3で好成績を取っている人はいないようですが、極端に悪い成績を取っている人もいないようです。また、週末にアルコールを飲まない人の方が1期目の成績は少し良さそうに見えますが、こう結論付けて良いのでしょうか。これらのグラフや数値だけでは、なかなか判断が難しいですが、次の統計の章や機械学習の章でもアプローチしてみます。"
      ]
    },
    {
      "metadata": {
        "id": "caREHgoBaSEX",
        "colab_type": "text"
      },
      "cell_type": "markdown",
      "source": [
        "以上で、記述統計に関する基礎的事項は終了になります。とても基本的な箇所ですが、どんなデータ分析をするにしても、データの全体像をつかむためには、必要な作業となります。\n",
        "\n",
        "この講座では、機械学習のライブライリー等を使って、簡単に機械学習の計算ができることを紹介していきます。一方で、今までやってきた基礎的な統計量を見ていくことも大事であることは強調しておきます。簡単な散布図を書くだけで重要な傾向がわかったりすることもあります。また、ここまでの内容はおそらく数学的なバックグラウンドがない人でもついていきやすく、説明がしやすいです。\n",
        "\n",
        "もちろん、これだけで終わるならば、機械学習は必要なくなりますが、機械学習を適応する前に、データと対話をして、不明事項や異常値等の確認をするなど、関係者と密に連携をとっておけば、よりよいデータ分析ができます。"
      ]
    },
    {
      "metadata": {
        "id": "L4VE5M6PaSEZ",
        "colab_type": "text"
      },
      "cell_type": "markdown",
      "source": [
        ">**[ポイント]**\n",
        "\n",
        ">データ分析をするときにはまず基本統計量やヒストグラム、散布図等を見て、データの全体像を掴もう。"
      ]
    },
    {
      "metadata": {
        "id": "25nBrgBFaSEZ",
        "colab_type": "text"
      },
      "cell_type": "markdown",
      "source": [
        "#### <練習問題 1>\n",
        "\n",
        "studet-por.csvを読み込んで、要約統計量を表示してください。"
      ]
    },
    {
      "metadata": {
        "id": "fjS379RuYkMg",
        "colab_type": "code",
        "colab": {
          "base_uri": "https://localhost:8080/",
          "height": 244
        },
        "outputId": "20fb0b9a-cf70-48ce-d756-822b594f7460"
      },
      "cell_type": "code",
      "source": [
        "# studet-por.csvを読み込んで、要約統計量を表示してください。\n",
        "por_data = pd.read_csv(\"student-por.csv\", sep=\";\")\n",
        "por_data.head()\n",
        "# por_data.info()\n",
        "# por_data.describe()\n",
        "por_data.head()"
      ],
      "execution_count": 33,
      "outputs": [
        {
          "output_type": "execute_result",
          "data": {
            "text/html": [
              "<div>\n",
              "<style scoped>\n",
              "    .dataframe tbody tr th:only-of-type {\n",
              "        vertical-align: middle;\n",
              "    }\n",
              "\n",
              "    .dataframe tbody tr th {\n",
              "        vertical-align: top;\n",
              "    }\n",
              "\n",
              "    .dataframe thead th {\n",
              "        text-align: right;\n",
              "    }\n",
              "</style>\n",
              "<table border=\"1\" class=\"dataframe\">\n",
              "  <thead>\n",
              "    <tr style=\"text-align: right;\">\n",
              "      <th></th>\n",
              "      <th>school</th>\n",
              "      <th>sex</th>\n",
              "      <th>age</th>\n",
              "      <th>address</th>\n",
              "      <th>famsize</th>\n",
              "      <th>Pstatus</th>\n",
              "      <th>Medu</th>\n",
              "      <th>Fedu</th>\n",
              "      <th>Mjob</th>\n",
              "      <th>Fjob</th>\n",
              "      <th>...</th>\n",
              "      <th>famrel</th>\n",
              "      <th>freetime</th>\n",
              "      <th>goout</th>\n",
              "      <th>Dalc</th>\n",
              "      <th>Walc</th>\n",
              "      <th>health</th>\n",
              "      <th>absences</th>\n",
              "      <th>G1</th>\n",
              "      <th>G2</th>\n",
              "      <th>G3</th>\n",
              "    </tr>\n",
              "  </thead>\n",
              "  <tbody>\n",
              "    <tr>\n",
              "      <th>0</th>\n",
              "      <td>GP</td>\n",
              "      <td>F</td>\n",
              "      <td>18</td>\n",
              "      <td>U</td>\n",
              "      <td>GT3</td>\n",
              "      <td>A</td>\n",
              "      <td>4</td>\n",
              "      <td>4</td>\n",
              "      <td>at_home</td>\n",
              "      <td>teacher</td>\n",
              "      <td>...</td>\n",
              "      <td>4</td>\n",
              "      <td>3</td>\n",
              "      <td>4</td>\n",
              "      <td>1</td>\n",
              "      <td>1</td>\n",
              "      <td>3</td>\n",
              "      <td>4</td>\n",
              "      <td>0</td>\n",
              "      <td>11</td>\n",
              "      <td>11</td>\n",
              "    </tr>\n",
              "    <tr>\n",
              "      <th>1</th>\n",
              "      <td>GP</td>\n",
              "      <td>F</td>\n",
              "      <td>17</td>\n",
              "      <td>U</td>\n",
              "      <td>GT3</td>\n",
              "      <td>T</td>\n",
              "      <td>1</td>\n",
              "      <td>1</td>\n",
              "      <td>at_home</td>\n",
              "      <td>other</td>\n",
              "      <td>...</td>\n",
              "      <td>5</td>\n",
              "      <td>3</td>\n",
              "      <td>3</td>\n",
              "      <td>1</td>\n",
              "      <td>1</td>\n",
              "      <td>3</td>\n",
              "      <td>2</td>\n",
              "      <td>9</td>\n",
              "      <td>11</td>\n",
              "      <td>11</td>\n",
              "    </tr>\n",
              "    <tr>\n",
              "      <th>2</th>\n",
              "      <td>GP</td>\n",
              "      <td>F</td>\n",
              "      <td>15</td>\n",
              "      <td>U</td>\n",
              "      <td>LE3</td>\n",
              "      <td>T</td>\n",
              "      <td>1</td>\n",
              "      <td>1</td>\n",
              "      <td>at_home</td>\n",
              "      <td>other</td>\n",
              "      <td>...</td>\n",
              "      <td>4</td>\n",
              "      <td>3</td>\n",
              "      <td>2</td>\n",
              "      <td>2</td>\n",
              "      <td>3</td>\n",
              "      <td>3</td>\n",
              "      <td>6</td>\n",
              "      <td>12</td>\n",
              "      <td>13</td>\n",
              "      <td>12</td>\n",
              "    </tr>\n",
              "    <tr>\n",
              "      <th>3</th>\n",
              "      <td>GP</td>\n",
              "      <td>F</td>\n",
              "      <td>15</td>\n",
              "      <td>U</td>\n",
              "      <td>GT3</td>\n",
              "      <td>T</td>\n",
              "      <td>4</td>\n",
              "      <td>2</td>\n",
              "      <td>health</td>\n",
              "      <td>services</td>\n",
              "      <td>...</td>\n",
              "      <td>3</td>\n",
              "      <td>2</td>\n",
              "      <td>2</td>\n",
              "      <td>1</td>\n",
              "      <td>1</td>\n",
              "      <td>5</td>\n",
              "      <td>0</td>\n",
              "      <td>14</td>\n",
              "      <td>14</td>\n",
              "      <td>14</td>\n",
              "    </tr>\n",
              "    <tr>\n",
              "      <th>4</th>\n",
              "      <td>GP</td>\n",
              "      <td>F</td>\n",
              "      <td>16</td>\n",
              "      <td>U</td>\n",
              "      <td>GT3</td>\n",
              "      <td>T</td>\n",
              "      <td>3</td>\n",
              "      <td>3</td>\n",
              "      <td>other</td>\n",
              "      <td>other</td>\n",
              "      <td>...</td>\n",
              "      <td>4</td>\n",
              "      <td>3</td>\n",
              "      <td>2</td>\n",
              "      <td>1</td>\n",
              "      <td>2</td>\n",
              "      <td>5</td>\n",
              "      <td>0</td>\n",
              "      <td>11</td>\n",
              "      <td>13</td>\n",
              "      <td>13</td>\n",
              "    </tr>\n",
              "  </tbody>\n",
              "</table>\n",
              "<p>5 rows × 33 columns</p>\n",
              "</div>"
            ],
            "text/plain": [
              "  school sex  age address famsize Pstatus  Medu  Fedu     Mjob      Fjob ...  \\\n",
              "0     GP   F   18       U     GT3       A     4     4  at_home   teacher ...   \n",
              "1     GP   F   17       U     GT3       T     1     1  at_home     other ...   \n",
              "2     GP   F   15       U     LE3       T     1     1  at_home     other ...   \n",
              "3     GP   F   15       U     GT3       T     4     2   health  services ...   \n",
              "4     GP   F   16       U     GT3       T     3     3    other     other ...   \n",
              "\n",
              "  famrel freetime  goout  Dalc  Walc health absences  G1  G2  G3  \n",
              "0      4        3      4     1     1      3        4   0  11  11  \n",
              "1      5        3      3     1     1      3        2   9  11  11  \n",
              "2      4        3      2     2     3      3        6  12  13  12  \n",
              "3      3        2      2     1     1      5        0  14  14  14  \n",
              "4      4        3      2     1     2      5        0  11  13  13  \n",
              "\n",
              "[5 rows x 33 columns]"
            ]
          },
          "metadata": {
            "tags": []
          },
          "execution_count": 33
        }
      ]
    },
    {
      "metadata": {
        "id": "tGPZ7ii6aSEa",
        "colab_type": "text"
      },
      "cell_type": "markdown",
      "source": [
        "#### <練習問題 2>\n",
        "\n",
        "以下の変数をキーとして、先ほどの数学のデータとポルトガル語のデータをマージしてください。マージするときは、両方ともに含まれているデータを対象としてください（内部結合と言います）。そして、要約統計量など計算してください。なお、以下以外の変数名は、重複がありますので、suffixes=('_math', '_por')のパラメータを追加して、どちらからのデータかわかるようにしてください。\n",
        "\n",
        "[\"school\",\"sex\",\"age\",\"address\",\"famsize\",\"Pstatus\",\"Medu\",\"Fedu\",\"Mjob\",\"Fjob\",\"reason\",\"nursery\",\"internet\"]"
      ]
    },
    {
      "metadata": {
        "id": "u4x_xLi8ZAe-",
        "colab_type": "code",
        "colab": {
          "base_uri": "https://localhost:8080/",
          "height": 991
        },
        "outputId": "0885d388-e48b-4287-f698-e7470d667403"
      },
      "cell_type": "code",
      "source": [
        "# 以下の変数をキーとして、先ほどの数学のデータとポルトガル語のデータをマージしてください。マージするときは、両方ともに含まれているデータを対象としてください（内部結合と言います）。そして、要約統計量など計算してください。なお、以下以外の変数名は、重複がありますので、suffixes=('_math', '_por')のパラメータを追加して、どちらからのデータかわかるようにしてください。\n",
        "# [\"school\",\"sex\",\"age\",\"address\",\"famsize\",\"Pstatus\",\"Medu\",\"Fedu\",\"Mjob\",\"Fjob\",\"reason\",\"nursery\",\"internet\"]\n",
        "key_ar = [\"school\",\"sex\",\"age\",\"address\",\"famsize\",\"Pstatus\",\"Medu\",\"Fedu\",\"Mjob\",\"Fjob\",\"reason\",\"nursery\",\"internet\"]\n",
        "merged = pd.merge(student_data_math,por_data,suffixes=('_math','_por'),right_on=key_ar,left_on=key_ar)\n",
        "# student_data_math\n",
        "merged.info()\n"
      ],
      "execution_count": 38,
      "outputs": [
        {
          "output_type": "stream",
          "text": [
            "<class 'pandas.core.frame.DataFrame'>\n",
            "Int64Index: 382 entries, 0 to 381\n",
            "Data columns (total 53 columns):\n",
            "school             382 non-null object\n",
            "sex                382 non-null object\n",
            "age                382 non-null int64\n",
            "address            382 non-null object\n",
            "famsize            382 non-null object\n",
            "Pstatus            382 non-null object\n",
            "Medu               382 non-null int64\n",
            "Fedu               382 non-null int64\n",
            "Mjob               382 non-null object\n",
            "Fjob               382 non-null object\n",
            "reason             382 non-null object\n",
            "guardian_math      382 non-null object\n",
            "traveltime_math    382 non-null int64\n",
            "studytime_math     382 non-null int64\n",
            "failures_math      382 non-null int64\n",
            "schoolsup_math     382 non-null object\n",
            "famsup_math        382 non-null object\n",
            "paid_math          382 non-null object\n",
            "activities_math    382 non-null object\n",
            "nursery            382 non-null object\n",
            "higher_math        382 non-null object\n",
            "internet           382 non-null object\n",
            "romantic_math      382 non-null object\n",
            "famrel_math        382 non-null int64\n",
            "freetime_math      382 non-null int64\n",
            "goout_math         382 non-null int64\n",
            "Dalc_math          382 non-null int64\n",
            "Walc_math          382 non-null int64\n",
            "health_math        382 non-null int64\n",
            "absences_math      382 non-null int64\n",
            "G1_math            382 non-null int64\n",
            "G2_math            382 non-null int64\n",
            "G3_math            382 non-null int64\n",
            "guardian_por       382 non-null object\n",
            "traveltime_por     382 non-null int64\n",
            "studytime_por      382 non-null int64\n",
            "failures_por       382 non-null int64\n",
            "schoolsup_por      382 non-null object\n",
            "famsup_por         382 non-null object\n",
            "paid_por           382 non-null object\n",
            "activities_por     382 non-null object\n",
            "higher_por         382 non-null object\n",
            "romantic_por       382 non-null object\n",
            "famrel_por         382 non-null int64\n",
            "freetime_por       382 non-null int64\n",
            "goout_por          382 non-null int64\n",
            "Dalc_por           382 non-null int64\n",
            "Walc_por           382 non-null int64\n",
            "health_por         382 non-null int64\n",
            "absences_por       382 non-null int64\n",
            "G1_por             382 non-null int64\n",
            "G2_por             382 non-null int64\n",
            "G3_por             382 non-null int64\n",
            "dtypes: int64(29), object(24)\n",
            "memory usage: 161.2+ KB\n"
          ],
          "name": "stdout"
        }
      ]
    },
    {
      "metadata": {
        "id": "WCCL3gllaSEb",
        "colab_type": "text"
      },
      "cell_type": "markdown",
      "source": [
        "#### <練習問題 3>\n",
        "\n",
        "上記のマージしたデータについて、変数を幾つかピックアップして、散布図とヒストグラムを作成してみましょう。どういった傾向がありますか。また、数学データのみの結果と違いはありますか。考察してみましょう。"
      ]
    },
    {
      "metadata": {
        "id": "cmMoK7IjbvNc",
        "colab_type": "code",
        "colab": {
          "base_uri": "https://localhost:8080/",
          "height": 993
        },
        "outputId": "783740ce-5f82-4963-dcaf-be5b1fbf15c1"
      },
      "cell_type": "code",
      "source": [
        "m = merged\n",
        "plt.plot(m.G3_math,m.G3_por, 'o')\n",
        "np.cov(m.G3_math, m.G3_por)\n",
        "# math と porに0.48の相関がある\n",
        "sp.stats.pearsonr(m.G3_math,m.G3_por)\n",
        "sns.pairplot(m[[\"Dalc_math\",\"Dalc_por\",\"G3_math\",\"G3_por\"]])\n",
        "plt.grid(True)"
      ],
      "execution_count": 44,
      "outputs": [
        {
          "output_type": "display_data",
          "data": {
            "image/png": "[encoded data removed]",
            "text/plain": [
              "<matplotlib.figure.Figure at 0x7fd4e2c2d510>"
            ]
          },
          "metadata": {
            "tags": []
          }
        },
        {
          "output_type": "display_data",
          "data": {
            "image/png": "[encoded data removed]",
            "text/plain": [
              "<matplotlib.figure.Figure at 0x7fd4e2c87cd0>"
            ]
          },
          "metadata": {
            "tags": []
          }
        }
      ]
    },
    {
      "metadata": {
        "collapsed": true,
        "id": "dK8EPWQaaSEb",
        "colab_type": "text"
      },
      "cell_type": "markdown",
      "source": [
        "***"
      ]
    },
    {
      "metadata": {
        "id": "LEtHQxjRaSEc",
        "colab_type": "text"
      },
      "cell_type": "markdown",
      "source": [
        "### 3.1.2 単回帰分析\n",
        "キーワード：sklearn、目的変数、説明変数、単回帰分析、最小二乗法、決定係数"
      ]
    },
    {
      "metadata": {
        "id": "xngd9c4baSEd",
        "colab_type": "text"
      },
      "cell_type": "markdown",
      "source": [
        "次は、単回帰分析について学びましょう。なお、厳密には次の章で学ぶ統計や推定、検定の知識等が必要で、ほとんどの統計の教科書はその後で回帰分析が解説されていますが、実装は難しくなく、最低限は理解できると思いますので、後で振り返って復習してください。\n",
        "\n",
        "これから考える問題は回帰問題といい、数値を予測する問題です。先ほど、学生のデータについて、一期目の数学の成績と最終期の数学の成績をグラフ化（散布図）してみました。この散布図からG1とG3には関係がありそうだというのはわかります。"
      ]
    },
    {
      "metadata": {
        "scrolled": true,
        "id": "IBCLiaBWaSEe",
        "colab_type": "code",
        "colab": {}
      },
      "cell_type": "code",
      "source": [
        "# 散布図\n",
        "plt.plot(student_data_math.G1,student_data_math.G3, 'o')\n",
        "plt.xlabel(\"G1 grade\")\n",
        "plt.ylabel(\"G3 grade\")\n",
        "plt.grid(True)"
      ],
      "execution_count": 0,
      "outputs": []
    },
    {
      "metadata": {
        "id": "RAd4xiWcaSEh",
        "colab_type": "text"
      },
      "cell_type": "markdown",
      "source": [
        "回帰問題では、与えられたデータから関係式を仮定して、データに最も当てはまる係数を求めていきます。具体的には、あらかじめG1という成績が分かった上で、G3の成績を予測することになります。つまり、目的となる変数G3（**目的変数**といいます）があり、それを説明する変数G1（**説明変数**といいます）を使って予測します。これは後ほど機械学習の章で学ぶ「教師あり学習」になり、学習時のデータに正解を1つ1つ与えて、その関係性を計算する方法です。\n",
        "\n",
        "単回帰分析は、このアウトプットとインプットの関係が1変数のみで成り立つ式を仮定して解いていきます（なお、インプットデータが2変数以上ある場合は、重回帰分析と言い、後の章で学びます）。\n",
        "\n",
        "ここでは、線形単回帰というアウトプットとインプットが線形の関係に成り立つ（y = ax +b）という仮定のもと、式を立てて計算してみましょう。線形単回帰分析は、以下のsklearnモジュールのlinear_modelを使います。sklearnは機械学習のためのモジュールで、後の機械学習の章でさらに色々な計算ができることを学んでいきます。"
      ]
    },
    {
      "metadata": {
        "id": "IbdYxu0GaSEi",
        "colab_type": "code",
        "colab": {}
      },
      "cell_type": "code",
      "source": [
        "from sklearn import linear_model\n",
        "\n",
        "# 線形回帰のインスタンスを生成\n",
        "clf = linear_model.LinearRegression()"
      ],
      "execution_count": 0,
      "outputs": []
    },
    {
      "metadata": {
        "id": "fEddU-vwaSEj",
        "colab_type": "text"
      },
      "cell_type": "markdown",
      "source": [
        "以下では、説明変数（Xとします）と目的変数（Yとします）データをセットして、線形回帰のfitを使って、予測モデルを計算します。\n",
        "\n",
        "この時、**最小二乗法**という手法で係数aと切片bを計算しています。この方法は、実際の目的変数のデータと予測したデータの差の二乗和をとり、それが最小になる時の係数と切片を求めています。式で表現すると、yを実測値、f(x)=ax+bを予測値として、以下の式を最小にするように計算しています(計算方法としては、この式を微分していくのですが、割愛します)。"
      ]
    },
    {
      "metadata": {
        "id": "98qxfbMGaSEk",
        "colab_type": "text"
      },
      "cell_type": "markdown",
      "source": [
        "\\begin{eqnarray}\n",
        "\\sum^n_{i=1}(y_i-f(x_i))^2\n",
        "\\end{eqnarray}"
      ]
    },
    {
      "metadata": {
        "id": "-m04Fy1iaSEl",
        "colab_type": "code",
        "colab": {}
      },
      "cell_type": "code",
      "source": [
        "# 説明変数に \"一期目の数学の成績\" を利用\n",
        "# ilocはデータフレームから、行と列を指定して取り出す。loc[:, ['G1']]は、G1列のすべての列を取り出すことをしている\n",
        "# marixの型に直しているので、注意\n",
        "X = student_data_math.loc[:, ['G1']].as_matrix()\n",
        "\n",
        "# 目的変数に \"最終の数学の成績\" を利用\n",
        "Y = student_data_math['G3'].as_matrix()\n",
        " \n",
        "# 予測モデルを計算、ここでa,bを算出\n",
        "clf.fit(X, Y)\n",
        " \n",
        "# 回帰係数\n",
        "print(\"回帰係数:\", clf.coef_)\n",
        " \n",
        "# 切片 \n",
        "print(\"切片:\", clf.intercept_)"
      ],
      "execution_count": 0,
      "outputs": []
    },
    {
      "metadata": {
        "id": "IsNiCPz0aSEn",
        "colab_type": "code",
        "colab": {}
      },
      "cell_type": "code",
      "source": [
        "help(clf.fit)"
      ],
      "execution_count": 0,
      "outputs": []
    },
    {
      "metadata": {
        "id": "JjmLKIIlaSEq",
        "colab_type": "text"
      },
      "cell_type": "markdown",
      "source": [
        "上記の回帰係数が線形の回帰式y=ax+bのaで、切片がbとなります。先ほどの散布図と一緒に、予測した線形回帰式を書いてみましょう。Yを予測したい最終の数学の成績G3は、predict(説明変数)で計算できます。"
      ]
    },
    {
      "metadata": {
        "id": "xf3Q1OOGaSEr",
        "colab_type": "code",
        "colab": {}
      },
      "cell_type": "code",
      "source": [
        "# 先ほどと同じ散布図\n",
        "plt.scatter(X, Y)\n",
        "plt.xlabel(\"G1 grade\")\n",
        "plt.ylabel(\"G3 grade\")\n",
        "\n",
        "# その上に線形回帰直線を引く\n",
        "plt.plot(X, clf.predict(X))\n",
        "plt.grid(True)"
      ],
      "execution_count": 0,
      "outputs": []
    },
    {
      "metadata": {
        "id": "tKX22Op1aSEw",
        "colab_type": "text"
      },
      "cell_type": "markdown",
      "source": [
        "グラフから予測式は実測値をうまく予測しているようにも見えますが、これが客観的にどうなのかというのは判断がつきません。そこで、それを数値化したものが、**決定係数** R$^2$で、R$^2 =1-\\frac{\\sum_{i=1}^{n} (y_i -f(x_i) )^2}{\\sum_{i=1}^{n} (y_i -\\bar{y})^2}$で定義されます。これは0から1までの値を取り、1に近ければ近いほど良いモデルになります。実装では、scoreを使って以下のように算出します。"
      ]
    },
    {
      "metadata": {
        "id": "HDrmrFjAaSEx",
        "colab_type": "code",
        "colab": {}
      },
      "cell_type": "code",
      "source": [
        "# 決定係数、寄与率とも呼ばれる\n",
        "print(\"決定係数:\", clf.score(X, Y))"
      ],
      "execution_count": 0,
      "outputs": []
    },
    {
      "metadata": {
        "id": "zI9uDrSWaSE0",
        "colab_type": "text"
      },
      "cell_type": "markdown",
      "source": [
        "なお、この決定係数の数値がどこまで高ければ良いのかという問題はあります。教科書的なデータや問題では0.9以上の場合が多いですが、実務ではなかなかそこまで出せることはなく、それをどう判断するかはケースバイケースです。ちなみに、上の0.64は高くはないですが、現場レベルで見ると、使えないレベルではありません。\n",
        "\n",
        "以上で、単回帰分析と本章の説明は終わりになります。お疲れ様でした。残りは、練習問題と総合演習問題になりますので、ぜひチャレンジしてください。"
      ]
    },
    {
      "metadata": {
        "id": "VHpxP-liaSE0",
        "colab_type": "text"
      },
      "cell_type": "markdown",
      "source": [
        "#### <練習問題 1>\n",
        "\n",
        "student-por.csvのデータを使って、G3を目的変数、G1を説明変数として単回帰分析を実施し、回帰係数、切片、決定係数を求めてください。"
      ]
    },
    {
      "metadata": {
        "id": "bZmNzGXBaSE1",
        "colab_type": "text"
      },
      "cell_type": "markdown",
      "source": [
        "#### <練習問題 2>\n",
        "\n",
        "上のデータの実際の散布図と、回帰直線を合わせてグラフ化してください。"
      ]
    },
    {
      "metadata": {
        "id": "OjdhHutqaSE2",
        "colab_type": "text"
      },
      "cell_type": "markdown",
      "source": [
        "#### <練習問題 3>\n",
        "\n",
        "student-por.csvのデータを使って、G3を目的変数、absences(欠席数)を説明変数として単回帰分析を実施し、回帰係数、切片、決定係数を求めてください。この結果を見て、考察してみましょう。"
      ]
    },
    {
      "metadata": {
        "collapsed": true,
        "id": "3YJyKpbcaSE3",
        "colab_type": "text"
      },
      "cell_type": "markdown",
      "source": [
        "***"
      ]
    },
    {
      "metadata": {
        "id": "6h7OYUm1aSE4",
        "colab_type": "text"
      },
      "cell_type": "markdown",
      "source": [
        "## 3.2 総合問題"
      ]
    },
    {
      "metadata": {
        "id": "0Z4AjnX_aSE4",
        "colab_type": "text"
      },
      "cell_type": "markdown",
      "source": [
        "### 3.2.1 統計の基礎と可視化\n",
        "\n",
        "以下のサイトにあるデータ（ワインの品質）を読み込み、以下の問いに答えてください。\n",
        "\n",
        "http://archive.ics.uci.edu/ml/machine-learning-databases/wine-quality/winequality-red.csv\n",
        "\n",
        "（1）基本統計量（平均、最大値、最小値、標準偏差など）を算出してください。\n",
        "\n",
        "（2）それぞれの変数の分布と、それぞれの変数の関係性（2変数間のみ）がわかるように、グラフ化してみましょう。何かわかる傾向はありますか。"
      ]
    },
    {
      "metadata": {
        "id": "T_cWQ7qHaSE5",
        "colab_type": "text"
      },
      "cell_type": "markdown",
      "source": [
        "### 3.2.2 ローレンツ曲線とジニ係数\n",
        "\n",
        "3.1の記述統計で使用したstudent_data_mathのデータを使って、以下の問いに答えてください。ここで扱うローレンツ曲線やジニ係数は、貧富の格差（地域別、国別など）を見るための指標として使われています。（なお、本問題は少し難易度が高いため、参考程度に見てください。詳細は、以前に紹介した統計学入門などの文献を参照するか、ネットで検索してください。）\n",
        "\n",
        "（1）一期目の数学データについて、男女別に昇順に並び替えをしてください。そして、横軸に人数の累積比率、縦軸に一期目の値の累積比率をとってください。この曲線をローレンツ曲線といいます。このローレンツ曲線を男女別に一期目の数学成績でグラフ化してください。\n",
        "\n",
        "（2）不平等の程度を数値で表したものをジニ係数といいます。この値は、ローレンツ曲線と45度線で囲まれた部分の面積の2倍で定義されて、0から1の値を取ります。値が大きければ大きいほど、不平等の度合いが大きくなります。なお以下のようにジニ係数は定義できます。$\\overline{x}$は平均値です。\n",
        "\n",
        "\\begin{eqnarray}\n",
        "GI=\\sum_{i}\\sum_{j}\\left| \\frac{x_i-x_j}{2n^2 \\overline{x}}\\right|\n",
        "\\end{eqnarray}\n",
        "\n",
        "これを利用して、男女の一期目の成績について、ジニ係数をそれぞれ求めてください。"
      ]
    }
  ]
}