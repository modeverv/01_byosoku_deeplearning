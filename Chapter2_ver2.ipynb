{
  "nbformat": 4,
  "nbformat_minor": 0,
  "metadata": {
    "colab": {
      "name": "Chapter2_ver2.ipynb",
      "version": "0.3.2",
      "provenance": [],
      "include_colab_link": true
    },
    "kernelspec": {
      "display_name": "Python [Root]",
      "language": "python",
      "name": "Python [Root]"
    }
  },
  "cells": [
    {
      "cell_type": "markdown",
      "metadata": {
        "id": "view-in-github",
        "colab_type": "text"
      },
      "source": [
        "<a href=\"https://colab.research.google.com/github/modeverv/01_byosoku_deeplearning/blob/master/Chapter2_ver2.ipynb\" target=\"_parent\"><img src=\"https://colab.research.google.com/assets/colab-badge.svg\" alt=\"Open In Colab\"/></a>"
      ]
    },
    {
      "metadata": {
        "nbpresent": {
          "id": "af88da20-0f51-483e-bd72-afc896a9da05"
        },
        "id": "QYlwmS_yBC2a",
        "colab_type": "text"
      },
      "cell_type": "markdown",
      "source": [
        "# 2 Numpy、Scipy、Pandas、Matplotlibの基礎"
      ]
    },
    {
      "metadata": {
        "id": "FXTUogaBBC2e",
        "colab_type": "text"
      },
      "cell_type": "markdown",
      "source": [
        "- **[2.1 Numpy、Scipy、Pandas、Matpltolibの基礎](#2.1-Numpy、Scipy、Pandas、Matpltolibの基礎)** \n",
        "    - [2.1.1 Numpyの基礎](#2.1.1-Numpyの基礎)\n",
        "    - [2.1.2 Scipyの基礎](#2.1.2-Scipyの基礎)\n",
        "    - [2.1.3 Pandasの基礎](#2.1.3-Pandasの基礎)\n",
        "    - [2.1.4 Matplotlibの基礎](#2.1.4-Matplotlibの基礎)\n",
        "<br><br>\n",
        "- **[2.2 総合問題](#2.2-総合問題)**\n",
        "    - [2.2.1 モンテカルロ法](#2.2.1-モンテカルロ法)"
      ]
    },
    {
      "metadata": {
        "collapsed": true,
        "id": "e1mz11HgBC2f",
        "colab_type": "text"
      },
      "cell_type": "markdown",
      "source": [
        "\n",
        "***"
      ]
    },
    {
      "metadata": {
        "nbpresent": {
          "id": "b0fc1861-b979-45c5-abd0-3b05200de3b6"
        },
        "id": "Ngva6PXMBC2j",
        "colab_type": "text"
      },
      "cell_type": "markdown",
      "source": [
        "## 2.1 Numpy、Scipy、Pandas、Matpltolibの基礎\n",
        "ゴール：Numpy、Scipy、Pandas、Matplotlibのモジュールを読み込みそれらの基本的な役割を知る"
      ]
    },
    {
      "metadata": {
        "id": "jg9W2KN-BC2k",
        "colab_type": "code",
        "colab": {
          "base_uri": "https://localhost:8080/",
          "height": 34
        },
        "outputId": "ea96a99e-5886-4f3c-be6a-1dfeff189601"
      },
      "cell_type": "code",
      "source": [
        "# 以下のモジュールを使うので、あらかじめ読み込んでおいてください\n",
        "import numpy as np\n",
        "import numpy.random as random\n",
        "import scipy as sp\n",
        "import pandas as pd\n",
        "from pandas import Series, DataFrame\n",
        "\n",
        "# 可視化モジュール\n",
        "import matplotlib.pyplot as plt\n",
        "import matplotlib as mpl\n",
        "import seaborn as sns\n",
        "%matplotlib inline\n",
        "\n",
        "# 小数第３まで表示\n",
        "%precision 3"
      ],
      "execution_count": 1,
      "outputs": [
        {
          "output_type": "execute_result",
          "data": {
            "text/plain": [
              "u'%.3f'"
            ]
          },
          "metadata": {
            "tags": []
          },
          "execution_count": 1
        }
      ]
    },
    {
      "metadata": {
        "id": "TX0fisP0BC2u",
        "colab_type": "text"
      },
      "cell_type": "markdown",
      "source": [
        "### 2.1.1 Numpyの基礎\n",
        "キーワード：多次元配列、転置、行列の積、乱数、復元抽出、非復元抽出"
      ]
    },
    {
      "metadata": {
        "id": "xehpkegJBC2w",
        "colab_type": "text"
      },
      "cell_type": "markdown",
      "source": [
        "この章では、データ分析でよく使われるPythonのモジュールNumpy、Scipy、Pandas、Matplotlibについて基礎的な使い方を学びます。これらのモジュールを扱ったのは、今後紹介する機械学習のsklearn等のモジュールのベースとなっており、またデータを前処理したり、可視化するのに非常に便利なツールだからです。ここではこれらの使い方の基本を紹介しますが、さらに詳しいことは次の章以降で学びます。\n",
        "\n",
        "まずは、Numpyの基本的な使い方についてです。Numpyを使うと、多次元配列を処理することができます。実際に扱うデータは多次元であることが多く、その処理をするためにNumpyを使うと便利です。また、NumpyはCで実装されており、処理が高速です。\n",
        "\n",
        "以下で、**import** モジュール名（numpy）でモジュールを読み込んでおり、**as** で短い名前（ここではnp）をつけます。これで該当のモジュールが使えるようになります。なお、%はマジックコマンドと言われJupyter Notebookで使える特殊変数ようなものです。以下はその1つであるprecisionを使って、小数点第3位まで結果を表示させるようにしています。他にも色々とありますので、都度紹介します。"
      ]
    },
    {
      "metadata": {
        "scrolled": true,
        "id": "UNALby5sBC2x",
        "colab_type": "code",
        "colab": {
          "base_uri": "https://localhost:8080/",
          "height": 34
        },
        "outputId": "dfa1683a-138e-4fbf-c0b8-e481d771e16f"
      },
      "cell_type": "code",
      "source": [
        "# numpyモジュールの読み込み\n",
        "import numpy as np\n",
        "\n",
        "# 小数第３まで表示という意味\n",
        "%precision 3"
      ],
      "execution_count": 2,
      "outputs": [
        {
          "output_type": "execute_result",
          "data": {
            "text/plain": [
              "u'%.3f'"
            ]
          },
          "metadata": {
            "tags": []
          },
          "execution_count": 2
        }
      ]
    },
    {
      "metadata": {
        "id": "CCAfI0sLBC24",
        "colab_type": "text"
      },
      "cell_type": "markdown",
      "source": [
        "まずは、1から10までの配列を作成してみましょう。np.と後にarrayをつけて、配列を作っています。(数字が綺麗に並んでないですが、後から並び替えをするためにわざと作っています。)"
      ]
    },
    {
      "metadata": {
        "id": "fB8aW38hBC25",
        "colab_type": "code",
        "colab": {
          "base_uri": "https://localhost:8080/",
          "height": 34
        },
        "outputId": "6d3520d1-a332-4236-f954-36bda386315c"
      },
      "cell_type": "code",
      "source": [
        "# 配列の作成\n",
        "sample_numpy_data = np.array([9,2,3,4,10,6,7,8,1,5])\n",
        "sample_numpy_data"
      ],
      "execution_count": 3,
      "outputs": [
        {
          "output_type": "execute_result",
          "data": {
            "text/plain": [
              "array([ 9,  2,  3,  4, 10,  6,  7,  8,  1,  5])"
            ]
          },
          "metadata": {
            "tags": []
          },
          "execution_count": 3
        }
      ]
    },
    {
      "metadata": {
        "id": "CJlFbjZlBC2_",
        "colab_type": "text"
      },
      "cell_type": "markdown",
      "source": [
        "次に、このデータの型をチェックするために、変数の後に「.」をつけて、dtypeを記述しています。以下の出力はintとありますので、整数型であることがわかります。これもオブジェクト型プログラミングの特徴です。ちなみに、「.」を入力後にタブ[tab]キーを押せば、その変数がもっているオブジェクトが表示されますので、そこから該当のものを選んで実行しましょう。そうすることで、すべてのオブジェクト等を正確に覚える必要はないですし、タイプミスも減ります。"
      ]
    },
    {
      "metadata": {
        "id": "rHZP7KZlBC3A",
        "colab_type": "code",
        "colab": {
          "base_uri": "https://localhost:8080/",
          "height": 34
        },
        "outputId": "61040a0c-7b15-4626-9d57-31dafcdc5fc5"
      },
      "cell_type": "code",
      "source": [
        "# データの型\n",
        "sample_numpy_data.dtype\n",
        "sample_numpy_data.dtype"
      ],
      "execution_count": 4,
      "outputs": [
        {
          "output_type": "execute_result",
          "data": {
            "text/plain": [
              "dtype('int64')"
            ]
          },
          "metadata": {
            "tags": []
          },
          "execution_count": 4
        }
      ]
    },
    {
      "metadata": {
        "id": "6pZ5SYixBC3G",
        "colab_type": "text"
      },
      "cell_type": "markdown",
      "source": [
        ">**[ポイント]**\n",
        "\n",
        ">作業（コーディング）を早く正確にするためには、タブ[tab]を使いなそう"
      ]
    },
    {
      "metadata": {
        "id": "e1mpYEPzBC3I",
        "colab_type": "text"
      },
      "cell_type": "markdown",
      "source": [
        "以下は、データの次元数と要素数を表示しています。ndimとsizeです。これを使うことで、データの大きさ等がどれくらいなのかわかります。"
      ]
    },
    {
      "metadata": {
        "id": "zGcAXwNaBC3K",
        "colab_type": "code",
        "colab": {
          "base_uri": "https://localhost:8080/",
          "height": 50
        },
        "outputId": "a41f7604-dbce-4fd7-b002-689c6a87d628"
      },
      "cell_type": "code",
      "source": [
        "# 次元数\n",
        "print(\"次元数:\",sample_numpy_data.ndim)\n",
        "\n",
        "# 要素数\n",
        "print(\"要素数:\" ,sample_numpy_data.size)\n"
      ],
      "execution_count": 9,
      "outputs": [
        {
          "output_type": "stream",
          "text": [
            "('\\xe6\\xac\\xa1\\xe5\\x85\\x83\\xe6\\x95\\xb0:', 1)\n",
            "('\\xe8\\xa6\\x81\\xe7\\xb4\\xa0\\xe6\\x95\\xb0:', 10)\n"
          ],
          "name": "stdout"
        }
      ]
    },
    {
      "metadata": {
        "id": "eL72AFYZBC3V",
        "colab_type": "text"
      },
      "cell_type": "markdown",
      "source": [
        "for文で書いた同じ結果（それぞれの数字を係数倍）も、Numpyを使うとだいぶ楽になります。"
      ]
    },
    {
      "metadata": {
        "id": "FS1voMI9BC3X",
        "colab_type": "code",
        "colab": {
          "base_uri": "https://localhost:8080/",
          "height": 34
        },
        "outputId": "60b5c17d-ac38-4d5a-d6ab-e0584028fa2e"
      },
      "cell_type": "code",
      "source": [
        "# それぞれの数字を係数倍（ここでは2倍）\n",
        "sample_numpy_data * 2"
      ],
      "execution_count": 10,
      "outputs": [
        {
          "output_type": "execute_result",
          "data": {
            "text/plain": [
              "array([18,  4,  6,  8, 20, 12, 14, 16,  2, 10])"
            ]
          },
          "metadata": {
            "tags": []
          },
          "execution_count": 10
        }
      ]
    },
    {
      "metadata": {
        "id": "lVWUKBONBC3b",
        "colab_type": "text"
      },
      "cell_type": "markdown",
      "source": [
        "それぞれの要素での掛け算や割り算も、for文などを使わずに簡単に計算できます。"
      ]
    },
    {
      "metadata": {
        "id": "qGZcUSIdBC3d",
        "colab_type": "code",
        "colab": {
          "base_uri": "https://localhost:8080/",
          "height": 87
        },
        "outputId": "085b8cb6-4bc6-4c99-faca-6210f3e91ee6"
      },
      "cell_type": "code",
      "source": [
        "# それぞれの要素同士での演算\n",
        "print(\"掛け算:\",np.array([1,2,3,4,5,6,7,8,9,10]) * np.array([10,9,8,7,6,5,4,3,2,1]))\n",
        "print(\"累乗:\",np.array([1,2,3,4,5,6,7,8,9,10]) **2)\n",
        "print(\"割り算:\",np.array([1,2,3,4,5,6,7,8,9,10]) / np.array([10,9,8,7,6,5,4,3,2,1]))"
      ],
      "execution_count": 11,
      "outputs": [
        {
          "output_type": "stream",
          "text": [
            "('\\xe6\\x8e\\x9b\\xe3\\x81\\x91\\xe7\\xae\\x97:', array([10, 18, 24, 28, 30, 30, 28, 24, 18, 10]))\n",
            "('\\xe7\\xb4\\xaf\\xe4\\xb9\\x97:', array([  1,   4,   9,  16,  25,  36,  49,  64,  81, 100]))\n",
            "('\\xe5\\x89\\xb2\\xe3\\x82\\x8a\\xe7\\xae\\x97:', array([ 0,  0,  0,  0,  0,  1,  1,  2,  4, 10]))\n"
          ],
          "name": "stdout"
        }
      ]
    },
    {
      "metadata": {
        "id": "q6K1agkKBC3j",
        "colab_type": "text"
      },
      "cell_type": "markdown",
      "source": [
        "以下では、0や1のデータを作っています。「zeros」は全ての要素を0で作成し、「ones」は全ての要素を1で作成します。dtypeで型を指定しています。"
      ]
    },
    {
      "metadata": {
        "scrolled": true,
        "id": "CYZSHUFUBC3m",
        "colab_type": "code",
        "colab": {
          "base_uri": "https://localhost:8080/",
          "height": 84
        },
        "outputId": "c793b150-378b-4f64-c691-6250bf8710de"
      },
      "cell_type": "code",
      "source": [
        "# 0 や 1の初期化データ\n",
        "# (2,3)は2行3列の行列データを作っています。\n",
        "zero_data = np.zeros((2,3), dtype='i')\n",
        "one_data = np.ones((2,3), dtype='f')\n",
        "\n",
        "print(\"・0でint型　\\n\", zero_data)\n",
        "\n",
        "print(\"・1でfloat型 \\n\", one_data)"
      ],
      "execution_count": 13,
      "outputs": [
        {
          "output_type": "stream",
          "text": [
            "('\\xe3\\x83\\xbb0\\xe3\\x81\\xa7int\\xe5\\x9e\\x8b\\xe3\\x80\\x80\\n', array([[0, 0, 0],\n",
            "       [0, 0, 0]], dtype=int32))\n",
            "('\\xe3\\x83\\xbb1\\xe3\\x81\\xa7float\\xe5\\x9e\\x8b \\n', array([[1., 1., 1.],\n",
            "       [1., 1., 1.]], dtype=float32))\n"
          ],
          "name": "stdout"
        }
      ]
    },
    {
      "metadata": {
        "id": "yIJcmoCqBC3q",
        "colab_type": "text"
      },
      "cell_type": "markdown",
      "source": [
        "次は、配列の数字をソート（並び替え）してみましょう。デフォルトでは、昇順（小さい数字から大きい数字）になります。"
      ]
    },
    {
      "metadata": {
        "id": "dveRo3VBBC3s",
        "colab_type": "code",
        "colab": {
          "base_uri": "https://localhost:8080/",
          "height": 70
        },
        "outputId": "6c3a6431-8e8f-4e70-cfe1-9e64f78c877b"
      },
      "cell_type": "code",
      "source": [
        "print(\"そのまま：\",sample_numpy_data)\n",
        "\n",
        "# ソート\n",
        "sample_numpy_data.sort()\n",
        "sample_numpy_data[::-1].sort()\n",
        "print(\"ソート後：\",sample_numpy_data)"
      ],
      "execution_count": 16,
      "outputs": [
        {
          "output_type": "stream",
          "text": [
            "('\\xe3\\x81\\x9d\\xe3\\x81\\xae\\xe3\\x81\\xbe\\xe3\\x81\\xbe\\xef\\xbc\\x9a', array([ 1,  2,  3,  4,  5,  6,  7,  8,  9, 10]))\n",
            "('\\xe3\\x82\\xbd\\xe3\\x83\\xbc\\xe3\\x83\\x88\\xe5\\xbe\\x8c\\xef\\xbc\\x9a', array([10,  9,  8,  7,  6,  5,  4,  3,  2,  1]))\n"
          ],
          "name": "stdout"
        }
      ]
    },
    {
      "metadata": {
        "id": "5sdx6GJYBC3y",
        "colab_type": "text"
      },
      "cell_type": "markdown",
      "source": [
        "なお、降順（大きい数字から小さい数字）にしたい場合は、sample_numpy_data[::-1].sort()のように、**スライス**を使ってやります。[::-1]は、-1つずつ飛ばすという意味で、-1は逆からを意味するので、逆さから数字を1つずたどっていくことになります。"
      ]
    },
    {
      "metadata": {
        "id": "WqnM22DRBC3y",
        "colab_type": "text"
      },
      "cell_type": "markdown",
      "source": [
        "minやmaxを呼び出すことで、最小値や最大値なども求めることができます。これもオブジェクト指向の特徴です。積み上げcumsumは、前から順に足しあげていく演算です。"
      ]
    },
    {
      "metadata": {
        "scrolled": true,
        "id": "AqfTa3rLBC30",
        "colab_type": "code",
        "colab": {
          "base_uri": "https://localhost:8080/",
          "height": 101
        },
        "outputId": "97441185-add7-4a69-88a8-c175a5905985"
      },
      "cell_type": "code",
      "source": [
        "# 最小値\n",
        "print(\"Min:\",sample_numpy_data.min())\n",
        "# 最大値\n",
        "print(\"Max:\",sample_numpy_data.max())\n",
        "# 合計\n",
        "print(\"Sum:\",sample_numpy_data.sum())\n",
        "# 積み上げ\n",
        "print(\"Cum:\",sample_numpy_data.cumsum())\n",
        "# 積み上げ割合\n",
        "print(\"Ratio:\",sample_numpy_data.cumsum()/sample_numpy_data.sum())"
      ],
      "execution_count": 17,
      "outputs": [
        {
          "output_type": "stream",
          "text": [
            "('Min:', 1)\n",
            "('Max:', 10)\n",
            "('Sum:', 55)\n",
            "('Cum:', array([10, 19, 27, 34, 40, 45, 49, 52, 54, 55]))\n",
            "('Ratio:', array([0, 0, 0, 0, 0, 0, 0, 0, 0, 1]))\n"
          ],
          "name": "stdout"
        }
      ]
    },
    {
      "metadata": {
        "id": "DP5LMnGdBC35",
        "colab_type": "text"
      },
      "cell_type": "markdown",
      "source": [
        "次は、乱数についてです。乱数とは、簡単にいうと規則性のないデタラメな数をいいます。乱数を発生するときには、Numpyを使うことが多く、計算するときには以下のようにします。10個の乱数を発生させています。seedはなくても大丈夫ですが、乱数を固定化し、のちの検証などで一定の値を担保できます。正規分布等については後で説明します。平均が0でデータの散らばり具合を意味する分散が1の確率分布に従うデータから数字を取り出します。"
      ]
    },
    {
      "metadata": {
        "id": "LwxDVVN3BC36",
        "colab_type": "code",
        "colab": {
          "base_uri": "https://localhost:8080/",
          "height": 70
        },
        "outputId": "44ee987d-4d5e-45ec-a293-15aac8e4aded"
      },
      "cell_type": "code",
      "source": [
        "# 乱数の発生のためのモジュール読み込み\n",
        "import numpy.random as random\n",
        "\n",
        "# seedを設定することで乱数を固定化することができる\n",
        "# これを設定しないと、テストなどでチェックするときに再現が困難になる\n",
        "random.seed(0)\n",
        "\n",
        "# 正規分布（平均0、分散1）の乱数を10個発生\n",
        "norm_random_sample_data = random.randn(10)\n",
        "\n",
        "print(\"乱数10個の配列:\", norm_random_sample_data)"
      ],
      "execution_count": 18,
      "outputs": [
        {
          "output_type": "stream",
          "text": [
            "('\\xe4\\xb9\\xb1\\xe6\\x95\\xb010\\xe5\\x80\\x8b\\xe3\\x81\\xae\\xe9\\x85\\x8d\\xe5\\x88\\x97:', array([ 1.764,  0.4  ,  0.979,  2.241,  1.868, -0.977,  0.95 , -0.151,\n",
            "       -0.103,  0.411]))\n"
          ],
          "name": "stdout"
        }
      ]
    },
    {
      "metadata": {
        "id": "_kJHribBBC3-",
        "colab_type": "text"
      },
      "cell_type": "markdown",
      "source": [
        "次は、発生させたデータの中から数字を抽出しています。random.choiceを使っています。replaceはデフォルトでTrueで、この場合は、データの中から重複を許してデータを抜き出す方法で、これを**復元抽出**と言います。一方、replaceをFalseに設定する場合はデータの重複を許さずにデータを抜き出す方法で、これを**非復元抽出**と言います。"
      ]
    },
    {
      "metadata": {
        "id": "gXnfXRITBC4A",
        "colab_type": "code",
        "colab": {
          "base_uri": "https://localhost:8080/",
          "height": 50
        },
        "outputId": "94f9d69e-59be-476e-9af0-5e482bf9ecd2"
      },
      "cell_type": "code",
      "source": [
        "# ランダム抽出\n",
        "print(random.choice(norm_random_sample_data,10))# 10個を抽出（重複あり,復元抽出）\n",
        "print(random.choice(norm_random_sample_data,10,replace=False)) # 10個を抽出（重複なし、非復元抽出)"
      ],
      "execution_count": 20,
      "outputs": [
        {
          "output_type": "stream",
          "text": [
            "[ 2.241  2.241  2.241 -0.151  1.764  0.4    0.411  0.411  1.764  1.868]\n",
            "[ 0.4    0.411  1.764 -0.977  1.868  0.979 -0.103  0.95   2.241 -0.151]\n"
          ],
          "name": "stdout"
        }
      ]
    },
    {
      "metadata": {
        "id": "Uj-PAlYCBC4F",
        "colab_type": "text"
      },
      "cell_type": "markdown",
      "source": [
        "復元抽出では、同じ数字が何個かあったりしますが、非復元抽出では、同じ数字が入ることはありません。"
      ]
    },
    {
      "metadata": {
        "id": "j52m_vQTBC4H",
        "colab_type": "text"
      },
      "cell_type": "markdown",
      "source": [
        ">**[やってみよう]**\n",
        "\n",
        ">seed(0)の0を変えたり、ランダム抽出の数を増やしたりして、結果どうなっているか表示してみましょう。"
      ]
    },
    {
      "metadata": {
        "id": "ktSZUjsuBC4H",
        "colab_type": "text"
      },
      "cell_type": "markdown",
      "source": [
        "次は、Numpyを用いた場合の計算時間の比較です。乱数を10の6乗コ発生させて、それを合計する実装です。一番はじめは普通の処理、2つ目がNumpyを使った処理です。"
      ]
    },
    {
      "metadata": {
        "id": "xQ5IO_VxBC4J",
        "colab_type": "code",
        "colab": {
          "base_uri": "https://localhost:8080/",
          "height": 50
        },
        "outputId": "76d0ecba-6249-435e-9dbc-514bae6422a2"
      },
      "cell_type": "code",
      "source": [
        "# Nは乱数の発生数、10の6乗\n",
        "N = 10**6\n",
        "# normal version (以下のrange(N)は0からN-1までの整数を用意しています。 _ はあとで変数として使用しないため、このように表現します。)\n",
        "normal_sample_data = [random.random() for _ in range(N)]\n",
        "# numpy version\n",
        "numpy_random_data = np.array(normal_sample_data)\n",
        "\n",
        "# calc time :合計値\n",
        "%timeit sum(normal_sample_data)\n",
        "%timeit np.sum(numpy_random_data)"
      ],
      "execution_count": 21,
      "outputs": [
        {
          "output_type": "stream",
          "text": [
            "100 loops, best of 3: 11.9 ms per loop\n",
            "1000 loops, best of 3: 396 µs per loop\n"
          ],
          "name": "stdout"
        }
      ]
    },
    {
      "metadata": {
        "id": "ZEfmc1oBBC4N",
        "colab_type": "text"
      },
      "cell_type": "markdown",
      "source": [
        "普通に演算するよりも、Numpyを使った方(np.sum())が早くなりました。%timeitは何回か同じ計算をして、ベスト3の平均計算時間を返しています。1つ目の「100 loops, best of 3: 5.78 ms per loop」は、100回計算して、ベスト3の計算時間平均が5.78ミリ秒という意味です。"
      ]
    },
    {
      "metadata": {
        "id": "ZtCCoGoTBC4P",
        "colab_type": "text"
      },
      "cell_type": "markdown",
      "source": [
        ">**[ポイント]**\n",
        "\n",
        ">パフォーマンス等をあげたい場合は、%timeit を使いながら、計算時間をチェックしましょう。"
      ]
    },
    {
      "metadata": {
        "id": "gl5kBJ7PBC4Q",
        "colab_type": "text"
      },
      "cell_type": "markdown",
      "source": [
        "次は、Numpyを使って、行列を作成しています。0〜8までの数字を3×3行列で表示しています。arrange(9)は0から8までの整数で、その後にreshapeで行列に変換しています。"
      ]
    },
    {
      "metadata": {
        "id": "2t6mLJXmBC4S",
        "colab_type": "code",
        "colab": {
          "base_uri": "https://localhost:8080/",
          "height": 67
        },
        "outputId": "cfe31c0a-ff6a-44c1-d949-4b91ab302751"
      },
      "cell_type": "code",
      "source": [
        "# データの準備\n",
        "sample_multi_array_data1 = np.arange(9).reshape(3,3)\n",
        "print(sample_multi_array_data1)"
      ],
      "execution_count": 22,
      "outputs": [
        {
          "output_type": "stream",
          "text": [
            "[[0 1 2]\n",
            " [3 4 5]\n",
            " [6 7 8]]\n"
          ],
          "name": "stdout"
        }
      ]
    },
    {
      "metadata": {
        "id": "pYrugxNxBC4W",
        "colab_type": "text"
      },
      "cell_type": "markdown",
      "source": [
        "行や列のみを抜き出す場合は、以下のようにします。[0,:]はインデックス0の行で、列はすべて取り出すという意味です。"
      ]
    },
    {
      "metadata": {
        "id": "beCVeMfqBC4Y",
        "colab_type": "code",
        "colab": {
          "base_uri": "https://localhost:8080/",
          "height": 34
        },
        "outputId": "5c76fe48-9bf1-454c-bec1-10badb441101"
      },
      "cell_type": "code",
      "source": [
        "# 行\n",
        "sample_multi_array_data1[0,:]"
      ],
      "execution_count": 23,
      "outputs": [
        {
          "output_type": "execute_result",
          "data": {
            "text/plain": [
              "array([0, 1, 2])"
            ]
          },
          "metadata": {
            "tags": []
          },
          "execution_count": 23
        }
      ]
    },
    {
      "metadata": {
        "id": "8MERz-FZBC4c",
        "colab_type": "text"
      },
      "cell_type": "markdown",
      "source": [
        "行や列のみを抜き出す場合は、以下のようにします。[:,0]はインデックス0の列で、行はすべて取り出すという意味です。"
      ]
    },
    {
      "metadata": {
        "id": "PiVWbrnTBC4d",
        "colab_type": "code",
        "colab": {
          "base_uri": "https://localhost:8080/",
          "height": 34
        },
        "outputId": "fe3b280a-190d-4cfc-93a5-79d989e2bf4c"
      },
      "cell_type": "code",
      "source": [
        "# 列\n",
        "sample_multi_array_data1[:,0]"
      ],
      "execution_count": 24,
      "outputs": [
        {
          "output_type": "execute_result",
          "data": {
            "text/plain": [
              "array([0, 3, 6])"
            ]
          },
          "metadata": {
            "tags": []
          },
          "execution_count": 24
        }
      ]
    },
    {
      "metadata": {
        "id": "IlBcMCN4BC4j",
        "colab_type": "text"
      },
      "cell_type": "markdown",
      "source": [
        "行列の掛け算をしてみましょう。以下は、データの準備として、同じ行数と列数の行列を作成しています。"
      ]
    },
    {
      "metadata": {
        "id": "X9W5TR1MBC4k",
        "colab_type": "code",
        "colab": {
          "base_uri": "https://localhost:8080/",
          "height": 67
        },
        "outputId": "c9786727-ac1c-4d5d-e8a0-dc59e45cc045"
      },
      "cell_type": "code",
      "source": [
        "sample_multi_array_data2 = np.arange(9,18).reshape(3,3)\n",
        "print(sample_multi_array_data2)"
      ],
      "execution_count": 25,
      "outputs": [
        {
          "output_type": "stream",
          "text": [
            "[[ 9 10 11]\n",
            " [12 13 14]\n",
            " [15 16 17]]\n"
          ],
          "name": "stdout"
        }
      ]
    },
    {
      "metadata": {
        "id": "dMsMZMObBC4q",
        "colab_type": "text"
      },
      "cell_type": "markdown",
      "source": [
        "行列の掛け算では、dotを使います。なお、*を使うと、それぞれの要素を掛け算するだけなので、注意しましょう。"
      ]
    },
    {
      "metadata": {
        "id": "Qa8B4fC9BC4s",
        "colab_type": "code",
        "colab": {
          "base_uri": "https://localhost:8080/",
          "height": 67
        },
        "outputId": "72a58aed-0c37-4ddb-9a12-61ad083fa45c"
      },
      "cell_type": "code",
      "source": [
        "# 行列の積\n",
        "np.dot(sample_multi_array_data1,sample_multi_array_data2)"
      ],
      "execution_count": 26,
      "outputs": [
        {
          "output_type": "execute_result",
          "data": {
            "text/plain": [
              "array([[ 42,  45,  48],\n",
              "       [150, 162, 174],\n",
              "       [258, 279, 300]])"
            ]
          },
          "metadata": {
            "tags": []
          },
          "execution_count": 26
        }
      ]
    },
    {
      "metadata": {
        "id": "k5u6wyTLBC4x",
        "colab_type": "code",
        "colab": {
          "base_uri": "https://localhost:8080/",
          "height": 67
        },
        "outputId": "a53aca75-c4c2-45cd-99ff-fdd1fd5d4231"
      },
      "cell_type": "code",
      "source": [
        "# 要素の積(注：行列の掛け算ではありません)\n",
        "sample_multi_array_data1 * sample_multi_array_data2"
      ],
      "execution_count": 27,
      "outputs": [
        {
          "output_type": "execute_result",
          "data": {
            "text/plain": [
              "array([[  0,  10,  22],\n",
              "       [ 36,  52,  70],\n",
              "       [ 90, 112, 136]])"
            ]
          },
          "metadata": {
            "tags": []
          },
          "execution_count": 27
        }
      ]
    },
    {
      "metadata": {
        "id": "ibrNr-seBC45",
        "colab_type": "text"
      },
      "cell_type": "markdown",
      "source": [
        "#### <練習問題 1>\n",
        "\n",
        "1から50までの自然数の和を計算するプログラムを書いて、最後の計算結果を表示させるプログラムを書いてください。ただし、Numpyを使ってください。"
      ]
    },
    {
      "metadata": {
        "id": "opBJPfUOO6y1",
        "colab_type": "code",
        "colab": {
          "base_uri": "https://localhost:8080/",
          "height": 84
        },
        "outputId": "e76c7e99-5ba7-42ae-85e1-6f90789fec26"
      },
      "cell_type": "code",
      "source": [
        "ar1to50 = np.arange(1,51)\n",
        "print(ar1to50)\n",
        "result = np.sum(ar1to50)\n",
        "print(result)"
      ],
      "execution_count": 32,
      "outputs": [
        {
          "output_type": "stream",
          "text": [
            "[ 1  2  3  4  5  6  7  8  9 10 11 12 13 14 15 16 17 18 19 20 21 22 23 24\n",
            " 25 26 27 28 29 30 31 32 33 34 35 36 37 38 39 40 41 42 43 44 45 46 47 48\n",
            " 49 50]\n",
            "1275\n"
          ],
          "name": "stdout"
        }
      ]
    },
    {
      "metadata": {
        "id": "1MIePOBuBC46",
        "colab_type": "text"
      },
      "cell_type": "markdown",
      "source": [
        "#### <練習問題 2>\n",
        "\n",
        "正規分布に従う乱数を10個発生させて配列を作成してください。また、その中での最小値、最大値、合計を求めるプログラムを書いてください。"
      ]
    },
    {
      "metadata": {
        "id": "DL2Ni7fFPoPy",
        "colab_type": "code",
        "colab": {
          "base_uri": "https://localhost:8080/",
          "height": 84
        },
        "outputId": "87551fe1-45ec-451c-8231-2b53de5f44a2"
      },
      "cell_type": "code",
      "source": [
        "random.seed(0)\n",
        "random_ar = random.randn(10)\n",
        "print(random_ar)\n",
        "print(random_ar.max())\n",
        "print(random_ar.min())\n",
        "print(random_ar.sum())\n",
        "\n"
      ],
      "execution_count": 36,
      "outputs": [
        {
          "output_type": "stream",
          "text": [
            "[ 1.764  0.4    0.979  2.241  1.868 -0.977  0.95  -0.151 -0.103  0.411]\n",
            "2.240893199201458\n",
            "-0.977277879876411\n",
            "7.380231707288347\n"
          ],
          "name": "stdout"
        }
      ]
    },
    {
      "metadata": {
        "id": "2CO39cVMBC47",
        "colab_type": "text"
      },
      "cell_type": "markdown",
      "source": [
        "#### <練習問題 3>\n",
        "\n",
        "要素がすべて3の5行5列の行列を作成し、その行列の2乗をする計算をしてみましょう。"
      ]
    },
    {
      "metadata": {
        "id": "KLZjNe4ZQKEg",
        "colab_type": "code",
        "colab": {
          "base_uri": "https://localhost:8080/",
          "height": 185
        },
        "outputId": "4b8161a0-78ee-4ec6-f6d5-fa6b77398e0f"
      },
      "cell_type": "code",
      "source": [
        "matrix = np.ones((5,5),dtype='i') * 3\n",
        "matrix2 = matrix ** 2\n",
        "print(matrix)\n",
        "print(matrix2)"
      ],
      "execution_count": 41,
      "outputs": [
        {
          "output_type": "stream",
          "text": [
            "[[3 3 3 3 3]\n",
            " [3 3 3 3 3]\n",
            " [3 3 3 3 3]\n",
            " [3 3 3 3 3]\n",
            " [3 3 3 3 3]]\n",
            "[[9 9 9 9 9]\n",
            " [9 9 9 9 9]\n",
            " [9 9 9 9 9]\n",
            " [9 9 9 9 9]\n",
            " [9 9 9 9 9]]\n"
          ],
          "name": "stdout"
        }
      ]
    },
    {
      "metadata": {
        "id": "C7sjBMU6BC48",
        "colab_type": "text"
      },
      "cell_type": "markdown",
      "source": [
        "### 2.1.2 Scipyの基礎\n",
        "キーワード：逆行列、固有値、固有ベクトル、最適化"
      ]
    },
    {
      "metadata": {
        "id": "ILfnLKkfBC49",
        "colab_type": "text"
      },
      "cell_type": "markdown",
      "source": [
        "Scipyは科学技術計算をするためのモジュールで、多様な数学処理が可能です。ここでは、線形代数の逆行列や固有値、方程式の解などを求めてみましょう。なお、これらの用語がわからない方は、ネットで調べるか、以前紹介した参考文献で学習してください。"
      ]
    },
    {
      "metadata": {
        "collapsed": true,
        "id": "HaDvuW1UBC4_",
        "colab_type": "code",
        "colab": {}
      },
      "cell_type": "code",
      "source": [
        "# Scipyのモジュール\n",
        "import scipy as sp\n",
        "\n",
        "# 線形代数用のモジュール\n",
        "import scipy.linalg as linalg\n",
        "\n",
        "# 最適化計算（最小値）用のモジュール\n",
        "from scipy.optimize import minimize_scalar"
      ],
      "execution_count": 0,
      "outputs": []
    },
    {
      "metadata": {
        "id": "uRvGRGWkBC5D",
        "colab_type": "text"
      },
      "cell_type": "markdown",
      "source": [
        "以下は、ある行列に対して行列式を求めています。detを使います。"
      ]
    },
    {
      "metadata": {
        "id": "-EUk2JctBC5E",
        "colab_type": "code",
        "colab": {}
      },
      "cell_type": "code",
      "source": [
        "# サンプルデータ作成\n",
        "sample_matrix_data = np.array([[1,-1,-1],[-1,1,-1],[-1,-1,1]])\n",
        "\n",
        "# 行列式\n",
        "print(\"行列式\")\n",
        "print(linalg.det(sample_matrix_data))"
      ],
      "execution_count": 0,
      "outputs": []
    },
    {
      "metadata": {
        "id": "VsBgY-6SBC5K",
        "colab_type": "text"
      },
      "cell_type": "markdown",
      "source": [
        "次は、逆行列です。invを使います。"
      ]
    },
    {
      "metadata": {
        "id": "WQ7oV_0BBC5M",
        "colab_type": "code",
        "colab": {}
      },
      "cell_type": "code",
      "source": [
        "# 逆行列\n",
        "print(\"逆行列\")\n",
        "print(linalg.inv(sample_matrix_data))"
      ],
      "execution_count": 0,
      "outputs": []
    },
    {
      "metadata": {
        "id": "COoMRS9EBC5Q",
        "colab_type": "text"
      },
      "cell_type": "markdown",
      "source": [
        "念のため、確認してみましょう。行列の積が単位行列になっていることがわかります。"
      ]
    },
    {
      "metadata": {
        "id": "WjIifVu5BC5R",
        "colab_type": "code",
        "colab": {}
      },
      "cell_type": "code",
      "source": [
        "# 確認\n",
        "print(sample_matrix_data.dot(linalg.inv(sample_matrix_data)))"
      ],
      "execution_count": 0,
      "outputs": []
    },
    {
      "metadata": {
        "id": "4fbrHOMLBC5b",
        "colab_type": "text"
      },
      "cell_type": "markdown",
      "source": [
        "次は、固有値と固有ベクトルを算出しています。"
      ]
    },
    {
      "metadata": {
        "id": "HyN_suIkBC5d",
        "colab_type": "code",
        "colab": {}
      },
      "cell_type": "code",
      "source": [
        "# 固有値と固有ベクトル\n",
        "eig_value, eig_vector = linalg.eig(sample_matrix_data)\n",
        "\n",
        "# 固有値と固有ベクトル\n",
        "print(\"固有値\")\n",
        "print(eig_value)\n",
        "print(\"固有ベクトル\")\n",
        "print(eig_vector)"
      ],
      "execution_count": 0,
      "outputs": []
    },
    {
      "metadata": {
        "id": "Gkl8ZPzoBC5i",
        "colab_type": "text"
      },
      "cell_type": "markdown",
      "source": [
        "次は最適化計算を使って、方程式の解を求めてみましょう。ここで計算する式として、"
      ]
    },
    {
      "metadata": {
        "id": "UkLfoz9ZBC5i",
        "colab_type": "text"
      },
      "cell_type": "markdown",
      "source": [
        "\\begin{eqnarray}\n",
        "f(x) = x^2 + 2x +1\n",
        "\\end{eqnarray}"
      ]
    },
    {
      "metadata": {
        "id": "ZhTSbF13BC5l",
        "colab_type": "text"
      },
      "cell_type": "markdown",
      "source": [
        "の2次関数を考えます。もちろん、紙と鉛筆で計算することも可能で、解は-1ですが、解の近似計算でよく使われるニュートン法を使って求めてみましょう。まずは、上の関数を用意します。"
      ]
    },
    {
      "metadata": {
        "id": "bmiuCyj3BC5l",
        "colab_type": "code",
        "colab": {}
      },
      "cell_type": "code",
      "source": [
        "# 関数の定義\n",
        "def sample_function(x):\n",
        "    return (x**2 + 2*x + 1)"
      ],
      "execution_count": 0,
      "outputs": []
    },
    {
      "metadata": {
        "id": "mcB5F3K2BC5p",
        "colab_type": "text"
      },
      "cell_type": "markdown",
      "source": [
        "次に、f(x)=0の解xを求めるために、以下でnewton関数を使います。newton関数の1つ目の引数が先ほど用意した関数sample_functionをセットし、2つ目の引数にはf(x)=0 の0をセットします。"
      ]
    },
    {
      "metadata": {
        "id": "afhVXCRLBC5q",
        "colab_type": "code",
        "colab": {}
      },
      "cell_type": "code",
      "source": [
        "# ニュートン法の読み込み\n",
        "from scipy.optimize import newton\n",
        "\n",
        "# 計算実行\n",
        "print(newton(sample_function,0))"
      ],
      "execution_count": 0,
      "outputs": []
    },
    {
      "metadata": {
        "id": "nSDtbXWjBC5u",
        "colab_type": "text"
      },
      "cell_type": "markdown",
      "source": [
        "ほぼ-1になっているのがわかります。"
      ]
    },
    {
      "metadata": {
        "id": "Fj8_wckXBC5v",
        "colab_type": "text"
      },
      "cell_type": "markdown",
      "source": [
        "なお、ニュートン法をはじめて聞いた方は検索をして調べるか、以下のサイト等を参考にしてください。"
      ]
    },
    {
      "metadata": {
        "id": "P8Z8pHDCBC5x",
        "colab_type": "text"
      },
      "cell_type": "markdown",
      "source": [
        ">[参考URL]\n",
        "\n",
        ">https://ja.wikipedia.org/wiki/ニュートン法\n",
        "\n",
        ">http://qiita.com/PlanetMeron/items/09d7eb204868e1a49f49"
      ]
    },
    {
      "metadata": {
        "id": "_AIAUSXIBC5x",
        "colab_type": "text"
      },
      "cell_type": "markdown",
      "source": [
        "次に同じ関数で、最小値を求めることを考えます。ここでは、minimize_scalarを使うことにします。なお、パラメータでは、Brent 法を使っており、放物線補間法と黄金分割法（単峰関数の極値（極大値または極小値）を求める方法）を組み合わせた方法で、黄金分割法よりも収束が速いのが特徴です。この講座では、あまり使わないので、用語等については覚えなくても大丈夫ですが、これら以外にも色々なアプローチ方法がありますので、時間がある方は調べてみてください。"
      ]
    },
    {
      "metadata": {
        "id": "sYQVSJNEBC5z",
        "colab_type": "code",
        "colab": {}
      },
      "cell_type": "code",
      "source": [
        "# 計算実行\n",
        "print(minimize_scalar(sample_function,method=\"Brent\"))"
      ],
      "execution_count": 0,
      "outputs": []
    },
    {
      "metadata": {
        "id": "coWHI6eZBC52",
        "colab_type": "text"
      },
      "cell_type": "markdown",
      "source": [
        "ここでScipyについては一旦終了します。次の章でさらに色々な科学計算（積分や微分方程式など）ができることを学びます。"
      ]
    },
    {
      "metadata": {
        "id": "U7ukPaOrBC53",
        "colab_type": "text"
      },
      "cell_type": "markdown",
      "source": [
        ">**[やってみよう]**\n",
        "\n",
        ">上の関数を変更したりして、最小値等を計算を実行してみましょう。"
      ]
    },
    {
      "metadata": {
        "id": "mwMQ2x7BBC54",
        "colab_type": "text"
      },
      "cell_type": "markdown",
      "source": [
        "#### <練習問題 1>\n",
        "\n",
        "以下の行列について、行列式を求めてください。\n",
        "\n",
        "$\n",
        "  A = \\left(\n",
        "    \\begin{array}{ccc}\n",
        "      1 & 2 & 3 \\\\\n",
        "      1 & 3 & 2 \\\\\n",
        "      3 & 1 & 2\n",
        "    \\end{array}\n",
        "  \\right)\n",
        "$"
      ]
    },
    {
      "metadata": {
        "id": "mmXIOja_BC55",
        "colab_type": "text"
      },
      "cell_type": "markdown",
      "source": [
        "#### <練習問題 2>\n",
        "\n",
        "上と同じ行列について、逆行列、固有値と固有ベクトルを求めてください。"
      ]
    },
    {
      "metadata": {
        "id": "D88YkSDYBC55",
        "colab_type": "text"
      },
      "cell_type": "markdown",
      "source": [
        "#### <練習問題 3>\n",
        "\n",
        "以下の関数が0となる解を求めてみましょう。"
      ]
    },
    {
      "metadata": {
        "id": "ksKFm84XBC57",
        "colab_type": "text"
      },
      "cell_type": "markdown",
      "source": [
        "\\begin{eqnarray}\n",
        "f(x) = x^3 + 2x+ 1\n",
        "\\end{eqnarray}"
      ]
    },
    {
      "metadata": {
        "id": "rad78Dx2BC57",
        "colab_type": "text"
      },
      "cell_type": "markdown",
      "source": [
        "### 2.1.3 Pandasの基礎\n",
        "キーワード：Series、DataFrame、データの操作、データの結合、ソート"
      ]
    },
    {
      "metadata": {
        "id": "55R87QMWBC58",
        "colab_type": "text"
      },
      "cell_type": "markdown",
      "source": [
        "ここでは、Pandasについて学びます。Pandasを使うと、データの様々なハンドリングをスムーズに柔軟に実施することができ、表計算や後ほど学ぶデータベースのようなデータ操作が可能となります。以下で、必要となるモジュールを読み込んできます。"
      ]
    },
    {
      "metadata": {
        "collapsed": true,
        "nbpresent": {
          "id": "93a5d1f3-e3b5-4840-95c2-503725844dc3"
        },
        "id": "SCFH5Gb_BC6A",
        "colab_type": "code",
        "colab": {}
      },
      "cell_type": "code",
      "source": [
        "from pandas import Series,DataFrame\n",
        "import pandas as pd"
      ],
      "execution_count": 0,
      "outputs": []
    },
    {
      "metadata": {
        "id": "ZXy5HiA4BC6F",
        "colab_type": "text"
      },
      "cell_type": "markdown",
      "source": [
        "以下では、Seriesを使っています。これは、配列のようなオブジェクトです。インデックスも左に表示しています。"
      ]
    },
    {
      "metadata": {
        "id": "mM1wD4d8BC6G",
        "colab_type": "code",
        "colab": {}
      },
      "cell_type": "code",
      "source": [
        "# Series\n",
        "sample_pandas_data = pd.Series([0,1,2,3,4,5,6,7,8,9])\n",
        "print(sample_pandas_data)"
      ],
      "execution_count": 0,
      "outputs": []
    },
    {
      "metadata": {
        "id": "SmaK9zJYBC6K",
        "colab_type": "code",
        "colab": {}
      },
      "cell_type": "code",
      "source": [
        "print(\"データの値:\",sample_pandas_data.values)\n",
        "print(\"インデックスの値:\",sample_pandas_data.index)"
      ],
      "execution_count": 0,
      "outputs": []
    },
    {
      "metadata": {
        "id": "06HhuUDuBC6O",
        "colab_type": "text"
      },
      "cell_type": "markdown",
      "source": [
        "もし、インデックスを数字ではなく、何か特定の文字などに置き換えたい場合は、以下のように宣言します。"
      ]
    },
    {
      "metadata": {
        "id": "PJLydHkoBC6P",
        "colab_type": "code",
        "colab": {}
      },
      "cell_type": "code",
      "source": [
        "# indexを文字で\n",
        "sample_pandas_index_data = pd.Series([0,1,2,3,4,5,6,7,8,9]\n",
        "                                     ,index=['a','b','c','d','e','f','g','h','i','j'])\n",
        "print(sample_pandas_index_data)"
      ],
      "execution_count": 0,
      "outputs": []
    },
    {
      "metadata": {
        "id": "Rn4ls2WtBC6U",
        "colab_type": "code",
        "colab": {}
      },
      "cell_type": "code",
      "source": [
        "print(\"データの値:\",sample_pandas_index_data.values)\n",
        "print(\"インデックスの値:\",sample_pandas_index_data.index)"
      ],
      "execution_count": 0,
      "outputs": []
    },
    {
      "metadata": {
        "id": "09gUtv3BBC6Z",
        "colab_type": "text"
      },
      "cell_type": "markdown",
      "source": [
        "次は、DataFrameについてです。DataFrameは各々の列で異なる型を持たせることが可能です。"
      ]
    },
    {
      "metadata": {
        "id": "h1FCaZjlBC6a",
        "colab_type": "code",
        "colab": {}
      },
      "cell_type": "code",
      "source": [
        "attri_data1 = {'ID':['100','101','102','103','104']\n",
        "        ,'city':['Tokyo','Osaka','Kyoto','Hokkaidao','Tokyo']\n",
        "        ,'birth_year':[1990,1989,1992,1997,1982]\n",
        "        ,'name':['Hiroshi','Akiko','Yuki','Satoru','Steeve']}\n",
        "\n",
        "attri_data_frame1 = DataFrame(attri_data1)\n",
        "\n",
        "print(attri_data_frame1)"
      ],
      "execution_count": 0,
      "outputs": []
    },
    {
      "metadata": {
        "id": "TP1JxZ18BC6e",
        "colab_type": "text"
      },
      "cell_type": "markdown",
      "source": [
        "DataFrameも、インデックスの更新が可能です。"
      ]
    },
    {
      "metadata": {
        "id": "G1pm-gY5BC6f",
        "colab_type": "code",
        "colab": {}
      },
      "cell_type": "code",
      "source": [
        "attri_data_frame_index1 = DataFrame(attri_data1,index=['a','b','c','d','e'])\n",
        "print(attri_data_frame_index1)"
      ],
      "execution_count": 0,
      "outputs": []
    },
    {
      "metadata": {
        "id": "kPWfuD8lBC6j",
        "colab_type": "text"
      },
      "cell_type": "markdown",
      "source": [
        "行列の転置のように、ひっくり返す場合には、.Tを使います。"
      ]
    },
    {
      "metadata": {
        "id": "LHuMd7T9BC6k",
        "colab_type": "code",
        "colab": {}
      },
      "cell_type": "code",
      "source": [
        "# 転置\n",
        "attri_data_frame1.T"
      ],
      "execution_count": 0,
      "outputs": []
    },
    {
      "metadata": {
        "id": "zB0YKQ0gBC6o",
        "colab_type": "text"
      },
      "cell_type": "markdown",
      "source": [
        "特定の列を指定したい場合は、データの後にカラム名をつけます。複数の場合は、複数のカラム名を指定しましょう。"
      ]
    },
    {
      "metadata": {
        "id": "o9Z6OPPPBC6p",
        "colab_type": "code",
        "colab": {}
      },
      "cell_type": "code",
      "source": [
        "# 列名の指定（１つ）\n",
        "attri_data_frame1.birth_year"
      ],
      "execution_count": 0,
      "outputs": []
    },
    {
      "metadata": {
        "id": "7_8qMxo4BC6t",
        "colab_type": "code",
        "colab": {}
      },
      "cell_type": "code",
      "source": [
        "# 列名の指定(複数の場合)\n",
        "attri_data_frame1[[\"ID\",\"birth_year\"]]"
      ],
      "execution_count": 0,
      "outputs": []
    },
    {
      "metadata": {
        "id": "hrsatKEcBC6w",
        "colab_type": "text"
      },
      "cell_type": "markdown",
      "source": [
        "一定の条件を満たすものだけ、データを取り出すことも可能です。例えば、cityがTokyoのみのデータを抽出したい場合は、以下のようにします。"
      ]
    },
    {
      "metadata": {
        "id": "3uFluDoNBC6x",
        "colab_type": "code",
        "colab": {}
      },
      "cell_type": "code",
      "source": [
        "#　条件（フィルター）\n",
        "attri_data_frame1[attri_data_frame1['city']=='Tokyo']"
      ],
      "execution_count": 0,
      "outputs": []
    },
    {
      "metadata": {
        "id": "2oCn1cI2BC60",
        "colab_type": "text"
      },
      "cell_type": "markdown",
      "source": [
        "値を複数の条件で取り出したい場合は、isin(リスト)を以下のようにして、使ってください。あとの章でも使います。"
      ]
    },
    {
      "metadata": {
        "id": "_XxXUfNtBC61",
        "colab_type": "code",
        "colab": {}
      },
      "cell_type": "code",
      "source": [
        "#　条件（フィルター、複数の値）\n",
        "attri_data_frame1[attri_data_frame1['city'].isin(['Tokyo','Osaka'])]"
      ],
      "execution_count": 0,
      "outputs": []
    },
    {
      "metadata": {
        "id": "ej8yjvoTBC7A",
        "colab_type": "text"
      },
      "cell_type": "markdown",
      "source": [
        ">**[やってみよう]**\n",
        "\n",
        ">他にも条件を変更（birth_yearが1990未満など）して、フィルターを実行してみましょう。"
      ]
    },
    {
      "metadata": {
        "id": "6F15DfNhBC7C",
        "colab_type": "text"
      },
      "cell_type": "markdown",
      "source": [
        "ある特定の列を削除する方法は以下のようになります。axisで軸を設定し、1の場合は列方向です。行の削除はインデックスを指定して、axis=0とします。"
      ]
    },
    {
      "metadata": {
        "id": "SeCk_NnZBC7F",
        "colab_type": "code",
        "colab": {}
      },
      "cell_type": "code",
      "source": [
        "# データの列の削除\n",
        "attri_data_frame1.drop(['birth_year'],axis=1)"
      ],
      "execution_count": 0,
      "outputs": []
    },
    {
      "metadata": {
        "id": "NJkDnrYjBC7K",
        "colab_type": "text"
      },
      "cell_type": "markdown",
      "source": [
        "次は、別のデータテーブルがあった時に、キーをベースにして、テーブルを結合する方法です。mergeを使います。なお、キーを明示しない場合は、自動で見つけて結合します。"
      ]
    },
    {
      "metadata": {
        "id": "VKO-9E0EBC7M",
        "colab_type": "code",
        "colab": {}
      },
      "cell_type": "code",
      "source": [
        "# 別のデータの準備\n",
        "attri_data2 = {'ID':['100','101','102','105','107']\n",
        "        ,'math':[50,43,33,76,98]\n",
        "        ,'English':[90,30,20,50,30]\n",
        "        ,'sex':['M','F','F','M','M']}\n",
        "attri_data_frame2 = DataFrame(attri_data2)\n",
        "print(attri_data_frame2)"
      ],
      "execution_count": 0,
      "outputs": []
    },
    {
      "metadata": {
        "id": "RPPKgojWBC7O",
        "colab_type": "text"
      },
      "cell_type": "markdown",
      "source": [
        "以下で結合しています。キーはIDで、100,101,102が共通であるため、それで結合しています。"
      ]
    },
    {
      "metadata": {
        "id": "I1bl-bCuBC7P",
        "colab_type": "code",
        "colab": {}
      },
      "cell_type": "code",
      "source": [
        "# データのマージ（内部結合、詳しくは次の章で）\n",
        "pd.merge(attri_data_frame1,attri_data_frame2)"
      ],
      "execution_count": 0,
      "outputs": []
    },
    {
      "metadata": {
        "id": "HmVTlJ41BC7S",
        "colab_type": "text"
      },
      "cell_type": "markdown",
      "source": [
        "次はグループ集計といい、groupbyを使うことで、ある特定のカラムを軸にした集計ができます。以下は、性を軸として、数学のスコア平均を算出しています。他には、最大値や最小値等も算出できます。"
      ]
    },
    {
      "metadata": {
        "id": "P8IgzI59BC7T",
        "colab_type": "code",
        "colab": {}
      },
      "cell_type": "code",
      "source": [
        "# データのグループ集計(詳しくは次の章で)\n",
        "attri_data_frame2.groupby(\"sex\")[\"math\"].mean()"
      ],
      "execution_count": 0,
      "outputs": []
    },
    {
      "metadata": {
        "id": "uU-x2iYgBC7Z",
        "colab_type": "text"
      },
      "cell_type": "markdown",
      "source": [
        ">**[やってみよう]**\n",
        "\n",
        ">他にも変数を変えて、実行してみましょう。Englishの場合はどうなりますか。"
      ]
    },
    {
      "metadata": {
        "id": "Gzj6KaxjBC7a",
        "colab_type": "text"
      },
      "cell_type": "markdown",
      "source": [
        "もちろん、Pandasにはソート機能もあります。値だけではなく、インデックスをベースにソートできます。"
      ]
    },
    {
      "metadata": {
        "id": "wFywhPKOBC7c",
        "colab_type": "code",
        "colab": {}
      },
      "cell_type": "code",
      "source": [
        "# データの準備\n",
        "attri_data2 = {'ID':['100','101','102','103','104']\n",
        "        ,'city':['Tokyo','Osaka','Kyoto','Hokkaido','Tokyo']\n",
        "        ,'birth_year':[1990,1989,1992,1997,1982]\n",
        "        ,'name':['Hiroshi','Akiko','Yuki','Satoru','Steeve']}\n",
        "attri_data_frame2 = DataFrame(attri_data2)\n",
        "attri_data_frame_index2 = DataFrame(attri_data2,index=['e','b','a','d','c'])\n",
        "print(attri_data_frame_index2)"
      ],
      "execution_count": 0,
      "outputs": []
    },
    {
      "metadata": {
        "id": "Z3t6ml83BC7j",
        "colab_type": "code",
        "colab": {}
      },
      "cell_type": "code",
      "source": [
        "# indexによるソート\n",
        "attri_data_frame_index2.sort_index()"
      ],
      "execution_count": 0,
      "outputs": []
    },
    {
      "metadata": {
        "id": "yDUvZyWJBC7n",
        "colab_type": "code",
        "colab": {}
      },
      "cell_type": "code",
      "source": [
        "# 値によるソート、デフォルトは昇順\n",
        "attri_data_frame_index2.birth_year.sort_values()"
      ],
      "execution_count": 0,
      "outputs": []
    },
    {
      "metadata": {
        "id": "ysvvXMTOBC7w",
        "colab_type": "text"
      },
      "cell_type": "markdown",
      "source": [
        "最後に、値があるかどうか、Nullの判定についてです。\n",
        "\n",
        "以下は、attri_data_frame_index2にTokyoという文字列があるかどうかをisinで調べて、それぞれのセルにTrueかFalseが返されます。入っていればTrue、入っていなければFalseになっていることがわかります。"
      ]
    },
    {
      "metadata": {
        "id": "B4bMD5LYBC7x",
        "colab_type": "code",
        "colab": {}
      },
      "cell_type": "code",
      "source": [
        "# 値があるかどうかの確認\n",
        "attri_data_frame_index2.isin([\"Tokyo\"])"
      ],
      "execution_count": 0,
      "outputs": []
    },
    {
      "metadata": {
        "id": "-EazwbIhBC71",
        "colab_type": "text"
      },
      "cell_type": "markdown",
      "source": [
        "次は、一部にnanをわざと入れて、isnullでそれぞれのセルを判定しています。"
      ]
    },
    {
      "metadata": {
        "id": "SqEP6j6KBC72",
        "colab_type": "code",
        "colab": {}
      },
      "cell_type": "code",
      "source": [
        "#　欠損値の取り扱い\n",
        "# name をすべてnanにする\n",
        "attri_data_frame_index2.name = np.nan\n",
        "attri_data_frame_index2.isnull()"
      ],
      "execution_count": 0,
      "outputs": []
    },
    {
      "metadata": {
        "id": "CVG7IwHcBC76",
        "colab_type": "code",
        "colab": {}
      },
      "cell_type": "code",
      "source": [
        "# nullを判定し、合計する\n",
        "attri_data_frame_index2.isnull().sum()"
      ],
      "execution_count": 0,
      "outputs": []
    },
    {
      "metadata": {
        "id": "n9MGCA4cBC7-",
        "colab_type": "text"
      },
      "cell_type": "markdown",
      "source": [
        "以上で、Pandasの簡単な説明は終わりです。次の章で実際のデータのハンドリングをしますので、ここで学んだことはしっかりと身につけてください。"
      ]
    },
    {
      "metadata": {
        "id": "KP0dXQrXBC7_",
        "colab_type": "text"
      },
      "cell_type": "markdown",
      "source": [
        "#### <練習問題 1>\n",
        "\n",
        "以下のデータに対して、Moneyが500以上の人を絞り込んで、レコードを表示させてください。"
      ]
    },
    {
      "metadata": {
        "collapsed": true,
        "id": "STuRMxyABC8A",
        "colab_type": "code",
        "colab": {}
      },
      "cell_type": "code",
      "source": [
        "from pandas import Series,DataFrame\n",
        "import pandas as pd\n",
        "\n",
        "attri_data1 = {'ID':['1','2','3','4','5']\n",
        "        ,'sex':['F','F','M','M','F']\n",
        "        ,'Money':[1000,2000,500,300,700]\n",
        "        ,'name':['Saito','Horie','Kondo','Kawada','Matsubara']}\n",
        "\n",
        "attri_data_frame1 = DataFrame(attri_data1)"
      ],
      "execution_count": 0,
      "outputs": []
    },
    {
      "metadata": {
        "id": "nPIzIMMgBC8C",
        "colab_type": "text"
      },
      "cell_type": "markdown",
      "source": [
        "#### <練習問題 2>\n",
        "\n",
        "上記のデータに対して、男女別（MF別）の平均Moneyを求めてください。"
      ]
    },
    {
      "metadata": {
        "id": "T2Tl_bE1BC8D",
        "colab_type": "text"
      },
      "cell_type": "markdown",
      "source": [
        "#### <練習問題 3>\n",
        "\n",
        "上記のデータに対して、以下のデータの同じIDの人をキーとして、データをマージしてください。そして、MoneyとMathとEnglishの平均を求めてください。"
      ]
    },
    {
      "metadata": {
        "id": "klOxtDthBC8E",
        "colab_type": "code",
        "colab": {}
      },
      "cell_type": "code",
      "source": [
        "attri_data2 = {'ID':['3','4','7']\n",
        "        ,'Math':[60,30,40]\n",
        "        ,'English':[80,20,30]}\n",
        "\n",
        "attri_data_frame2 = DataFrame(attri_data2)"
      ],
      "execution_count": 0,
      "outputs": []
    },
    {
      "metadata": {
        "id": "XQGe6LFkBC8G",
        "colab_type": "text"
      },
      "cell_type": "markdown",
      "source": [
        "### 2.1.4 Matplotlibの基礎\n",
        "キーワード：データビジュアライゼーション、散布図、ヒストグラム"
      ]
    },
    {
      "metadata": {
        "id": "UrvqnXiTBC8H",
        "colab_type": "text"
      },
      "cell_type": "markdown",
      "source": [
        "データ分析をする上で、対象となるデータを可視化することはとても重要です。単に数字を眺めているだけでは、データに潜む傾向がなかなか見えなかったりしますが、データをビジュアル化することで、データ間の関係性なども見えてきます。特に、近年はインフォグラフィックスなどといって、可視化が注目されています。\n",
        "ここでは、主にmatplotlibとseabornを使って、データを可視化する基本的な方法を身につけましょう。以下のサイトが参考になります。"
      ]
    },
    {
      "metadata": {
        "id": "s3pAM9ffBC8H",
        "colab_type": "text"
      },
      "cell_type": "markdown",
      "source": [
        ">[参考URL]\n",
        "\n",
        ">http://matplotlib.org/\n",
        "\n",
        ">http://seaborn.pydata.org/"
      ]
    },
    {
      "metadata": {
        "id": "YQB9jnbLBC8J",
        "colab_type": "text"
      },
      "cell_type": "markdown",
      "source": [
        "さらに以下の参考サイトは、pythonではなく、java scriptベースのプログラミングですが、データをビジュアル化するという意味では参考になります。"
      ]
    },
    {
      "metadata": {
        "id": "H0vd7lf5BC8J",
        "colab_type": "text"
      },
      "cell_type": "markdown",
      "source": [
        "![dd](http://visualisingadvocacy.org/sites/visualisingadvocacy.org/files/D3-index.jpg)"
      ]
    },
    {
      "metadata": {
        "id": "ZpZdCH9OBC8K",
        "colab_type": "text"
      },
      "cell_type": "markdown",
      "source": [
        "参照：https://d3js.org"
      ]
    },
    {
      "metadata": {
        "id": "GAJa97NWBC8K",
        "colab_type": "text"
      },
      "cell_type": "markdown",
      "source": [
        "早速、必要なライブラリーを読み込みましょう。メインはmatplotlibで、seabornは図をさらにきれいにすることができます。"
      ]
    },
    {
      "metadata": {
        "collapsed": true,
        "nbpresent": {
          "id": "6eff5466-e51a-40e9-b5d6-0e511d329721"
        },
        "id": "TKNC-OQXBC8L",
        "colab_type": "code",
        "colab": {}
      },
      "cell_type": "code",
      "source": [
        "# matplotlib と seabornの読み込み\n",
        "# seabornはきれいに図示できる\n",
        "import matplotlib.pyplot as plt\n",
        "import matplotlib as mpl\n",
        "import seaborn as sns\n",
        "\n",
        "# ここで表示させるために必要なマジックコマンド\n",
        "%matplotlib inline"
      ],
      "execution_count": 0,
      "outputs": []
    },
    {
      "metadata": {
        "id": "r1gOAcIeBC8N",
        "colab_type": "text"
      },
      "cell_type": "markdown",
      "source": [
        "まずは、散布図です。散布図は、2つの組み合わせデータに対して、x−y座標上に点をプロットしたグラフです。ここから2変数の関係性などが見えてきます。"
      ]
    },
    {
      "metadata": {
        "id": "dYQTlP1DBC8O",
        "colab_type": "code",
        "colab": {}
      },
      "cell_type": "code",
      "source": [
        "# 散布図\n",
        "\n",
        "import numpy.random as random\n",
        "\n",
        "#　シード値の固定\n",
        "random.seed(0)\n",
        "# x軸のデータ\n",
        "x = np.random.randn(30)\n",
        "# y軸のデータ\n",
        "y = np.sin(x) + np.random.randn(30)\n",
        "\n",
        "# plot\n",
        "plt.plot(x, y, \"o\")\n",
        "\n",
        "#以下でも散布図が描ける\n",
        "#plt.scatter(x, y)\n",
        "\n",
        "# title\n",
        "plt.title(\"Title Name\")\n",
        "# Xの座標名\n",
        "plt.xlabel(\"X\")\n",
        "# Yの座標名\n",
        "plt.ylabel(\"Y\")\n",
        "\n",
        "# gridの表示\n",
        "plt.grid(True)"
      ],
      "execution_count": 0,
      "outputs": []
    },
    {
      "metadata": {
        "id": "tZvCsyRqBC8R",
        "colab_type": "text"
      },
      "cell_type": "markdown",
      "source": [
        "次もplotを使いますが、時系列など連続した（厳密には連続とみなした）曲線を描いています。"
      ]
    },
    {
      "metadata": {
        "id": "Mh3oQoNeBC8S",
        "colab_type": "code",
        "colab": {}
      },
      "cell_type": "code",
      "source": [
        "# 連続曲線\n",
        "np.random.seed(0)\n",
        "# データの範囲\n",
        "numpy_data_x = np.arange(1000)\n",
        "\n",
        "# 乱数の発生と積み上げ\n",
        "numpy_random_data_y = np.random.randn(1000).cumsum()\n",
        "\n",
        "# label=とlegendでラベルをつけることが可能\n",
        "plt.plot(numpy_data_x,numpy_random_data_y,label=\"Label\")\n",
        "plt.legend()\n",
        "\n",
        "plt.xlabel(\"X\")\n",
        "plt.ylabel(\"Y\")\n",
        "plt.grid(True)"
      ],
      "execution_count": 0,
      "outputs": []
    },
    {
      "metadata": {
        "id": "_m7vTPmOBC8V",
        "colab_type": "text"
      },
      "cell_type": "markdown",
      "source": [
        "subplot()でグラフを複数に分けることができます。以下は、2行1列のグラフを作成し、1番目と2番目と番号を指定して表示させています。なお、linspace(-10,10,100)は-10から10までの数を100コに分割した数字リストを取り出します。"
      ]
    },
    {
      "metadata": {
        "scrolled": true,
        "id": "vbdkTl1EBC8V",
        "colab_type": "code",
        "colab": {}
      },
      "cell_type": "code",
      "source": [
        "# sin関数\n",
        "\n",
        "# 2行1列のグラフの1つ目\n",
        "plt.subplot(2,1,1)\n",
        "x = np.linspace(-10, 10,100)\n",
        "plt.plot(x, np.sin(x)) \n",
        "\n",
        "# 2行1列のグラフの2つ目\n",
        "plt.subplot(2,1,2)\n",
        "y = np.linspace(-10, 10,100)\n",
        "plt.plot(y, np.sin(2*y)) \n",
        "\n",
        "plt.grid(True)"
      ],
      "execution_count": 0,
      "outputs": []
    },
    {
      "metadata": {
        "id": "IBTinX21BC8Y",
        "colab_type": "text"
      },
      "cell_type": "markdown",
      "source": [
        "次は、Scipyで扱った二次関数のグラフです。方程式の解の問題を考える際、数値計算しなくても図をみればおおよその解はわかります。"
      ]
    },
    {
      "metadata": {
        "scrolled": false,
        "id": "VMdGBFW4BC8Z",
        "colab_type": "code",
        "colab": {}
      },
      "cell_type": "code",
      "source": [
        "x = np.arange(-10, 10)\n",
        "plt.plot(x, sample_function(x)) \n",
        "plt.grid(True)"
      ],
      "execution_count": 0,
      "outputs": []
    },
    {
      "metadata": {
        "id": "VJ82tbGEBC8d",
        "colab_type": "text"
      },
      "cell_type": "markdown",
      "source": [
        "次のグラフは、ヒストグラムと言われ、それぞれの値の**度数**(値が出現する回数)を示します。データの全体像を観察するときに使われる図です。ここからどんな数値が多いのか、少ないのか、偏りがあるのかないのか見ていきます。\n",
        "\n",
        "実装ではhistを使います。その中にあるパラメータは、対象となるデータ、ビンの数（幅、個数）、範囲を設定しています。他にも色々とパラメータがありますので、前と同様に?でチェックしてみてください。"
      ]
    },
    {
      "metadata": {
        "collapsed": true,
        "id": "ElsjlKaxBC8f",
        "colab_type": "code",
        "colab": {}
      },
      "cell_type": "code",
      "source": [
        "?plt.hist"
      ],
      "execution_count": 0,
      "outputs": []
    },
    {
      "metadata": {
        "id": "VtQZCvUfBC8i",
        "colab_type": "text"
      },
      "cell_type": "markdown",
      "source": [
        "他、help(~)関数を使って、仕様を確認することができます。"
      ]
    },
    {
      "metadata": {
        "id": "1cJAvy0UBC8k",
        "colab_type": "code",
        "colab": {}
      },
      "cell_type": "code",
      "source": [
        "help(plt.hist)"
      ],
      "execution_count": 0,
      "outputs": []
    },
    {
      "metadata": {
        "id": "Wu4QZQmBBC8p",
        "colab_type": "code",
        "colab": {}
      },
      "cell_type": "code",
      "source": [
        "# histogram\n",
        "random.seed(0)\n",
        "plt.hist(np.random.randn(10**5)*10 + 50, bins=60,range=(20,80))\n",
        "plt.grid(True)"
      ],
      "execution_count": 0,
      "outputs": []
    },
    {
      "metadata": {
        "id": "zp4yNHYnBC8z",
        "colab_type": "text"
      },
      "cell_type": "markdown",
      "source": [
        "以上で、Matplotlibの基礎、そしてデータ分析で使うPyhonのメインモジュール(Numpy、Scipy、Pandas)の基本的な紹介についてはこれで終わります。お疲れ様でした。ここで学んだテクニックは、次の記述統計で使ったり、さらに次の章で活用していきます。"
      ]
    },
    {
      "metadata": {
        "id": "-a5yWjSrBC80",
        "colab_type": "text"
      },
      "cell_type": "markdown",
      "source": [
        "#### <練習問題 1>\n",
        "\n",
        "y = 5x + 3 (xは-10から10の値)のグラフを書いてみましょう。"
      ]
    },
    {
      "metadata": {
        "id": "v-d4oS_EBC82",
        "colab_type": "text"
      },
      "cell_type": "markdown",
      "source": [
        "#### <練習問題 2>\n",
        "\n",
        "先ほどのsin関数に加えて、cos関数のグラフも書いてください。"
      ]
    },
    {
      "metadata": {
        "id": "y05yq0kWBC85",
        "colab_type": "text"
      },
      "cell_type": "markdown",
      "source": [
        "#### <練習問題 3>\n",
        "\n",
        "0から1の値をとる一様乱数を1000個、2組発生させて、それぞれのヒストグラムを書いてみましょう。結果はどうなっていますか。また、1000個だけではなく、100個や10000個などでも実施してみましょう。何かわかることはありますか。なお、それぞれのヒストグラムは別のグラフに表示するために、plt.subplotを利用してください。なお、一様乱数とは、ある数から数まで等確率で発生する乱数のことをいい、np.random.uniformを使ってください。"
      ]
    },
    {
      "metadata": {
        "id": "XEEd-rr-BC88",
        "colab_type": "text"
      },
      "cell_type": "markdown",
      "source": [
        "## 2.2 総合問題"
      ]
    },
    {
      "metadata": {
        "id": "pwTJvva0BC9A",
        "colab_type": "text"
      },
      "cell_type": "markdown",
      "source": [
        "### 2.2.1 モンテカルロ法\n",
        "\n",
        "乱数を発生させる方法を使って、円周率を求めるプログラムを作成してみましょう。（なお、このアプローチを**モンテカルロ法**といいます）\n",
        "\n",
        "（1）一様分布に従う乱数を2組発生させて、それぞれ10,000個の一様乱数を作ってみましょう。なお、一様乱数とは、ある数から数まで等確率で発生する乱数のことをいい、np.random.uniformを使います。使い方としては、0から1までの数を10個発生させる場合は、np.random.uniform(0.0, 1.0, 10)とします。\n",
        "\n",
        "（2）x−y軸を使った中心(0,0)、半径1の円と、長さ1の正方形を考え、円の面積は$\\pi$となり、正方形の面積は1となります。ここで先ほどのxとyの組み合わせの乱数10000個のうち、円の内部に入る点は何組あるでしょうか。ここで、円の内部に入るとは、x−y座標の原点から点 (x, y) のベクトルの長さを求め、それが1より小さくなる場合を判定基準とします。なお、その長さを求めるために、ユークリッドノルム($\\sqrt{x^2 + y^2}$)を使い、 math.hypot(x,y)で計算できます。（さらに、余裕があれば、円の中に入ったxとyの組み合わせと外に出たxとyの組み合わせをプロットして図にしてみましょう。）\n",
        "\n",
        "（3）半径1の1/4の円の面積と長さ1の長方形の面積の比は、$ \\pi /4 : 1$となりますので、これと先ほどの結果を利用して、円周率を求めてみましょう。"
      ]
    }
  ]
}