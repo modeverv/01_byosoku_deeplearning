{
  "nbformat": 4,
  "nbformat_minor": 0,
  "metadata": {
    "colab": {
      "name": "Chapter1_ver2.ipynb",
      "version": "0.3.2",
      "provenance": [],
      "include_colab_link": true
    },
    "kernelspec": {
      "display_name": "Python [default]",
      "language": "python",
      "name": "python3"
    }
  },
  "cells": [
    {
      "cell_type": "markdown",
      "metadata": {
        "id": "view-in-github",
        "colab_type": "text"
      },
      "source": [
        "<a href=\"https://colab.research.google.com/github/modeverv/01_byosoku_deeplearning/blob/master/Chapter1_ver2.ipynb\" target=\"_parent\"><img src=\"https://colab.research.google.com/assets/colab-badge.svg\" alt=\"Open In Colab\"/></a>"
      ]
    },
    {
      "metadata": {
        "nbpresent": {
          "id": "af88da20-0f51-483e-bd72-afc896a9da05"
        },
        "id": "JqobSvfgzD1j",
        "colab_type": "text"
      },
      "cell_type": "markdown",
      "source": [
        "# 1 データサイエンティスト講座概要とPythonの基礎"
      ]
    },
    {
      "metadata": {
        "id": "ZGQdIoGIzD1l",
        "colab_type": "text"
      },
      "cell_type": "markdown",
      "source": [
        "- **[1.1 この講座の概要](#1.1-この講座の概要)**\n",
        "    - [1.1.1 講座の説明](#1.1.1-講座の説明)\n",
        "    - [1.1.2 データサイエンティストについて](#1.1.2-データサイエンティストについて)\n",
        "    - [1.1.3 データ分析の流れ](#1.1.3-データ分析の流れ)\n",
        "    - [1.1.4 （必読！）この講座の注意事項](#1.1.4-（必読！）この講座の注意事項)\n",
        "<br><br>\n",
        "- **[1.2 Pythonの基礎](#1.2-Pythonの基礎)** \n",
        "    - [1.2.1 Jupyterの使い方とPythonの基礎](#1.2.1-Jupyterの使い方とPythonの基礎)\n",
        "    - [1.2.2 クラスとインスタンス](#1.2.2-クラスとインスタンス)\n",
        "<br><br>\n",
        "- **[1.3 総合問題](#1.3-総合問題)** \n",
        "    - [1.3.1 素数判定](#1.3.1-素数判定)"
      ]
    },
    {
      "metadata": {
        "collapsed": true,
        "id": "bKLmeFJZzD1n",
        "colab_type": "text"
      },
      "cell_type": "markdown",
      "source": [
        "\n",
        "***"
      ]
    },
    {
      "metadata": {
        "nbpresent": {
          "id": "dad3a857-8628-4c15-a8ad-312792cb88ac"
        },
        "id": "tHd8QinAzD1o",
        "colab_type": "text"
      },
      "cell_type": "markdown",
      "source": [
        "## 1.1 この講座の概要\n",
        "ゴール：この講座の目的を理解する、データ分析の流れを抑える"
      ]
    },
    {
      "metadata": {
        "nbpresent": {
          "id": "cc42c471-e943-450e-a441-3dc962f1c40d"
        },
        "id": "D9gvuGHazD1q",
        "colab_type": "text"
      },
      "cell_type": "markdown",
      "source": [
        "### 1.1.1 講座の説明\n",
        "キーワード：データ分析、Python、SQL、線形代数、微分積分学、確率、統計、機械学習"
      ]
    },
    {
      "metadata": {
        "id": "QdSBD6v6zD1q",
        "colab_type": "text"
      },
      "cell_type": "markdown",
      "source": [
        "この講座では、Jupyter Notebookを使用するため、まずは自分のパソコンにインストールする必要があります。https://pythondatascience.plavox.info/pythonの開発環境/jupyter-notebookを使ってみよう を参考にインストールしてください。\n",
        "\n",
        "この講座を学ぶ前に前提としている知識は、大学で習う微分・積分と線形代数の基礎で、プログラミング経験がある方達(可能ならPython)を想定しています。この講座とは別に、確率と統計の基礎を体系的に学習することをお勧めします。ここは、厳密な数式に基づいた講座（集合・位相や測度論に基づいた確率統計）ではなく、データ分析の現場に必要なスキルを身につけるという視点で、解説をしています。もちろん、難しい箇所もあるかもしれませんが、一度に全てを理解しなくても先には進むことはできます。後から振り返ってわかるということもありますし、分からない箇所があったり、気になっている箇所がありましたら、以下の参考文献なども都度参照してください。"
      ]
    },
    {
      "metadata": {
        "id": "ZG4-cPBxzD1r",
        "colab_type": "text"
      },
      "cell_type": "markdown",
      "source": [
        ">[参照URL]\n",
        "\n",
        ">https://www.python.org\n",
        "\n",
        ">http://www.sejuku.net/blog/3413\n",
        "\n",
        ">http://diveintopython3-ja.rdy.jp/\n",
        "\n",
        ">[参考文献]\n",
        "\n",
        ">『チュートリアルPython』(Bill Lubanovic, オライリージャパン)\n",
        "\n",
        ">『統計学入門』(東京大学出版)\n",
        "\n",
        ">『統計学』(東京大学出版)"
      ]
    },
    {
      "metadata": {
        "id": "ZL5AxHOCzD1s",
        "colab_type": "text"
      },
      "cell_type": "markdown",
      "source": [
        "この講座では一部、線形代数や微分積分学の基礎知識を前提に話を進めますので、不安がある方は以下の文献等見て復習しましょう。後の章でも、固有値等でてきますので、さらっと読んでおきましょう。もちろん全てやる必要はなく、ここの教材をやっていく上で、必要そうな箇所をピックアップしたり、教材で出現する専門用語をネットで調べながら学習を進めてください。さらっと読んでみて、自分にあっている本を1−2冊購入すればよいでしょう。なお、線形代数や微分積分学に限った話ではありませんが、大学の数学は抽象度があがり、苦手意識を持つ人が多いようです。問題演習をこなすことによってイメージがつきやすくなりますので、以下のような文献で例題や演習を中心にやってみてください。"
      ]
    },
    {
      "metadata": {
        "id": "d-yyhkCCzD1u",
        "colab_type": "text"
      },
      "cell_type": "markdown",
      "source": [
        ">[参考文献]\n",
        "\n",
        ">『線形代数学（新装版）』(川久保　勝夫  (著), 日本評論社)\n",
        "\n",
        ">『入門線形代数 』(三宅 敏恒 (著) , 培風館 )\n",
        "\n",
        ">『明解演習 線形代数 (明解演習シリーズ) 』(小寺 平治(著), 共立出版)\n",
        "\n",
        ">『明解演習 微分積分 (明解演習シリーズ)  』(小寺 平治(著), 共立出版)\n",
        "\n",
        ">『キーポイント多変数の微分積分 (理工系数学のキーポイント (7)) 』(小形 正男 (著), 岩波書店 )\n",
        "\n",
        ">『やさしく学べる微分方程式 』(石村 園子 (著), 共立出版)"
      ]
    },
    {
      "metadata": {
        "id": "TQ71QMftzD1w",
        "colab_type": "text"
      },
      "cell_type": "markdown",
      "source": [
        "なお、以下は解析学（微分積分学）のみですが、大学1−2年の数学に不安のある方、数学的な厳密性を求めたい方にオススメします。"
      ]
    },
    {
      "metadata": {
        "id": "LtitSqLSzD1x",
        "colab_type": "text"
      },
      "cell_type": "markdown",
      "source": [
        ">[参考文献]\n",
        "\n",
        ">『技術者のための基礎解析学 機械学習に必要な数学を本気で学ぶ』(中井 悦司 (著), 翔泳社)"
      ]
    },
    {
      "metadata": {
        "id": "3k5WysC5zD1z",
        "colab_type": "text"
      },
      "cell_type": "markdown",
      "source": [
        "この講座のコンテンツは次のようになります。第1章がこのJupyterNoteBookの使い方とPythonの基礎、2章がNumpy・Scipy・Pandas・Matplotlibの基礎で、データハンドリングに使うライブラリと基本的なテクニックをここで学びます。これらのライブラリのさらなる活用方法については、後の章で学びます。3章が実際のデータを使った記述統計学と回帰分析で、2章で学んだNumpyやPandas等を使っていきます。4章が確率統計の基礎になり、少し理論的なお話になり数式も出てきますが、徐々に慣れていきましょう。\n",
        "\n",
        "5章が科学計算に使われるNumpyやScipy、6章でデータ加工処理に必要となるPandasを使ったテクニック、7章がデータの可視化(Matplotlib)について学びます。この章までにPythonのデータ分析前の処理や加工の基礎を身につけていただき、総合問題でそれらの手法を活用します。具体的には金融の時系列データやマーケティングデータをハンドリングをして、データ分析の実務現場でも使われている基礎的な手法を紹介します。\n",
        "\n",
        "8章からはデータベースの話になり、データベースとSQLの基礎スキルを身につけます。9章でSQLの応用的な処理、10章ではMongoDBのNoSQLについて学びます。データはDBにあるケースもありますし、テキスト形式等で保存されているケースもありますので、ここで学ぶデータ加工処理を学べば、後の工程が楽になります。また、DBはPythonとも連携が可能で、その接続方法などについても紹介します。\n",
        "\n",
        "11章からは、機械学習の単元になります。はじめは教師あり学習、次の12章で教師なし学習、そして13章がその機械学習で学んだモデリングの検証やチューニング方法になります。モデルは作ったら終わりではなく、検証をしっかりとする必要があり、オーバーフィッティング等についても述べます。\n",
        "\n",
        "最後は今後の学習として、14章でデータサイエンスの中級者になるために必要なスキル、例えばPythonの高速化や深層学習入門、Spark(Pyspark)を紹介します。この教材はデータサイエンスの入り口ですので、大事なのはこれからの学習をさらに広げて、深めていくことです。そのために、これらのコンテンツを作成しました。まとめとして、15章は総合問題となります。\n",
        "\n",
        "この講座をすべて完了すれば、データ分析に必要な最低限のスキルと、今注目されている深層学習などを学ぶための前知識も身につけることができます。余談ですが、ここでデータ分析のスキルをしっかりと身につければ、自分の市場価値を上げることができますし、就職や転職するときに選択肢が大きく広がります。"
      ]
    },
    {
      "metadata": {
        "nbpresent": {
          "id": "93b648ee-643e-46b2-a289-f6b562875bc4"
        },
        "id": "17BX4VwzzD10",
        "colab_type": "text"
      },
      "cell_type": "markdown",
      "source": [
        "### 1.1.2 データサイエンティストについて\n",
        "キーワード：データサイエンティスト、統計学、プログラミング"
      ]
    },
    {
      "metadata": {
        "id": "05gWak5OzD15",
        "colab_type": "text"
      },
      "cell_type": "markdown",
      "source": [
        "ここでは、主にデータ分析について学んでいくのですが、まずデータ分析の専門家である「データサイエンティスト」について考えてみましょう。いろいろな書物やネット上で定義されており、一概にはまだ定まっていない状態ですが、ここではデータサイエンティストとは**ビジネスの課題に対して、統計や機械学習（数学）とプログラミング(IT)スキルを使って、解決する人**と定義したいと思います。"
      ]
    },
    {
      "metadata": {
        "id": "_bFii5NdzD19",
        "colab_type": "text"
      },
      "cell_type": "markdown",
      "source": [
        "![comment](http://www.zsassociates.com/solutions/services/technology/technology-services/~/media/791C9080D8914382BC08E27380C24FC6.ashx)"
      ]
    },
    {
      "metadata": {
        "id": "NSFwzW9DzD1_",
        "colab_type": "text"
      },
      "cell_type": "markdown",
      "source": [
        "参照URL：http://www.zsassociates.com/solutions/services/technology/technology-services/big-data-and-data-scientist-services.aspx"
      ]
    },
    {
      "metadata": {
        "id": "EyqorRkJzD2F",
        "colab_type": "text"
      },
      "cell_type": "markdown",
      "source": [
        "このデータサイエンティスト、数学や統計ができる人しかなれないと思われがちですが、それだけではなく、それを実装する力（エンジニアリング力）も必要ですし、そもそもそれらを使ってビジネス課題を解決していく（コンサルティング力みたいなもの）力が求められています。この1つのどれが欠けてもデータサイエンティストではありません。ただ、これらのスキルについてすべてエキスパートだという人はいませんし、以下でも述べますが、それぞれの強みを持っている人たちでグループを作り、データサイエンスチームを結成することもあります。詳しいことは、以下の参考文献や色々とデータ分析関連の本が出ていますので、ぜひ読んでみてください。"
      ]
    },
    {
      "metadata": {
        "id": "1CtZ1CEyzD2H",
        "colab_type": "text"
      },
      "cell_type": "markdown",
      "source": [
        ">[参考文献]\n",
        "\n",
        ">『最強のデータ分析組織 なぜ大阪ガスは成功したのか』(河本 薫 (著)、日経BP社)\n",
        "\n",
        ">『機械脳の時代―――データサイエンスは戦略・組織・仕事をどう変えるのか?』(加藤 エルテス 聡志 (著)、ダイヤモンド社)\n",
        "\n",
        ">『アクセンチュアのプロフェッショナルが教えるデータ・アナリティクス実践講座』(アクセンチュアアナリティクス (著), 工藤卓哉  (監修), 保科学世 (監修), 翔泳社)\n",
        "\n",
        ">『会社を変える分析の力 (講談社現代新書) 』(河本 薫 (著)、講談社)"
      ]
    },
    {
      "metadata": {
        "nbpresent": {
          "id": "8972370e-3b2e-4fe5-b7d5-e6f410f4df68"
        },
        "id": "rjNf05cHzD2J",
        "colab_type": "text"
      },
      "cell_type": "markdown",
      "source": [
        "### 1.1.3 データ分析の流れ\n",
        "キーワード：データ分析の流れ、PDCA"
      ]
    },
    {
      "metadata": {
        "id": "P5MuRqGezD2L",
        "colab_type": "text"
      },
      "cell_type": "markdown",
      "source": [
        "次に、実際のデータ分析の流れを簡単に説明します。データ分析のプロジェクトでは、そのビジネス理解、データ理解、データ加工、処理、モデリング、検証、運用の流れを創ることが大事になってきます。特に、実際のビジネス現場で重要になるのは、ビジネス理解です。ここを外すと意味がなくなってしまいます。目的ありきで、分析ありきではありません。ここがモデリングだけにしか興味がない人たちには面白くないかもしれませんが、さらに大変なのが、クライアントや関係者がはっきりと目的を持っている場合は少ないということです（！）。話し合い等をしながら、こちら側から課題を見つけ、提案していくことが求められます。ここは、他の人たち（コンサルタント、営業等）と協力する必要がありますし、またクライアントや関係者ともコミュニケーションをとっていく必要があり、とても大事です。また、どこかの段階が終わったら完了ではなく、サイクルを回し続けるいわゆるPDCAサイクルの流れまで持っていく必要があります。\n",
        "\n",
        "ただ、そういった側面があるという現実をお伝えした上で、それをどうアプローチしていくのか、どうやって具体化（実装）するのか学んでいくのがこの講座です。"
      ]
    },
    {
      "metadata": {
        "id": "wazoaCXdzD2L",
        "colab_type": "text"
      },
      "cell_type": "markdown",
      "source": [
        "![comment](https://upload.wikimedia.org/wikipedia/commons/thumb/b/ba/Data_visualization_process_v1.png/525px-Data_visualization_process_v1.png)"
      ]
    },
    {
      "metadata": {
        "id": "YsGj0MUUzD2M",
        "colab_type": "text"
      },
      "cell_type": "markdown",
      "source": [
        "参照URL：http://www.kdnuggets.com/2016/03/data-science-process.html"
      ]
    },
    {
      "metadata": {
        "id": "-YvwxOfKzD2O",
        "colab_type": "text"
      },
      "cell_type": "markdown",
      "source": [
        ">**[ポイント]**\n",
        "\n",
        ">データ分析の現場で大事になるのは、ビジネス理解やその目的を明確化し、PDCAサイクルの流れ（データ分析のプロセス）を創ることです。"
      ]
    },
    {
      "metadata": {
        "id": "AIhIuCtOzD2Q",
        "colab_type": "text"
      },
      "cell_type": "markdown",
      "source": [
        "データ分析のプロジェクトの流れ等については、以下のような参考文献があります。"
      ]
    },
    {
      "metadata": {
        "id": "KBGmVma9zD2R",
        "colab_type": "text"
      },
      "cell_type": "markdown",
      "source": [
        ">[参考文献]\n",
        "\n",
        ">『真実を見抜く分析力 ビジネスエリートは知っているデータ活用の基礎知識』(トーマス・H・ダベンポート (著), キム・ジノ(Jin-ho Kim) (著), 河本 薫 (監修), & 1 その他、日経BP社)\n",
        "\n",
        ">『データ分析プロジェクトの手引: データの前処理から予測モデルの運用までを俯瞰する20章』(D. ネトルトン (著), David Nettleton (原著), 市川 太祐 (翻訳), 島田 直希 (翻訳)、共立出版 )"
      ]
    },
    {
      "metadata": {
        "id": "18UKjfXCzD2S",
        "colab_type": "text"
      },
      "cell_type": "markdown",
      "source": [
        "さらに、上記のようなデータ分析のフローや結果をシステム化したり、実務で運用していくためには様々なことを考慮する必要があります。以下の本がオススメです。"
      ]
    },
    {
      "metadata": {
        "id": "sgaeFtA-zD2T",
        "colab_type": "text"
      },
      "cell_type": "markdown",
      "source": [
        ">[参考文献]\n",
        "\n",
        ">『仕事ではじめる機械学習』(有賀 康顕  (著),中山 心太 (著),西林 孝 (著)、オライリージャパン)"
      ]
    },
    {
      "metadata": {
        "id": "zXXIe8R5zD2U",
        "colab_type": "text"
      },
      "cell_type": "markdown",
      "source": [
        "### 1.1.4 （必読！）この講座の注意事項\n",
        "キーワード：自分の手を動かして学ぼう"
      ]
    },
    {
      "metadata": {
        "id": "EE_OoSmTzD2W",
        "colab_type": "text"
      },
      "cell_type": "markdown",
      "source": [
        "ビジネスの理解ができても、それを形にする（実装する）ことができなければ、データサイエンティストではありません。ここでは、様々なデータに対処して、実装できることを目指します。そこで、学習する上でとても大切になってくるのが、**「自分で考えて手を動かしながら学ぶこと」**です。\n",
        "\n",
        "この講座の中で、実際に変数を変えてみたり、コードを実行して、結果をみてください。基本、上から順に実行するだけで良いのですが、ただコードを眺めているだけでは、分析やコーディングのスキルは身につきません。コードをすぐに実行できる環境があるという点が、この講義の大きな特徴です。実際に試行錯誤することでしか、コーディングスキルは身につきません。講座のところどころに、「〜をしてみてください」だとか「考えてください」という文言（**[やってみよう]**）があるので、次に進む前に、ちゃんと立ち止まって考えて、コーディングしてみてください。\n",
        "\n",
        "さらに、練習問題等に関わらず、ご自身の中で「ここの数字を変えたり、処理を変えたらどうなんだろう」など、仮説やアイデアが浮かんだら是非色々と試してみてください。時間はかかるかもしれません。詰まる時もあるかもしれませんし、エラー文などが返ってくるかもしれませんが、エラー文も見ながら、まずは自分で調べながらやることも大事です。また、コードが複数行あって、講座の説明文だけでは分からない処理があるかもしれません。その時は、1行1行実行して、どういう結果が返ってくるのか、見ていきましょう。そこから1つ1つ学ぶことができるのです。（もちろん、簡単だと思われる場合は、適宜スキップしてください。）"
      ]
    },
    {
      "metadata": {
        "id": "_2O7l8WlzD2X",
        "colab_type": "text"
      },
      "cell_type": "markdown",
      "source": [
        "この教材を進めていく中で、わからないキーワードやライブラリ、コードなどが出てくることもあると思います。その場合は、上の参考文献等を見るだけではなく、検索エンジン（グーグルなど）を積極的に使って調べていきましょう。はじめは調べたいものがすぐに見つからず、時間がかかるかもしれませんが、慣れてくれば調べるコツも分かってきます。この**調べる力もとても重要**です。\n",
        "\n",
        "また、この教材に書いてあることを全て丸暗記しようなどとは思わないでください。あくまでこの教材は、PythonやSQL等を使っていろんな処理ができるというのを学んでもらうためのものであって、全て覚えてもらうことを想定していません。学んだばかりの処理は、すぐに使いこなせないかもしれませんが、必要なものは使う頻度も多くなって、そのうち手が覚えて、自然に使えるようになります。実際に、現場で働いている多くのエンジニアは、わからないことがある場合は、ネットで探したり、掲示板で聞いたりして、仕事をしています。ですので、特に初学者の方は、この教材ではいろいろな方法があるというのをまず知って、必要な時に振り返って、使えればよいでしょう。"
      ]
    },
    {
      "metadata": {
        "id": "2ZIQP0p_zD2Y",
        "colab_type": "text"
      },
      "cell_type": "markdown",
      "source": [
        "色々と御託を並べてきましたが、自分で考えてコーディングしたものが動いて、結果が返ってくるというのはとても楽しいです。もちろん、単純作業もありますが、それを自動化したり、うまく処理できるスクリプトができた時も快感です。クリエティブな要素も多いです。ぜひその感触もここで掴んでください。"
      ]
    },
    {
      "metadata": {
        "id": "qM9LDiOpzD2Z",
        "colab_type": "text"
      },
      "cell_type": "markdown",
      "source": [
        ">**[ポイント]**\n",
        "\n",
        ">実際にPythonのコードを書いて実行し、結果をみながら、試行錯誤しよう。そして、楽しんでプログラミングしよう。"
      ]
    },
    {
      "metadata": {
        "id": "fywgeMXRzD2a",
        "colab_type": "text"
      },
      "cell_type": "markdown",
      "source": [
        "なお、Pythonを使った自動化については、以下のような本が出版されていますので、参考にしてください。URLは上記の英語版（原本）ですが、無料です。PDF版もあるようです。フリーの教材や講義は英語が多いので、ついでに英語の勉強もしましょう。"
      ]
    },
    {
      "metadata": {
        "id": "NQDJNMw1zD2b",
        "colab_type": "text"
      },
      "cell_type": "markdown",
      "source": [
        ">[参考文献]\n",
        "\n",
        ">『退屈なことはPythonにやらせよう ―ノンプログラマーにもできる自動化処理プログラミング』(Al Sweigart (著), 相川 愛三 (翻訳)、オライリージャパン)\n",
        "\n",
        ">[参照URL]\n",
        "\n",
        ">https://automatetheboringstuff.com"
      ]
    },
    {
      "metadata": {
        "collapsed": true,
        "id": "J2vyAz5LzD2c",
        "colab_type": "text"
      },
      "cell_type": "markdown",
      "source": [
        "***"
      ]
    },
    {
      "metadata": {
        "nbpresent": {
          "id": "b0fc1861-b979-45c5-abd0-3b05200de3b6"
        },
        "id": "4dtBS0rbzD2d",
        "colab_type": "text"
      },
      "cell_type": "markdown",
      "source": [
        "## 1.2 Pythonの基礎\n",
        "ゴール：Jupyterを使ってPythonの基礎的な実装ができる"
      ]
    },
    {
      "metadata": {
        "id": "WZJI0ZrqzD2e",
        "colab_type": "text"
      },
      "cell_type": "markdown",
      "source": [
        "### 1.2.1 Jupyterの使い方とPythonの基礎\n",
        "キーワード：演算、文字列、変数、リスト、内包表記、制御、関数、オブジェクト指向"
      ]
    },
    {
      "metadata": {
        "id": "mKInrlmgzD2g",
        "colab_type": "text"
      },
      "cell_type": "markdown",
      "source": [
        "ここからいよいよ実装です。本講座ではPythonを使用します。そもそもなぜPythonを使うのでしょうか。それは、他のプログラミング言語と比べてコーディングがしやすく、色々なこと（データの加工、取得、モデリング等）が一貫して簡単にできるからです。また、データ解析や機械学習系のライブラリが揃っているため、多くのデータサイエンティストに利用されています。Python以外でプログラムをやってきた人はもちろん、プログラム経験がない人たちでもすぐに扱うことができます。なお、コードは基本的に上から順に実行してください。"
      ]
    },
    {
      "metadata": {
        "id": "sjw5nIhGzD2h",
        "colab_type": "text"
      },
      "cell_type": "markdown",
      "source": [
        "早速、Pythonのコードを見て、実行していきましょう。（なお、PythonやJupyter環境に慣れている人は、ここはスキップして、次のNumpy等に進んでください。）"
      ]
    },
    {
      "metadata": {
        "id": "wNGximnbzD2j",
        "colab_type": "text"
      },
      "cell_type": "markdown",
      "source": [
        "プログラミング言語入門でおなじみの「Hello, world!」の出力もこれだけのコードで足ります。"
      ]
    },
    {
      "metadata": {
        "id": "K0kTTiphzD2k",
        "colab_type": "code",
        "colab": {
          "base_uri": "https://localhost:8080/",
          "height": 50
        },
        "outputId": "44251650-348e-46a5-ab25-6abb6622ad9f"
      },
      "cell_type": "code",
      "source": [
        "print(\"Hello, world!\")\n",
        "print(1)"
      ],
      "execution_count": 5,
      "outputs": [
        {
          "output_type": "stream",
          "text": [
            "Hello, world!\n",
            "1\n"
          ],
          "name": "stdout"
        }
      ]
    },
    {
      "metadata": {
        "id": "ax6IBI_izD2q",
        "colab_type": "text"
      },
      "cell_type": "markdown",
      "source": [
        "以下のセルは、いくつかの演算例です。上記もprintを使って出力していますが、printなしでも出力できて、電卓みたいに使えます。セルを選択し、Shift + return で実行すると、結果が表示され、次のセルに移動します。上の再生ボタンみたいなもの（▶︎|）を押しても、実行できます。なお、#はコメントアウトで、無視されます。後々のために、適宜、コメントを残すことも大事です。"
      ]
    },
    {
      "metadata": {
        "id": "pQonMiqh25Ux",
        "colab_type": "code",
        "colab": {}
      },
      "cell_type": "code",
      "source": [
        ""
      ],
      "execution_count": 0,
      "outputs": []
    },
    {
      "metadata": {
        "id": "J5CF9hwczD2s",
        "colab_type": "code",
        "colab": {},
        "outputId": "837c3a69-56bf-42a0-bf30-398bffaf64e2"
      },
      "cell_type": "code",
      "source": [
        "# 演算とその出力例\n",
        "print(1 + 1)\n",
        "print(2 * 5)\n",
        "print(10 ** 3) # 10の3乗, 〜乗は**を使う"
      ],
      "execution_count": 0,
      "outputs": [
        {
          "output_type": "stream",
          "text": [
            "2\n",
            "10\n",
            "1000\n"
          ],
          "name": "stdout"
        }
      ]
    },
    {
      "metadata": {
        "id": "crrGaOaazD2z",
        "colab_type": "text"
      },
      "cell_type": "markdown",
      "source": [
        "**なお、以下は基本的なJupyterの使い方の解説です。（トップ画面のHelp -> Launch Classic Notebookで旧バージョンのNotebookで作業が可能です。）**\n",
        "\n",
        "画面の左上にある＋を押して、セルを追加し、数字を入力して、いくつか計算を実行してみましょう。また、セルを切り取りたい場合はハサミマークを、セルを上下に持って行きたい時は↑↓ボタンを押せばよいです。なお、コードを書く時はデフォルトで「Code」になっていますが、文章等を記述したい時は、「Markdown」を選択してください。メモを残したい場合などに便利です。さらに、色々なアウトプットが出せるので、もし詳しく知りたい方は以下の参照などを見ながら実行することをお勧めします。なお、下図はPython 2の表記になっていますが、現在のPythonの最新バージョンはPython 3となります。Python 2 と3ではコードの書き方が変わっており、本講座はPython 3に基づいています。Python 2のサポートは2020年までとなっているため、今後はPython 3を使用していくことをお勧めします。"
      ]
    },
    {
      "metadata": {
        "id": "BD6hLvSZzD22",
        "colab_type": "text"
      },
      "cell_type": "markdown",
      "source": [
        "![dd](https://qiita-image-store.s3.amazonaws.com/0/67592/6634bd1a-4e49-7fcf-4a6f-700009ea0594.png)"
      ]
    },
    {
      "metadata": {
        "id": "YUffxNBBzD23",
        "colab_type": "text"
      },
      "cell_type": "markdown",
      "source": [
        ">[参考URL]\n",
        "\n",
        ">http://pythondatascience.plavox.info/pythonの開発環境/jupyter-notebookを使ってみよう/\n",
        "\n",
        ">http://jupyter-notebook.readthedocs.io/en/latest/examples/Notebook/Working%20With%20Markdown%20Cells.html"
      ]
    },
    {
      "metadata": {
        "id": "d7N--qIWzD24",
        "colab_type": "text"
      },
      "cell_type": "markdown",
      "source": [
        "もっと作業の効率を高めたい場合は、ショートカットキーを使いこなせるようになりましょう。編集モードでない状態（「esc」を押します。）で「h」を押すと以下のような画面が出てくるので、例えば、新しいセルを下に追加したい場合は、「b」を押します。他にも、コピー(「c」)、貼り付け(「v」)などもありますので、ぜひ使いこなしてください。ショートカットキーに慣れていない人は、はじめちょっと大変かもしれませんが、慣れると圧倒的に作業時間が短くなります。"
      ]
    },
    {
      "metadata": {
        "id": "88_kk1TGzD25",
        "colab_type": "text"
      },
      "cell_type": "markdown",
      "source": [
        "![comment](http://www.perfectlyrandom.org/assets/jupyter-keyboard-shortcuts.png)"
      ]
    },
    {
      "metadata": {
        "id": "Kp4mF-PdzD26",
        "colab_type": "text"
      },
      "cell_type": "markdown",
      "source": [
        ">**[ポイント]**\n",
        "\n",
        ">作業（コーディング）を効率よく進めるためには、ショートカットキーを使いなそう。"
      ]
    },
    {
      "metadata": {
        "id": "af6_m6PVzD27",
        "colab_type": "text"
      },
      "cell_type": "markdown",
      "source": [
        "なお、ショートカットキーを使う場面はJupyterだけではありません。ほとんどの方がWindowsかMacを使っていると思いますので、それぞれのショートカットキーも使えると作業効率が高まります（エクセルなどもそうです）。全く使っていなかった方は是非使えるようになりましょう。スポーツ（野球やバスケットなど）でいうところの基礎練習（素振り、ドリブルなど）だと思って、手を慣らしてください。"
      ]
    },
    {
      "metadata": {
        "id": "3KjMwdTSzD28",
        "colab_type": "text"
      },
      "cell_type": "markdown",
      "source": [
        ">[参考URL]\n",
        "\n",
        ">https://ja.wikipedia.org/wiki/ショートカットキー一覧"
      ]
    },
    {
      "metadata": {
        "id": "A531zWSrzD29",
        "colab_type": "text"
      },
      "cell_type": "markdown",
      "source": [
        "次の例は、変数に文字を割り当て、printでその変数に入っている値を表示させています。なお、普通のプログラミング言語（CやJavaなど）では、変数を扱うときに整数なのか文字なのか「型」を設定する必要があります（int x など）が、Pythonは変数の型を指定しなくてよいです。（これを静的型付け言語といいます。C言語などの言語は静的型付け言語といいます。）"
      ]
    },
    {
      "metadata": {
        "id": "jpaTO5YtzD2_",
        "colab_type": "code",
        "colab": {},
        "outputId": "18eee84c-4059-42b2-fcda-74fdb5d6c136"
      },
      "cell_type": "code",
      "source": [
        "# 文字列\n",
        "sample_str = \"test\"\n",
        "print(sample_str)"
      ],
      "execution_count": 0,
      "outputs": [
        {
          "output_type": "stream",
          "text": [
            "test\n"
          ],
          "name": "stdout"
        }
      ]
    },
    {
      "metadata": {
        "id": "Vl9J-wDAzD3E",
        "colab_type": "code",
        "colab": {},
        "outputId": "2e32d9ef-4d56-4dbc-b683-3fe20c8d4b7b"
      },
      "cell_type": "code",
      "source": [
        "# 文字の抜き出しも可能。なお、0から始まる。\n",
        "sample_str[0]"
      ],
      "execution_count": 0,
      "outputs": [
        {
          "output_type": "execute_result",
          "data": {
            "text/plain": [
              "'t'"
            ]
          },
          "metadata": {
            "tags": []
          },
          "execution_count": 4
        }
      ]
    },
    {
      "metadata": {
        "id": "8xXGXn68zD3M",
        "colab_type": "code",
        "colab": {},
        "outputId": "d5b760ad-7a2f-4901-d971-fbf73bed1ed7"
      },
      "cell_type": "code",
      "source": [
        "# 2番目の文字は1を指定\n",
        "sample_str[1]"
      ],
      "execution_count": 0,
      "outputs": [
        {
          "output_type": "execute_result",
          "data": {
            "text/plain": [
              "'e'"
            ]
          },
          "metadata": {
            "tags": []
          },
          "execution_count": 5
        }
      ]
    },
    {
      "metadata": {
        "id": "_GssGmlnzD3S",
        "colab_type": "text"
      },
      "cell_type": "markdown",
      "source": [
        "以下は、インデックス5の文字を指定していますが、最後はインデックス3のtであるため、6番目の文字は存在しないため、エラーが出ています。"
      ]
    },
    {
      "metadata": {
        "id": "6Cb_c7b_zD3W",
        "colab_type": "code",
        "colab": {},
        "outputId": "75a0deb7-c912-425f-fcfb-02a3bb12ac11"
      },
      "cell_type": "code",
      "source": [
        "# 実行してもエラーが出るので注意\n",
        "sample_str[5]"
      ],
      "execution_count": 0,
      "outputs": [
        {
          "output_type": "error",
          "ename": "IndexError",
          "evalue": "string index out of range",
          "traceback": [
            "\u001b[0;31m---------------------------------------------------------------------------\u001b[0m",
            "\u001b[0;31mIndexError\u001b[0m                                Traceback (most recent call last)",
            "\u001b[0;32m<ipython-input-6-a99414d7448b>\u001b[0m in \u001b[0;36m<module>\u001b[0;34m()\u001b[0m\n\u001b[1;32m      1\u001b[0m \u001b[1;31m# 実行してもエラーが出るので注意\u001b[0m\u001b[1;33m\u001b[0m\u001b[1;33m\u001b[0m\u001b[0m\n\u001b[0;32m----> 2\u001b[0;31m \u001b[0msample_str\u001b[0m\u001b[1;33m[\u001b[0m\u001b[1;36m5\u001b[0m\u001b[1;33m]\u001b[0m\u001b[1;33m\u001b[0m\u001b[0m\n\u001b[0m",
            "\u001b[0;31mIndexError\u001b[0m: string index out of range"
          ]
        }
      ]
    },
    {
      "metadata": {
        "id": "GkKAUn3HzD3e",
        "colab_type": "text"
      },
      "cell_type": "markdown",
      "source": [
        "今後、実装して計算を実行したあとにエラーに遭遇することは多々あります。そのときに、解決の手がかりとなるのがこの表示されるエラーメッセージです。上のエラーでは、最後に「IndexError: string index out of range」と記載されています。インデックスエラーと出ています。文字インデックスが範囲外だといっているので、5というのはおかしいなというのがわかります。\n",
        "\n",
        "当たり前のことですが、エラーが起きた場合は、まずはエラーメッセージを見ましょう。「----> 」がエラーが発生している場所を指しています。ただし、エラーメッセージがわからないこともあると思いますので、その時はそのままエラーメッセージをグーグルなどで検索してみましょう。他の人も同じようなエラーに遭遇している可能性は意外と高いので、早く解決策が見つかるかもしれません。"
      ]
    },
    {
      "metadata": {
        "id": "vyVgMFcyzD3f",
        "colab_type": "text"
      },
      "cell_type": "markdown",
      "source": [
        ">**[ポイント]**\n",
        "\n",
        ">エラーが出た時は、慌てずにエラーメッセージをしっかり確認しましょう。わからなければ、そのままエラーメッセージを検索エンジンで探しましょう。"
      ]
    },
    {
      "metadata": {
        "id": "LELo7xKAzD3f",
        "colab_type": "text"
      },
      "cell_type": "markdown",
      "source": [
        "さて、先ほどは変数に文字を割り当てましたが、もちろん数字を割り当てることもでき、その変数を使って、演算も可能です。なお、=は等しいという意味ではなく、右の値を左の値に割り当てするという意味です。"
      ]
    },
    {
      "metadata": {
        "id": "vwiAN0rgzD3g",
        "colab_type": "code",
        "colab": {},
        "outputId": "8d9338e2-57db-4244-92cb-46f3a99a0e95"
      },
      "cell_type": "code",
      "source": [
        "#　変数にデータを割り当て\n",
        "sample_data_int = 1\n",
        "print(sample_data_int)\n",
        "\n",
        "# 上の数字に10を足す\n",
        "sample_data_int = sample_data_int + 10\n",
        "print(sample_data_int)"
      ],
      "execution_count": 0,
      "outputs": [
        {
          "output_type": "stream",
          "text": [
            "1\n",
            "11\n"
          ],
          "name": "stdout"
        }
      ]
    },
    {
      "metadata": {
        "nbpresent": {
          "id": "6dccff7c-9bb1-447a-9692-656ca1687626"
        },
        "id": "TuqxMZ7WzD3m",
        "colab_type": "text"
      },
      "cell_type": "markdown",
      "source": [
        "何か変数を作成するときは、可能な限り変数名は考えて作成しましょう。ただ、単なる数字のチェック等をするのみであれば a = などでも良いですし、この講座でも一時的に使う変数などは特に凝った名前は付けていません。\n",
        "\n",
        "大規模な開発になってくるほど変数名は大事です。もちろん、第3者のためにという意味でメリットになりますが、将来の自分のためにもなります。変数を書いた直後はどんな変数を割り当てたのか覚えていますが、1週間、1ヶ月後その変数xを見たときに、どうでしょうか。何の変数だったのか忘れてしまうことは多々あります。さらにコードが長くなってくると、変数も増えてきて、わからなくなります。\n",
        "\n",
        "コーディングについては、絶対的なルールはないですが、ある程度は規定されているので、ぜひ以下のサイトなど見て参考にしてください。"
      ]
    },
    {
      "metadata": {
        "id": "8ySupcfJzD3n",
        "colab_type": "text"
      },
      "cell_type": "markdown",
      "source": [
        ">[参考URL]\n",
        "\n",
        ">http://pep8-ja.readthedocs.io/ja/latest/"
      ]
    },
    {
      "metadata": {
        "id": "NnfF4WXHzD3o",
        "colab_type": "text"
      },
      "cell_type": "markdown",
      "source": [
        "他、変数に関する注意点として、プログラミング言語には、**予約語**といわれる、あらかじめ用意してある変数や組み込みオブジェクトなど(while, if, sumなど)がありますので、それらを変数名として使わないように注意しましょう。それをしてしまうと、後からその機能が使えなくなってしまいますので、以下の情報等も参考に、変数名の設定には注意してください。"
      ]
    },
    {
      "metadata": {
        "scrolled": true,
        "id": "gMejKXnZzD3o",
        "colab_type": "code",
        "colab": {},
        "outputId": "4e91fdcb-fa9c-45f5-82fb-7b61abfc8adb"
      },
      "cell_type": "code",
      "source": [
        "# 予約語\n",
        "__import__('keyword').kwlist"
      ],
      "execution_count": 0,
      "outputs": [
        {
          "output_type": "execute_result",
          "data": {
            "text/plain": [
              "['False',\n",
              " 'None',\n",
              " 'True',\n",
              " 'and',\n",
              " 'as',\n",
              " 'assert',\n",
              " 'break',\n",
              " 'class',\n",
              " 'continue',\n",
              " 'def',\n",
              " 'del',\n",
              " 'elif',\n",
              " 'else',\n",
              " 'except',\n",
              " 'finally',\n",
              " 'for',\n",
              " 'from',\n",
              " 'global',\n",
              " 'if',\n",
              " 'import',\n",
              " 'in',\n",
              " 'is',\n",
              " 'lambda',\n",
              " 'nonlocal',\n",
              " 'not',\n",
              " 'or',\n",
              " 'pass',\n",
              " 'raise',\n",
              " 'return',\n",
              " 'try',\n",
              " 'while',\n",
              " 'with',\n",
              " 'yield']"
            ]
          },
          "metadata": {
            "tags": []
          },
          "execution_count": 8
        }
      ]
    },
    {
      "metadata": {
        "id": "id9ge9YQzD3x",
        "colab_type": "code",
        "colab": {},
        "outputId": "3263df46-2423-44e6-9bad-d33c6dbd6daf"
      },
      "cell_type": "code",
      "source": [
        "# 組み込みオブジェクト\n",
        "dir(__builtins__)"
      ],
      "execution_count": 0,
      "outputs": [
        {
          "output_type": "execute_result",
          "data": {
            "text/plain": [
              "['ArithmeticError',\n",
              " 'AssertionError',\n",
              " 'AttributeError',\n",
              " 'BaseException',\n",
              " 'BlockingIOError',\n",
              " 'BrokenPipeError',\n",
              " 'BufferError',\n",
              " 'BytesWarning',\n",
              " 'ChildProcessError',\n",
              " 'ConnectionAbortedError',\n",
              " 'ConnectionError',\n",
              " 'ConnectionRefusedError',\n",
              " 'ConnectionResetError',\n",
              " 'DeprecationWarning',\n",
              " 'EOFError',\n",
              " 'Ellipsis',\n",
              " 'EnvironmentError',\n",
              " 'Exception',\n",
              " 'False',\n",
              " 'FileExistsError',\n",
              " 'FileNotFoundError',\n",
              " 'FloatingPointError',\n",
              " 'FutureWarning',\n",
              " 'GeneratorExit',\n",
              " 'IOError',\n",
              " 'ImportError',\n",
              " 'ImportWarning',\n",
              " 'IndentationError',\n",
              " 'IndexError',\n",
              " 'InterruptedError',\n",
              " 'IsADirectoryError',\n",
              " 'KeyError',\n",
              " 'KeyboardInterrupt',\n",
              " 'LookupError',\n",
              " 'MemoryError',\n",
              " 'NameError',\n",
              " 'None',\n",
              " 'NotADirectoryError',\n",
              " 'NotImplemented',\n",
              " 'NotImplementedError',\n",
              " 'OSError',\n",
              " 'OverflowError',\n",
              " 'PendingDeprecationWarning',\n",
              " 'PermissionError',\n",
              " 'ProcessLookupError',\n",
              " 'RecursionError',\n",
              " 'ReferenceError',\n",
              " 'ResourceWarning',\n",
              " 'RuntimeError',\n",
              " 'RuntimeWarning',\n",
              " 'StopAsyncIteration',\n",
              " 'StopIteration',\n",
              " 'SyntaxError',\n",
              " 'SyntaxWarning',\n",
              " 'SystemError',\n",
              " 'SystemExit',\n",
              " 'TabError',\n",
              " 'TimeoutError',\n",
              " 'True',\n",
              " 'TypeError',\n",
              " 'UnboundLocalError',\n",
              " 'UnicodeDecodeError',\n",
              " 'UnicodeEncodeError',\n",
              " 'UnicodeError',\n",
              " 'UnicodeTranslateError',\n",
              " 'UnicodeWarning',\n",
              " 'UserWarning',\n",
              " 'ValueError',\n",
              " 'Warning',\n",
              " 'WindowsError',\n",
              " 'ZeroDivisionError',\n",
              " '__IPYTHON__',\n",
              " '__build_class__',\n",
              " '__debug__',\n",
              " '__doc__',\n",
              " '__import__',\n",
              " '__loader__',\n",
              " '__name__',\n",
              " '__package__',\n",
              " '__spec__',\n",
              " 'abs',\n",
              " 'all',\n",
              " 'any',\n",
              " 'ascii',\n",
              " 'bin',\n",
              " 'bool',\n",
              " 'bytearray',\n",
              " 'bytes',\n",
              " 'callable',\n",
              " 'chr',\n",
              " 'classmethod',\n",
              " 'compile',\n",
              " 'complex',\n",
              " 'copyright',\n",
              " 'credits',\n",
              " 'delattr',\n",
              " 'dict',\n",
              " 'dir',\n",
              " 'divmod',\n",
              " 'dreload',\n",
              " 'enumerate',\n",
              " 'eval',\n",
              " 'exec',\n",
              " 'filter',\n",
              " 'float',\n",
              " 'format',\n",
              " 'frozenset',\n",
              " 'get_ipython',\n",
              " 'getattr',\n",
              " 'globals',\n",
              " 'hasattr',\n",
              " 'hash',\n",
              " 'help',\n",
              " 'hex',\n",
              " 'id',\n",
              " 'input',\n",
              " 'int',\n",
              " 'isinstance',\n",
              " 'issubclass',\n",
              " 'iter',\n",
              " 'len',\n",
              " 'license',\n",
              " 'list',\n",
              " 'locals',\n",
              " 'map',\n",
              " 'max',\n",
              " 'memoryview',\n",
              " 'min',\n",
              " 'next',\n",
              " 'object',\n",
              " 'oct',\n",
              " 'open',\n",
              " 'ord',\n",
              " 'pow',\n",
              " 'print',\n",
              " 'property',\n",
              " 'range',\n",
              " 'repr',\n",
              " 'reversed',\n",
              " 'round',\n",
              " 'set',\n",
              " 'setattr',\n",
              " 'slice',\n",
              " 'sorted',\n",
              " 'staticmethod',\n",
              " 'str',\n",
              " 'sum',\n",
              " 'super',\n",
              " 'tuple',\n",
              " 'type',\n",
              " 'vars',\n",
              " 'zip']"
            ]
          },
          "metadata": {
            "tags": []
          },
          "execution_count": 9
        }
      ]
    },
    {
      "metadata": {
        "id": "n1eOFTGDzD31",
        "colab_type": "text"
      },
      "cell_type": "markdown",
      "source": [
        ">**[ポイント]**\n",
        "\n",
        ">予約語や組み込みオブジェクトなどに注意して変数名を設定しよう。"
      ]
    },
    {
      "metadata": {
        "id": "lH7ahUECzD31",
        "colab_type": "text"
      },
      "cell_type": "markdown",
      "source": [
        "次は、リストについてです。リストとは、他の言語で言うところの配列みたいなものです。以下は、1から10まで数字が並んでいるデータを作っています。"
      ]
    },
    {
      "metadata": {
        "id": "fyC_M95wzD32",
        "colab_type": "code",
        "colab": {},
        "outputId": "12091164-7263-4719-d3b9-883d9ff3cf05"
      },
      "cell_type": "code",
      "source": [
        "# list\n",
        "sample_data_list = [1, 2, 3, 4, 5, 6, 7, 8, 9, 10]\n",
        "print(sample_data_list)\n",
        "\n",
        "# typeで変数のタイプがわかる\n",
        "print(\"変数のタイプ:\", type(sample_data_list))\n",
        "\n",
        "# 1つの要素を指定。0から始まり、[1]は2番目になるので注意。\n",
        "print(\"2番目の数：\", sample_data_list[1])\n",
        "\n",
        "# lenで要素の数を出力。ここでは1から10までの10個なので、結果は10。\n",
        "print(\"要素数：\", len(sample_data_list))"
      ],
      "execution_count": 0,
      "outputs": [
        {
          "output_type": "stream",
          "text": [
            "[1, 2, 3, 4, 5, 6, 7, 8, 9, 10]\n",
            "変数のタイプ: <class 'list'>\n",
            "2番目の数： 2\n",
            "要素数： 10\n"
          ],
          "name": "stdout"
        }
      ]
    },
    {
      "metadata": {
        "id": "5Bf9XE2szD36",
        "colab_type": "text"
      },
      "cell_type": "markdown",
      "source": [
        ">**[やってみよう]**\n",
        "\n",
        ">上の＋を押して（もしくは非編集状態で、「b」を押して）セルを追加し、何かのリストを作成して、要素数を出力してみましょう。"
      ]
    },
    {
      "metadata": {
        "id": "FOwag27mzD37",
        "colab_type": "text"
      },
      "cell_type": "markdown",
      "source": [
        "なお、リストにあるそれぞれの要素を2倍したい場合、2をかけても、リスト自体が2倍になるだけです。それぞれの要素を2倍したければ、for文を書くか、次で説明するNumpyを使うと良いです。"
      ]
    },
    {
      "metadata": {
        "scrolled": true,
        "id": "b5CvUHVozD37",
        "colab_type": "code",
        "colab": {},
        "outputId": "f3bfae72-2451-4297-d9a8-d6b2079c0b3e"
      },
      "cell_type": "code",
      "source": [
        "# リスト自体が2倍になる\n",
        "sample_data_list * 2 "
      ],
      "execution_count": 0,
      "outputs": [
        {
          "output_type": "execute_result",
          "data": {
            "text/plain": [
              "[1, 2, 3, 4, 5, 6, 7, 8, 9, 10, 1, 2, 3, 4, 5, 6, 7, 8, 9, 10]"
            ]
          },
          "metadata": {
            "tags": []
          },
          "execution_count": 11
        }
      ]
    },
    {
      "metadata": {
        "id": "FYMwGZ8NzD4E",
        "colab_type": "text"
      },
      "cell_type": "markdown",
      "source": [
        "次は、辞書型です。これを使うと、キーと値をペアにして複数の要素を管理することができます。キーは整数だけではなく、文字で設定可能です。また、リストとは違って、順番は特に関係ありません。"
      ]
    },
    {
      "metadata": {
        "id": "AEto_7S7zD4G",
        "colab_type": "code",
        "colab": {},
        "outputId": "fb4c95da-7046-4a69-aa1e-59103654d8c1"
      },
      "cell_type": "code",
      "source": [
        "# dictionary\n",
        "sample_dic_data = {'apple': 100, 'banana': 100, 'orange': 300, 'mango': 400, 'melon': 500}\n",
        "print(sample_dic_data['melon'])"
      ],
      "execution_count": 0,
      "outputs": [
        {
          "output_type": "stream",
          "text": [
            "500\n"
          ],
          "name": "stdout"
        }
      ]
    },
    {
      "metadata": {
        "id": "muKCT3C-zD4Q",
        "colab_type": "text"
      },
      "cell_type": "markdown",
      "source": [
        ">**[やってみよう]**\n",
        "\n",
        ">上では、melonを表示させましたが、orangeの値を表示させてみましょう。また、キーがappleとorangeの値を足してみましょう。"
      ]
    },
    {
      "metadata": {
        "id": "_ZQuJ_EizD4R",
        "colab_type": "text"
      },
      "cell_type": "markdown",
      "source": [
        "次は、条件分岐です。ifの横にある条件式を満たしている場合(True)に、該当の文(はじめにある:からelse:の手前まで)を実行し、そうでない場合はelse:以下を実行します。以下の処理は、数字の5がリストの中に入っているかどうかを判定しています。入ってなければ、elseに飛びます。また、Pythonのコーディングにおける注意点ですが、if文などを使うとき、次の行はインデント(字下げ)します。通常は半角スペース4つ分をおきます。このJupyter上では、改行をしたときに自動で空白ができますが、開発環境によっては注意しましょう。"
      ]
    },
    {
      "metadata": {
        "id": "AJ5jpNwEzD4R",
        "colab_type": "code",
        "colab": {},
        "outputId": "3f7037cc-9264-47f2-e8cd-c3f430a9c60b"
      },
      "cell_type": "code",
      "source": [
        "# 数字の設定\n",
        "sample_int = 5\n",
        "\n",
        "if sample_int in sample_data_list:\n",
        "    #　\" \" の中に、扱っている変数を表示させたい場合は、以下のように %dと%を組み合わせる\n",
        "    print(\"%d は入っています。\" % (sample_int))\n",
        "else:\n",
        "    print(\"%d は入っていません。\" % (sample_int))"
      ],
      "execution_count": 0,
      "outputs": [
        {
          "output_type": "stream",
          "text": [
            "5 は入っています。\n"
          ],
          "name": "stdout"
        }
      ]
    },
    {
      "metadata": {
        "id": "ZlW07r1Z33L9",
        "colab_type": "code",
        "colab": {
          "base_uri": "https://localhost:8080/",
          "height": 34
        },
        "outputId": "4d2d43d2-4eb7-4cb8-cb8a-278a2352d7bc"
      },
      "cell_type": "code",
      "source": [
        "l = [1,2,3]\n",
        "if 1 in l:\n",
        "  print(\"include\")\n",
        "else:\n",
        "  print(\"not include\")\n",
        "  \n",
        "      \n",
        "   "
      ],
      "execution_count": 7,
      "outputs": [
        {
          "output_type": "stream",
          "text": [
            "include\n"
          ],
          "name": "stdout"
        }
      ]
    },
    {
      "metadata": {
        "id": "QWBJ8czdzD4Y",
        "colab_type": "text"
      },
      "cell_type": "markdown",
      "source": [
        ">**[やってみよう]**\n",
        "\n",
        ">出力が変わるように、数字の設定（ここでは、sample_int）を変更して、実行してみましょう。また、条件文や、出力結果等を変えてみたりしてください。"
      ]
    },
    {
      "metadata": {
        "id": "tRF24JBMzD4Y",
        "colab_type": "text"
      },
      "cell_type": "markdown",
      "source": [
        "補足説明として、「print(\" %d は入っています。\" %(sample_int))」では、変数（sample_int）を文字列の中（\"は入っています。\"）に表示させるために、%dと%(sample_int)を使っています。%d は整数、%s は文字列、%f は浮動小数点数の場合に設定します。文字列フォーマットといいます。他、「print(\"{0} は入っていません。\".format(sample_int))」のようにして表示することも可能です（変数を複数設定することもできます）。このformat記法はPython2.6から登場した方法で、%記法を拡張したものとなります。%記法は今後廃止される可能性があるため注意が必要です。"
      ]
    },
    {
      "metadata": {
        "id": "TyUcnU3WzD4Z",
        "colab_type": "text"
      },
      "cell_type": "markdown",
      "source": [
        "次は、繰り返し処理のfor文です。以下は、[1, 2, 3]のリストデータに対して、初めから順番に（1から）データを取り出し、データがなくなる（3まで）まで繰り返し処理（取り出した数字の表示と足し算）を実行しています。初めは0+1=1、次に1+2=3、最後に3+3=6となり、最終的な合計値を表示しています。"
      ]
    },
    {
      "metadata": {
        "id": "SF2j-xorzD4b",
        "colab_type": "code",
        "colab": {},
        "outputId": "cb0985fb-00cb-400e-c609-426bfd995f66"
      },
      "cell_type": "code",
      "source": [
        "# 初期値の設定\n",
        "total_num = 0\n",
        "\n",
        "# for 文\n",
        "for num in [1, 2, 3]:\n",
        "    # 取り出した数の表示\n",
        "    print(\"num:\", num)\n",
        "    # 今まで取り出した数の合計\n",
        "    total_num = total_num + num\n",
        "\n",
        "# 最後に合計を表示\n",
        "print(\"total_num:\", total_num)"
      ],
      "execution_count": 0,
      "outputs": [
        {
          "output_type": "stream",
          "text": [
            "num: 1\n",
            "num: 2\n",
            "num: 3\n",
            "total_num: 6\n"
          ],
          "name": "stdout"
        }
      ]
    },
    {
      "metadata": {
        "id": "YcUqaRY2zD4h",
        "colab_type": "text"
      },
      "cell_type": "markdown",
      "source": [
        "for文を使って、先ほど作成した辞書型のデータを1つ1つ取り出して、それぞれのキーと値を出力しています。これもなくなるまで繰り返します。"
      ]
    },
    {
      "metadata": {
        "id": "jwXW8NowzD4h",
        "colab_type": "code",
        "colab": {},
        "outputId": "74b52fec-05b8-4a08-9d5a-fb285361cd44"
      },
      "cell_type": "code",
      "source": [
        "# for 文\n",
        "for dic_key in sample_dic_data:\n",
        "    print(dic_key, sample_dic_data[dic_key])"
      ],
      "execution_count": 0,
      "outputs": [
        {
          "output_type": "stream",
          "text": [
            "mango 400\n",
            "banana 100\n",
            "orange 300\n",
            "apple 100\n",
            "melon 500\n"
          ],
          "name": "stdout"
        }
      ]
    },
    {
      "metadata": {
        "id": "kmr4HlyLzD4r",
        "colab_type": "text"
      },
      "cell_type": "markdown",
      "source": [
        "なお、以下のような方法でキーと値を取り出すこともできます。これは、あとで説明する**オブジェクト指向型プログラミング**の特徴で、データ（ここではsample_dic_data）とそれを処理するための**メソッド**（以下のitems()）がセットになっており、それを活用しています。メソッドとはあとで説明する**関数**みたいなもので、それを使って処理（ここでは、キーと値を返す）をします。"
      ]
    },
    {
      "metadata": {
        "id": "QnHHAt2PzD4s",
        "colab_type": "code",
        "colab": {},
        "outputId": "ae049bc4-4349-4ac8-9264-275f08a853be"
      },
      "cell_type": "code",
      "source": [
        "# key, value\n",
        "for key, value in sample_dic_data.items():\n",
        "    print(key, value)"
      ],
      "execution_count": 0,
      "outputs": [
        {
          "output_type": "stream",
          "text": [
            "mango 400\n",
            "banana 100\n",
            "orange 300\n",
            "apple 100\n",
            "melon 500\n"
          ],
          "name": "stdout"
        }
      ]
    },
    {
      "metadata": {
        "id": "fnAUSCCDzD4w",
        "colab_type": "text"
      },
      "cell_type": "markdown",
      "source": [
        "次もfor文を使っています。先ほどやろうとしていたリストの要素をそれぞれ2倍する処理です。**内包表記**といいます。"
      ]
    },
    {
      "metadata": {
        "id": "Z-4YEMRPzD4x",
        "colab_type": "code",
        "colab": {},
        "outputId": "f846001b-6ce3-4f61-e491-ca056f4146e8"
      },
      "cell_type": "code",
      "source": [
        "# 空のリストを作成\n",
        "sample_data_list1 = []\n",
        "\n",
        "# 内包表記、sample_data_listから1つ1つ要素を取り出し、2倍した数字を新たな要素とするリストを作成\n",
        "sample_data_list1 = [i * 2 for i in sample_data_list]\n",
        "print(sample_data_list1)"
      ],
      "execution_count": 0,
      "outputs": [
        {
          "output_type": "stream",
          "text": [
            "[2, 4, 6, 8, 10, 12, 14, 16, 18, 20]\n"
          ],
          "name": "stdout"
        }
      ]
    },
    {
      "metadata": {
        "id": "7CRRbShjzD40",
        "colab_type": "text"
      },
      "cell_type": "markdown",
      "source": [
        "さらにこれに条件を設定して作成することもできます。例えば偶数の数だけsample_data_listから取り出したい場合は、以下のようにします。「if i %2 ==0」を後につけており、i%2は、iを2で割った余りを意味しています。"
      ]
    },
    {
      "metadata": {
        "id": "OLN8p9sAzD41",
        "colab_type": "code",
        "colab": {
          "base_uri": "https://localhost:8080/",
          "height": 166
        },
        "outputId": "a633feca-1abd-4467-fab7-9737e30e4413"
      },
      "cell_type": "code",
      "source": [
        "[i * 2 for i in sample_data_list if i %2 ==0]"
      ],
      "execution_count": 11,
      "outputs": [
        {
          "output_type": "error",
          "ename": "NameError",
          "evalue": "ignored",
          "traceback": [
            "\u001b[0;31m---------------------------------------------------------------------------\u001b[0m",
            "\u001b[0;31mNameError\u001b[0m                                 Traceback (most recent call last)",
            "\u001b[0;32m<ipython-input-11-599f8dab67c4>\u001b[0m in \u001b[0;36m<module>\u001b[0;34m()\u001b[0m\n\u001b[0;32m----> 1\u001b[0;31m \u001b[0;34m[\u001b[0m\u001b[0mi\u001b[0m \u001b[0;34m*\u001b[0m \u001b[0;36m2\u001b[0m \u001b[0;32mfor\u001b[0m \u001b[0mi\u001b[0m \u001b[0;32min\u001b[0m \u001b[0msample_data_list\u001b[0m \u001b[0;32mif\u001b[0m \u001b[0mi\u001b[0m \u001b[0;34m%\u001b[0m\u001b[0;36m2\u001b[0m \u001b[0;34m==\u001b[0m\u001b[0;36m0\u001b[0m\u001b[0;34m]\u001b[0m\u001b[0;34m\u001b[0m\u001b[0m\n\u001b[0m",
            "\u001b[0;31mNameError\u001b[0m: name 'sample_data_list' is not defined"
          ]
        }
      ]
    },
    {
      "metadata": {
        "id": "ZkpLzY4czD46",
        "colab_type": "text"
      },
      "cell_type": "markdown",
      "source": [
        "なお、連続した整数を作りたいときは、以下のrangeを使うと便利です。数字としては、Nを設定しますが、0からN-1が取り出される点に注意しましょう。"
      ]
    },
    {
      "metadata": {
        "id": "w1TICLcLzD47",
        "colab_type": "code",
        "colab": {},
        "outputId": "6ed1ece3-037b-4abd-9d28-f43db1c288ab"
      },
      "cell_type": "code",
      "source": [
        "# range(N)とすると0からN-1までの整数\n",
        "for i in range(11):\n",
        "    print(i)"
      ],
      "execution_count": 0,
      "outputs": [
        {
          "output_type": "stream",
          "text": [
            "0\n",
            "1\n",
            "2\n",
            "3\n",
            "4\n",
            "5\n",
            "6\n",
            "7\n",
            "8\n",
            "9\n",
            "10\n"
          ],
          "name": "stdout"
        }
      ]
    },
    {
      "metadata": {
        "id": "2SF3RMKX4b-G",
        "colab_type": "code",
        "colab": {
          "base_uri": "https://localhost:8080/",
          "height": 34
        },
        "outputId": "a7c1d1ef-3709-4d2b-e22c-62fa6e7301d0"
      },
      "cell_type": "code",
      "source": [
        "[ i * 2 for i in range(10) if i % 2 ==0]\n",
        " "
      ],
      "execution_count": 15,
      "outputs": [
        {
          "output_type": "execute_result",
          "data": {
            "text/plain": [
              "[0, 4, 8, 12, 16]"
            ]
          },
          "metadata": {
            "tags": []
          },
          "execution_count": 15
        }
      ]
    },
    {
      "metadata": {
        "id": "rb3QhL_VzD5B",
        "colab_type": "text"
      },
      "cell_type": "markdown",
      "source": [
        "他にも、1から始めたい場合や2つ飛ばしで表示させたい場合は、以下のように引数を変えて実行します。"
      ]
    },
    {
      "metadata": {
        "id": "iwXQHPgVzD5C",
        "colab_type": "code",
        "colab": {},
        "outputId": "adccb9a3-29f3-491e-885d-16126d088f18"
      },
      "cell_type": "code",
      "source": [
        "# range(1, 11, 2)は1から開始して2つ飛ばしで、11の手前まで取り出す\n",
        "for i in range(1, 11, 2):\n",
        "    print(i)"
      ],
      "execution_count": 0,
      "outputs": [
        {
          "output_type": "stream",
          "text": [
            "1\n",
            "3\n",
            "5\n",
            "7\n",
            "9\n"
          ],
          "name": "stdout"
        }
      ]
    },
    {
      "metadata": {
        "id": "xSsgXdb9zD5G",
        "colab_type": "text"
      },
      "cell_type": "markdown",
      "source": [
        "また、for文に関連して、**zip関数**もよく使われるので、紹介します。これは、それぞれ異なるリストを同時に取り出していく処理を実行します。例えば、[1,2,3]というリストと、[11,12,13]という2つのリストがあった場合に、それぞれ同じインデックスで値を取って、表示したい場合は以下のようにします。"
      ]
    },
    {
      "metadata": {
        "id": "0KkmnmVfzD5N",
        "colab_type": "code",
        "colab": {},
        "outputId": "109367df-0626-4500-d2f8-d2b931559021"
      },
      "cell_type": "code",
      "source": [
        "for one, two in zip([1, 2, 3], [11, 12, 13]):\n",
        "    print(\"\", one, \"&\", two)"
      ],
      "execution_count": 0,
      "outputs": [
        {
          "output_type": "stream",
          "text": [
            " 1 & 11\n",
            " 2 & 12\n",
            " 3 & 13\n"
          ],
          "name": "stdout"
        }
      ]
    },
    {
      "metadata": {
        "id": "KTMjJJuazD5b",
        "colab_type": "text"
      },
      "cell_type": "markdown",
      "source": [
        "1と11がはじめに取り出されて、次は2と12、最後は3と13が同時に取り出されます。"
      ]
    },
    {
      "metadata": {
        "id": "NcG8YpDEzD5c",
        "colab_type": "text"
      },
      "cell_type": "markdown",
      "source": [
        "次の処理は、条件を満たしている限り、計算を続けるwhile文です。数字が10より大きくなった時点で、処理は終わります。"
      ]
    },
    {
      "metadata": {
        "id": "Opp2rT6nzD5d",
        "colab_type": "code",
        "colab": {},
        "outputId": "a889225c-0853-46ee-89c4-a73a25e67eef"
      },
      "cell_type": "code",
      "source": [
        "# while 文\n",
        "sample_int =1 \n",
        "while sample_int <= 10:\n",
        "    sample_int = sample_int + 1\n",
        "\n",
        "print(sample_int)"
      ],
      "execution_count": 0,
      "outputs": [
        {
          "output_type": "stream",
          "text": [
            "11\n"
          ],
          "name": "stdout"
        }
      ]
    },
    {
      "metadata": {
        "id": "toL4NsBtzD5j",
        "colab_type": "text"
      },
      "cell_type": "markdown",
      "source": [
        "以下はdefを使って、関数を作成しています。関数を作成すると、同じような処理を実行したいときに、便利です。また、処理をまとめておくと、後でコードを修正するときも便利です。1つ目のcalc_multi関数は、2つの数字（aとb）を**引数**として、その掛け算を返しています。この引数がインプットとなって、returnで結果を返し（**返り値**といいます）、これがアウトプットになります。その次の関数calc_fibは、再帰と言って、自分の関数を中で呼び出しており、フィボナッチ数（1, 1, 2, 3, 5...と前と前々の数字を足して、その数を並べたもの）を作成しています。\n",
        "\n",
        "なお、コードが長くなって行数をつけたい場合には、該当をセルを選択し、escキーを押した後に「l（エル）」キーを押すと、行数が表示されます。"
      ]
    },
    {
      "metadata": {
        "id": "Z1IvqtZMzD5k",
        "colab_type": "code",
        "colab": {},
        "outputId": "b338adf2-171d-489f-af11-f5c72714f763"
      },
      "cell_type": "code",
      "source": [
        "# function multi\n",
        "def calc_multi(a, b):\n",
        "        return a * b\n",
        "\n",
        "# function (再帰)\n",
        "def calc_fib(n):\n",
        "    if n == 1 or n == 2:\n",
        "        return 1\n",
        "    else:\n",
        "        return calc_fib(n-1) + calc_fib(n-2)\n",
        "    \n",
        "# calc\n",
        "print(\"掛け算:\", calc_multi(3, 10))\n",
        "print(\"フィボナッチ数:\", calc_fib(10))"
      ],
      "execution_count": 0,
      "outputs": [
        {
          "output_type": "stream",
          "text": [
            "掛け算: 30\n",
            "フィボナッチ数: 55\n"
          ],
          "name": "stdout"
        }
      ]
    },
    {
      "metadata": {
        "id": "azwmw4DJzD5o",
        "colab_type": "text"
      },
      "cell_type": "markdown",
      "source": [
        "次は無名関数といい、コードを簡素化できます。lambdaを使います。普通の関数を作成するときと同じで、lambdaを記述して引数を設定した後、その処理を記述します。後で出てくるmap関数などどよく組み合わせて使うことが多く、pandas機能と一緒に使って、データの加工処理をします。今はあまりメリットを感じられませんが、後で使うので念頭に置いておいてください。"
      ]
    },
    {
      "metadata": {
        "id": "SLxBCL6lzD5q",
        "colab_type": "code",
        "colab": {},
        "outputId": "7fbe551a-9023-4d30-a064-afa59077aa53"
      },
      "cell_type": "code",
      "source": [
        "#　無名関数、aとbを引数として、a * bを返り値とする\n",
        "(lambda a, b: a * b)(3,10)"
      ],
      "execution_count": 0,
      "outputs": [
        {
          "output_type": "execute_result",
          "data": {
            "text/plain": [
              "30"
            ]
          },
          "metadata": {
            "tags": []
          },
          "execution_count": 24
        }
      ]
    },
    {
      "metadata": {
        "id": "bA9HspXfzD5u",
        "colab_type": "text"
      },
      "cell_type": "markdown",
      "source": [
        "#### <練習問題 1>\n",
        "\n",
        "ある文字列(Data Scienceなど)を変数として、それを1文字ずつ表示させるプログラムを書いてください。"
      ]
    },
    {
      "metadata": {
        "id": "XtzP9Zgk5Or_",
        "colab_type": "code",
        "colab": {
          "base_uri": "https://localhost:8080/",
          "height": 420
        },
        "outputId": "eb105add-6ce1-4ad7-c755-e17a8cbba2e6"
      },
      "cell_type": "code",
      "source": [
        "str = \"Data Science\"\n",
        "\n",
        "def print_each(str):\n",
        "  for c in str:\n",
        "    print(c + \"\\n\")\n",
        " \n",
        "print_each(str)"
      ],
      "execution_count": 16,
      "outputs": [
        {
          "output_type": "stream",
          "text": [
            "D\n",
            "\n",
            "a\n",
            "\n",
            "t\n",
            "\n",
            "a\n",
            "\n",
            " \n",
            "\n",
            "S\n",
            "\n",
            "c\n",
            "\n",
            "i\n",
            "\n",
            "e\n",
            "\n",
            "n\n",
            "\n",
            "c\n",
            "\n",
            "e\n",
            "\n"
          ],
          "name": "stdout"
        }
      ]
    },
    {
      "metadata": {
        "id": "JOCceTzdzD5x",
        "colab_type": "text"
      },
      "cell_type": "markdown",
      "source": [
        "#### <練習問題 2>\n",
        "\n",
        "1から50までの自然数の和を計算するプログラムを書いて、最後の計算結果を表示させるプログラムを書いてください。"
      ]
    },
    {
      "metadata": {
        "id": "8izadYeP5jOZ",
        "colab_type": "code",
        "colab": {
          "base_uri": "https://localhost:8080/",
          "height": 67
        },
        "outputId": "1f3acbcc-3edb-4441-a0a4-85fd117773dc"
      },
      "cell_type": "code",
      "source": [
        "def sum1(min,max):\n",
        "  sum = min\n",
        "  x = min + 1\n",
        "  while x <= max:\n",
        "    sum += x\n",
        "    x+=1\n",
        "  return sum\n",
        "\n",
        "def sum2(min,max):\n",
        "  return (min + max) * (max - min + 1) / 2\n",
        "\n",
        "print(sum2(1,50))\n",
        "\n",
        "print(sum1(1,50))\n",
        "print((1 + 50) * 50 / 2)"
      ],
      "execution_count": 21,
      "outputs": [
        {
          "output_type": "stream",
          "text": [
            "1275.0\n",
            "1275\n",
            "1275.0\n"
          ],
          "name": "stdout"
        }
      ]
    },
    {
      "metadata": {
        "id": "meIuwE0YzD5x",
        "colab_type": "text"
      },
      "cell_type": "markdown",
      "source": [
        "### 1.2.2 クラスとインスタンス\n",
        "キーワード：オブジェクト、クラス、インスタンス"
      ]
    },
    {
      "metadata": {
        "id": "qmna9hmQzD5y",
        "colab_type": "text"
      },
      "cell_type": "markdown",
      "source": [
        "最後にクラスとインスタンスです。初めてこれらを聞いた方は、すぐに理解するのは難しいと思いますので、実際に以下の実装例を見て、雰囲気だけつかんでください。プログラミング初学者の方は、ここは飛ばしても大丈夫です。すぐには必要ありませんが、今後、機械学習のライブラリーsklearnなどを使う時に必要な概念（インスタンスなど）です。\n",
        "\n",
        "先ほど少し出てきましたが、Pythonはオブジェクト指向型のプログラミング言語で、クラスは「オブジェクトのひな型」みたいなものです。よく例えられる例が「たい焼き」で、以下のclassのPrintClassはたい焼き機の型を作っています。次に、実際のたい焼きが出来上がったのがインスタンスp1というイメージです。インスタンスとは、クラスからできあがる実体です。インスタンスには属性を追加することができ、以下ではp1.xに10、p1.yに100、p1.zに1000を追加しています。参考ですが、以下はクラスとインスタンスのイメージです。"
      ]
    },
    {
      "metadata": {
        "id": "WKqYytLLzD5z",
        "colab_type": "text"
      },
      "cell_type": "markdown",
      "source": [
        "![comment](http://image.itmedia.co.jp/ait/articles/0803/12/r801.gif)"
      ]
    },
    {
      "metadata": {
        "id": "79qx6p6ozD50",
        "colab_type": "text"
      },
      "cell_type": "markdown",
      "source": [
        "参照URL：http://image.itmedia.co.jp/ait/articles/0803/12/r801.gif"
      ]
    },
    {
      "metadata": {
        "id": "HE1PduXxzD51",
        "colab_type": "code",
        "colab": {}
      },
      "cell_type": "code",
      "source": [
        "# PrintClassクラスの作成とprint_meメソッド（関数）の作成\n",
        "class PrintClass:\n",
        "    def print_me(self):\n",
        "        print(self.x, self.y)"
      ],
      "execution_count": 0,
      "outputs": []
    },
    {
      "metadata": {
        "id": "pDxlrf9w661w",
        "colab_type": "code",
        "colab": {
          "base_uri": "https://localhost:8080/",
          "height": 34
        },
        "outputId": "87caefce-0eda-4897-8bbd-bb96e8252ed4"
      },
      "cell_type": "code",
      "source": [
        "class Taiyaki:\n",
        "  def print_me(self):\n",
        "    print(\"aaaaaaa\")\n",
        "\n",
        "t = Taiyaki()\n",
        "t.print_me()"
      ],
      "execution_count": 22,
      "outputs": [
        {
          "output_type": "stream",
          "text": [
            "aaaaaaa\n"
          ],
          "name": "stdout"
        }
      ]
    },
    {
      "metadata": {
        "id": "48bAZpNYzD53",
        "colab_type": "code",
        "colab": {},
        "outputId": "72f57f3b-5ba2-4219-f945-39037fb80dc9"
      },
      "cell_type": "code",
      "source": [
        "# インスタンスの作成、生成\n",
        "p1 = PrintClass()\n",
        "\n",
        "# 属性の値を割り当て\n",
        "p1.x = 10\n",
        "p1.y = 100\n",
        "p1.z = 1000\n",
        "\n",
        "# メソッドの呼び出し\n",
        "p1.print_me()"
      ],
      "execution_count": 0,
      "outputs": [
        {
          "output_type": "stream",
          "text": [
            "10 100\n"
          ],
          "name": "stdout"
        }
      ]
    },
    {
      "metadata": {
        "id": "qFIlIQznzD56",
        "colab_type": "text"
      },
      "cell_type": "markdown",
      "source": [
        "p1というインスタンスに、print_me()という関数（メソッド）がついていて、それを呼び出して実行しています。新しく追加した属性の値zは以下のように確認できます。"
      ]
    },
    {
      "metadata": {
        "id": "vnThWbU7zD57",
        "colab_type": "code",
        "colab": {},
        "outputId": "aa9d934f-26be-4467-f71f-089a168b38ed"
      },
      "cell_type": "code",
      "source": [
        "# 先ほど追加した属性を表示\n",
        "p1.z"
      ],
      "execution_count": 0,
      "outputs": [
        {
          "output_type": "execute_result",
          "data": {
            "text/plain": [
              "1000"
            ]
          },
          "metadata": {
            "tags": []
          },
          "execution_count": 27
        }
      ]
    },
    {
      "metadata": {
        "id": "ys_BIK8VzD5-",
        "colab_type": "text"
      },
      "cell_type": "markdown",
      "source": [
        "このオブジェクト指向とクラスの概念は少し難しいので、もう少し具体的な例を見てみましょう。\n",
        "\n",
        "以下はクラスとしてMyCalcClassを作成しており、いくつかのメソッドを作っています。"
      ]
    },
    {
      "metadata": {
        "id": "pw5wEC_kzD5_",
        "colab_type": "code",
        "colab": {}
      },
      "cell_type": "code",
      "source": [
        "class MyCalcClass:\n",
        "    \n",
        "    #初期化\n",
        "    def __init__(self, x, y):\n",
        "        self.x = x\n",
        "        self.y = y\n",
        "        \n",
        "    def calc_add1(self, a, b):\n",
        "        return a + b\n",
        "    \n",
        "    def calc_add2(self):\n",
        "        return self.x + self.y\n",
        "\n",
        "    def calc_mutli(self, a, b):\n",
        "        return a * b\n",
        "\n",
        "    def calc_print(self, a):\n",
        "        print(\"data:\", a, \"&\", self.y)"
      ],
      "execution_count": 0,
      "outputs": []
    },
    {
      "metadata": {
        "id": "9kBI56LpzD6I",
        "colab_type": "text"
      },
      "cell_type": "markdown",
      "source": [
        "次に、このクラス（MyCalcClass）からインスタンスを生成します。なお、instance_1とinstance_2は別物として扱われます。上記のたい焼きで例えると、チーズたい焼きとクリームたい焼きは別物ですよね。"
      ]
    },
    {
      "metadata": {
        "id": "nLbYp2PCzD6I",
        "colab_type": "code",
        "colab": {}
      },
      "cell_type": "code",
      "source": [
        "instance_1 = MyCalcClass(1, 2)\n",
        "instance_2 = MyCalcClass(5, 10)"
      ],
      "execution_count": 0,
      "outputs": []
    },
    {
      "metadata": {
        "id": "CXczyXOHzD6M",
        "colab_type": "text"
      },
      "cell_type": "markdown",
      "source": [
        "これを使って、このインスタンスが持っているメソッドを呼び出します。まずは、instance_1からです。"
      ]
    },
    {
      "metadata": {
        "id": "Sq3ffs3YzD6N",
        "colab_type": "code",
        "colab": {},
        "outputId": "148207c1-f2a4-4a12-d230-9b65a92eb950"
      },
      "cell_type": "code",
      "source": [
        "print(\"2つの数の足し算(新たに数字を引数としてセット):\", instance_1.calc_add1(5, 3))\n",
        "print(\"2つの数の足し算(インスタンス化の時の値):\", instance_1.calc_add2())\n",
        "print(\"2つの数のかけ算:\", instance_1.calc_mutli(5, 3))\n",
        "instance_1.calc_print(5)"
      ],
      "execution_count": 0,
      "outputs": [
        {
          "output_type": "stream",
          "text": [
            "2つの数の足し算(新たに数字を引数としてセット): 8\n",
            "2つの数の足し算(インスタンス化の時の値): 3\n",
            "2つの数のかけ算: 15\n",
            "data: 5 & 2\n"
          ],
          "name": "stdout"
        }
      ]
    },
    {
      "metadata": {
        "id": "obThUpafzD6Q",
        "colab_type": "text"
      },
      "cell_type": "markdown",
      "source": [
        "calc_add1は引数5と3を設定しその和を返り値として算出しています。calc_add2は何も引数としてセットされていませんが、selfが初期化の時に設定されており、instance_1 = MyCalcClass(1, 2)で、その値は1と2で初期値が設定されていたため、これらを足した3が表示されます。calc_mutliは引数の掛け算の結果、instance_1.calc_print(5)は、引数5と初期値として設定したself.yの方（2）を表示しています。"
      ]
    },
    {
      "metadata": {
        "id": "wLEQbGRlzD6R",
        "colab_type": "text"
      },
      "cell_type": "markdown",
      "source": [
        "次は、instance_2を使いましょう。上の結果と数字が変わっているので、なぜ変わっているのか、しっかりと追っていきましょう。"
      ]
    },
    {
      "metadata": {
        "id": "J83gipMnzD6S",
        "colab_type": "code",
        "colab": {},
        "outputId": "0bd6e694-2a87-4cd8-ba6a-cc2a746a3041"
      },
      "cell_type": "code",
      "source": [
        "print(\"2つの数の足し算(新たに数字を引数としてセット):\", instance_2.calc_add1(10, 3))\n",
        "print(\"2つの数の足し算(インスタンス化の時の値):\", instance_2.calc_add2())\n",
        "print(\"2つの数のかけ算:\", instance_2.calc_mutli(4, 3))\n",
        "instance_2.calc_print(20)"
      ],
      "execution_count": 0,
      "outputs": [
        {
          "output_type": "stream",
          "text": [
            "2つの数の足し算(新たに数字を引数としてセット): 13\n",
            "2つの数の足し算(インスタンス化の時の値): 15\n",
            "2つの数のかけ算: 12\n",
            "data: 20 & 10\n"
          ],
          "name": "stdout"
        }
      ]
    },
    {
      "metadata": {
        "id": "Uwyrz7JyzD6b",
        "colab_type": "text"
      },
      "cell_type": "markdown",
      "source": [
        ">**[やってみよう]**\n",
        "\n",
        ">上のクラス（MyCalcClass）を使って、新しくインスタンスを生成させて(instance_3など）、何か出力等してみましょう。さらにできれば、異なるメソッド（2つの引数の差分など）をこのクラスに追加して、呼び出して使ってみましょう。"
      ]
    },
    {
      "metadata": {
        "id": "mfR6AwPt7QBh",
        "colab_type": "code",
        "colab": {}
      },
      "cell_type": "code",
      "source": [
        ""
      ],
      "execution_count": 0,
      "outputs": []
    },
    {
      "metadata": {
        "id": "jtP7C0fazD6f",
        "colab_type": "text"
      },
      "cell_type": "markdown",
      "source": [
        "これは見ているだけではわからないと思うので、実際にサンプルなどを作成して実行しましょう。このクラス設計やその実装ができるようになると、大規模な開発をする場合に色々と役に立ちます。\n",
        "\n",
        "これで、クラスとオブジェクトの説明は終わりますが、以下のURLや参考文献等を見て、初学者の方はまずはイメージだけつかめるようになりましょう。"
      ]
    },
    {
      "metadata": {
        "id": "i8YoX4L6zD6g",
        "colab_type": "text"
      },
      "cell_type": "markdown",
      "source": [
        ">[参照URL]\n",
        "\n",
        ">http://news.mynavi.jp/series/python/019/"
      ]
    },
    {
      "metadata": {
        "id": "3fiHsvCPzD6g",
        "colab_type": "text"
      },
      "cell_type": "markdown",
      "source": [
        "以上で、Pythonの基礎的なコードの説明は終わりです。もちろん、これだけでPythonの基礎を抑えるのは不十分なので、もし基礎に不安があれば、以下のサイトや、参考文献を見て復習等してください。『はじめてのPython』はとても分厚い本ですが、とても丁寧に説明されており、クラスやオブジェクト指向についてもしっかりと解説されていますので、ぜひ読んでみてください。"
      ]
    },
    {
      "metadata": {
        "id": "oZucevHQzD6h",
        "colab_type": "text"
      },
      "cell_type": "markdown",
      "source": [
        ">[参照URL]\n",
        "\n",
        ">https://www.python.org\n",
        "\n",
        ">http://www.sejuku.net/blog/3413\n",
        "\n",
        ">[参考文献]\n",
        "\n",
        ">『はじめてのPython』(Mark Lutz, オライリー・ジャパン)\n",
        "\n",
        ">『入門 Python3』(Bill Lubanovic, オライリー・ジャパン)"
      ]
    },
    {
      "metadata": {
        "id": "5JxcdzlRzD6m",
        "colab_type": "text"
      },
      "cell_type": "markdown",
      "source": [
        "## 1.3 総合問題"
      ]
    },
    {
      "metadata": {
        "id": "_pm4JNcWzD6p",
        "colab_type": "text"
      },
      "cell_type": "markdown",
      "source": [
        "### 1.3.1 素数判定\n",
        "\n",
        "（１）10までの素数を表示させるプログラムを書いてください。なお、素数とは、1とそれ自身の数以外は約数をもたない正の整数のことをいいます。\n",
        "\n",
        "（２）上記をさらに一般化して、Nを自然数として、Nまでの素数を表示する関数を書いてください。"
      ]
    },
    {
      "metadata": {
        "id": "jPs0VNNx7fn4",
        "colab_type": "code",
        "colab": {
          "base_uri": "https://localhost:8080/",
          "height": 50
        },
        "outputId": "86630b29-b8ff-4a15-af02-e9ab0888e053"
      },
      "cell_type": "code",
      "source": [
        "def is_prime(n):\n",
        "  return is_prime_inner(n,2)\n",
        "\n",
        "def is_prime_inner(n,x):\n",
        "  if n == x:\n",
        "    return True\n",
        "  elif n % x == 0:\n",
        "    return False\n",
        "  else:\n",
        "    return is_prime_inner(n,x+1)\n",
        "\n",
        "print(is_prime(3))\n",
        "print(is_prime(4))\n",
        "  "
      ],
      "execution_count": 25,
      "outputs": [
        {
          "output_type": "stream",
          "text": [
            "True\n",
            "False\n"
          ],
          "name": "stdout"
        }
      ]
    }
  ]
}