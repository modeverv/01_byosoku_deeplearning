{
  "nbformat": 4,
  "nbformat_minor": 0,
  "metadata": {
    "colab": {
      "name": "Chapter4_ver2.ipynb",
      "version": "0.3.2",
      "provenance": [],
      "collapsed_sections": [
        "20rBcWyH08GV",
        "dtIhuFb908Hz",
        "ZwQ3_pEO08Hz",
        "wEW6dvIZ08H0",
        "hSPP7AUm08IP",
        "RDVUItix08IP",
        "YOVNJQ0_08Il",
        "5Kc4LLrB08Io"
      ],
      "include_colab_link": true
    },
    "kernelspec": {
      "display_name": "Python [Root]",
      "language": "python",
      "name": "Python [Root]"
    }
  },
  "cells": [
    {
      "cell_type": "markdown",
      "metadata": {
        "id": "view-in-github",
        "colab_type": "text"
      },
      "source": [
        "<a href=\"https://colab.research.google.com/github/modeverv/01_byosoku_deeplearning/blob/master/Chapter4_ver2.ipynb\" target=\"_parent\"><img src=\"https://colab.research.google.com/assets/colab-badge.svg\" alt=\"Open In Colab\"/></a>"
      ]
    },
    {
      "metadata": {
        "nbpresent": {
          "id": "af88da20-0f51-483e-bd72-afc896a9da05"
        },
        "id": "kDjE_VNc08Dp",
        "colab_type": "text"
      },
      "cell_type": "markdown",
      "source": [
        "# 4 確率と統計の基礎"
      ]
    },
    {
      "metadata": {
        "id": "5J-aTQac08Ds",
        "colab_type": "text"
      },
      "cell_type": "markdown",
      "source": [
        "- **[4.1 確率・統計の基礎](#4.1-確率・統計の基礎)** \n",
        "    - [4.1.1 確率](#4.1.1-確率)\n",
        "    - [4.1.2 確率変数と確率分布](#4.1.2-確率変数と確率分布)\n",
        "    - [4.1.3 （応用）多次元確率分布](#4.1.3-（応用）多次元確率分布)\n",
        "    - [4.1.4 標本分布](#4.1.4-標本分布)\n",
        "    - [4.1.5 統計的推定](#4.1.5-統計的推定)\n",
        "    - [4.1.6 統計的検定](#4.1.6-統計的検定)\n",
        "<br><br>\n",
        "- **[4.2 総合問題](#4.2-総合問題)**\n",
        "    - [4.2.1 推定と検定の問題](#4.2.1-推定と検定の問題)"
      ]
    },
    {
      "metadata": {
        "collapsed": true,
        "id": "ZM-K1wFq08Dt",
        "colab_type": "text"
      },
      "cell_type": "markdown",
      "source": [
        "***"
      ]
    },
    {
      "metadata": {
        "nbpresent": {
          "id": "b5e81c61-d695-4fc4-b784-45ed41026d4a"
        },
        "id": "6v98fukd08Dv",
        "colab_type": "text"
      },
      "cell_type": "markdown",
      "source": [
        "## 4.1 確率・統計の基礎\n",
        "\n",
        "ゴール：確率と統計の基礎的な理解と計算ができる"
      ]
    },
    {
      "metadata": {
        "scrolled": true,
        "id": "YmwprYLB08Dw",
        "colab_type": "code",
        "outputId": "01876aa8-5728-4db4-b74e-cfbc475412a8",
        "colab": {
          "base_uri": "https://localhost:8080/",
          "height": 34
        }
      },
      "cell_type": "code",
      "source": [
        "# 以下のモジュールを使うので、あらかじめ読み込んでおいてください\n",
        "import numpy as np\n",
        "import numpy.random as random\n",
        "import scipy as sp\n",
        "import pandas as pd\n",
        "from pandas import Series, DataFrame\n",
        "\n",
        "# 可視化モジュール\n",
        "import matplotlib.pyplot as plt\n",
        "import matplotlib as mpl\n",
        "import seaborn as sns\n",
        "%matplotlib inline\n",
        "\n",
        "# 小数第３まで表示\n",
        "%precision 3"
      ],
      "execution_count": 1,
      "outputs": [
        {
          "output_type": "execute_result",
          "data": {
            "text/plain": [
              "u'%.3f'"
            ]
          },
          "metadata": {
            "tags": []
          },
          "execution_count": 1
        }
      ]
    },
    {
      "metadata": {
        "id": "KcyNXMSr08D5",
        "colab_type": "text"
      },
      "cell_type": "markdown",
      "source": [
        "### 4.1.1 確率\n",
        "キーワード：確率、試行、根元事象、標本空間、事象、条件付き確率、ベイズの定理、事前確率、事後確率"
      ]
    },
    {
      "metadata": {
        "id": "hzOUt4ee08D6",
        "colab_type": "text"
      },
      "cell_type": "markdown",
      "source": [
        "ここからは確率の概念等について学び、少し理論的なお話に入ります。数式が若干多くなり、はじめは少しとっつきにくいですが、徐々に慣れていきましょう。以前紹介した参考文献や以下のURLなどが初心者向けになりますので、これらをあわせて使うと確率・統計の基礎についてより理解ができると思います。これらの基礎知識を見たことはあるというレベルを前提に、解説を進めていきます。"
      ]
    },
    {
      "metadata": {
        "id": "gPq1I0V508D8",
        "colab_type": "text"
      },
      "cell_type": "markdown",
      "source": [
        ">[参考文献]  \n",
        ">『統計学入門』(東京大学教養学部統計学教室 (編集)、東京大学出版)  \n",
        ">『統計学』(久保川 達也 (著), 国友 直人 (著)、東京大学出版)  \n",
        ">『統計学』(森棟 公夫 (著), 照井 伸彦 (著), 中川 満 (著), 西埜 晴久 (著), 黒住 英司 (著)、有斐閣)  \n",
        "\n",
        ">[参考URL]  \n",
        ">(統計学の時間)  https://bellcurve.jp/statistics/course/#step1"
      ]
    },
    {
      "metadata": {
        "id": "KErQqZOg08D9",
        "colab_type": "text"
      },
      "cell_type": "markdown",
      "source": [
        "まず、サイコロを例に、確率を学ぶ上で必要となる用語や概念について説明していきます。サイコロが取りうる状態は、1から6の数字であり、以下のような実装を考えます。"
      ]
    },
    {
      "metadata": {
        "id": "AS784Ouj08D_",
        "colab_type": "code",
        "colab": {}
      },
      "cell_type": "code",
      "source": [
        "# サイコロと見なしたデータ\n",
        "# 注意：配列は順番が考慮されているので、厳密には集合ではないが、集合とみなす\n",
        "dice_data = np.array([1, 2, 3, 4, 5, 6])"
      ],
      "execution_count": 0,
      "outputs": []
    },
    {
      "metadata": {
        "id": "QcUmslUc08ED",
        "colab_type": "text"
      },
      "cell_type": "markdown",
      "source": [
        "次の処理は、上のデータから1つだけランダムに抽出しており、これを**試行**といいます。サイコロを1回ふることと同じと思ってもらえばよいです。"
      ]
    },
    {
      "metadata": {
        "id": "JRnu2Lqs08ED",
        "colab_type": "code",
        "outputId": "fe455e6c-12db-4adf-a58f-3ab09ff6b079",
        "colab": {
          "base_uri": "https://localhost:8080/",
          "height": 54
        }
      },
      "cell_type": "code",
      "source": [
        "from numpy import random\n",
        "random.seed(0)\n",
        "\n",
        "# 引数は、対象データdice_dataから1つランダムに抽出するという意味\n",
        "print(\"1つだけランダムに抽出:\", random.choice(dice_data, 1))"
      ],
      "execution_count": 0,
      "outputs": [
        {
          "output_type": "stream",
          "text": [
            "('1\\xe3\\x81\\xa4\\xe3\\x81\\xa0\\xe3\\x81\\x91\\xe3\\x83\\xa9\\xe3\\x83\\xb3\\xe3\\x83\\x80\\xe3\\x83\\xa0\\xe3\\x81\\xab\\xe6\\x8a\\xbd\\xe5\\x87\\xba:', array([5]))\n"
          ],
          "name": "stdout"
        }
      ]
    },
    {
      "metadata": {
        "id": "KD037CCZ1YdR",
        "colab_type": "code",
        "colab": {}
      },
      "cell_type": "code",
      "source": [
        ""
      ],
      "execution_count": 0,
      "outputs": []
    },
    {
      "metadata": {
        "id": "9IKcgc7d08EJ",
        "colab_type": "text"
      },
      "cell_type": "markdown",
      "source": [
        "上記の結果は、「5」が抽出されており、他にも「1」や「3」などもあり、この試行結果を**根元事象（基本事象）**といいます。また、すべての可能な根元事象を集めた集合を**標本空間(以下Sで表します)**、標本空間の任意の部分集合を**事象**といいます。例えば、先ほどの5が出る事象Xや、以下のような偶数の事象Eなどが考えられます。"
      ]
    },
    {
      "metadata": {
        "id": "jbYid_Py08EK",
        "colab_type": "text"
      },
      "cell_type": "markdown",
      "source": [
        "\\begin{eqnarray}\n",
        "S=\\{1, 2, 3, 4, 5, 6\\}\n",
        "\\end{eqnarray}"
      ]
    },
    {
      "metadata": {
        "id": "L9FeGWz208EL",
        "colab_type": "text"
      },
      "cell_type": "markdown",
      "source": [
        "\\begin{eqnarray}\n",
        "X=\\{5\\}\n",
        "\\end{eqnarray}"
      ]
    },
    {
      "metadata": {
        "id": "jCWK8qEf08EM",
        "colab_type": "text"
      },
      "cell_type": "markdown",
      "source": [
        "\\begin{eqnarray}\n",
        "E=\\{2, 4, 6\\}\n",
        "\\end{eqnarray}"
      ]
    },
    {
      "metadata": {
        "id": "I1534Qko08EO",
        "colab_type": "text"
      },
      "cell_type": "markdown",
      "source": [
        "他、空集合Φも事象としてあり、**空事象**といい、決して起こりえない事象です。例えば、7の目が出ることは普通のサイコロではないので、確率は0となります。ここで、「確率」という言葉を使いましたが、その公理は以下となります。"
      ]
    },
    {
      "metadata": {
        "id": "uo-0S36q08EO",
        "colab_type": "text"
      },
      "cell_type": "markdown",
      "source": [
        ">ある事象Eが起こる確率をP(E)と記せば、次の公理を満たさなければならない。\n",
        ">\n",
        ">P1：  任意の事象Eについて、0≦P(E)≦1\n",
        ">\n",
        ">P2：  P(S)=1 (補足：これは全事象の確率が1であることを意味します。)\n",
        ">\n",
        ">P3：  A∩B=Φ ならば、P(A∪B) = P(A) + P(B)"
      ]
    },
    {
      "metadata": {
        "id": "F8rMfuad08ER",
        "colab_type": "text"
      },
      "cell_type": "markdown",
      "source": [
        "なお、Eに属さない結果の集合を**余事象**といいます。これは、Eの**補集合**に対応し、以下のようにcを使って（complement）表します。"
      ]
    },
    {
      "metadata": {
        "id": "3SeKSkB208ES",
        "colab_type": "text"
      },
      "cell_type": "markdown",
      "source": [
        "\\begin{eqnarray}\n",
        "E^c=\\{1, 3, 5\\}\n",
        "\\end{eqnarray}"
      ]
    },
    {
      "metadata": {
        "id": "rmkat_Xn08EU",
        "colab_type": "text"
      },
      "cell_type": "markdown",
      "source": [
        "A∩Bは、積事象といい、2つの事象に共通な事象のことを指します。具体的には、"
      ]
    },
    {
      "metadata": {
        "id": "f3tSjJf-08EW",
        "colab_type": "text"
      },
      "cell_type": "markdown",
      "source": [
        "\\begin{eqnarray}\n",
        "A=\\{1, 2, 3\\}\n",
        "\\end{eqnarray}"
      ]
    },
    {
      "metadata": {
        "id": "x18rcGHs08EX",
        "colab_type": "text"
      },
      "cell_type": "markdown",
      "source": [
        "\\begin{eqnarray}\n",
        "B=\\{1, 3, 4, 5\\}\n",
        "\\end{eqnarray}"
      ]
    },
    {
      "metadata": {
        "id": "DjkFPd-Z08EZ",
        "colab_type": "text"
      },
      "cell_type": "markdown",
      "source": [
        "の2つの集合を考えた場合、共通している数字は1と3なので、"
      ]
    },
    {
      "metadata": {
        "id": "fCDsUdXk08Ea",
        "colab_type": "text"
      },
      "cell_type": "markdown",
      "source": [
        "\\begin{eqnarray}\n",
        "A \\cap B=\\{1, 3\\}\n",
        "\\end{eqnarray}"
      ]
    },
    {
      "metadata": {
        "id": "AFMgcXlB08Ec",
        "colab_type": "text"
      },
      "cell_type": "markdown",
      "source": [
        "となります。\n",
        "\n",
        "A∪Bは、和事象といい、2つの事象の和のことを指します。上と同じAとBで考えると、以下となります。"
      ]
    },
    {
      "metadata": {
        "id": "ZHOXer5108Ed",
        "colab_type": "text"
      },
      "cell_type": "markdown",
      "source": [
        "\\begin{eqnarray}\n",
        "A \\cup B=\\{1, 2, 3, 4, 5\\}\n",
        "\\end{eqnarray}"
      ]
    },
    {
      "metadata": {
        "id": "zNNmXoxD08Ee",
        "colab_type": "text"
      },
      "cell_type": "markdown",
      "source": [
        "これらの事象が起こる確率を計算すると、"
      ]
    },
    {
      "metadata": {
        "id": "B3qgZSMl08Eg",
        "colab_type": "text"
      },
      "cell_type": "markdown",
      "source": [
        "\\begin{eqnarray}\n",
        "P(X)=\\frac{1}{6}\n",
        "\\end{eqnarray}"
      ]
    },
    {
      "metadata": {
        "id": "4bXGmJ_Y08Eh",
        "colab_type": "text"
      },
      "cell_type": "markdown",
      "source": [
        "\\begin{eqnarray}\n",
        "P(\\phi)= 0\n",
        "\\end{eqnarray}"
      ]
    },
    {
      "metadata": {
        "id": "9xcR8j3y08Ei",
        "colab_type": "text"
      },
      "cell_type": "markdown",
      "source": [
        "\\begin{eqnarray}\n",
        "P(A \\cap B)=\\frac{1}{3}\n",
        "\\end{eqnarray}"
      ]
    },
    {
      "metadata": {
        "id": "qjurJdCU08Ej",
        "colab_type": "text"
      },
      "cell_type": "markdown",
      "source": [
        "\\begin{eqnarray}\n",
        "P(A \\cup B)=\\frac{5}{6}\n",
        "\\end{eqnarray}"
      ]
    },
    {
      "metadata": {
        "id": "y5-QE0Nm08El",
        "colab_type": "text"
      },
      "cell_type": "markdown",
      "source": [
        "になります。ここで計算したアプローチを数学的確率ということもあります。\n",
        "\n",
        "厳密には、集合・位相論やルベーグ積分論等から入るのですが、ここでは割愛します。時間に余裕がある人やこれらの研究者の道に進む方は、以下のような参考文献があります。特に上から2つ目の測度と積分は、数学科出身の人以外にもわかるように、しかも厳密に書いていますので、測度論をちゃんと勉強されたい方にオススメです。"
      ]
    },
    {
      "metadata": {
        "id": "N6srLH5108El",
        "colab_type": "text"
      },
      "cell_type": "markdown",
      "source": [
        ">[参考文献]  \n",
        ">『測度・確率・ルベーグ積分 応用への最短コース』(原 啓介 (著)、講談社)  \n",
        ">『測度と積分―入門から確率論へ』(M.ツァピンスキ (著),E.コップ  (著),二宮 祥一 (翻訳),原 啓介 (翻訳)、培風館)  \n",
        ">『確率論 (新しい解析学の流れ)』(熊谷 隆 (著)、共立出版)  "
      ]
    },
    {
      "metadata": {
        "id": "MigXnT7X08En",
        "colab_type": "text"
      },
      "cell_type": "markdown",
      "source": [
        "次は実験的にサイコロを1000回ふるシミュレーションを実施してみます。それぞれの根元事象（1〜6）が実際に確率1/6で起きるのか、計算してみましょう。"
      ]
    },
    {
      "metadata": {
        "id": "7Mp1j3Q208Ep",
        "colab_type": "code",
        "outputId": "31600275-bdc9-4d56-83a6-98c71436005a",
        "colab": {
          "base_uri": "https://localhost:8080/",
          "height": 487
        }
      },
      "cell_type": "code",
      "source": [
        "# サイコロを1000回振ってみる\n",
        "calc_steps = 1000\n",
        "\n",
        "# seedの固定\n",
        "random.seed(0)\n",
        "\n",
        "# 1〜6のデータの中から、1000回の抽出を実施\n",
        "count_all_dice = random.choice(dice_data, calc_steps)\n",
        "print(count_all_dice)"
      ],
      "execution_count": 0,
      "outputs": [
        {
          "output_type": "stream",
          "text": [
            "[5 6 1 4 4 4 2 4 6 3 5 1 1 5 3 2 1 2 6 2 6 1 2 5 4 1 4 6 1 3 4 1 2 4 6 4 4\n",
            " 1 2 2 2 1 3 5 4 4 3 5 3 1 1 5 6 6 1 5 2 5 2 3 3 1 2 2 2 2 4 4 3 4 1 4 6 5\n",
            " 2 3 5 4 5 5 5 4 5 5 5 1 5 4 3 6 6 6 1 2 6 2 4 1 6 1 2 3 5 3 1 6 4 3 3 6 1\n",
            " 6 2 1 3 3 4 3 4 3 2 3 4 4 4 3 4 5 2 3 4 2 3 2 5 3 4 1 4 3 4 1 1 1 4 3 4 1\n",
            " 5 1 6 1 6 3 4 3 4 6 1 1 1 4 1 3 3 1 5 4 5 6 1 5 4 6 4 5 6 2 6 4 1 1 1 6 6\n",
            " 2 1 5 2 6 6 4 2 1 1 5 4 4 2 6 6 1 1 2 3 1 4 6 2 2 5 1 6 1 4 3 4 3 5 4 6 6\n",
            " 4 1 4 1 5 3 4 6 6 5 1 3 4 4 2 6 4 5 6 6 4 4 2 2 2 4 3 3 5 4 2 3 4 6 6 6 2\n",
            " 5 3 3 1 2 6 1 5 1 4 3 6 6 1 1 6 2 2 1 4 1 4 1 5 5 1 2 4 5 4 3 6 2 2 3 2 6\n",
            " 5 6 3 6 6 5 5 6 6 3 4 6 4 2 3 5 4 4 2 2 6 6 2 2 3 1 4 2 5 4 2 2 3 1 1 3 5\n",
            " 1 5 4 4 1 1 4 6 4 1 4 1 6 3 2 1 5 1 4 5 5 2 1 3 5 5 3 5 4 3 4 1 6 6 6 1 1\n",
            " 6 4 5 5 6 3 3 5 2 4 4 4 2 3 6 3 4 6 3 4 5 5 3 6 2 3 6 1 4 1 3 5 4 3 2 3 2\n",
            " 5 6 2 1 6 1 1 1 1 2 1 4 2 5 2 3 5 1 1 3 6 1 5 5 5 2 2 5 2 6 2 4 6 2 4 6 4\n",
            " 2 2 2 1 4 1 5 2 5 6 1 4 3 2 5 5 5 1 1 3 6 1 4 4 5 2 5 4 4 4 5 3 2 3 3 2 4\n",
            " 4 5 5 3 2 2 1 1 3 5 4 6 4 3 2 1 5 2 5 5 3 1 1 6 4 2 6 6 2 6 1 5 4 6 4 5 4\n",
            " 5 4 1 6 4 4 2 4 6 6 5 1 4 1 1 4 2 3 4 3 4 1 4 3 1 4 2 5 4 2 3 6 2 5 2 6 4\n",
            " 2 4 3 5 6 2 5 2 5 2 3 6 6 3 4 2 3 3 5 3 3 4 1 6 5 3 1 1 3 4 6 6 6 2 6 4 3\n",
            " 5 2 2 3 3 5 6 4 5 6 3 5 6 3 2 5 1 2 1 3 1 4 6 3 1 3 4 1 1 2 1 6 1 3 4 5 6\n",
            " 4 4 1 5 5 4 3 5 5 6 4 6 6 2 5 6 6 4 2 4 6 4 3 1 2 6 6 6 1 2 6 2 6 5 3 3 4\n",
            " 1 6 6 4 3 4 3 3 2 4 2 4 6 3 6 3 5 2 6 1 4 6 1 5 3 2 1 2 3 2 2 6 4 1 5 2 2\n",
            " 6 5 1 3 4 5 2 3 4 5 2 1 5 2 3 5 4 1 5 6 5 6 1 6 3 4 2 3 2 6 4 3 5 3 2 5 1\n",
            " 3 3 5 3 5 1 3 2 3 5 5 2 2 5 6 5 3 5 2 3 5 1 2 6 1 3 2 3 4 2 3 1 3 5 5 1 3\n",
            " 2 1 3 4 5 1 3 4 5 4 6 1 3 4 4 4 2 4 3 3 3 5 4 1 5 6 2 3 2 5 2 5 6 2 3 6 4\n",
            " 3 6 3 3 4 3 5 6 2 4 1 6 5 6 4 2 4 5 5 6 1 3 2 6 5 5 2 6 5 1 1 3 6 6 6 4 2\n",
            " 1 1 1 1 3 5 6 1 6 3 4 6 5 4 5 6 5 5 3 2 4 5 5 1 6 1 3 5 4 6 4 1 1 2 5 5 6\n",
            " 1 1 1 2 6 2 2 5 2 5 1 5 4 6 3 1 4 3 4 3 3 2 4 6 4 1 6 5 6 6 6 4 4 1 1 2 6\n",
            " 5 5 2 6 6 6 1 1 1 4 5 5 3 3 4 4 5 6 3 6 2 1 5 2 4 1 4 3 6 2 6 1 1 4 6 5 2\n",
            " 1 1 6 3 2 2 1 6 2 2 1 1 4 6 4 6 4 4 2 3 1 1 5 3 6 3 1 3 6 5 2 6 4 5 6 6 4\n",
            " 1]\n"
          ],
          "name": "stdout"
        }
      ]
    },
    {
      "metadata": {
        "id": "lk3eqskk08Es",
        "colab_type": "code",
        "outputId": "755a175e-334a-4218-d008-8a5a1a3213a6",
        "colab": {
          "base_uri": "https://localhost:8080/",
          "height": 134
        }
      },
      "cell_type": "code",
      "source": [
        "# 計算結果を入れるための空箱\n",
        "prob_data = np.array([])\n",
        "\n",
        "# それぞれの数字がどれくらいの割合で抽出されたか計算\n",
        "print(float(111)/1000)\n",
        "for i in range(1, 7):\n",
        "    print(i, \"が出る確率\", float(len(count_all_dice[count_all_dice==i])) / calc_steps )\n",
        "    prob_data = np.append(prob_data, len(count_all_dice[count_all_dice==i]) / calc_steps)"
      ],
      "execution_count": 0,
      "outputs": [
        {
          "output_type": "stream",
          "text": [
            "0.111\n",
            "(1, '\\xe3\\x81\\x8c\\xe5\\x87\\xba\\xe3\\x82\\x8b\\xe7\\xa2\\xba\\xe7\\x8e\\x87', 0.171)\n",
            "(2, '\\xe3\\x81\\x8c\\xe5\\x87\\xba\\xe3\\x82\\x8b\\xe7\\xa2\\xba\\xe7\\x8e\\x87', 0.157)\n",
            "(3, '\\xe3\\x81\\x8c\\xe5\\x87\\xba\\xe3\\x82\\x8b\\xe7\\xa2\\xba\\xe7\\x8e\\x87', 0.157)\n",
            "(4, '\\xe3\\x81\\x8c\\xe5\\x87\\xba\\xe3\\x82\\x8b\\xe7\\xa2\\xba\\xe7\\x8e\\x87', 0.183)\n",
            "(5, '\\xe3\\x81\\x8c\\xe5\\x87\\xba\\xe3\\x82\\x8b\\xe7\\xa2\\xba\\xe7\\x8e\\x87', 0.161)\n",
            "(6, '\\xe3\\x81\\x8c\\xe5\\x87\\xba\\xe3\\x82\\x8b\\xe7\\xa2\\xba\\xe7\\x8e\\x87', 0.171)\n"
          ],
          "name": "stdout"
        }
      ]
    },
    {
      "metadata": {
        "id": "9AtwziyW08Ey",
        "colab_type": "text"
      },
      "cell_type": "markdown",
      "source": [
        "ほぼ1/6に近いのがわかります。これは**統計的確率**と言われます。この現象については後で詳しく学びます。"
      ]
    },
    {
      "metadata": {
        "id": "8_fpqsdd08Ez",
        "colab_type": "text"
      },
      "cell_type": "markdown",
      "source": [
        "次に、条件付き確率と独立性について学びましょう。事象Aが生じた条件のもとで事象Bが生じる確率を、Aが与えられたもとでのBの条件付き確率といい、"
      ]
    },
    {
      "metadata": {
        "id": "9VHLJ9m608E0",
        "colab_type": "text"
      },
      "cell_type": "markdown",
      "source": [
        "\\begin{eqnarray}\n",
        "P(B|A) = \\frac{P(A \\cap B) }{P(A)} \n",
        "\\end{eqnarray}"
      ]
    },
    {
      "metadata": {
        "id": "5I0mcLN_08E2",
        "colab_type": "text"
      },
      "cell_type": "markdown",
      "source": [
        "と表します（$P(A) >0$）。さらに以下のように式変形ができ、これを**乗法定理**といいます。"
      ]
    },
    {
      "metadata": {
        "id": "DZhGTDrZ08E3",
        "colab_type": "text"
      },
      "cell_type": "markdown",
      "source": [
        "\\begin{eqnarray}\n",
        "P(A \\cap B) = P(B|A)P(A)\n",
        "\\end{eqnarray}"
      ]
    },
    {
      "metadata": {
        "id": "05wD-kcp08E5",
        "colab_type": "text"
      },
      "cell_type": "markdown",
      "source": [
        "条件付き確率は、背景情報に基づいた確率と考えることができます。具体的には、サイコロを1回振って、なんの数字だったかわからなかった(忘れた)としましょう。ただ、偶数だということがわかった場合に、その数字が4以上である確率を求めます。偶数であるという条件、ここでは"
      ]
    },
    {
      "metadata": {
        "id": "cz8PDeuW08E6",
        "colab_type": "text"
      },
      "cell_type": "markdown",
      "source": [
        "\\begin{eqnarray}\n",
        "A=\\{2, 4, 6\\}\n",
        "\\end{eqnarray}"
      ]
    },
    {
      "metadata": {
        "id": "Fh3vVGAn08E9",
        "colab_type": "text"
      },
      "cell_type": "markdown",
      "source": [
        "と考え、数字が4以上である事象は、"
      ]
    },
    {
      "metadata": {
        "id": "O9LPh7nl08E_",
        "colab_type": "text"
      },
      "cell_type": "markdown",
      "source": [
        "\\begin{eqnarray}\n",
        "B=\\{4, 5, 6\\}\n",
        "\\end{eqnarray}"
      ]
    },
    {
      "metadata": {
        "id": "4NY3BdA908FA",
        "colab_type": "text"
      },
      "cell_type": "markdown",
      "source": [
        "で、さらに"
      ]
    },
    {
      "metadata": {
        "id": "lU0w3bcH08FB",
        "colab_type": "text"
      },
      "cell_type": "markdown",
      "source": [
        "\\begin{eqnarray}\n",
        "A \\cap B=\\{4, 6\\}\n",
        "\\end{eqnarray}"
      ]
    },
    {
      "metadata": {
        "id": "F2Jn8MxP08FC",
        "colab_type": "text"
      },
      "cell_type": "markdown",
      "source": [
        "であるため、上の条件付き確率の定義から、求める確率は以下となります。"
      ]
    },
    {
      "metadata": {
        "id": "ueNviHQM08FD",
        "colab_type": "text"
      },
      "cell_type": "markdown",
      "source": [
        "\\begin{eqnarray}\n",
        "P(B|A) = \\frac{P(A \\cap B) }{P(A)}\n",
        "       = \\frac{\\frac{2}{6}}{\\frac{3}{6}}\n",
        "       = \\frac{2}{3}\n",
        "\\end{eqnarray}"
      ]
    },
    {
      "metadata": {
        "id": "LOLOFpGV08FE",
        "colab_type": "text"
      },
      "cell_type": "markdown",
      "source": [
        "次は、独立性の条件です。事象Aと事象Bがお互い独立であるとは、条件つき確率と確率が同じになり、"
      ]
    },
    {
      "metadata": {
        "id": "mXSe7lbP08FF",
        "colab_type": "text"
      },
      "cell_type": "markdown",
      "source": [
        "\\begin{eqnarray}\n",
        "P(A|B) = P(A)\n",
        "\\end{eqnarray}"
      ]
    },
    {
      "metadata": {
        "id": "6juME8gD08FG",
        "colab_type": "text"
      },
      "cell_type": "markdown",
      "source": [
        "になることをいいます。Bの事象がAに影響を及ぼしていないと考えることもできます。ここで、上の条件付き確率から以下が成立します。"
      ]
    },
    {
      "metadata": {
        "id": "VIjk4hnV08FH",
        "colab_type": "text"
      },
      "cell_type": "markdown",
      "source": [
        "\\begin{eqnarray}\n",
        "P(A \\cap B) = P(A)P(B)\n",
        "\\end{eqnarray}"
      ]
    },
    {
      "metadata": {
        "id": "Lbtaj8es08FI",
        "colab_type": "text"
      },
      "cell_type": "markdown",
      "source": [
        "この式が成立しない場合は、事象AとBとはお互いに従属するといい、先ほどの例で考えると、"
      ]
    },
    {
      "metadata": {
        "id": "60vt3DUI08FJ",
        "colab_type": "text"
      },
      "cell_type": "markdown",
      "source": [
        "\\begin{eqnarray}\n",
        "P(A \\cap B)= \\frac{2}{6}= \\frac{1}{3}\n",
        "\\end{eqnarray}"
      ]
    },
    {
      "metadata": {
        "id": "uh808YAR08FL",
        "colab_type": "text"
      },
      "cell_type": "markdown",
      "source": [
        "\\begin{eqnarray}\n",
        "P(A)P(B)= \\frac{3}{6}\\times\\frac{3}{6}=\\frac{1}{4}\n",
        "\\end{eqnarray}"
      ]
    },
    {
      "metadata": {
        "id": "pT1v0Sy008FM",
        "colab_type": "text"
      },
      "cell_type": "markdown",
      "source": [
        "で、等しくないため、独立ではなく、従属関係にあることがわかります。"
      ]
    },
    {
      "metadata": {
        "id": "-xTk5uJ908FO",
        "colab_type": "text"
      },
      "cell_type": "markdown",
      "source": [
        "最後に、ベイズの定理について紹介します。先ほど条件付き確率を考えましたが、ここで、$A$を結果の事象、$B$を原因1の事象、$B^c$を原因2の事象とする時、以下の**ベイズの定理**が与えられます。これは、Aという結果がわかっているときに、原因1(B事象)である確率を求めるということを意味します。"
      ]
    },
    {
      "metadata": {
        "id": "WrBM0VP708FP",
        "colab_type": "text"
      },
      "cell_type": "markdown",
      "source": [
        "\\begin{eqnarray}\n",
        "P(B|A) = \\frac{P(A|B)P(B) }{P(A|B)P(B) + P(A|B^c)P(B^c)}\n",
        "\\end{eqnarray}"
      ]
    },
    {
      "metadata": {
        "id": "nMt07SWR08FP",
        "colab_type": "text"
      },
      "cell_type": "markdown",
      "source": [
        "$P(B)$を**事前確率**、$P(B|A)$を**事後確率**、$P(A|B)$を**尤度**といいます。"
      ]
    },
    {
      "metadata": {
        "id": "_Ct2zgDC08FR",
        "colab_type": "text"
      },
      "cell_type": "markdown",
      "source": [
        "以下は、一般のベイズ定理のバージョンです。離散の場合です。（$B_j$は排反で和集合が全事象となるもの）"
      ]
    },
    {
      "metadata": {
        "id": "MGUr4NyK08FS",
        "colab_type": "text"
      },
      "cell_type": "markdown",
      "source": [
        "\\begin{eqnarray}\n",
        "P(B_i|A) = \\frac{P(A|B_i)P(B_i) }{\\sum_{j = 1}^k P(A|B_j)P(B_j)}\n",
        "\\end{eqnarray}"
      ]
    },
    {
      "metadata": {
        "id": "u5uTxrs408FT",
        "colab_type": "text"
      },
      "cell_type": "markdown",
      "source": [
        "連続の場合もあり、後で紹介します。なお、実務ではベイズの定理が使われている場面も多く、例えば、迷惑メールの判定などがあります。"
      ]
    },
    {
      "metadata": {
        "id": "F68dHuUH08FU",
        "colab_type": "text"
      },
      "cell_type": "markdown",
      "source": [
        "#### <練習問題 1>\n",
        "\n",
        "コインの表裏をそれぞれ0と1に対応させるデータを作成してください。また、コイン投げの試行を1000回した時の、表裏のそれぞれの出る確率を実装してください。"
      ]
    },
    {
      "metadata": {
        "id": "jTxUDvCW4JxD",
        "colab_type": "code",
        "outputId": "95ae699c-3a90-438a-a2ab-532e1b8f9d88",
        "colab": {
          "base_uri": "https://localhost:8080/",
          "height": 50
        }
      },
      "cell_type": "code",
      "source": [
        "coin_data = np.array([0, 1])\n",
        "calc_steps = 1000\n",
        "random.seed(0)\n",
        "count_all_coin = random.choice(coin_data, calc_steps)\n",
        "prob_data = np.array([])\n",
        "for i in range(0, 2):\n",
        "    print(i, \" - \", float(\n",
        "        len(count_all_coin[count_all_coin == i])) / calc_steps)\n",
        "    prob_data = np.append(prob_data, len(\n",
        "        count_all_coin[count_all_coin == i]) / calc_steps)\n"
      ],
      "execution_count": 0,
      "outputs": [
        {
          "output_type": "stream",
          "text": [
            "(0, ' - ', 0.496)\n",
            "(1, ' - ', 0.504)\n"
          ],
          "name": "stdout"
        }
      ]
    },
    {
      "metadata": {
        "id": "GllNoP1A08FW",
        "colab_type": "text"
      },
      "cell_type": "markdown",
      "source": [
        "#### <練習問題 2>\n",
        "\n",
        "くじ引きの問題を考えます。1000本のくじの中に、100本のあたりがあるとします。AくんとBくんが順にくじを引き、AくんとBくんともにあたりを引く確率を求めてください。ただし、引いたくじは戻さないとして、それぞれ1回のみ引きます。（これは手計算でも大丈夫です。）"
      ]
    },
    {
      "metadata": {
        "id": "IhpfSqV44V58",
        "colab_type": "code",
        "outputId": "3b455d6f-2d44-46a2-c392-61c39c199d95",
        "colab": {
          "base_uri": "https://localhost:8080/",
          "height": 34
        }
      },
      "cell_type": "code",
      "source": [
        "answer = (100.0/1000) * (99.0 / 999)\n",
        "print(answer)"
      ],
      "execution_count": 0,
      "outputs": [
        {
          "output_type": "stream",
          "text": [
            "0.00990990990991\n"
          ],
          "name": "stdout"
        }
      ]
    },
    {
      "metadata": {
        "id": "gaMSSH4f08FX",
        "colab_type": "text"
      },
      "cell_type": "markdown",
      "source": [
        "#### <練習問題 3>\n",
        "日本国内である病気（X）になっている人の割合は、0.1%だとします。Xを発見する検査方法について、次のことがわかっています。\n",
        "\n",
        "・その病気の人がその検査を受けると99%の人が陽性反応（病気であることを示す反応）を示します。\n",
        "\n",
        "・その病気でない人がその検査を受けると3%の人が陽性反応を示します。（誤診）\n",
        "\n",
        "日本に住んでいるある人がこの検査を受けたら陽性反応を示しました。この人が病気Xである確率は何%でしょうか？（これは手計算でも大丈夫です。）"
      ]
    },
    {
      "metadata": {
        "id": "yck-tENd5FjM",
        "colab_type": "code",
        "colab": {}
      },
      "cell_type": "code",
      "source": [
        "ベイズ定理つかうのだろうけどわからぬ。"
      ],
      "execution_count": 0,
      "outputs": []
    },
    {
      "metadata": {
        "collapsed": true,
        "id": "fNwVE2RA08FY",
        "colab_type": "text"
      },
      "cell_type": "markdown",
      "source": [
        "***"
      ]
    },
    {
      "metadata": {
        "id": "VHwbj7Fi08FY",
        "colab_type": "text"
      },
      "cell_type": "markdown",
      "source": [
        "### 4.1.2 確率変数と確率分布\n",
        "キーワード：確率変数、確率関数、確率密度関数、一様分布、ベルヌーイ分布、二項分布、正規分布、ポアソン分布、対数正規分布"
      ]
    },
    {
      "metadata": {
        "id": "k4D9Hwpl08FZ",
        "colab_type": "text"
      },
      "cell_type": "markdown",
      "source": [
        "ここでは、確率変数と分布について学びます。まず、**確率変数**とは試行がもたらす事象を実数に結びつける関数のことをいいます。具体例としては、コインの裏表が出るそれぞれの事象があり、それぞれ1と-1などと対応付ける関数となります。先ほどのサイコロの例で考えると、1から6までの目があり、それぞれの目に対してその数字を対応させるものを確率変数といいます。このような離散的な確率変数(有限個、または数えられる数の値をとる確率変数)を**離散確率変数**といいます。"
      ]
    },
    {
      "metadata": {
        "id": "wvEHRlRu08Fb",
        "colab_type": "text"
      },
      "cell_type": "markdown",
      "source": [
        "表にすると以下のようになります。(大文字Xは確率変数、小文字xはその実現値を指す)"
      ]
    },
    {
      "metadata": {
        "id": "Z5TFHE-l08Fd",
        "colab_type": "text"
      },
      "cell_type": "markdown",
      "source": [
        "|X|1|2|3|4|5|6|\n",
        "|:--:|:--:|:--:|:--:|:--:|:--:|:--:|\n",
        "|P(X)|$\\frac{1}{6}$|$\\frac{1}{6}$|$\\frac{1}{6}$|$\\frac{1}{6}$|$\\frac{1}{6}$|$\\frac{1}{6}$|"
      ]
    },
    {
      "metadata": {
        "id": "fmEtt_pR08Fd",
        "colab_type": "text"
      },
      "cell_type": "markdown",
      "source": [
        "そして、確率変数が取るすべての値とその値が生じる確率を記述した関数を**確率関数**といい、数式を使うと以下になります。"
      ]
    },
    {
      "metadata": {
        "id": "167Jhamc08Ff",
        "colab_type": "text"
      },
      "cell_type": "markdown",
      "source": [
        "\\begin{eqnarray}\n",
        "p(1)= \\frac{1}{6}, \\ p(2)= \\frac{1}{6}, \\ p(3)= \\frac{1}{6}, \\ p(4)= \\frac{1}{6}, \\ p(5)= \\frac{1}{6}, \\ p(6)= \\frac{1}{6}\n",
        "\\end{eqnarray}"
      ]
    },
    {
      "metadata": {
        "id": "1zFjpwDc08Fg",
        "colab_type": "text"
      },
      "cell_type": "markdown",
      "source": [
        "ただし、以下を満たすとします。"
      ]
    },
    {
      "metadata": {
        "id": "JQ4FwTnt08Fj",
        "colab_type": "text"
      },
      "cell_type": "markdown",
      "source": [
        "\\begin{eqnarray}\n",
        "\\sum^6_{i=1}p(x_i)=1\n",
        "\\end{eqnarray}"
      ]
    },
    {
      "metadata": {
        "id": "I1PyNNOa08Fk",
        "colab_type": "text"
      },
      "cell_type": "markdown",
      "source": [
        "**分布関数（累積確率分布関数）**について、その定義は、確率変数Xが実数x以下になる確率をいい、F(x)として以下のように表す。以下は離散の場合についての式です。"
      ]
    },
    {
      "metadata": {
        "id": "MVlWjmhr08Fl",
        "colab_type": "text"
      },
      "cell_type": "markdown",
      "source": [
        "\\begin{eqnarray}\n",
        "F(x)=P(X \\le x)=\\sum_{x_{i} \\le x}p(x_i)\n",
        "\\end{eqnarray}"
      ]
    },
    {
      "metadata": {
        "id": "118yqM0108Fm",
        "colab_type": "text"
      },
      "cell_type": "markdown",
      "source": [
        "確率変数が連続である場合（**連続確率変数**という）も同様に、分布関数が定義されます。また、その連続確率変数の場合の分布関数の導関数を**密度関数（確率密度関数）**といい、定義は以下になります。"
      ]
    },
    {
      "metadata": {
        "id": "5gDcKWbR08Fn",
        "colab_type": "text"
      },
      "cell_type": "markdown",
      "source": [
        "\\begin{eqnarray}\n",
        "f(x) = \\frac{dF(x)}{dx}  , -\\infty < x < \\infty\n",
        "\\end{eqnarray}"
      ]
    },
    {
      "metadata": {
        "id": "GYF3kYLh08Fo",
        "colab_type": "text"
      },
      "cell_type": "markdown",
      "source": [
        "次からは、よく使われる分布関数を紹介します。ここではPythonの簡単な実装のみ見ていきますので、詳しい式やその周辺知識（それぞれの平均、分散、期待値など）については、上記の参考文献や以下のURLなどを見てください。"
      ]
    },
    {
      "metadata": {
        "id": "vc8G6JoQ08Fp",
        "colab_type": "text"
      },
      "cell_type": "markdown",
      "source": [
        ">[参考URL]  \n",
        ">https://bellcurve.jp/statistics/course/#step01-013  \n",
        ">https://ja.wikipedia.org/wiki/確率分布"
      ]
    },
    {
      "metadata": {
        "id": "sNQwr38-08Fq",
        "colab_type": "text"
      },
      "cell_type": "markdown",
      "source": [
        "先述のサイコロの例は一様分布といわれ、グラフ化すると以下になります。"
      ]
    },
    {
      "metadata": {
        "scrolled": true,
        "id": "9lL7ZTlw08Fr",
        "colab_type": "code",
        "outputId": "c03b4198-2818-48f4-d6ec-90bb1ff44bba",
        "colab": {}
      },
      "cell_type": "code",
      "source": [
        "# 一様分布\n",
        "plt.bar(dice_data, prob_data)\n",
        "plt.grid(True)"
      ],
      "execution_count": 0,
      "outputs": [
        {
          "output_type": "display_data",
          "data": {
            "image/png": "[encoded data removed]",
            "text/plain": [
              "<matplotlib.figure.Figure at 0x10fb2ad30>"
            ]
          },
          "metadata": {
            "tags": []
          }
        }
      ]
    },
    {
      "metadata": {
        "id": "jlX0dHAt08Fv",
        "colab_type": "text"
      },
      "cell_type": "markdown",
      "source": [
        "次は、ベルヌーイ分布です。結果が2種類しかない試行をベルヌーイ試行といいます。ベルヌーイ分布とは、1回のベルヌーイ試行において各事象が生じる確率の分布を指します。以下は、コインを投げて表が出たらhead、裏が出たらtailとした場合に、8回コインを投げたら値がどう分布するかを示しています。"
      ]
    },
    {
      "metadata": {
        "id": "vDgiDzLn08Fw",
        "colab_type": "code",
        "outputId": "8e7a0467-46b1-4832-fc09-c1d10882d569",
        "colab": {
          "base_uri": "https://localhost:8080/",
          "height": 50
        }
      },
      "cell_type": "code",
      "source": [
        "# ベルヌーイ分布\n",
        "# 0:head(表)、1:tail(裏)と考える\n",
        "# サンプル数を8とした\n",
        "prob_be_data = np.array([])\n",
        "coin_data = np.array([0, 0, 0, 0, 0, 1, 1, 1])\n",
        "\n",
        "# uniqueで一意な値を抽出（ここの場合は、0と1）\n",
        "for i in np.unique(coin_data):\n",
        "    print(i, \"が出る確率\", len(coin_data[coin_data==i]) / len(coin_data))\n",
        "    prob_be_data = np.append(prob_be_data, len(coin_data[coin_data==i]) / len(coin_data))"
      ],
      "execution_count": 2,
      "outputs": [
        {
          "output_type": "stream",
          "text": [
            "(0, '\\xe3\\x81\\x8c\\xe5\\x87\\xba\\xe3\\x82\\x8b\\xe7\\xa2\\xba\\xe7\\x8e\\x87', 0)\n",
            "(1, '\\xe3\\x81\\x8c\\xe5\\x87\\xba\\xe3\\x82\\x8b\\xe7\\xa2\\xba\\xe7\\x8e\\x87', 0)\n"
          ],
          "name": "stdout"
        }
      ]
    },
    {
      "metadata": {
        "id": "dq4ZxV-P08F1",
        "colab_type": "text"
      },
      "cell_type": "markdown",
      "source": [
        "グラフ化すると以下のようになります。なお、xticksでラベルを設定しています。"
      ]
    },
    {
      "metadata": {
        "scrolled": false,
        "id": "OK3rSoIJ08F1",
        "colab_type": "code",
        "outputId": "b0c74249-cb3b-47ba-9b36-98f2ef328280",
        "colab": {
          "base_uri": "https://localhost:8080/",
          "height": 265
        }
      },
      "cell_type": "code",
      "source": [
        "plt.bar([0, 1], prob_be_data, align=\"center\")\n",
        "plt.xticks([0, 1], ['head', 'tail'])\n",
        "plt.grid(True)"
      ],
      "execution_count": 3,
      "outputs": [
        {
          "output_type": "display_data",
          "data": {
            "image/png": "[encoded data removed]",
            "text/plain": [
              "<Figure size 432x288 with 1 Axes>"
            ]
          },
          "metadata": {
            "tags": []
          }
        }
      ]
    },
    {
      "metadata": {
        "id": "rAhin9H208F5",
        "colab_type": "text"
      },
      "cell_type": "markdown",
      "source": [
        "次は、二項分布です。独立なベルヌーイ試行をn回繰り返します。pythonでは、random.binominalを使い、パラメーターは順に、試行回数(n)、確率(p)、サンプル数を示しています。random.binominalはn回の試行のうち、確率pで生じる事象が発生する回数を返します。"
      ]
    },
    {
      "metadata": {
        "id": "rE2JtN8_08F6",
        "colab_type": "code",
        "outputId": "200e8149-2ba5-4f0d-e792-e8eaa5a27aff",
        "colab": {
          "base_uri": "https://localhost:8080/",
          "height": 265
        }
      },
      "cell_type": "code",
      "source": [
        "# 二項分布\n",
        "random.seed(0)\n",
        "x = random.binomial(30, 0.5, 1000)\n",
        "plt.hist(x)\n",
        "plt.grid(True)"
      ],
      "execution_count": 4,
      "outputs": [
        {
          "output_type": "display_data",
          "data": {
            "image/png": "[encoded data removed]",
            "text/plain": [
              "<Figure size 432x288 with 1 Axes>"
            ]
          },
          "metadata": {
            "tags": []
          }
        }
      ]
    },
    {
      "metadata": {
        "id": "Z5Mz1rkw08F-",
        "colab_type": "text"
      },
      "cell_type": "markdown",
      "source": [
        "以下はポアソン分布です。稀な事象が起きる確率の時、使われます。random.poissonを使います。パラメータλは7を設定しています。"
      ]
    },
    {
      "metadata": {
        "id": "2K23uRjY08F_",
        "colab_type": "code",
        "outputId": "aa57cd03-9123-41ce-97e9-b2846965f23a",
        "colab": {
          "base_uri": "https://localhost:8080/",
          "height": 265
        }
      },
      "cell_type": "code",
      "source": [
        "# ポアソン分布\n",
        "x = random.poisson(7, 1000)\n",
        "plt.hist(x)\n",
        "plt.grid(True)"
      ],
      "execution_count": 5,
      "outputs": [
        {
          "output_type": "display_data",
          "data": {
            "image/png": "[encoded data removed]",
            "text/plain": [
              "<Figure size 432x288 with 1 Axes>"
            ]
          },
          "metadata": {
            "tags": []
          }
        }
      ]
    },
    {
      "metadata": {
        "id": "L_3Li65k08GF",
        "colab_type": "text"
      },
      "cell_type": "markdown",
      "source": [
        "次は、正規分布と対数正規分布です。"
      ]
    },
    {
      "metadata": {
        "id": "qCrHS8xe08GG",
        "colab_type": "code",
        "outputId": "d6b240e3-0763-4878-86b9-11852c7fda89",
        "colab": {
          "base_uri": "https://localhost:8080/",
          "height": 265
        }
      },
      "cell_type": "code",
      "source": [
        "# 正規分布\n",
        "# np.random.normal(平均、標準偏差、サンプル数)\n",
        "x = np.random.normal(5, 10, 10000)\n",
        "plt.hist(x)\n",
        "plt.grid(True)"
      ],
      "execution_count": 6,
      "outputs": [
        {
          "output_type": "display_data",
          "data": {
            "image/png": "[encoded data removed]",
            "text/plain": [
              "<Figure size 432x288 with 1 Axes>"
            ]
          },
          "metadata": {
            "tags": []
          }
        }
      ]
    },
    {
      "metadata": {
        "id": "k0JEkUEa08GK",
        "colab_type": "code",
        "outputId": "d6ea901e-3134-4ede-b0b9-190151db0cb5",
        "colab": {
          "base_uri": "https://localhost:8080/",
          "height": 278
        }
      },
      "cell_type": "code",
      "source": [
        "# 対数正規分布\n",
        "x = np.random.lognormal(30, 0.4, 1000)\n",
        "plt.hist(x)\n",
        "plt.grid(True)"
      ],
      "execution_count": 7,
      "outputs": [
        {
          "output_type": "display_data",
          "data": {
            "image/png": "[encoded data removed]",
            "text/plain": [
              "<Figure size 432x288 with 1 Axes>"
            ]
          },
          "metadata": {
            "tags": []
          }
        }
      ]
    },
    {
      "metadata": {
        "collapsed": true,
        "id": "WM5KcAsE08GN",
        "colab_type": "text"
      },
      "cell_type": "markdown",
      "source": [
        "最後にカーネル密度関数について見ていきましょう。これは、与えられたデータを使って、密度関数を推定するものです。先ほどの学生の欠席数データについて、分布の近似をします。以下は、カーネル密度関数を使って、分布を推定しています。ただし、データの性質上、0より小さいものはありえないので、実務で使うときは注意しましょう。\n",
        "\n",
        "なお、グラフは3章で用いたデータから作成します。"
      ]
    },
    {
      "metadata": {
        "id": "7U8S5Vna08GP",
        "colab_type": "code",
        "colab": {}
      },
      "cell_type": "code",
      "source": [
        "# 注：ここはデータを取得していれば、実行しなくて大丈夫です。\n",
        "import requests, zipfile\n",
        "from io import StringIO\n",
        "import io\n",
        "\n",
        "zip_file_url = \"http://archive.ics.uci.edu/ml/machine-learning-databases/00356/student.zip\"\n",
        "\n",
        "r = requests.get(zip_file_url, stream=True)\n",
        "z = zipfile.ZipFile(io.BytesIO(r.content))\n",
        "z.extractall()"
      ],
      "execution_count": 0,
      "outputs": []
    },
    {
      "metadata": {
        "scrolled": false,
        "id": "ZYcuPIKB08GR",
        "colab_type": "code",
        "outputId": "a6605a60-7303-4d90-e9c0-eda53683ebb1",
        "colab": {}
      },
      "cell_type": "code",
      "source": [
        "# データを読み込む\n",
        "student_data_math = pd.read_csv(\"student-mat.csv\", sep=\";\")\n",
        "\n",
        "# カーネル密度関数\n",
        "student_data_math.absences.plot(kind='kde', style='k--')\n",
        "\n",
        "# 単純なヒストグラム、normed=Trueにすることで、確率で表示\n",
        "student_data_math.absences.plot(kind='hist', normed = True)\n",
        "plt.grid(True)"
      ],
      "execution_count": 0,
      "outputs": [
        {
          "output_type": "display_data",
          "data": {
            "image/png": "[encoded data removed]",
            "text/plain": [
              "<matplotlib.figure.Figure at 0x1134be828>"
            ]
          },
          "metadata": {
            "tags": []
          }
        }
      ]
    },
    {
      "metadata": {
        "id": "_M_subGu08GU",
        "colab_type": "text"
      },
      "cell_type": "markdown",
      "source": [
        "#### <練習問題 1>\n",
        "\n",
        "平均0、分散1の正規分布からn=100の標本抽出を10000回繰り返して、標本平均$\\overline{X}=\\frac{1}{n}\\sum^n_{i=1}X_i$の標本分布(ヒストグラム)を描いてください。"
      ]
    },
    {
      "metadata": {
        "id": "IxHKGT_O1Jro",
        "colab_type": "code",
        "colab": {
          "base_uri": "https://localhost:8080/",
          "height": 265
        },
        "outputId": "a0cfee83-e12d-46b8-a09f-b0384ac9be18"
      },
      "cell_type": "code",
      "source": [
        "# 正規分布\n",
        "# np.random.normal(平均、標準偏差、サンプル数)\n",
        "x = np.random.normal(0, 10, 100)\n",
        "plt.hist(x)\n",
        "plt.grid(True)"
      ],
      "execution_count": 9,
      "outputs": [
        {
          "output_type": "display_data",
          "data": {
            "image/png": "[encoded data removed]",
            "text/plain": [
              "<Figure size 432x288 with 1 Axes>"
            ]
          },
          "metadata": {
            "tags": []
          }
        }
      ]
    },
    {
      "metadata": {
        "id": "20rBcWyH08GV",
        "colab_type": "text"
      },
      "cell_type": "markdown",
      "source": [
        "#### <練習問題 2>\n",
        "\n",
        "上記と同じく、対数正規分布の場合を実装してください。"
      ]
    },
    {
      "metadata": {
        "id": "DmILgcja08GW",
        "colab_type": "text"
      },
      "cell_type": "markdown",
      "source": [
        "#### <練習問題 3>\n",
        "\n",
        "3章で用いたデータを使い、学生のデータの数学一期目の成績G1のヒストグラムとカーネル密度推定を描いてください。"
      ]
    },
    {
      "metadata": {
        "collapsed": true,
        "id": "6hxQqBJ_08GX",
        "colab_type": "text"
      },
      "cell_type": "markdown",
      "source": [
        "***"
      ]
    },
    {
      "metadata": {
        "id": "plFOfVCi08GX",
        "colab_type": "text"
      },
      "cell_type": "markdown",
      "source": [
        "### 4.1.3 （応用）多次元確率分布\n",
        "キーワード：同時確率分布、周辺確率関数、条件付き確率関数、条件付き平均、分散共分散行列、多次元正規分布"
      ]
    },
    {
      "metadata": {
        "id": "byKvFNRG08GZ",
        "colab_type": "text"
      },
      "cell_type": "markdown",
      "source": [
        "これまでは、確率変数が1つのみの場合を扱ってきました。次は、確率変数が2つかそれ以上にある場合の確率分布を考えていきましょう。なお、ここは少し応用の範囲になり、難しい場合は、読み流しても後の章に大きな影響はないようにしています。練習問題はありません。"
      ]
    },
    {
      "metadata": {
        "id": "4yfi4pur08Ga",
        "colab_type": "text"
      },
      "cell_type": "markdown",
      "source": [
        "$X$が{$x_0, x_1, ...$}、$Y$が{$y_0, y_1, ...$}上で値をとる離散型の確率変数を考えます。$X=x_i$と$Y=y_j$である確率を以下のように書くとします。"
      ]
    },
    {
      "metadata": {
        "id": "ylbu4f3p08Gb",
        "colab_type": "text"
      },
      "cell_type": "markdown",
      "source": [
        "\\begin{eqnarray}\n",
        "P(X=x_i, Y=y_j) = p_{X, Y}(x_i, y_j)\n",
        "\\end{eqnarray}"
      ]
    },
    {
      "metadata": {
        "id": "TnfpkdhR08Gb",
        "colab_type": "text"
      },
      "cell_type": "markdown",
      "source": [
        "これを**同時確率関数**といい、また、"
      ]
    },
    {
      "metadata": {
        "id": "ulM6X_rx08Ge",
        "colab_type": "text"
      },
      "cell_type": "markdown",
      "source": [
        "\\begin{eqnarray}\n",
        "p_{X}(x_i) = \\sum^\\infty_{j=0}p_{X, Y}(x_i, y_j)\n",
        "\\end{eqnarray}"
      ]
    },
    {
      "metadata": {
        "id": "c3ns-_aQ08Ge",
        "colab_type": "text"
      },
      "cell_type": "markdown",
      "source": [
        "を$X$の**周辺確率関数**といい、$Y$についても同様に定義されます。"
      ]
    },
    {
      "metadata": {
        "id": "gsyT0mkX08Gg",
        "colab_type": "text"
      },
      "cell_type": "markdown",
      "source": [
        "1変数の時に定義した条件付き確率について、2変数のケースを考えてみましょう。$X=x_i$を与えた時の$Y=y_j$の**条件付き確率関数**を以下のように定義します。"
      ]
    },
    {
      "metadata": {
        "id": "oUnN75NK08Gg",
        "colab_type": "text"
      },
      "cell_type": "markdown",
      "source": [
        "\\begin{eqnarray}\n",
        "p_{Y|X}(y_j|x_i) = P(Y=y_j|X=x_i) =  \\frac{p_{X, Y}(x_i, y_j)}{p_X(x_i)}\n",
        "\\end{eqnarray}"
      ]
    },
    {
      "metadata": {
        "id": "BXWKk9xP08Gh",
        "colab_type": "text"
      },
      "cell_type": "markdown",
      "source": [
        "また、この条件付き確率関数に関して、期待値をとったものが条件付き期待値であり、$X=x_i$を与えた時の$Y$の**条件付き平均**は、"
      ]
    },
    {
      "metadata": {
        "id": "NZ50-TG-08Gi",
        "colab_type": "text"
      },
      "cell_type": "markdown",
      "source": [
        "\\begin{eqnarray}\n",
        "E[Y|X=x_i] = \\sum^\\infty_{j=1}y_jp_{Y|X}(y_j|x_i) = \\frac{\\sum^\\infty_{j=1}y_jp_{X, Y}(x_i, y_j)}{p_X(x_i)}\n",
        "\\end{eqnarray}"
      ]
    },
    {
      "metadata": {
        "id": "Yygb1FvM08Gj",
        "colab_type": "text"
      },
      "cell_type": "markdown",
      "source": [
        "のように定義されます。"
      ]
    },
    {
      "metadata": {
        "id": "VLptboyE08Gk",
        "colab_type": "text"
      },
      "cell_type": "markdown",
      "source": [
        "2変数における独立の定義は、すべての$x_i$と$y_j$に関して、以下が成り立つ時に、独立であるとします。"
      ]
    },
    {
      "metadata": {
        "id": "fjiShJXA08Gk",
        "colab_type": "text"
      },
      "cell_type": "markdown",
      "source": [
        "\\begin{eqnarray}\n",
        "p_{X, Y}(x_i, y_j) = p_{X}(x_i) p_{Y}(y_j) \n",
        "\\end{eqnarray}"
      ]
    },
    {
      "metadata": {
        "id": "U_ALH9G408Gl",
        "colab_type": "text"
      },
      "cell_type": "markdown",
      "source": [
        "連続分布についても、同時確率密度関数、周辺確率密度関数、条件付き確率密度関数、独立など定義でき、さらに3つ以上の確率変数の分布についても定義できます。さらに、多変量正規分布やその中で使われる分散共分散行列などもありますが、これらの概念については、参考文献等を使い、勉強してみてください。"
      ]
    },
    {
      "metadata": {
        "id": "WTB5geXj08Gm",
        "colab_type": "text"
      },
      "cell_type": "markdown",
      "source": [
        "参考ですが、この多次元の同時確率密度関数をイメージするために、以下で2次元正規分布を表示させてみましょう。"
      ]
    },
    {
      "metadata": {
        "id": "da1LPjuf08Gn",
        "colab_type": "code",
        "colab": {}
      },
      "cell_type": "code",
      "source": [
        "# 必要なモジュールの読み込み\n",
        "import scipy.stats as st\n",
        "from scipy.stats import multivariate_normal\n",
        "from mpl_toolkits.mplot3d import Axes3D"
      ],
      "execution_count": 0,
      "outputs": []
    },
    {
      "metadata": {
        "id": "jVvybbaf08Gq",
        "colab_type": "code",
        "colab": {}
      },
      "cell_type": "code",
      "source": [
        "# データの設定\n",
        "x, y = np.mgrid[10:100:2, 10:100:2]\n",
        "\n",
        "pos = np.empty(x.shape + (2, ))\n",
        "\n",
        "pos[:, :, 0] = x \n",
        "pos[:, :, 1] = y "
      ],
      "execution_count": 0,
      "outputs": []
    },
    {
      "metadata": {
        "id": "7G19EPLr08Gw",
        "colab_type": "text"
      },
      "cell_type": "markdown",
      "source": [
        "上のxとyのデータが10から2つずつ数を作成して、posでまとめています。（次に発生させる多次元の正規分布を可視化するために、xとyで細かくデータを刻んでいるだけで、区切りの数字等には特に意味はありません。）"
      ]
    },
    {
      "metadata": {
        "id": "1BjYrguT08G1",
        "colab_type": "text"
      },
      "cell_type": "markdown",
      "source": [
        "次は、2次元の正規分布に従うデータを発生させています。multivariate_normalには、それぞれの平均と分散共分散行列を設定します。"
      ]
    },
    {
      "metadata": {
        "id": "p_ZNndnf08G2",
        "colab_type": "code",
        "colab": {}
      },
      "cell_type": "code",
      "source": [
        "# 多次元正規分布\n",
        "# それぞれの変数の平均と分散共分散行列を設定\n",
        "# 以下の例では、xとyの平均がそれぞれ50と50、[[100, 0], [0, 100]]がxとyの共分散行列になります\n",
        "rv = multivariate_normal([50, 50], [[100, 0], [0, 100]])\n",
        "\n",
        "# 確率密度関数\n",
        "z = rv.pdf(pos)"
      ],
      "execution_count": 0,
      "outputs": []
    },
    {
      "metadata": {
        "id": "ld9HZB9v08G4",
        "colab_type": "text"
      },
      "cell_type": "markdown",
      "source": [
        "上記をグラフ化すると以下のようになります。なお、3次元グラフのためAxes3Dのplot_wireframeを使っています。"
      ]
    },
    {
      "metadata": {
        "id": "UgbbdUUw08G5",
        "colab_type": "code",
        "outputId": "76e5d044-3e46-4a12-dc44-8a6dbe936531",
        "colab": {
          "base_uri": "https://localhost:8080/",
          "height": 319
        }
      },
      "cell_type": "code",
      "source": [
        "# グラフ化\n",
        "fig = plt.figure()\n",
        "ax = Axes3D(fig)\n",
        "ax.plot_wireframe(x, y, z)\n",
        "\n",
        "# x,y,zラベルの設定など\n",
        "ax.set_xlabel('x')\n",
        "ax.set_ylabel('y')\n",
        "ax.set_zlabel('f(x, y)')\n",
        "\n",
        "# z軸の表示目盛り単位を変更、sciが指数表示、axisで軸を指定、scilimits=(n,m)はnからmの外にあるものは指数表記\n",
        "# scilimits=(0,0)はすべて指数表記にするという意味\n",
        "plt.ticklabel_format(style='sci', axis='z', scilimits=(0, 0)) "
      ],
      "execution_count": 13,
      "outputs": [
        {
          "output_type": "display_data",
          "data": {
            "image/png": "[encoded data removed]",
            "text/plain": [
              "<Figure size 432x288 with 1 Axes>"
            ]
          },
          "metadata": {
            "tags": []
          }
        }
      ]
    },
    {
      "metadata": {
        "collapsed": true,
        "id": "TGkKOCwS08G_",
        "colab_type": "text"
      },
      "cell_type": "markdown",
      "source": [
        "***"
      ]
    },
    {
      "metadata": {
        "id": "oJrcg3_C08HA",
        "colab_type": "text"
      },
      "cell_type": "markdown",
      "source": [
        "### 4.1.4 標本分布\n",
        "キーワード：標本、母集団、抽出、推測統計学、標本のサイズ、大数の法則、中心極限定理、t分布、カイ二乗分布、F分布"
      ]
    },
    {
      "metadata": {
        "collapsed": true,
        "id": "XOcjarT_08HB",
        "colab_type": "text"
      },
      "cell_type": "markdown",
      "source": [
        "これまでは、実際に得られたデータについての平均や標準偏差等を求めてきました。この手に入れたデータのことを**標本**といいます。しかし、本来はその背後にあるもっと大きなデータ・全体の性質を知ることが重要です。この標本をベースに統計的な分析を実施して、推測しようとする対象全体を**母集団**といい、これが**推測統計学**です。また、標本は母集団から取り出されたもので、これを**抽出**といいます。実際に、観測されたデータ$x_1, , , x_n$は、n個の確率変数$X_1, , , X_n$の実現値であり、このnを標本の**サイズ（大きさ）**といいます。"
      ]
    },
    {
      "metadata": {
        "id": "3NSdeliG08HC",
        "colab_type": "text"
      },
      "cell_type": "markdown",
      "source": [
        "![dd](http://www.toukei.metro.tokyo.jp/manabou/img/tyuu/sirou/tokutyou/m-1.jpg)"
      ]
    },
    {
      "metadata": {
        "id": "GRHalQI308HD",
        "colab_type": "text"
      },
      "cell_type": "markdown",
      "source": [
        "参照URL：http://www.toukei.metro.tokyo.jp/manabou/img/tyuu/sirou/tokutyou/m-1.jpg"
      ]
    },
    {
      "metadata": {
        "id": "71MLWiYk08HE",
        "colab_type": "text"
      },
      "cell_type": "markdown",
      "source": [
        "次は、確率論で重要な**大数の法則**について学びます。ここで再び先ほどのサイコロを投げて出目を調べる例を考えましょう。\n",
        "\n",
        "サイコロをどんどん振っていき、それまでの平均値の軌跡をたどります。具体的には、1回目投げた時の目が1の時は平均1、次に投げた時に3が出た場合は、(1＋3)/2で平均は2という具合に、続けて平均値を計算していきます。大数の法則とは、この試行を繰り返していく（試行回数Nを大きくする）と、その平均は、期待値(3.5)に近づいていくという法則です。\n",
        "\n",
        "以下では、サイコロを投げる回数Nを1000とし、それを4回実施します（4パス）。以下の結果グラフは、どのパスもNが大きくなればなるほど、3.5に近づいてるのがわかります。"
      ]
    },
    {
      "metadata": {
        "scrolled": true,
        "id": "jy89wEzF08HF",
        "colab_type": "code",
        "outputId": "bab7afe9-c09b-4aeb-a6be-4af7616fe891",
        "colab": {}
      },
      "cell_type": "code",
      "source": [
        "# 大数の法則\n",
        "\n",
        "# 計算回数\n",
        "calc_times =10*3\n",
        "# サイコロ\n",
        "sample_array = np.array([1, 2, 3, 4, 5, 6])\n",
        "number_cnt = np.arange(1, calc_times + 1)\n",
        "\n",
        "# 4つのパスを生成\n",
        "for i in range(1, 5):\n",
        "    random.seed(i)\n",
        "    cum_variables = random.choice(sample_array, calc_times).cumsum()\n",
        "    plt.plot(cum_variables / number_cnt)"
      ],
      "execution_count": 0,
      "outputs": [
        {
          "output_type": "display_data",
          "data": {
            "image/png": "[encoded data removed]",
            "text/plain": [
              "<matplotlib.figure.Figure at 0x1133527f0>"
            ]
          },
          "metadata": {
            "tags": []
          }
        }
      ]
    },
    {
      "metadata": {
        "id": "r6S3sF3q08HI",
        "colab_type": "text"
      },
      "cell_type": "markdown",
      "source": [
        "次は、中心極限定理です。こちらは、Nが増えれば増えるほど、標本平均が正規分布の形になっていく法則です。"
      ]
    },
    {
      "metadata": {
        "id": "qJ4AiSp608HJ",
        "colab_type": "code",
        "colab": {}
      },
      "cell_type": "code",
      "source": [
        "# 中心極限定理\n",
        "def function_central_theory(N):\n",
        "    \n",
        "    sample_array = np.array([1, 2, 3, 4, 5, 6])\n",
        "    numaber_cnt = np.arange(1, N + 1) * 1.0\n",
        " \n",
        "    mean_array = np.array([])\n",
        " \n",
        "    for i in range(1, 10**3):   \n",
        "        random.seed(i)\n",
        "        cum_variables = random.choice(sample_array, N).cumsum()*1.0\n",
        "        mean_array = np.append(mean_array, cum_variables[N-1] / N)\n",
        " \n",
        "    plt.hist(mean_array)"
      ],
      "execution_count": 0,
      "outputs": []
    },
    {
      "metadata": {
        "id": "Iy103xT908HM",
        "colab_type": "text"
      },
      "cell_type": "markdown",
      "source": [
        "それではこの関数を使って、Nをどんどん増やし、そのヒストグラフを見てみましょう。"
      ]
    },
    {
      "metadata": {
        "id": "nnBn-n2a08HN",
        "colab_type": "code",
        "outputId": "d157c856-dcec-48c2-f540-dea4bd01d926",
        "colab": {}
      },
      "cell_type": "code",
      "source": [
        "# N=3\n",
        "function_central_theory(3)"
      ],
      "execution_count": 0,
      "outputs": [
        {
          "output_type": "display_data",
          "data": {
            "image/png": "[encoded data removed]",
            "text/plain": [
              "<matplotlib.figure.Figure at 0x1133e3208>"
            ]
          },
          "metadata": {
            "tags": []
          }
        }
      ]
    },
    {
      "metadata": {
        "id": "k49g7SMN08HR",
        "colab_type": "code",
        "outputId": "7ed60f73-4cc8-411f-c7f7-cbba2edc81c5",
        "colab": {}
      },
      "cell_type": "code",
      "source": [
        "# N=6\n",
        "function_central_theory(6)"
      ],
      "execution_count": 0,
      "outputs": [
        {
          "output_type": "display_data",
          "data": {
            "image/png": "[encoded data removed]",
            "text/plain": [
              "<matplotlib.figure.Figure at 0x1136b5438>"
            ]
          },
          "metadata": {
            "tags": []
          }
        }
      ]
    },
    {
      "metadata": {
        "id": "vU8GOCx-08HZ",
        "colab_type": "text"
      },
      "cell_type": "markdown",
      "source": [
        "Nをどんどん増やしていくと、正規分布の形になっているのがわかります。"
      ]
    },
    {
      "metadata": {
        "id": "t_dFrgOk08Ha",
        "colab_type": "code",
        "outputId": "e323917f-1689-4ee7-d22e-0b74ebad5401",
        "colab": {}
      },
      "cell_type": "code",
      "source": [
        "# N= 10^3\n",
        "function_central_theory(10**3)"
      ],
      "execution_count": 0,
      "outputs": [
        {
          "output_type": "display_data",
          "data": {
            "image/png": "[encoded data removed]",
            "text/plain": [
              "<matplotlib.figure.Figure at 0x1164c3278>"
            ]
          },
          "metadata": {
            "tags": []
          }
        }
      ]
    },
    {
      "metadata": {
        "id": "-uYjJR9O08Hc",
        "colab_type": "text"
      },
      "cell_type": "markdown",
      "source": [
        "次に、代表的な標本分布について学びましょう。\n",
        "\n",
        "1つ目は**カイ2乗分布**です。m個の確率変数$Z_1, ...Z_m$が互いに独立に分布し、各$Z_i$が標準正規分布（平均0，分散1の正規分布）\n",
        "に従うとします。この時、以下の確率変数の二乗和"
      ]
    },
    {
      "metadata": {
        "id": "_fZwb67Q08Hd",
        "colab_type": "text"
      },
      "cell_type": "markdown",
      "source": [
        "\\begin{eqnarray}\n",
        "W = \\sum^m_{i=1}Z^{2}_{i}\n",
        "\\end{eqnarray}"
      ]
    },
    {
      "metadata": {
        "id": "Eqqi0OZS08He",
        "colab_type": "text"
      },
      "cell_type": "markdown",
      "source": [
        "は、自由度mのカイ2乗分布に従うと言います。以下が、その分布に従う乱数のヒストグラムです。なお、zipは1章で少し紹介した関数で、複数のシーケンスオブジェクトを取り出すのに使用します。以下ですと、2とb、10とg、60とrがそれぞれdfとcに入り、取り出されます。"
      ]
    },
    {
      "metadata": {
        "id": "nyg9ZdtT08Hf",
        "colab_type": "code",
        "outputId": "61cae5e3-2f81-40d6-eaca-2d1c3549b174",
        "colab": {}
      },
      "cell_type": "code",
      "source": [
        "# カイ2乗分布\n",
        "# 自由度2, 10, 60に従うカイ二乗分布が生成する乱数のヒストグラム\n",
        "for df, c in zip([2, 10, 60], \"bgr\"):\n",
        "    x = random.chisquare(df, 1000)\n",
        "    plt.hist(x, 20, color=c)"
      ],
      "execution_count": 0,
      "outputs": [
        {
          "output_type": "display_data",
          "data": {
            "image/png": "[encoded data removed]",
            "text/plain": [
              "<matplotlib.figure.Figure at 0x1165ca908>"
            ]
          },
          "metadata": {
            "tags": []
          }
        }
      ]
    },
    {
      "metadata": {
        "id": "IR2KQC9708Hi",
        "colab_type": "text"
      },
      "cell_type": "markdown",
      "source": [
        "次は、ステューデントの**t-分布**です。$Z$と$W$を独立な確率変数として、それぞれ標準正規分布、自由度mのカイ2乗分布に従うとした時、"
      ]
    },
    {
      "metadata": {
        "id": "FRA4sdWQ08Hj",
        "colab_type": "text"
      },
      "cell_type": "markdown",
      "source": [
        "\\begin{eqnarray}\n",
        "T = \\frac{Z}{\\sqrt{\\frac{W}{m}}}\n",
        "\\end{eqnarray}"
      ]
    },
    {
      "metadata": {
        "id": "OH-RNsSS08Hk",
        "colab_type": "text"
      },
      "cell_type": "markdown",
      "source": [
        "とおいた時、Tは自由度mのステューデントのt-分布に従うといいます。以下はt分布のサンプル図です。"
      ]
    },
    {
      "metadata": {
        "scrolled": true,
        "id": "4OxJ2GLo08Hl",
        "colab_type": "code",
        "outputId": "9e240d4b-d24f-4d94-fdd7-04c6804dd668",
        "colab": {}
      },
      "cell_type": "code",
      "source": [
        "# t-分布\n",
        "x = random.standard_t(5, 1000)\n",
        "plt.hist(x)\n",
        "plt.grid(True)"
      ],
      "execution_count": 0,
      "outputs": [
        {
          "output_type": "display_data",
          "data": {
            "image/png": "[encoded data removed]",
            "text/plain": [
              "<matplotlib.figure.Figure at 0x1167a4400>"
            ]
          },
          "metadata": {
            "tags": []
          }
        }
      ]
    },
    {
      "metadata": {
        "id": "_ormRCGo08Hq",
        "colab_type": "text"
      },
      "cell_type": "markdown",
      "source": [
        "最後に、**F分布**についても紹介します。$W_1$と$W_2$を独立な確率変数、それぞれ自由度$m_1, m_2$のカイ2乗分布に従うとして、"
      ]
    },
    {
      "metadata": {
        "id": "IFlc3kCK08Hr",
        "colab_type": "text"
      },
      "cell_type": "markdown",
      "source": [
        "\\begin{eqnarray}\n",
        "F = \\frac{\\frac{W_1}{m_2}}{\\frac{W_2}{m_2}}\n",
        "\\end{eqnarray}"
      ]
    },
    {
      "metadata": {
        "id": "2bCCSBPF08Ht",
        "colab_type": "text"
      },
      "cell_type": "markdown",
      "source": [
        "とおいた時、$F$は自由度$(m_1, m_2)$のスネディッカーのF-分布に従うといいます。以下は、F分布のサンプル図です。"
      ]
    },
    {
      "metadata": {
        "id": "gWhAIBhZ08Ht",
        "colab_type": "code",
        "outputId": "dbafa7fb-6fd4-4a26-96db-165cc7de8b73",
        "colab": {}
      },
      "cell_type": "code",
      "source": [
        "# F 分布\n",
        "for df, c in zip([ (6, 7), (10, 10), (20, 25)], \"bgr\"):\n",
        "    x = random.f(df[0], df[1], 1000)\n",
        "    plt.hist(x, 100, color=c)"
      ],
      "execution_count": 0,
      "outputs": [
        {
          "output_type": "display_data",
          "data": {
            "image/png": "[encoded data removed]",
            "text/plain": [
              "<matplotlib.figure.Figure at 0x11671d390>"
            ]
          },
          "metadata": {
            "tags": []
          }
        }
      ]
    },
    {
      "metadata": {
        "id": "oNtOFhwJ08Hw",
        "colab_type": "text"
      },
      "cell_type": "markdown",
      "source": [
        "以上で代表的な分布についての紹介は終わります。他にも、いろいろな分布がありますので、必要が生じた場合にその都度調べてみましょう。"
      ]
    },
    {
      "metadata": {
        "id": "dtIhuFb908Hz",
        "colab_type": "text"
      },
      "cell_type": "markdown",
      "source": [
        "#### <練習問題 1>\n",
        "\n",
        "自由度5、25、50のカイ二乗分布からの乱数をそれぞれ1000個発生させて、ヒストグラムを書いてください。"
      ]
    },
    {
      "metadata": {
        "id": "ZwQ3_pEO08Hz",
        "colab_type": "text"
      },
      "cell_type": "markdown",
      "source": [
        "#### <練習問題 2>\n",
        "\n",
        "自由度100のt分布からの乱数を1000個発生させて、ヒストグラムを書いてください。"
      ]
    },
    {
      "metadata": {
        "id": "wEW6dvIZ08H0",
        "colab_type": "text"
      },
      "cell_type": "markdown",
      "source": [
        "#### <練習問題 3>\n",
        "\n",
        "自由度(10, 30)、(20, 25)のF分布からの乱数をそれぞれ1000個発生させて、ヒストグラムを書いてください。"
      ]
    },
    {
      "metadata": {
        "collapsed": true,
        "id": "qv0VOY1p08H1",
        "colab_type": "text"
      },
      "cell_type": "markdown",
      "source": [
        "***"
      ]
    },
    {
      "metadata": {
        "id": "mf5p0fzP08H1",
        "colab_type": "text"
      },
      "cell_type": "markdown",
      "source": [
        "### 4.1.5 統計的推定\n",
        "キーワード：推定量、点推定、不偏性、不偏推定量、一致性、区間推定、信頼区間、信頼係数、最尤法、尤度、尤度関数、ベイズ法"
      ]
    },
    {
      "metadata": {
        "id": "KEsMQsWq08H4",
        "colab_type": "text"
      },
      "cell_type": "markdown",
      "source": [
        "ここでは「推定」について学んでいきます。母集団から標本を抽出し、それに基づいて母集団の確率分布、平均、分散の推測をするのですが、その時に標本の平均や分散を使って推定します。ここで、大きさnの無作為標本{$X_1, ..., X_n$}をもとに、母平均$\\mu$を求める(推定する)方法を考えると、標本平均は、"
      ]
    },
    {
      "metadata": {
        "id": "8lMWz6Sy08H5",
        "colab_type": "text"
      },
      "cell_type": "markdown",
      "source": [
        "\\begin{eqnarray}\n",
        "\\overline{X}=\\frac{1}{n}\\sum^n_{i=1}X_i\n",
        "\\end{eqnarray}"
      ]
    },
    {
      "metadata": {
        "id": "azyHHuN308H5",
        "colab_type": "text"
      },
      "cell_type": "markdown",
      "source": [
        "となります。これを一般化すると、以下のように確率変数の関数として記述でき、これを**推定量**といいます。母数を推定するための式で、母集団のパラメータの値（$\\theta$）を観測される標本に基づいて言い当てることを**点推定**といいます。"
      ]
    },
    {
      "metadata": {
        "id": "eCEraFAD08H6",
        "colab_type": "text"
      },
      "cell_type": "markdown",
      "source": [
        "\\begin{eqnarray}\n",
        "\\overline{X}=T(X_1, ..., X_n)\n",
        "\\end{eqnarray}"
      ]
    },
    {
      "metadata": {
        "id": "uonYQosF08H6",
        "colab_type": "text"
      },
      "cell_type": "markdown",
      "source": [
        "ただし、関数としてなんでも良いというわけではなく、パラメータをより正確に推定できることが望ましいです。そのための判断基準として、**不偏性**と**一致性**という性質があります。"
      ]
    },
    {
      "metadata": {
        "id": "q5ufD9WC08H7",
        "colab_type": "text"
      },
      "cell_type": "markdown",
      "source": [
        "推定量の期待値が母数$\\theta$と一致するとき、推定量は**不偏**であるといい、この不偏性をもつ推定量を**不偏推定量**といいます。"
      ]
    },
    {
      "metadata": {
        "id": "f6B2Ri2V08H8",
        "colab_type": "text"
      },
      "cell_type": "markdown",
      "source": [
        "\\begin{eqnarray}\n",
        "E[T(X_1, ..., X_n)]=\\theta\n",
        "\\end{eqnarray}"
      ]
    },
    {
      "metadata": {
        "id": "zUQvjZyH08H9",
        "colab_type": "text"
      },
      "cell_type": "markdown",
      "source": [
        "一致性とは、$\\theta$の推定量$E[T(X_1, ..., X_n)]$が観測個数nが大きくなるにつれて、$\\theta$に近づいていくという性質であり、任意の$\\epsilon>0$に関して、以下のように表現できます。このとき、$T(X_1, ..., X_n)$を一致推定量といいます。"
      ]
    },
    {
      "metadata": {
        "id": "RlBjdcrB08H-",
        "colab_type": "text"
      },
      "cell_type": "markdown",
      "source": [
        "\\begin{eqnarray}\n",
        "\\displaystyle \\lim_{n \\to \\infty} P[|T(X_1, ..., X_n)- \\theta |\\ge \\epsilon]=0\n",
        "\\end{eqnarray}"
      ]
    },
    {
      "metadata": {
        "collapsed": true,
        "id": "Lgy196gG08H_",
        "colab_type": "text"
      },
      "cell_type": "markdown",
      "source": [
        "次は、区間推定です。点推定では、母数を1点で求めましたが、区間推定は母数が入っていそうな区間を推定します。まず、$X_1, ..., X_n$が正規分布$N(\\mu , 1)$から無作為抽出されていて、これらから母数$\\mu$を推定する場合を考えてみましょう。この場合、標本平均$\\overline{X}$は正規分布$N(\\mu , \\frac{1}{n})$に従うため、正規分布の両側$\\alpha$点を$z_{\\alpha /2}$として、"
      ]
    },
    {
      "metadata": {
        "id": "JN6gDXs-08IA",
        "colab_type": "text"
      },
      "cell_type": "markdown",
      "source": [
        "\\begin{eqnarray}\n",
        "P(-z_{\\alpha /2} \\le \\sqrt{\\mathstrut n} (\\overline{X} - \\mu ) \\le z_{\\alpha /2} )=1-\\alpha\n",
        "\\end{eqnarray}"
      ]
    },
    {
      "metadata": {
        "id": "h-MMMZnH08IB",
        "colab_type": "text"
      },
      "cell_type": "markdown",
      "source": [
        "が成り立ちます。この式を書き換えると、"
      ]
    },
    {
      "metadata": {
        "id": "HjuXoTz008IB",
        "colab_type": "text"
      },
      "cell_type": "markdown",
      "source": [
        "\\begin{eqnarray}\n",
        "P(\\overline{X} - \\frac{z_{\\alpha /2}}{\\sqrt{n}} \\le \\mu \\le \\overline{X} + \\frac{z_{\\alpha /2}}{\\sqrt{n}})=1-\\alpha\n",
        "\\end{eqnarray}"
      ]
    },
    {
      "metadata": {
        "id": "N0bYz65o08IC",
        "colab_type": "text"
      },
      "cell_type": "markdown",
      "source": [
        "と書くことができ、区間$[\\overline{X} - \\frac{z_{\\alpha /2}}{\\sqrt{n}} , \\overline{X} + \\frac{z_{\\alpha /2}}{\\sqrt{n}}]$ を$\\mu$の推定のための区間として用いることができます。このとき、区間$[\\overline{X} - \\frac{z_{\\alpha /2}}{\\sqrt{n}} , \\overline{X} + \\frac{z_{\\alpha /2}}{\\sqrt{n}}]$を**信頼係数**$1-\\alpha$の**信頼区間**といいます。信頼区間の一般的な定義は以下のようになります。"
      ]
    },
    {
      "metadata": {
        "id": "uLQio93P08IF",
        "colab_type": "text"
      },
      "cell_type": "markdown",
      "source": [
        "$X_1, ..., X_n$を母集団分布$f(x;\\theta)$からの無作為標本として、$\\theta$は1次元の母数とします。${\\bf X}=(X_1, ..., X_n)$とおくと、2つの統計量$L({\\bf X}), U({\\bf X})$がすべての$\\theta$について以下を満たす時、区間$[L({\\bf X}), U({\\bf X})]$を**信頼係数**$1-\\alpha$の**信頼区間**といいます。"
      ]
    },
    {
      "metadata": {
        "id": "KnN7-hbX08IG",
        "colab_type": "text"
      },
      "cell_type": "markdown",
      "source": [
        "\\begin{eqnarray}\n",
        "P(L({\\bf X})\\le \\theta \\le U({\\bf X})) \\ge 1-\\alpha\n",
        "\\end{eqnarray}"
      ]
    },
    {
      "metadata": {
        "collapsed": true,
        "id": "mHYaO6-p08IG",
        "colab_type": "text"
      },
      "cell_type": "markdown",
      "source": [
        "最後に、推定量を求める方法、最尤法、ベイズ法について簡単に解説します。（他にモーメント法などもありますので、調べてみてください。）"
      ]
    },
    {
      "metadata": {
        "collapsed": true,
        "id": "0JsoP8cY08IH",
        "colab_type": "text"
      },
      "cell_type": "markdown",
      "source": [
        "・最尤法"
      ]
    },
    {
      "metadata": {
        "collapsed": true,
        "id": "vyv8_xmI08II",
        "colab_type": "text"
      },
      "cell_type": "markdown",
      "source": [
        "同時確率関数を学んだ時に、母数を与えられて、観測値が生じる確率を求めましたが、逆に、観測値を与えられた時に、確率関数を母数の関数とみなしたものが**尤度関数**になります。この最尤法とは、尤度関数を最大化する母数を母数の推定値とする方法です。"
      ]
    },
    {
      "metadata": {
        "collapsed": true,
        "id": "EQonagBa08II",
        "colab_type": "text"
      },
      "cell_type": "markdown",
      "source": [
        "今、確率関数$f(x;\\theta)$を与えられているとして、その母集団からの無作為標本$X_1, ..., X_n$をとり、${\\bf X}=(X_1, ..., X_n)$とします。この${\\bf X}$の実現値${\\bf x}=(x_1, ..., x_n)$における同時確率関数を$\\theta$の関数とみなして、以下のように尤度関数を定義します。"
      ]
    },
    {
      "metadata": {
        "id": "sB-MWvkc08IJ",
        "colab_type": "text"
      },
      "cell_type": "markdown",
      "source": [
        "\\begin{eqnarray}\n",
        "L(\\theta;{\\bf x})=f(x_1;\\theta) \\times...\\times f(x_n;\\theta)\n",
        "\\end{eqnarray}"
      ]
    },
    {
      "metadata": {
        "id": "aabwQPiw08IK",
        "colab_type": "text"
      },
      "cell_type": "markdown",
      "source": [
        "尤度関数は、積の形をしており、対数変換によって和に直した方が計算しやすいため、以下のように**対数尤度関数**に直します。"
      ]
    },
    {
      "metadata": {
        "id": "H7vQ7tpG08IK",
        "colab_type": "text"
      },
      "cell_type": "markdown",
      "source": [
        "\\begin{eqnarray}\n",
        "\\log L(\\theta;{\\bf x})=\\sum^n_{i=1} \\log f(x_i;\\theta)\n",
        "\\end{eqnarray}"
      ]
    },
    {
      "metadata": {
        "id": "3c7xJWl008IL",
        "colab_type": "text"
      },
      "cell_type": "markdown",
      "source": [
        "上記の最大値を求めるために、微分して0になる解$\\theta$を求めます。以下の方程式を**尤度方程式**、この解$\\theta$を**最尤推定量**といいます。これが最尤推定法になります。"
      ]
    },
    {
      "metadata": {
        "id": "tBRlx7-v08IM",
        "colab_type": "text"
      },
      "cell_type": "markdown",
      "source": [
        "\\begin{eqnarray}\n",
        "\\frac{d}{d\\theta}{\\log L(\\theta;{\\bf x})}= 0\n",
        "\\end{eqnarray}"
      ]
    },
    {
      "metadata": {
        "collapsed": true,
        "id": "5Ww22W3Q08IM",
        "colab_type": "text"
      },
      "cell_type": "markdown",
      "source": [
        "・ベイズ法"
      ]
    },
    {
      "metadata": {
        "collapsed": true,
        "id": "SjbYSyWr08IN",
        "colab_type": "text"
      },
      "cell_type": "markdown",
      "source": [
        "今までは、母数$\\theta$に対して何も情報がなく、頻度論的なアプローチで推定をしていましたが、この$\\theta$について、事前分布を仮定して、ベイズの公式を使い、事後分布に更新していくことをベイズ法といいます。"
      ]
    },
    {
      "metadata": {
        "collapsed": true,
        "id": "xTQ1I9AH08IO",
        "colab_type": "text"
      },
      "cell_type": "markdown",
      "source": [
        "ここで、標本から得られる尤度関数を$p(x|\\theta)$として、母数$\\theta$が事前確率$\\pi(\\theta)$に従うと仮定すると、ベイズの公式により、事後分布を以下のように求めることができます。"
      ]
    },
    {
      "metadata": {
        "id": "vanTfQ4A08IP",
        "colab_type": "text"
      },
      "cell_type": "markdown",
      "source": [
        "\\begin{eqnarray}\n",
        "\\pi(\\theta|x) = \\frac{p(x|\\theta)\\pi(\\theta)}{\\int p(x|\\theta)\\pi(\\theta) d\\theta}\n",
        "\\end{eqnarray}"
      ]
    },
    {
      "metadata": {
        "id": "hSPP7AUm08IP",
        "colab_type": "text"
      },
      "cell_type": "markdown",
      "source": [
        "#### <練習問題 1>\n",
        "平均$\\mu$で分散$\\sigma^2$の正規母集団から大きさnの標本から作った標本平均は、母平均であることが望ましく、この不偏性を示してください。（手計算で大丈夫です。）"
      ]
    },
    {
      "metadata": {
        "id": "RDVUItix08IP",
        "colab_type": "text"
      },
      "cell_type": "markdown",
      "source": [
        "#### <練習問題 2>\n",
        "あるコインを5回投げたとして、裏、表、裏、表、表と出ました。このコインの表が出る確率を$\\theta$として、これを推定してください。（手計算で大丈夫です。）"
      ]
    },
    {
      "metadata": {
        "id": "s1qHUP9Q08IQ",
        "colab_type": "text"
      },
      "cell_type": "markdown",
      "source": [
        "#### <練習問題 3>\n",
        "母集団が以下の指数分布に従っている時に、そこから大きさnの標本${X_1, X_2, ...X_n}$を得たとして、母数${\\lambda}$を最尤推定してください。（手計算で大丈夫です。）\n",
        "\\begin{eqnarray}\n",
        "f(x|\\lambda) = \\lambda \\mathrm{e}^{-\\lambda x}\n",
        "\\end{eqnarray}"
      ]
    },
    {
      "metadata": {
        "collapsed": true,
        "id": "5PNWh7yt08IT",
        "colab_type": "text"
      },
      "cell_type": "markdown",
      "source": [
        "***"
      ]
    },
    {
      "metadata": {
        "id": "NL_G_BPT1-QC",
        "colab_type": "code",
        "colab": {}
      },
      "cell_type": "code",
      "source": [
        ""
      ],
      "execution_count": 0,
      "outputs": []
    },
    {
      "metadata": {
        "id": "v3lnqZ3v08IU",
        "colab_type": "text"
      },
      "cell_type": "markdown",
      "source": [
        "### 4.1.6 統計的検定\n",
        "キーワード：帰無仮説、対立仮説、有意、棄却、有意水準、第1種の過誤、第2種の過誤、検出力"
      ]
    },
    {
      "metadata": {
        "id": "FSwQSs7508IU",
        "colab_type": "text"
      },
      "cell_type": "markdown",
      "source": [
        "さて、長く数式の説明が続いたので、ここで再び「学生のデータ」に戻りましょう。練習問題でもやりましたが、まずは、数学とポルトガル語の成績の平均を計算してみると、以下のようになります。"
      ]
    },
    {
      "metadata": {
        "scrolled": false,
        "id": "oiSvu9ef08IV",
        "colab_type": "code",
        "outputId": "ea3032f7-07cb-47eb-ec16-cfe337ff2c0b",
        "colab": {}
      },
      "cell_type": "code",
      "source": [
        "student_data_por = pd.read_csv(\"student-por.csv\", sep=\";\")\n",
        "student_data_merge = pd.merge(student_data_math\n",
        "                              , student_data_por\n",
        "                              , on=[\"school\", \"sex\", \"age\", \"address\", \"famsize\", \"Pstatus\", \"Medu\"\n",
        "                                   , \"Fedu\", \"Mjob\", \"Fjob\", \"reason\", \"nursery\", \"internet\"]\n",
        "                              , suffixes=('_math', '_por'))\n",
        "\n",
        "print(\"G1数学の成績平均：\", student_data_merge.G1_math.mean())\n",
        "print(\"G1ポルトガル語の成績平均：\", student_data_merge.G1_por.mean())"
      ],
      "execution_count": 0,
      "outputs": [
        {
          "output_type": "stream",
          "text": [
            "G1数学の成績平均： 10.861256544502618\n",
            "G1ポルトガル語の成績平均： 12.112565445026178\n"
          ],
          "name": "stdout"
        }
      ]
    },
    {
      "metadata": {
        "id": "iXp-HI3t08IY",
        "colab_type": "text"
      },
      "cell_type": "markdown",
      "source": [
        "数字を見ていると、若干ではありますが、数学の方が悪いように見えます。しかし、果たしてこれは本当に差があるのかいえないのか、それが問題となります。これを考えていくのが検定というアプローチです。仮説として、母集団において差がないとしましょう。つまり、以下の式が成り立つとします。"
      ]
    },
    {
      "metadata": {
        "id": "6pWDSR6h08IY",
        "colab_type": "text"
      },
      "cell_type": "markdown",
      "source": [
        "\\begin{eqnarray}\n",
        "\\mu_{math} = \\mu_{por}\n",
        "\\end{eqnarray}"
      ]
    },
    {
      "metadata": {
        "id": "tQkfxGza08IZ",
        "colab_type": "text"
      },
      "cell_type": "markdown",
      "source": [
        "ここで、$\\mu_{math}$と$\\mu_{por}$はそれぞれの母平均とします。この等しいという仮説を**帰無仮説**といい、$H_{0}$とします。一方、帰無仮説の否定の、2つの間に差があるという仮説"
      ]
    },
    {
      "metadata": {
        "id": "KmVM0DHm08Ia",
        "colab_type": "text"
      },
      "cell_type": "markdown",
      "source": [
        "\\begin{eqnarray}\n",
        "\\mu_{math} \\neq \\mu_{por}\n",
        "\\end{eqnarray}"
      ]
    },
    {
      "metadata": {
        "id": "28oCEdrl08Ia",
        "colab_type": "text"
      },
      "cell_type": "markdown",
      "source": [
        "を**対立仮説**といい、$H_{1}$と表します。次に、先ほどの$H_{0}$を正しいとした場合に、統計的なアプローチを取り、それが起こることはありえない（例えば、確率が5%未満になる）ということが言えたとします。この時、この$H_{0}$は**棄却**されるといい、対立仮説が採択され、よって差があることがいえることになります。また、先ほど5%未満としましたが、これを**有意水準**5%で、統計的な差がある(**有意**である)といいます。有意水準は**α**で表され、α=5%やα=1%がよく使われます。また、**p-value**(**p値**)とは、帰無仮説が正しいとした場合に、データから計算された統計量以上に極端な統計量が観測される確率です。p値が低いほど、$H_{0}$が正しいとした場合に、ありえないことが起きたということになります。\n",
        "\n",
        "\n",
        "それでは、これらの概念を使って、計算してみましょう。 stats.ttest_relを使います。"
      ]
    },
    {
      "metadata": {
        "id": "0vAG4lVQ08Ib",
        "colab_type": "code",
        "outputId": "dec223a1-87d0-469d-d50c-b763dc9c3dd1",
        "colab": {}
      },
      "cell_type": "code",
      "source": [
        "from scipy import stats\n",
        "t, p = stats.ttest_rel(student_data_merge.G1_math, student_data_merge.G1_por)\n",
        "print( \"p値 = \", p)"
      ],
      "execution_count": 0,
      "outputs": [
        {
          "output_type": "stream",
          "text": [
            "p値 =  1.65365552171e-16\n"
          ],
          "name": "stdout"
        }
      ]
    },
    {
      "metadata": {
        "id": "ZVGiUtoa08If",
        "colab_type": "text"
      },
      "cell_type": "markdown",
      "source": [
        "有意水準を1%で設定すると、差があると結論づけることができました。"
      ]
    },
    {
      "metadata": {
        "id": "JSvnvvfq08If",
        "colab_type": "text"
      },
      "cell_type": "markdown",
      "source": [
        "ここでは、有意水準1%だと帰無仮説が棄却されましたが、もしかすると帰無仮説が正しかったということもありえます。このように、帰無仮説が正しいにもかかわらず、棄却してしまうことを**第1種の過誤**といいます。別名、あわてものの誤りとも言われます。一方、この帰無仮説が誤っているにもかかわらず受容してしまうことを、**第2種の過誤**といい、その確率を**β**で表します。このβの補数1-βは**検出力**と呼ばれ、帰無仮説が誤っているときに正しく棄却できる確率を表します。この第2種の過誤は誤っているのに見過ごしているので、ぼんやりものの誤りともいわれます。一般的に1-βは0.8程度ほしいといわれています。しかし、αとβは片方を小さくすると、もう片方は大きくなる関係にあります。また、βは重要な量ですが、値を計算するにはサンプルサイズや効果量が必要になるため、ここでは概念の紹介に留めておきます。"
      ]
    },
    {
      "metadata": {
        "id": "dZ_rc4sN08Ih",
        "colab_type": "text"
      },
      "cell_type": "markdown",
      "source": [
        "様々な分野で使用されている検定ですが、注意点があります。実は検定はビッグデータの解析（特に決まった厳密な定義はありませんが、サンプルサイズが数百万、数千万以上ある場合を想定しています）には向いていないのです。まず第一に、異なる母集団の母数が互いに厳密に等しいことは、実世界ではほぼあり得ません。サンプルサイズを大きくすると、それにともなって検出力1-βが大きくなり、実務的には等しいと考えていいような微妙な差であってもp値が小さくなり、帰無仮説が棄却されてしまいます。つまり、ビッグデータに対して検定を行うと大抵の場合、高度に有意な(p値がかなり小さい)結果になってしまうのです。"
      ]
    },
    {
      "metadata": {
        "id": "_SFnrjrS08Ij",
        "colab_type": "text"
      },
      "cell_type": "markdown",
      "source": [
        "また、検定で高度に有意な結果になったとしても、2つの母数は大きく異なるという事は結論付けられません。2つの値がどの程度異なるかに関しては検定からはわからないのです。どの程度の差があるかを知りたい場合には前節で用いた信頼区間を用いるのが効果的です。"
      ]
    },
    {
      "metadata": {
        "id": "MhU92EZ808Ij",
        "colab_type": "text"
      },
      "cell_type": "markdown",
      "source": [
        "以上で、検定までの単元は終了です。この単元は幅が広く、この講座では扱いきれない部分がありますが、もし今までに統計や確率について学ぶ機会がなかった場合は、はじめに紹介した参考文献等を見ながら是非一通り勉強してみてください。また、今まで扱ったモジュールの関数には色々なオプションがありますので、興味のある方は調べてみてください。"
      ]
    },
    {
      "metadata": {
        "id": "YOVNJQ0_08Il",
        "colab_type": "text"
      },
      "cell_type": "markdown",
      "source": [
        "#### <練習問題 1>\n",
        "\n",
        "上記と同じデータで、数学とポルトガル語の成績のG2のそれぞれの平均について、差があると言えるでしょうか。また、G3はどうでしょうか。"
      ]
    },
    {
      "metadata": {
        "collapsed": true,
        "id": "lP92N1h608Il",
        "colab_type": "text"
      },
      "cell_type": "markdown",
      "source": [
        "***"
      ]
    },
    {
      "metadata": {
        "id": "58P0_nST08In",
        "colab_type": "text"
      },
      "cell_type": "markdown",
      "source": [
        "## 4.2 総合問題"
      ]
    },
    {
      "metadata": {
        "id": "5Kc4LLrB08Io",
        "colab_type": "text"
      },
      "cell_type": "markdown",
      "source": [
        "### 4.2.1 推定と検定の問題\n",
        "4.1.6 統計的検定で使用したデータ（student_data_merge）を使って、以下の問いに答えてください。\n",
        "\n",
        "(1)それぞれの欠席数については、差があるといえるでしょうか。\n",
        "\n",
        "(2)それぞれの勉強時間についてはどうでしょうか。"
      ]
    }
  ]
}